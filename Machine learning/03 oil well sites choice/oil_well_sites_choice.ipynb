{
 "cells": [
  {
   "cell_type": "markdown",
   "metadata": {},
   "source": [
    "# Выбор локации для скважины"
   ]
  },
  {
   "cell_type": "markdown",
   "metadata": {},
   "source": [
    "Допустим, вы работаете в добывающей компании «ГлавРосГосНефть». Нужно решить, где бурить новую скважину.\n",
    "\n",
    "Вам предоставлены пробы нефти в трёх регионах: в каждом 10 000 месторождений, где измерили качество нефти и объём её запасов. Постройте модель машинного обучения, которая поможет определить регион, где добыча принесёт наибольшую прибыль. Проанализируйте возможную прибыль и риски техникой *Bootstrap.*\n",
    "\n",
    "Шаги для выбора локации:\n",
    "\n",
    "- В избранном регионе ищут месторождения, для каждого определяют значения признаков;\n",
    "- Строят модель и оценивают объём запасов;\n",
    "- Выбирают месторождения с самым высокими оценками значений. Количество месторождений зависит от бюджета компании и стоимости разработки одной скважины;\n",
    "- Прибыль равна суммарной прибыли отобранных месторождений."
   ]
  },
  {
   "cell_type": "markdown",
   "metadata": {},
   "source": [
    "## Загрузка и подготовка данных"
   ]
  },
  {
   "cell_type": "code",
   "execution_count": 1,
   "metadata": {},
   "outputs": [],
   "source": [
    "import pandas as pd\n",
    "import matplotlib.pyplot as plt\n",
    "import seaborn as sns\n",
    "import numpy as np\n",
    "\n",
    "from sklearn.model_selection import train_test_split\n",
    "from sklearn.preprocessing import StandardScaler\n",
    "from sklearn.linear_model import LinearRegression\n",
    "from sklearn.metrics import mean_squared_error\n",
    "from scipy import stats\n",
    "\n",
    "import warnings\n",
    "warnings.filterwarnings('ignore')"
   ]
  },
  {
   "cell_type": "code",
   "execution_count": 2,
   "metadata": {},
   "outputs": [],
   "source": [
    "# зададим темный стиль оформления background для всех следующих графиков\n",
    "sns.set_theme(style=\"darkgrid\")\n",
    "\n",
    "#расширяем максимальное кол-во столбцов для вывода на экран\n",
    "pd.options.display.max_columns = 30"
   ]
  },
  {
   "cell_type": "code",
   "execution_count": 3,
   "metadata": {},
   "outputs": [],
   "source": [
    "data_1 = pd.read_csv('/datasets/geo_data_0.csv')\n",
    "\n",
    "data_2 = pd.read_csv('/datasets/geo_data_1.csv')\n",
    "\n",
    "data_3 = pd.read_csv('/datasets/geo_data_2.csv')"
   ]
  },
  {
   "cell_type": "markdown",
   "metadata": {},
   "source": [
    "Напишем простую функцию для изучения данных."
   ]
  },
  {
   "cell_type": "code",
   "execution_count": 4,
   "metadata": {},
   "outputs": [],
   "source": [
    "def data_check(data, i):\n",
    "    print('--------------- Общая информация датасэта из', i, 'региона ---------------')\n",
    "    print()\n",
    "    display(data.info())\n",
    "    \n",
    "    print('- Первые 5 строк датасэта:')\n",
    "    display(data.head(5))\n",
    "    print()\n",
    "    \n",
    "    print('- Описательная статистика датасэта:')\n",
    "    display(data.describe())\n",
    "    \n",
    "    print('- Количество уникальных скважин:')\n",
    "    print()\n",
    "    print(data['id'].nunique())"
   ]
  },
  {
   "cell_type": "code",
   "execution_count": 5,
   "metadata": {},
   "outputs": [
    {
     "name": "stdout",
     "output_type": "stream",
     "text": [
      "--------------- Общая информация датасэта из 1 региона ---------------\n",
      "\n",
      "<class 'pandas.core.frame.DataFrame'>\n",
      "RangeIndex: 100000 entries, 0 to 99999\n",
      "Data columns (total 5 columns):\n",
      " #   Column   Non-Null Count   Dtype  \n",
      "---  ------   --------------   -----  \n",
      " 0   id       100000 non-null  object \n",
      " 1   f0       100000 non-null  float64\n",
      " 2   f1       100000 non-null  float64\n",
      " 3   f2       100000 non-null  float64\n",
      " 4   product  100000 non-null  float64\n",
      "dtypes: float64(4), object(1)\n",
      "memory usage: 3.8+ MB\n"
     ]
    },
    {
     "data": {
      "text/plain": [
       "None"
      ]
     },
     "metadata": {},
     "output_type": "display_data"
    },
    {
     "name": "stdout",
     "output_type": "stream",
     "text": [
      "- Первые 5 строк датасэта:\n"
     ]
    },
    {
     "data": {
      "text/html": [
       "<div>\n",
       "<style scoped>\n",
       "    .dataframe tbody tr th:only-of-type {\n",
       "        vertical-align: middle;\n",
       "    }\n",
       "\n",
       "    .dataframe tbody tr th {\n",
       "        vertical-align: top;\n",
       "    }\n",
       "\n",
       "    .dataframe thead th {\n",
       "        text-align: right;\n",
       "    }\n",
       "</style>\n",
       "<table border=\"1\" class=\"dataframe\">\n",
       "  <thead>\n",
       "    <tr style=\"text-align: right;\">\n",
       "      <th></th>\n",
       "      <th>id</th>\n",
       "      <th>f0</th>\n",
       "      <th>f1</th>\n",
       "      <th>f2</th>\n",
       "      <th>product</th>\n",
       "    </tr>\n",
       "  </thead>\n",
       "  <tbody>\n",
       "    <tr>\n",
       "      <th>0</th>\n",
       "      <td>txEyH</td>\n",
       "      <td>0.705745</td>\n",
       "      <td>-0.497823</td>\n",
       "      <td>1.221170</td>\n",
       "      <td>105.280062</td>\n",
       "    </tr>\n",
       "    <tr>\n",
       "      <th>1</th>\n",
       "      <td>2acmU</td>\n",
       "      <td>1.334711</td>\n",
       "      <td>-0.340164</td>\n",
       "      <td>4.365080</td>\n",
       "      <td>73.037750</td>\n",
       "    </tr>\n",
       "    <tr>\n",
       "      <th>2</th>\n",
       "      <td>409Wp</td>\n",
       "      <td>1.022732</td>\n",
       "      <td>0.151990</td>\n",
       "      <td>1.419926</td>\n",
       "      <td>85.265647</td>\n",
       "    </tr>\n",
       "    <tr>\n",
       "      <th>3</th>\n",
       "      <td>iJLyR</td>\n",
       "      <td>-0.032172</td>\n",
       "      <td>0.139033</td>\n",
       "      <td>2.978566</td>\n",
       "      <td>168.620776</td>\n",
       "    </tr>\n",
       "    <tr>\n",
       "      <th>4</th>\n",
       "      <td>Xdl7t</td>\n",
       "      <td>1.988431</td>\n",
       "      <td>0.155413</td>\n",
       "      <td>4.751769</td>\n",
       "      <td>154.036647</td>\n",
       "    </tr>\n",
       "  </tbody>\n",
       "</table>\n",
       "</div>"
      ],
      "text/plain": [
       "      id        f0        f1        f2     product\n",
       "0  txEyH  0.705745 -0.497823  1.221170  105.280062\n",
       "1  2acmU  1.334711 -0.340164  4.365080   73.037750\n",
       "2  409Wp  1.022732  0.151990  1.419926   85.265647\n",
       "3  iJLyR -0.032172  0.139033  2.978566  168.620776\n",
       "4  Xdl7t  1.988431  0.155413  4.751769  154.036647"
      ]
     },
     "metadata": {},
     "output_type": "display_data"
    },
    {
     "name": "stdout",
     "output_type": "stream",
     "text": [
      "\n",
      "- Описательная статистика датасэта:\n"
     ]
    },
    {
     "data": {
      "text/html": [
       "<div>\n",
       "<style scoped>\n",
       "    .dataframe tbody tr th:only-of-type {\n",
       "        vertical-align: middle;\n",
       "    }\n",
       "\n",
       "    .dataframe tbody tr th {\n",
       "        vertical-align: top;\n",
       "    }\n",
       "\n",
       "    .dataframe thead th {\n",
       "        text-align: right;\n",
       "    }\n",
       "</style>\n",
       "<table border=\"1\" class=\"dataframe\">\n",
       "  <thead>\n",
       "    <tr style=\"text-align: right;\">\n",
       "      <th></th>\n",
       "      <th>f0</th>\n",
       "      <th>f1</th>\n",
       "      <th>f2</th>\n",
       "      <th>product</th>\n",
       "    </tr>\n",
       "  </thead>\n",
       "  <tbody>\n",
       "    <tr>\n",
       "      <th>count</th>\n",
       "      <td>100000.000000</td>\n",
       "      <td>100000.000000</td>\n",
       "      <td>100000.000000</td>\n",
       "      <td>100000.000000</td>\n",
       "    </tr>\n",
       "    <tr>\n",
       "      <th>mean</th>\n",
       "      <td>0.500419</td>\n",
       "      <td>0.250143</td>\n",
       "      <td>2.502647</td>\n",
       "      <td>92.500000</td>\n",
       "    </tr>\n",
       "    <tr>\n",
       "      <th>std</th>\n",
       "      <td>0.871832</td>\n",
       "      <td>0.504433</td>\n",
       "      <td>3.248248</td>\n",
       "      <td>44.288691</td>\n",
       "    </tr>\n",
       "    <tr>\n",
       "      <th>min</th>\n",
       "      <td>-1.408605</td>\n",
       "      <td>-0.848218</td>\n",
       "      <td>-12.088328</td>\n",
       "      <td>0.000000</td>\n",
       "    </tr>\n",
       "    <tr>\n",
       "      <th>25%</th>\n",
       "      <td>-0.072580</td>\n",
       "      <td>-0.200881</td>\n",
       "      <td>0.287748</td>\n",
       "      <td>56.497507</td>\n",
       "    </tr>\n",
       "    <tr>\n",
       "      <th>50%</th>\n",
       "      <td>0.502360</td>\n",
       "      <td>0.250252</td>\n",
       "      <td>2.515969</td>\n",
       "      <td>91.849972</td>\n",
       "    </tr>\n",
       "    <tr>\n",
       "      <th>75%</th>\n",
       "      <td>1.073581</td>\n",
       "      <td>0.700646</td>\n",
       "      <td>4.715088</td>\n",
       "      <td>128.564089</td>\n",
       "    </tr>\n",
       "    <tr>\n",
       "      <th>max</th>\n",
       "      <td>2.362331</td>\n",
       "      <td>1.343769</td>\n",
       "      <td>16.003790</td>\n",
       "      <td>185.364347</td>\n",
       "    </tr>\n",
       "  </tbody>\n",
       "</table>\n",
       "</div>"
      ],
      "text/plain": [
       "                  f0             f1             f2        product\n",
       "count  100000.000000  100000.000000  100000.000000  100000.000000\n",
       "mean        0.500419       0.250143       2.502647      92.500000\n",
       "std         0.871832       0.504433       3.248248      44.288691\n",
       "min        -1.408605      -0.848218     -12.088328       0.000000\n",
       "25%        -0.072580      -0.200881       0.287748      56.497507\n",
       "50%         0.502360       0.250252       2.515969      91.849972\n",
       "75%         1.073581       0.700646       4.715088     128.564089\n",
       "max         2.362331       1.343769      16.003790     185.364347"
      ]
     },
     "metadata": {},
     "output_type": "display_data"
    },
    {
     "name": "stdout",
     "output_type": "stream",
     "text": [
      "- Количество уникальных скважин:\n",
      "\n",
      "99990\n"
     ]
    }
   ],
   "source": [
    "data_check(data_1, 1)"
   ]
  },
  {
   "cell_type": "code",
   "execution_count": 6,
   "metadata": {},
   "outputs": [
    {
     "name": "stdout",
     "output_type": "stream",
     "text": [
      "--------------- Общая информация датасэта из 2 региона ---------------\n",
      "\n",
      "<class 'pandas.core.frame.DataFrame'>\n",
      "RangeIndex: 100000 entries, 0 to 99999\n",
      "Data columns (total 5 columns):\n",
      " #   Column   Non-Null Count   Dtype  \n",
      "---  ------   --------------   -----  \n",
      " 0   id       100000 non-null  object \n",
      " 1   f0       100000 non-null  float64\n",
      " 2   f1       100000 non-null  float64\n",
      " 3   f2       100000 non-null  float64\n",
      " 4   product  100000 non-null  float64\n",
      "dtypes: float64(4), object(1)\n",
      "memory usage: 3.8+ MB\n"
     ]
    },
    {
     "data": {
      "text/plain": [
       "None"
      ]
     },
     "metadata": {},
     "output_type": "display_data"
    },
    {
     "name": "stdout",
     "output_type": "stream",
     "text": [
      "- Первые 5 строк датасэта:\n"
     ]
    },
    {
     "data": {
      "text/html": [
       "<div>\n",
       "<style scoped>\n",
       "    .dataframe tbody tr th:only-of-type {\n",
       "        vertical-align: middle;\n",
       "    }\n",
       "\n",
       "    .dataframe tbody tr th {\n",
       "        vertical-align: top;\n",
       "    }\n",
       "\n",
       "    .dataframe thead th {\n",
       "        text-align: right;\n",
       "    }\n",
       "</style>\n",
       "<table border=\"1\" class=\"dataframe\">\n",
       "  <thead>\n",
       "    <tr style=\"text-align: right;\">\n",
       "      <th></th>\n",
       "      <th>id</th>\n",
       "      <th>f0</th>\n",
       "      <th>f1</th>\n",
       "      <th>f2</th>\n",
       "      <th>product</th>\n",
       "    </tr>\n",
       "  </thead>\n",
       "  <tbody>\n",
       "    <tr>\n",
       "      <th>0</th>\n",
       "      <td>kBEdx</td>\n",
       "      <td>-15.001348</td>\n",
       "      <td>-8.276000</td>\n",
       "      <td>-0.005876</td>\n",
       "      <td>3.179103</td>\n",
       "    </tr>\n",
       "    <tr>\n",
       "      <th>1</th>\n",
       "      <td>62mP7</td>\n",
       "      <td>14.272088</td>\n",
       "      <td>-3.475083</td>\n",
       "      <td>0.999183</td>\n",
       "      <td>26.953261</td>\n",
       "    </tr>\n",
       "    <tr>\n",
       "      <th>2</th>\n",
       "      <td>vyE1P</td>\n",
       "      <td>6.263187</td>\n",
       "      <td>-5.948386</td>\n",
       "      <td>5.001160</td>\n",
       "      <td>134.766305</td>\n",
       "    </tr>\n",
       "    <tr>\n",
       "      <th>3</th>\n",
       "      <td>KcrkZ</td>\n",
       "      <td>-13.081196</td>\n",
       "      <td>-11.506057</td>\n",
       "      <td>4.999415</td>\n",
       "      <td>137.945408</td>\n",
       "    </tr>\n",
       "    <tr>\n",
       "      <th>4</th>\n",
       "      <td>AHL4O</td>\n",
       "      <td>12.702195</td>\n",
       "      <td>-8.147433</td>\n",
       "      <td>5.004363</td>\n",
       "      <td>134.766305</td>\n",
       "    </tr>\n",
       "  </tbody>\n",
       "</table>\n",
       "</div>"
      ],
      "text/plain": [
       "      id         f0         f1        f2     product\n",
       "0  kBEdx -15.001348  -8.276000 -0.005876    3.179103\n",
       "1  62mP7  14.272088  -3.475083  0.999183   26.953261\n",
       "2  vyE1P   6.263187  -5.948386  5.001160  134.766305\n",
       "3  KcrkZ -13.081196 -11.506057  4.999415  137.945408\n",
       "4  AHL4O  12.702195  -8.147433  5.004363  134.766305"
      ]
     },
     "metadata": {},
     "output_type": "display_data"
    },
    {
     "name": "stdout",
     "output_type": "stream",
     "text": [
      "\n",
      "- Описательная статистика датасэта:\n"
     ]
    },
    {
     "data": {
      "text/html": [
       "<div>\n",
       "<style scoped>\n",
       "    .dataframe tbody tr th:only-of-type {\n",
       "        vertical-align: middle;\n",
       "    }\n",
       "\n",
       "    .dataframe tbody tr th {\n",
       "        vertical-align: top;\n",
       "    }\n",
       "\n",
       "    .dataframe thead th {\n",
       "        text-align: right;\n",
       "    }\n",
       "</style>\n",
       "<table border=\"1\" class=\"dataframe\">\n",
       "  <thead>\n",
       "    <tr style=\"text-align: right;\">\n",
       "      <th></th>\n",
       "      <th>f0</th>\n",
       "      <th>f1</th>\n",
       "      <th>f2</th>\n",
       "      <th>product</th>\n",
       "    </tr>\n",
       "  </thead>\n",
       "  <tbody>\n",
       "    <tr>\n",
       "      <th>count</th>\n",
       "      <td>100000.000000</td>\n",
       "      <td>100000.000000</td>\n",
       "      <td>100000.000000</td>\n",
       "      <td>100000.000000</td>\n",
       "    </tr>\n",
       "    <tr>\n",
       "      <th>mean</th>\n",
       "      <td>1.141296</td>\n",
       "      <td>-4.796579</td>\n",
       "      <td>2.494541</td>\n",
       "      <td>68.825000</td>\n",
       "    </tr>\n",
       "    <tr>\n",
       "      <th>std</th>\n",
       "      <td>8.965932</td>\n",
       "      <td>5.119872</td>\n",
       "      <td>1.703572</td>\n",
       "      <td>45.944423</td>\n",
       "    </tr>\n",
       "    <tr>\n",
       "      <th>min</th>\n",
       "      <td>-31.609576</td>\n",
       "      <td>-26.358598</td>\n",
       "      <td>-0.018144</td>\n",
       "      <td>0.000000</td>\n",
       "    </tr>\n",
       "    <tr>\n",
       "      <th>25%</th>\n",
       "      <td>-6.298551</td>\n",
       "      <td>-8.267985</td>\n",
       "      <td>1.000021</td>\n",
       "      <td>26.953261</td>\n",
       "    </tr>\n",
       "    <tr>\n",
       "      <th>50%</th>\n",
       "      <td>1.153055</td>\n",
       "      <td>-4.813172</td>\n",
       "      <td>2.011479</td>\n",
       "      <td>57.085625</td>\n",
       "    </tr>\n",
       "    <tr>\n",
       "      <th>75%</th>\n",
       "      <td>8.621015</td>\n",
       "      <td>-1.332816</td>\n",
       "      <td>3.999904</td>\n",
       "      <td>107.813044</td>\n",
       "    </tr>\n",
       "    <tr>\n",
       "      <th>max</th>\n",
       "      <td>29.421755</td>\n",
       "      <td>18.734063</td>\n",
       "      <td>5.019721</td>\n",
       "      <td>137.945408</td>\n",
       "    </tr>\n",
       "  </tbody>\n",
       "</table>\n",
       "</div>"
      ],
      "text/plain": [
       "                  f0             f1             f2        product\n",
       "count  100000.000000  100000.000000  100000.000000  100000.000000\n",
       "mean        1.141296      -4.796579       2.494541      68.825000\n",
       "std         8.965932       5.119872       1.703572      45.944423\n",
       "min       -31.609576     -26.358598      -0.018144       0.000000\n",
       "25%        -6.298551      -8.267985       1.000021      26.953261\n",
       "50%         1.153055      -4.813172       2.011479      57.085625\n",
       "75%         8.621015      -1.332816       3.999904     107.813044\n",
       "max        29.421755      18.734063       5.019721     137.945408"
      ]
     },
     "metadata": {},
     "output_type": "display_data"
    },
    {
     "name": "stdout",
     "output_type": "stream",
     "text": [
      "- Количество уникальных скважин:\n",
      "\n",
      "99996\n"
     ]
    }
   ],
   "source": [
    "data_check(data_2, 2)"
   ]
  },
  {
   "cell_type": "code",
   "execution_count": 7,
   "metadata": {},
   "outputs": [
    {
     "name": "stdout",
     "output_type": "stream",
     "text": [
      "--------------- Общая информация датасэта из 3 региона ---------------\n",
      "\n",
      "<class 'pandas.core.frame.DataFrame'>\n",
      "RangeIndex: 100000 entries, 0 to 99999\n",
      "Data columns (total 5 columns):\n",
      " #   Column   Non-Null Count   Dtype  \n",
      "---  ------   --------------   -----  \n",
      " 0   id       100000 non-null  object \n",
      " 1   f0       100000 non-null  float64\n",
      " 2   f1       100000 non-null  float64\n",
      " 3   f2       100000 non-null  float64\n",
      " 4   product  100000 non-null  float64\n",
      "dtypes: float64(4), object(1)\n",
      "memory usage: 3.8+ MB\n"
     ]
    },
    {
     "data": {
      "text/plain": [
       "None"
      ]
     },
     "metadata": {},
     "output_type": "display_data"
    },
    {
     "name": "stdout",
     "output_type": "stream",
     "text": [
      "- Первые 5 строк датасэта:\n"
     ]
    },
    {
     "data": {
      "text/html": [
       "<div>\n",
       "<style scoped>\n",
       "    .dataframe tbody tr th:only-of-type {\n",
       "        vertical-align: middle;\n",
       "    }\n",
       "\n",
       "    .dataframe tbody tr th {\n",
       "        vertical-align: top;\n",
       "    }\n",
       "\n",
       "    .dataframe thead th {\n",
       "        text-align: right;\n",
       "    }\n",
       "</style>\n",
       "<table border=\"1\" class=\"dataframe\">\n",
       "  <thead>\n",
       "    <tr style=\"text-align: right;\">\n",
       "      <th></th>\n",
       "      <th>id</th>\n",
       "      <th>f0</th>\n",
       "      <th>f1</th>\n",
       "      <th>f2</th>\n",
       "      <th>product</th>\n",
       "    </tr>\n",
       "  </thead>\n",
       "  <tbody>\n",
       "    <tr>\n",
       "      <th>0</th>\n",
       "      <td>fwXo0</td>\n",
       "      <td>-1.146987</td>\n",
       "      <td>0.963328</td>\n",
       "      <td>-0.828965</td>\n",
       "      <td>27.758673</td>\n",
       "    </tr>\n",
       "    <tr>\n",
       "      <th>1</th>\n",
       "      <td>WJtFt</td>\n",
       "      <td>0.262778</td>\n",
       "      <td>0.269839</td>\n",
       "      <td>-2.530187</td>\n",
       "      <td>56.069697</td>\n",
       "    </tr>\n",
       "    <tr>\n",
       "      <th>2</th>\n",
       "      <td>ovLUW</td>\n",
       "      <td>0.194587</td>\n",
       "      <td>0.289035</td>\n",
       "      <td>-5.586433</td>\n",
       "      <td>62.871910</td>\n",
       "    </tr>\n",
       "    <tr>\n",
       "      <th>3</th>\n",
       "      <td>q6cA6</td>\n",
       "      <td>2.236060</td>\n",
       "      <td>-0.553760</td>\n",
       "      <td>0.930038</td>\n",
       "      <td>114.572842</td>\n",
       "    </tr>\n",
       "    <tr>\n",
       "      <th>4</th>\n",
       "      <td>WPMUX</td>\n",
       "      <td>-0.515993</td>\n",
       "      <td>1.716266</td>\n",
       "      <td>5.899011</td>\n",
       "      <td>149.600746</td>\n",
       "    </tr>\n",
       "  </tbody>\n",
       "</table>\n",
       "</div>"
      ],
      "text/plain": [
       "      id        f0        f1        f2     product\n",
       "0  fwXo0 -1.146987  0.963328 -0.828965   27.758673\n",
       "1  WJtFt  0.262778  0.269839 -2.530187   56.069697\n",
       "2  ovLUW  0.194587  0.289035 -5.586433   62.871910\n",
       "3  q6cA6  2.236060 -0.553760  0.930038  114.572842\n",
       "4  WPMUX -0.515993  1.716266  5.899011  149.600746"
      ]
     },
     "metadata": {},
     "output_type": "display_data"
    },
    {
     "name": "stdout",
     "output_type": "stream",
     "text": [
      "\n",
      "- Описательная статистика датасэта:\n"
     ]
    },
    {
     "data": {
      "text/html": [
       "<div>\n",
       "<style scoped>\n",
       "    .dataframe tbody tr th:only-of-type {\n",
       "        vertical-align: middle;\n",
       "    }\n",
       "\n",
       "    .dataframe tbody tr th {\n",
       "        vertical-align: top;\n",
       "    }\n",
       "\n",
       "    .dataframe thead th {\n",
       "        text-align: right;\n",
       "    }\n",
       "</style>\n",
       "<table border=\"1\" class=\"dataframe\">\n",
       "  <thead>\n",
       "    <tr style=\"text-align: right;\">\n",
       "      <th></th>\n",
       "      <th>f0</th>\n",
       "      <th>f1</th>\n",
       "      <th>f2</th>\n",
       "      <th>product</th>\n",
       "    </tr>\n",
       "  </thead>\n",
       "  <tbody>\n",
       "    <tr>\n",
       "      <th>count</th>\n",
       "      <td>100000.000000</td>\n",
       "      <td>100000.000000</td>\n",
       "      <td>100000.000000</td>\n",
       "      <td>100000.000000</td>\n",
       "    </tr>\n",
       "    <tr>\n",
       "      <th>mean</th>\n",
       "      <td>0.002023</td>\n",
       "      <td>-0.002081</td>\n",
       "      <td>2.495128</td>\n",
       "      <td>95.000000</td>\n",
       "    </tr>\n",
       "    <tr>\n",
       "      <th>std</th>\n",
       "      <td>1.732045</td>\n",
       "      <td>1.730417</td>\n",
       "      <td>3.473445</td>\n",
       "      <td>44.749921</td>\n",
       "    </tr>\n",
       "    <tr>\n",
       "      <th>min</th>\n",
       "      <td>-8.760004</td>\n",
       "      <td>-7.084020</td>\n",
       "      <td>-11.970335</td>\n",
       "      <td>0.000000</td>\n",
       "    </tr>\n",
       "    <tr>\n",
       "      <th>25%</th>\n",
       "      <td>-1.162288</td>\n",
       "      <td>-1.174820</td>\n",
       "      <td>0.130359</td>\n",
       "      <td>59.450441</td>\n",
       "    </tr>\n",
       "    <tr>\n",
       "      <th>50%</th>\n",
       "      <td>0.009424</td>\n",
       "      <td>-0.009482</td>\n",
       "      <td>2.484236</td>\n",
       "      <td>94.925613</td>\n",
       "    </tr>\n",
       "    <tr>\n",
       "      <th>75%</th>\n",
       "      <td>1.158535</td>\n",
       "      <td>1.163678</td>\n",
       "      <td>4.858794</td>\n",
       "      <td>130.595027</td>\n",
       "    </tr>\n",
       "    <tr>\n",
       "      <th>max</th>\n",
       "      <td>7.238262</td>\n",
       "      <td>7.844801</td>\n",
       "      <td>16.739402</td>\n",
       "      <td>190.029838</td>\n",
       "    </tr>\n",
       "  </tbody>\n",
       "</table>\n",
       "</div>"
      ],
      "text/plain": [
       "                  f0             f1             f2        product\n",
       "count  100000.000000  100000.000000  100000.000000  100000.000000\n",
       "mean        0.002023      -0.002081       2.495128      95.000000\n",
       "std         1.732045       1.730417       3.473445      44.749921\n",
       "min        -8.760004      -7.084020     -11.970335       0.000000\n",
       "25%        -1.162288      -1.174820       0.130359      59.450441\n",
       "50%         0.009424      -0.009482       2.484236      94.925613\n",
       "75%         1.158535       1.163678       4.858794     130.595027\n",
       "max         7.238262       7.844801      16.739402     190.029838"
      ]
     },
     "metadata": {},
     "output_type": "display_data"
    },
    {
     "name": "stdout",
     "output_type": "stream",
     "text": [
      "- Количество уникальных скважин:\n",
      "\n",
      "99996\n"
     ]
    }
   ],
   "source": [
    "data_check(data_3, 3)"
   ]
  },
  {
   "cell_type": "markdown",
   "metadata": {},
   "source": [
    "Удалим из датасэтов столбец id так он не несёт никакой смысловой нагрузки для нашего исследования."
   ]
  },
  {
   "cell_type": "code",
   "execution_count": 8,
   "metadata": {},
   "outputs": [],
   "source": [
    "data_1.drop('id', axis=1, inplace=True)\n",
    "data_2.drop('id', axis=1, inplace=True)\n",
    "data_3.drop('id', axis=1, inplace=True)"
   ]
  },
  {
   "cell_type": "markdown",
   "metadata": {},
   "source": [
    "Проверим корреляцию наших признаков с помощью heatmap."
   ]
  },
  {
   "cell_type": "code",
   "execution_count": 9,
   "metadata": {},
   "outputs": [
    {
     "data": {
      "image/png": "[encoded data removed]",
      "text/plain": [
       "<Figure size 1224x288 with 6 Axes>"
      ]
     },
     "metadata": {},
     "output_type": "display_data"
    }
   ],
   "source": [
    "fig, ax1 = plt.subplots(1, 3, figsize=(17,4))\n",
    "\n",
    "for i, j in zip([data_1, data_2, data_3], range(3)):\n",
    "    sns.heatmap(\n",
    "        i.corr(), \n",
    "        annot=True,\n",
    "        ax=ax1[j]\n",
    "    )\n",
    "    ax1[j].set_title('Регион ' + str(j + 1))\n",
    "    \n",
    "plt.show()"
   ]
  },
  {
   "cell_type": "markdown",
   "metadata": {},
   "source": [
    "В data_2 есть прямая связь между объемом запасов в скважине и признаке f2. В остальных дататсетых корреляция тоже присутствует не не такая сильная."
   ]
  },
  {
   "cell_type": "markdown",
   "metadata": {},
   "source": [
    "**Вывод**"
   ]
  },
  {
   "cell_type": "markdown",
   "metadata": {},
   "source": [
    "- В полученных датасэтах отсутствуют пропуски, типы данных определены корректно;\n",
    "- Присутствует корреляция между product и f2;\n",
    "- В id скважин так же есть небольшое кол-во дубликатов."
   ]
  },
  {
   "cell_type": "markdown",
   "metadata": {},
   "source": [
    "## Обучение и проверка модели"
   ]
  },
  {
   "cell_type": "code",
   "execution_count": 10,
   "metadata": {},
   "outputs": [],
   "source": [
    "# Так как в дальнейшем мы часто будем использовать параметр random_state \n",
    "# для фиксирования псевдослучайных величин, зададим его константой \n",
    "\n",
    "rnd = 12345"
   ]
  },
  {
   "cell_type": "markdown",
   "metadata": {},
   "source": [
    "### Разделение данных на обучающую и валидационную выборки в соотношении 75:25"
   ]
  },
  {
   "cell_type": "markdown",
   "metadata": {},
   "source": [
    "Функция для разбивки датасэтов на обучающую и валидационную выборки."
   ]
  },
  {
   "cell_type": "code",
   "execution_count": 11,
   "metadata": {},
   "outputs": [],
   "source": [
    "def split_sample(data):\n",
    "    features = data.drop('product', axis=1)\n",
    "    target = data['product']\n",
    "    \n",
    "    features_train, features_valid, target_train, target_valid = train_test_split(\n",
    "        features,\n",
    "        target,\n",
    "        test_size=0.25,\n",
    "        random_state=rnd\n",
    "    )\n",
    "    \n",
    "    return features_train, features_valid, target_train, target_valid"
   ]
  },
  {
   "cell_type": "code",
   "execution_count": 12,
   "metadata": {},
   "outputs": [],
   "source": [
    "features_train_1, features_valid_1, target_train_1, target_valid_1 = split_sample(data_1)\n",
    "\n",
    "features_train_2, features_valid_2, target_train_2, target_valid_2 = split_sample(data_2)\n",
    "\n",
    "features_train_3, features_valid_3, target_train_3, target_valid_3 = split_sample(data_3)"
   ]
  },
  {
   "cell_type": "code",
   "execution_count": 13,
   "metadata": {},
   "outputs": [],
   "source": [
    "features_train_list = [features_train_1, features_train_2, features_train_3]\n",
    "features_valid_list = [features_valid_1, features_valid_2, features_valid_3]"
   ]
  },
  {
   "cell_type": "code",
   "execution_count": 14,
   "metadata": {
    "scrolled": true
   },
   "outputs": [
    {
     "name": "stdout",
     "output_type": "stream",
     "text": [
      "Итоговые размеры выборок: \n",
      "\n",
      "Обучающая выборка 1 состоит из 75000 объектов\n",
      "Валидационная выборка 1 состоит из 25000 объектов\n",
      "\n",
      "Обучающая выборка 2 состоит из 75000 объектов\n",
      "Валидационная выборка 2 состоит из 25000 объектов\n",
      "\n",
      "Обучающая выборка 3 состоит из 75000 объектов\n",
      "Валидационная выборка 3 состоит из 25000 объектов\n",
      "\n"
     ]
    }
   ],
   "source": [
    "print('Итоговые размеры выборок:', '\\n')\n",
    "\n",
    "for index, val in enumerate(zip(features_train_list, features_valid_list)):\n",
    "    print(\n",
    "        'Обучающая выборка', index + 1, 'состоит из {} объектов'.format(\n",
    "            val[0].shape[0]\n",
    "        )\n",
    "    )\n",
    "    print(\n",
    "        'Валидационная выборка', index + 1, 'состоит из {} объектов'.format(\n",
    "            val[1].shape[0]\n",
    "        )\n",
    "    )\n",
    "    print()"
   ]
  },
  {
   "cell_type": "markdown",
   "metadata": {},
   "source": [
    "Масштабируем наши признаки на всех выборках. Но сперва обучим StandardScaler на каждой обучающей выборке."
   ]
  },
  {
   "cell_type": "code",
   "execution_count": 15,
   "metadata": {
    "scrolled": true
   },
   "outputs": [],
   "source": [
    "var_numeric = ['f0', 'f1', 'f2']\n",
    "\n",
    "def scaler_fit(features_train, features_valid):\n",
    "    scaler = StandardScaler()\n",
    "\n",
    "    for i in range(len(features_train)):   \n",
    "        features_train[i][var_numeric] = scaler.fit_transform(\n",
    "            features_train[i][var_numeric]\n",
    "        )\n",
    "\n",
    "        features_valid[i][var_numeric] = scaler.transform(\n",
    "            features_valid[i][var_numeric]\n",
    "        )"
   ]
  },
  {
   "cell_type": "code",
   "execution_count": 16,
   "metadata": {},
   "outputs": [],
   "source": [
    "scaler_fit(features_train_list, features_valid_list)"
   ]
  },
  {
   "cell_type": "markdown",
   "metadata": {},
   "source": [
    "### Обучение модели и предсказания на валидационной выборке."
   ]
  },
  {
   "cell_type": "markdown",
   "metadata": {},
   "source": [
    "Финкция для обучения модели по алгоритму линейной регрессии."
   ]
  },
  {
   "cell_type": "code",
   "execution_count": 17,
   "metadata": {},
   "outputs": [],
   "source": [
    "def linear_model(features_train, target_train, features_valid):\n",
    "    model = LinearRegression()\n",
    "    model.fit(features_train, target_train)\n",
    "    \n",
    "    predicted_valid = model.predict(features_valid)\n",
    "    \n",
    "    return predicted_valid"
   ]
  },
  {
   "cell_type": "markdown",
   "metadata": {},
   "source": [
    "Сохраним предсказания на валидационной выборке в переменные predict_valid_ ."
   ]
  },
  {
   "cell_type": "code",
   "execution_count": 18,
   "metadata": {},
   "outputs": [],
   "source": [
    "predict_valid_1 = linear_model(features_train_1, target_train_1, features_valid_1)\n",
    "predict_valid_2 = linear_model(features_train_2, target_train_2, features_valid_2)\n",
    "predict_valid_3 = linear_model(features_train_3, target_train_3, features_valid_3)"
   ]
  },
  {
   "cell_type": "code",
   "execution_count": 19,
   "metadata": {},
   "outputs": [],
   "source": [
    "target_valid_list = [target_valid_1, target_valid_2, target_valid_3]\n",
    "predict_valid_list = [predict_valid_1, predict_valid_2, predict_valid_3]"
   ]
  },
  {
   "cell_type": "markdown",
   "metadata": {},
   "source": [
    "Рассчитаем средний объем запасов сырья предсказанный нашей моделью и среднюю квадратичную ошибку."
   ]
  },
  {
   "cell_type": "code",
   "execution_count": 20,
   "metadata": {},
   "outputs": [],
   "source": [
    "result_dict = {}\n",
    "\n",
    "for index, val in enumerate(zip(predict_valid_list, target_valid_list)):\n",
    "    result_dict[index + 1] = {}\n",
    "    \n",
    "    mse = mean_squared_error(\n",
    "        val[0], \n",
    "        val[1]\n",
    "    )\n",
    "    \n",
    "    result_dict[index + 1]['rmse'] = mse ** 0.5\n",
    "    result_dict[index + 1]['mean'] = val[0].mean()\n",
    "    \n",
    "data_union_score = pd.DataFrame(result_dict).transpose()"
   ]
  },
  {
   "cell_type": "markdown",
   "metadata": {},
   "source": [
    "На основе полученных данных построим визуализацию."
   ]
  },
  {
   "cell_type": "code",
   "execution_count": 21,
   "metadata": {},
   "outputs": [
    {
     "data": {
      "image/png": "[encoded data removed]",
      "text/plain": [
       "<Figure size 1224x576 with 1 Axes>"
      ]
     },
     "metadata": {},
     "output_type": "display_data"
    }
   ],
   "source": [
    "data_union_score_plot = round(data_union_score, 2).plot(\n",
    "    kind='bar',\n",
    "    figsize=(17,8)\n",
    ")\n",
    "\n",
    "data_union_score_plot.set(\n",
    "    title='Сравнение метрик RMSE и Mean',\n",
    "    xlabel='Регион',\n",
    "    ylabel='Значение метрик'\n",
    ")\n",
    "\n",
    "for p in data_union_score_plot.patches:\n",
    "    data_union_score_plot.annotate(float(p.get_height()), (p.get_x() + 0.06, p.get_height() + 0.7))\n",
    "\n",
    "plt.show()"
   ]
  },
  {
   "cell_type": "markdown",
   "metadata": {},
   "source": [
    "**Вывод**"
   ]
  },
  {
   "cell_type": "markdown",
   "metadata": {},
   "source": [
    "По полученным результатам можно сказать следующее:\n",
    "- самый высокий показатель получен в 3 регионе, но при этом у него самая высокая средняя квадратичная ошибка;\n",
    "- во втором регионе, RMSE самая низкая, полная корреляции между f2 и product дает о себе знать."
   ]
  },
  {
   "cell_type": "markdown",
   "metadata": {},
   "source": [
    "## Подготовка к расчёту прибыли"
   ]
  },
  {
   "cell_type": "markdown",
   "metadata": {},
   "source": [
    "### Ключевые значения для расчётов"
   ]
  },
  {
   "cell_type": "code",
   "execution_count": 22,
   "metadata": {},
   "outputs": [],
   "source": [
    "# Бюджет на разработку скважин в регионе\n",
    "BUDGET = 10000000000\n",
    "\n",
    "# Кол-во точек для разведки\n",
    "TOTAL_POINTS = 500\n",
    "\n",
    "# Топ для исследования\n",
    "TOP_POINTS = 200\n",
    "\n",
    "# Прибыль с 1 барреля сырья\n",
    "PROFIT_BARREL = 450  \n",
    "\n",
    "# Доход с каждой единицы продукта\n",
    "PROFIT_PRODUCT = 450000\n",
    "\n",
    "# Вероятность убытков\n",
    "LOOSE_FRAC = .025"
   ]
  },
  {
   "cell_type": "markdown",
   "metadata": {},
   "source": [
    "### Достаточный объём сырья для безубыточной разработки новой скважины"
   ]
  },
  {
   "cell_type": "code",
   "execution_count": 23,
   "metadata": {},
   "outputs": [
    {
     "name": "stdout",
     "output_type": "stream",
     "text": [
      "Стоимость одной скважины = 50000000.0\n",
      "Достаточный объём для безубыточной разработки новой скважины = 111.11\n"
     ]
    }
   ],
   "source": [
    "# Стоимость бурения одной скважины\n",
    "dev_price = BUDGET / TOP_POINTS\n",
    "\n",
    "# Достаточный объём сырья для безубыточной разработки новой скважины\n",
    "break_even_point = dev_price / PROFIT_PRODUCT\n",
    "\n",
    "print('Стоимость одной скважины =', dev_price)\n",
    "print('Достаточный объём для безубыточной разработки новой скважины =', round(break_even_point, 2))"
   ]
  },
  {
   "cell_type": "code",
   "execution_count": 24,
   "metadata": {},
   "outputs": [
    {
     "data": {
      "image/png": "[encoded data removed]",
      "text/plain": [
       "<Figure size 1224x576 with 1 Axes>"
      ]
     },
     "metadata": {},
     "output_type": "display_data"
    }
   ],
   "source": [
    "d = {\n",
    "    'region': ['1', '2', '3'],\n",
    "    'mean_product': [target_valid_1.mean(), target_valid_2.mean(), target_valid_3.mean()]\n",
    "}\n",
    "\n",
    "capacity_pivot = pd.DataFrame(data=d)\n",
    "\n",
    "capacity_pivot_plot = round(capacity_pivot, 2).plot(\n",
    "    x='region',\n",
    "    y='mean_product',\n",
    "    kind='bar',\n",
    "    figsize=(17,8),\n",
    "    label='mean_product'\n",
    ")\n",
    "capacity_pivot_plot.axhline(\n",
    "    break_even_point,\n",
    "    color='red',\n",
    "    linestyle='dashed', \n",
    "    label='break_even_point'\n",
    ")\n",
    "\n",
    "plt.legend(loc ='lower right')\n",
    "\n",
    "capacity_pivot_plot.set(\n",
    "    title='Сравнение минимального объёма для безубыточной разработки со средним запасом в каждом регионе',\n",
    "    xlabel='Регион',\n",
    "    ylabel='Значение'\n",
    ")\n",
    "\n",
    "for p in capacity_pivot_plot.patches:\n",
    "    capacity_pivot_plot.annotate(float(p.get_height()), (p.get_x() + 0.19, p.get_height() + 0.7))\n",
    "\n",
    "plt.show()"
   ]
  },
  {
   "cell_type": "markdown",
   "metadata": {},
   "source": [
    "**Вывод**"
   ]
  },
  {
   "cell_type": "markdown",
   "metadata": {},
   "source": [
    "Минимальный объём для безубыточной разработки новой скважины равен 111 тыс. баррелей. Во всех регионах, по нашим подсчетам, средний запас меньше этого показателя."
   ]
  },
  {
   "cell_type": "markdown",
   "metadata": {},
   "source": [
    "## Расчёт прибыли и рисков "
   ]
  },
  {
   "cell_type": "markdown",
   "metadata": {},
   "source": [
    "Преобразуем предсказанные значения в серию панд, у фактических значений объема сырья сбросим индексы."
   ]
  },
  {
   "cell_type": "code",
   "execution_count": 25,
   "metadata": {},
   "outputs": [],
   "source": [
    "target_valid_rst_1 = target_valid_1.reset_index(drop=True)\n",
    "target_valid_rst_2 = target_valid_2.reset_index(drop=True)\n",
    "target_valid_rst_3 = target_valid_3.reset_index(drop=True)\n",
    "\n",
    "predict_valid_rst_1 = pd.Series(predict_valid_1)\n",
    "predict_valid_rst_2 = pd.Series(predict_valid_2)\n",
    "predict_valid_rst_3 = pd.Series(predict_valid_3)"
   ]
  },
  {
   "cell_type": "markdown",
   "metadata": {},
   "source": [
    "Функция для расчета прибыли в каждом регионе. Результат сохраним в словарь."
   ]
  },
  {
   "cell_type": "code",
   "execution_count": 26,
   "metadata": {},
   "outputs": [],
   "source": [
    "profit_top_dict = {}\n",
    "\n",
    "def profit_calculate(target, predict, option, i=0): \n",
    "    predict_sort = predict.sort_values(ascending=False)\n",
    "    target_top = target[predict_sort.index].head(TOP_POINTS)\n",
    "    \n",
    "    profit = PROFIT_PRODUCT * target_top.sum() - BUDGET\n",
    "\n",
    "    \n",
    "    if option == True:\n",
    "        return profit\n",
    "\n",
    "    else:\n",
    "        profit_top_dict[i] = {}\n",
    "\n",
    "        # Для удобного отображения итогов разделим прибыль на 10^9\n",
    "        profit_top_dict[i]['profit'] = round(profit / 10**9, 2)"
   ]
  },
  {
   "cell_type": "code",
   "execution_count": 27,
   "metadata": {},
   "outputs": [],
   "source": [
    "profit_calculate(target_valid_rst_1, predict_valid_rst_1, False, 1)\n",
    "profit_calculate(target_valid_rst_2, predict_valid_rst_2, False, 2)\n",
    "profit_calculate(target_valid_rst_3, predict_valid_rst_3, False, 3)"
   ]
  },
  {
   "cell_type": "markdown",
   "metadata": {},
   "source": [
    "Визуализируем прибыль по предсказанным объемам сырья."
   ]
  },
  {
   "cell_type": "code",
   "execution_count": 28,
   "metadata": {},
   "outputs": [
    {
     "data": {
      "image/png": "[encoded data removed]",
      "text/plain": [
       "<Figure size 1224x576 with 1 Axes>"
      ]
     },
     "metadata": {},
     "output_type": "display_data"
    }
   ],
   "source": [
    "profit_top_union = pd.DataFrame(profit_top_dict).transpose()\n",
    "\n",
    "profit_top_union_plot = profit_top_union.plot(\n",
    "    kind='bar',\n",
    "    figsize=(17,8)\n",
    ")\n",
    "\n",
    "profit_top_union_plot.set(\n",
    "    title='Прибыль для полученного объёма сырья',\n",
    "    xlabel='Регион',\n",
    "    ylabel='Прибыль (млрд. рублей)'\n",
    ")\n",
    "\n",
    "for p in profit_top_union_plot.patches:\n",
    "    profit_top_union_plot.annotate(float(p.get_height()), (p.get_x() + 0.20, p.get_height() + 0.03))\n",
    "\n",
    "plt.show()"
   ]
  },
  {
   "cell_type": "markdown",
   "metadata": {},
   "source": [
    "**Вывод**"
   ]
  },
  {
   "cell_type": "markdown",
   "metadata": {},
   "source": [
    "Максимальная прибыль в 3.32 млрд. рублей в 1 регионе"
   ]
  },
  {
   "cell_type": "markdown",
   "metadata": {},
   "source": [
    "## Риски и прибыль для каждого региона"
   ]
  },
  {
   "cell_type": "code",
   "execution_count": 29,
   "metadata": {},
   "outputs": [],
   "source": [
    "target_valid_rst_list = [target_valid_rst_1, target_valid_rst_2, target_valid_rst_3]\n",
    "predict_valid_rst_list = [predict_valid_rst_1, predict_valid_rst_2, predict_valid_rst_3]"
   ]
  },
  {
   "cell_type": "markdown",
   "metadata": {},
   "source": [
    "Функция для расчета средней прибыли, доверительного интервала и риска"
   ]
  },
  {
   "cell_type": "code",
   "execution_count": 30,
   "metadata": {},
   "outputs": [],
   "source": [
    "state = np.random.RandomState(rnd)\n",
    "\n",
    "statistic_dict = {}\n",
    "\n",
    "def risk_calculate(target, predict):    \n",
    "    fig, ax1 = plt.subplots(3, 3, figsize=(17,15))\n",
    "    \n",
    "    for index, val in enumerate(zip(target, predict)):\n",
    "        revenues = []\n",
    "\n",
    "        for i in range(1000):\n",
    "            target_subsample = val[0].sample(\n",
    "                n=TOTAL_POINTS,\n",
    "                replace=True,\n",
    "                random_state=state\n",
    "            )\n",
    "            predict_subsample = val[1][target_subsample.index]\n",
    "\n",
    "            result = profit_calculate(target_subsample, predict_subsample, True)\n",
    "            revenues.append(result)\n",
    "\n",
    "        revenues = pd.Series(revenues)\n",
    "\n",
    "        lower = revenues.quantile(0.025)\n",
    "        upper = revenues.quantile(0.975)\n",
    "        mean_profit = revenues.mean()\n",
    "        risk = stats.percentileofscore(revenues, 0)\n",
    "        \n",
    "        statistic_dict[index + 1] = {}\n",
    "        statistic_dict[index + 1]['lower'] = lower\n",
    "        statistic_dict[index + 1]['upper'] = upper\n",
    "        statistic_dict[index + 1]['mean_profit'] = round(mean_profit / 10**6, 2)\n",
    "        statistic_dict[index + 1]['risk'] = risk\n",
    "        \n",
    "        # Графики распределения\n",
    "        sns.distplot(\n",
    "            revenues,\n",
    "            ax=ax1[0][index]\n",
    "        )\n",
    "        \n",
    "        ax1[0][index].axvline(\n",
    "            lower, \n",
    "            color='red'\n",
    "        )\n",
    "        ax1[0][index].axvline(\n",
    "            mean_profit,\n",
    "            color='black'\n",
    "        )\n",
    "        ax1[0][index].axvline(\n",
    "            upper,\n",
    "            color='red'\n",
    "        )\n",
    "        ax1[0][index].set(\n",
    "            ylabel='Плотность'\n",
    "        )\n",
    "        \n",
    "        # Графики средней прибыли\n",
    "        profit_plot = sns.barplot(\n",
    "            [index + 1],\n",
    "            [round(mean_profit / 10**6, 2)],\n",
    "            color='yellowgreen',\n",
    "            ax=ax1[1][index]\n",
    "        )\n",
    "        ax1[1][index].set(\n",
    "            ylabel='Средняя прибыль (млн. руб)',\n",
    "            ylim=(0, 600)\n",
    "        )\n",
    "        \n",
    "        for p in profit_plot.patches:\n",
    "            profit_plot.annotate(float(p.get_height()), (p.get_x() + 0.35, p.get_height() + 0.03))\n",
    "        \n",
    "        # Графики рисков\n",
    "        risk_plot = sns.barplot(\n",
    "            [index + 1],\n",
    "            [risk],\n",
    "            color='tomato',\n",
    "            ax=ax1[2][index]\n",
    "        )\n",
    "        ax1[2][index].set(\n",
    "            xlabel='Регион',\n",
    "            ylabel='Риск (%)',\n",
    "            ylim=(0, 10)\n",
    "        )\n",
    "        \n",
    "        for p in risk_plot.patches:\n",
    "            risk_plot.annotate(float(p.get_height()), (p.get_x() + 0.37, p.get_height() + 0.09))\n",
    "    \n",
    "    statistic_dict_union = pd.DataFrame(statistic_dict).transpose()\n",
    "    display(statistic_dict_union)\n",
    "    plt.show()"
   ]
  },
  {
   "cell_type": "code",
   "execution_count": 31,
   "metadata": {
    "scrolled": false
   },
   "outputs": [
    {
     "data": {
      "text/html": [
       "<div>\n",
       "<style scoped>\n",
       "    .dataframe tbody tr th:only-of-type {\n",
       "        vertical-align: middle;\n",
       "    }\n",
       "\n",
       "    .dataframe tbody tr th {\n",
       "        vertical-align: top;\n",
       "    }\n",
       "\n",
       "    .dataframe thead th {\n",
       "        text-align: right;\n",
       "    }\n",
       "</style>\n",
       "<table border=\"1\" class=\"dataframe\">\n",
       "  <thead>\n",
       "    <tr style=\"text-align: right;\">\n",
       "      <th></th>\n",
       "      <th>lower</th>\n",
       "      <th>upper</th>\n",
       "      <th>mean_profit</th>\n",
       "      <th>risk</th>\n",
       "    </tr>\n",
       "  </thead>\n",
       "  <tbody>\n",
       "    <tr>\n",
       "      <th>1</th>\n",
       "      <td>-1.020901e+08</td>\n",
       "      <td>9.479764e+08</td>\n",
       "      <td>425.94</td>\n",
       "      <td>6.0</td>\n",
       "    </tr>\n",
       "    <tr>\n",
       "      <th>2</th>\n",
       "      <td>1.281232e+08</td>\n",
       "      <td>9.536130e+08</td>\n",
       "      <td>518.26</td>\n",
       "      <td>0.3</td>\n",
       "    </tr>\n",
       "    <tr>\n",
       "      <th>3</th>\n",
       "      <td>-1.158526e+08</td>\n",
       "      <td>9.896299e+08</td>\n",
       "      <td>420.19</td>\n",
       "      <td>6.2</td>\n",
       "    </tr>\n",
       "  </tbody>\n",
       "</table>\n",
       "</div>"
      ],
      "text/plain": [
       "          lower         upper  mean_profit  risk\n",
       "1 -1.020901e+08  9.479764e+08       425.94   6.0\n",
       "2  1.281232e+08  9.536130e+08       518.26   0.3\n",
       "3 -1.158526e+08  9.896299e+08       420.19   6.2"
      ]
     },
     "metadata": {},
     "output_type": "display_data"
    },
    {
     "data": {
      "image/png": "[encoded data removed]",
      "text/plain": [
       "<Figure size 1224x1080 with 9 Axes>"
      ]
     },
     "metadata": {},
     "output_type": "display_data"
    }
   ],
   "source": [
    "risk_calculate(target_valid_rst_list, predict_valid_rst_list)"
   ]
  },
  {
   "cell_type": "markdown",
   "metadata": {},
   "source": [
    "## Общий вывод"
   ]
  },
  {
   "cell_type": "markdown",
   "metadata": {},
   "source": [
    "Исходя из нашего исследования, регион 2 удовлетворяет всем требованиям. Вероятность убытков меньше 2.5% (0.3%) и наибольшая средняя прибыль (518 млн. руйблей), но есть нюансы. \n",
    "\n",
    "В данных по второму региону есть полная корреляция с одним из признаков, что ставит под сомнения качество данных и итоговые результаты! RMSE по второму региону получилась меньше 1, похоже наша модель переобучилась."
   ]
  }
 ],
 "metadata": {
  "ExecuteTimeLog": [
   {
    "duration": 1647,
    "start_time": "2022-03-28T08:00:15.823Z"
   },
   {
    "duration": 5,
    "start_time": "2022-03-28T08:00:29.528Z"
   },
   {
    "duration": 400,
    "start_time": "2022-03-28T08:03:11.210Z"
   },
   {
    "duration": 138,
    "start_time": "2022-03-28T08:03:49.154Z"
   },
   {
    "duration": 78,
    "start_time": "2022-03-28T08:04:05.333Z"
   },
   {
    "duration": 73,
    "start_time": "2022-03-28T08:04:42.900Z"
   },
   {
    "duration": 114,
    "start_time": "2022-03-28T08:05:29.877Z"
   },
   {
    "duration": 44,
    "start_time": "2022-03-28T08:05:43.689Z"
   },
   {
    "duration": 42,
    "start_time": "2022-03-28T08:05:56.448Z"
   },
   {
    "duration": 42,
    "start_time": "2022-03-28T08:06:05.903Z"
   },
   {
    "duration": 3,
    "start_time": "2022-03-28T08:18:05.841Z"
   },
   {
    "duration": 73,
    "start_time": "2022-03-28T08:18:35.277Z"
   },
   {
    "duration": 437,
    "start_time": "2022-03-28T08:24:12.310Z"
   },
   {
    "duration": 4,
    "start_time": "2022-03-28T08:24:13.320Z"
   },
   {
    "duration": 6,
    "start_time": "2022-03-28T08:24:29.916Z"
   },
   {
    "duration": 45,
    "start_time": "2022-03-28T08:24:48.935Z"
   },
   {
    "duration": 4,
    "start_time": "2022-03-28T08:25:09.762Z"
   },
   {
    "duration": 61,
    "start_time": "2022-03-28T08:25:11.250Z"
   },
   {
    "duration": 4,
    "start_time": "2022-03-28T08:25:26.806Z"
   },
   {
    "duration": 46,
    "start_time": "2022-03-28T08:25:27.589Z"
   },
   {
    "duration": 5,
    "start_time": "2022-03-28T08:26:01.582Z"
   },
   {
    "duration": 48,
    "start_time": "2022-03-28T08:26:02.766Z"
   },
   {
    "duration": 5,
    "start_time": "2022-03-28T08:26:18.159Z"
   },
   {
    "duration": 54,
    "start_time": "2022-03-28T08:26:19.310Z"
   },
   {
    "duration": 3,
    "start_time": "2022-03-28T08:26:25.466Z"
   },
   {
    "duration": 50,
    "start_time": "2022-03-28T08:26:28.022Z"
   },
   {
    "duration": 4,
    "start_time": "2022-03-28T08:26:30.819Z"
   },
   {
    "duration": 54,
    "start_time": "2022-03-28T08:26:31.370Z"
   },
   {
    "duration": 5,
    "start_time": "2022-03-28T08:27:36.902Z"
   },
   {
    "duration": 69,
    "start_time": "2022-03-28T08:27:37.284Z"
   },
   {
    "duration": 5,
    "start_time": "2022-03-28T08:27:54.145Z"
   },
   {
    "duration": 73,
    "start_time": "2022-03-28T08:27:54.550Z"
   },
   {
    "duration": 5,
    "start_time": "2022-03-28T08:28:11.642Z"
   },
   {
    "duration": 70,
    "start_time": "2022-03-28T08:28:12.960Z"
   },
   {
    "duration": 6,
    "start_time": "2022-03-28T08:29:04.147Z"
   },
   {
    "duration": 142,
    "start_time": "2022-03-28T08:29:04.564Z"
   },
   {
    "duration": 129,
    "start_time": "2022-03-28T08:29:28.198Z"
   },
   {
    "duration": 151,
    "start_time": "2022-03-28T08:29:43.243Z"
   },
   {
    "duration": 4,
    "start_time": "2022-03-28T08:30:14.014Z"
   },
   {
    "duration": 68,
    "start_time": "2022-03-28T08:30:14.545Z"
   },
   {
    "duration": 67,
    "start_time": "2022-03-28T08:30:15.514Z"
   },
   {
    "duration": 70,
    "start_time": "2022-03-28T08:30:16.164Z"
   },
   {
    "duration": 384,
    "start_time": "2022-03-28T08:30:39.364Z"
   },
   {
    "duration": 5,
    "start_time": "2022-03-28T08:30:39.881Z"
   },
   {
    "duration": 68,
    "start_time": "2022-03-28T08:30:40.764Z"
   },
   {
    "duration": 68,
    "start_time": "2022-03-28T08:30:42.019Z"
   },
   {
    "duration": 79,
    "start_time": "2022-03-28T08:30:43.168Z"
   },
   {
    "duration": 22,
    "start_time": "2022-03-28T08:34:20.323Z"
   },
   {
    "duration": 17,
    "start_time": "2022-03-28T08:34:27.796Z"
   },
   {
    "duration": 9,
    "start_time": "2022-03-28T08:34:54.249Z"
   },
   {
    "duration": 17,
    "start_time": "2022-03-28T08:35:07.690Z"
   },
   {
    "duration": 1414,
    "start_time": "2022-03-28T08:35:17.357Z"
   },
   {
    "duration": 5,
    "start_time": "2022-03-28T08:35:18.773Z"
   },
   {
    "duration": 386,
    "start_time": "2022-03-28T08:35:18.782Z"
   },
   {
    "duration": 12,
    "start_time": "2022-03-28T08:35:19.171Z"
   },
   {
    "duration": 107,
    "start_time": "2022-03-28T08:35:19.185Z"
   },
   {
    "duration": 93,
    "start_time": "2022-03-28T08:35:19.294Z"
   },
   {
    "duration": 100,
    "start_time": "2022-03-28T08:35:19.390Z"
   },
   {
    "duration": 18,
    "start_time": "2022-03-28T08:35:19.493Z"
   },
   {
    "duration": 2015,
    "start_time": "2022-03-28T08:41:09.822Z"
   },
   {
    "duration": 6,
    "start_time": "2022-03-28T08:41:11.840Z"
   },
   {
    "duration": 416,
    "start_time": "2022-03-28T08:41:11.849Z"
   },
   {
    "duration": 5,
    "start_time": "2022-03-28T08:41:12.268Z"
   },
   {
    "duration": 101,
    "start_time": "2022-03-28T08:41:12.282Z"
   },
   {
    "duration": 72,
    "start_time": "2022-03-28T08:41:12.385Z"
   },
   {
    "duration": 70,
    "start_time": "2022-03-28T08:41:12.482Z"
   },
   {
    "duration": 19,
    "start_time": "2022-03-28T08:41:12.582Z"
   },
   {
    "duration": 1434,
    "start_time": "2022-03-28T08:41:12.604Z"
   },
   {
    "duration": 949,
    "start_time": "2022-03-28T08:42:10.927Z"
   },
   {
    "duration": 576,
    "start_time": "2022-03-28T08:43:06.146Z"
   },
   {
    "duration": 519,
    "start_time": "2022-03-28T08:43:24.593Z"
   },
   {
    "duration": 526,
    "start_time": "2022-03-28T08:43:36.438Z"
   },
   {
    "duration": 651,
    "start_time": "2022-03-28T08:43:59.222Z"
   },
   {
    "duration": 526,
    "start_time": "2022-03-28T08:46:45.574Z"
   },
   {
    "duration": 513,
    "start_time": "2022-03-28T08:47:02.051Z"
   },
   {
    "duration": 485,
    "start_time": "2022-03-28T08:47:12.048Z"
   },
   {
    "duration": 1235,
    "start_time": "2022-03-28T08:47:39.580Z"
   },
   {
    "duration": 1350,
    "start_time": "2022-03-28T08:47:56.074Z"
   },
   {
    "duration": 1219,
    "start_time": "2022-03-28T08:48:03.146Z"
   },
   {
    "duration": 1285,
    "start_time": "2022-03-28T08:48:13.052Z"
   },
   {
    "duration": 1160,
    "start_time": "2022-03-28T08:48:58.236Z"
   },
   {
    "duration": 1441,
    "start_time": "2022-03-28T08:49:08.610Z"
   },
   {
    "duration": 1324,
    "start_time": "2022-03-28T08:49:39.230Z"
   },
   {
    "duration": 1323,
    "start_time": "2022-03-28T08:51:47.443Z"
   },
   {
    "duration": 1433,
    "start_time": "2022-03-28T08:51:56.516Z"
   },
   {
    "duration": 1020,
    "start_time": "2022-03-28T08:52:03.990Z"
   },
   {
    "duration": 1308,
    "start_time": "2022-03-28T08:52:10.041Z"
   },
   {
    "duration": 1463,
    "start_time": "2022-03-28T08:52:15.179Z"
   },
   {
    "duration": 1414,
    "start_time": "2022-03-28T08:52:24.168Z"
   },
   {
    "duration": 1441,
    "start_time": "2022-03-28T08:54:45.336Z"
   },
   {
    "duration": 5,
    "start_time": "2022-03-28T08:54:46.779Z"
   },
   {
    "duration": 397,
    "start_time": "2022-03-28T08:54:46.786Z"
   },
   {
    "duration": 6,
    "start_time": "2022-03-28T08:54:47.186Z"
   },
   {
    "duration": 101,
    "start_time": "2022-03-28T08:54:47.195Z"
   },
   {
    "duration": 100,
    "start_time": "2022-03-28T08:54:47.298Z"
   },
   {
    "duration": 101,
    "start_time": "2022-03-28T08:54:47.400Z"
   },
   {
    "duration": 18,
    "start_time": "2022-03-28T08:54:47.503Z"
   },
   {
    "duration": 1345,
    "start_time": "2022-03-28T08:54:47.523Z"
   },
   {
    "duration": 1395,
    "start_time": "2022-03-28T09:39:53.871Z"
   },
   {
    "duration": 4,
    "start_time": "2022-03-28T09:39:55.269Z"
   },
   {
    "duration": 350,
    "start_time": "2022-03-28T09:39:55.275Z"
   },
   {
    "duration": 4,
    "start_time": "2022-03-28T09:39:55.628Z"
   },
   {
    "duration": 66,
    "start_time": "2022-03-28T09:39:55.634Z"
   },
   {
    "duration": 80,
    "start_time": "2022-03-28T09:39:55.702Z"
   },
   {
    "duration": 54,
    "start_time": "2022-03-28T09:39:55.784Z"
   },
   {
    "duration": 16,
    "start_time": "2022-03-28T09:39:55.864Z"
   },
   {
    "duration": 966,
    "start_time": "2022-03-28T09:39:55.882Z"
   },
   {
    "duration": 4,
    "start_time": "2022-03-28T09:43:57.365Z"
   },
   {
    "duration": 1210,
    "start_time": "2022-03-28T09:44:03.455Z"
   },
   {
    "duration": 3,
    "start_time": "2022-03-28T09:44:04.668Z"
   },
   {
    "duration": 349,
    "start_time": "2022-03-28T09:44:04.674Z"
   },
   {
    "duration": 4,
    "start_time": "2022-03-28T09:44:05.025Z"
   },
   {
    "duration": 176,
    "start_time": "2022-03-28T09:44:05.031Z"
   },
   {
    "duration": 0,
    "start_time": "2022-03-28T09:44:05.208Z"
   },
   {
    "duration": 0,
    "start_time": "2022-03-28T09:44:05.209Z"
   },
   {
    "duration": 0,
    "start_time": "2022-03-28T09:44:05.210Z"
   },
   {
    "duration": 0,
    "start_time": "2022-03-28T09:44:05.211Z"
   },
   {
    "duration": 3,
    "start_time": "2022-03-28T09:44:16.579Z"
   },
   {
    "duration": 66,
    "start_time": "2022-03-28T09:44:17.129Z"
   },
   {
    "duration": 4,
    "start_time": "2022-03-28T09:44:25.431Z"
   },
   {
    "duration": 3,
    "start_time": "2022-03-28T09:45:10.684Z"
   },
   {
    "duration": 133,
    "start_time": "2022-03-28T09:45:11.370Z"
   },
   {
    "duration": 104,
    "start_time": "2022-03-28T09:45:20.910Z"
   },
   {
    "duration": 107,
    "start_time": "2022-03-28T09:45:23.927Z"
   },
   {
    "duration": 4,
    "start_time": "2022-03-28T09:45:33.232Z"
   },
   {
    "duration": 128,
    "start_time": "2022-03-28T09:45:34.777Z"
   },
   {
    "duration": 4,
    "start_time": "2022-03-28T09:46:29.660Z"
   },
   {
    "duration": 82,
    "start_time": "2022-03-28T09:46:30.337Z"
   },
   {
    "duration": 4,
    "start_time": "2022-03-28T09:46:37.162Z"
   },
   {
    "duration": 103,
    "start_time": "2022-03-28T09:46:38.814Z"
   },
   {
    "duration": 102,
    "start_time": "2022-03-28T09:46:43.034Z"
   },
   {
    "duration": 115,
    "start_time": "2022-03-28T09:46:44.403Z"
   },
   {
    "duration": 201,
    "start_time": "2022-03-28T09:47:16.724Z"
   },
   {
    "duration": 113,
    "start_time": "2022-03-28T09:47:17.176Z"
   },
   {
    "duration": 5,
    "start_time": "2022-03-28T09:47:29.819Z"
   },
   {
    "duration": 84,
    "start_time": "2022-03-28T09:47:30.387Z"
   },
   {
    "duration": 4,
    "start_time": "2022-03-28T09:47:41.376Z"
   },
   {
    "duration": 64,
    "start_time": "2022-03-28T09:47:42.544Z"
   },
   {
    "duration": 67,
    "start_time": "2022-03-28T09:47:47.281Z"
   },
   {
    "duration": 68,
    "start_time": "2022-03-28T09:47:49.482Z"
   },
   {
    "duration": 16,
    "start_time": "2022-03-28T09:49:29.370Z"
   },
   {
    "duration": 903,
    "start_time": "2022-03-28T09:49:30.387Z"
   },
   {
    "duration": 3,
    "start_time": "2022-03-28T09:55:40.006Z"
   },
   {
    "duration": 4,
    "start_time": "2022-03-28T10:00:59.719Z"
   },
   {
    "duration": 13,
    "start_time": "2022-03-28T10:04:55.023Z"
   },
   {
    "duration": 16,
    "start_time": "2022-03-28T10:05:23.008Z"
   },
   {
    "duration": 335,
    "start_time": "2022-03-28T10:05:48.794Z"
   },
   {
    "duration": 39,
    "start_time": "2022-03-28T10:05:53.980Z"
   },
   {
    "duration": 4,
    "start_time": "2022-03-28T10:06:18.899Z"
   },
   {
    "duration": 41,
    "start_time": "2022-03-28T10:06:20.467Z"
   },
   {
    "duration": 10,
    "start_time": "2022-03-28T10:07:03.563Z"
   },
   {
    "duration": 6,
    "start_time": "2022-03-28T10:07:22.443Z"
   },
   {
    "duration": 4,
    "start_time": "2022-03-28T10:09:39.060Z"
   },
   {
    "duration": 30,
    "start_time": "2022-03-28T10:09:39.793Z"
   },
   {
    "duration": 5,
    "start_time": "2022-03-28T10:09:40.525Z"
   },
   {
    "duration": 4,
    "start_time": "2022-03-28T10:09:57.926Z"
   },
   {
    "duration": 111,
    "start_time": "2022-03-28T10:11:41.714Z"
   },
   {
    "duration": 10,
    "start_time": "2022-03-28T10:11:54.708Z"
   },
   {
    "duration": 11,
    "start_time": "2022-03-28T10:12:18.440Z"
   },
   {
    "duration": 4,
    "start_time": "2022-03-28T10:38:26.519Z"
   },
   {
    "duration": 4,
    "start_time": "2022-03-28T10:38:34.601Z"
   },
   {
    "duration": 10,
    "start_time": "2022-03-28T10:38:41.605Z"
   },
   {
    "duration": 10,
    "start_time": "2022-03-28T10:38:52.614Z"
   },
   {
    "duration": 168,
    "start_time": "2022-03-28T10:39:26.972Z"
   },
   {
    "duration": 10,
    "start_time": "2022-03-28T10:39:56.727Z"
   },
   {
    "duration": 9,
    "start_time": "2022-03-28T10:40:15.557Z"
   },
   {
    "duration": 11,
    "start_time": "2022-03-28T10:40:30.149Z"
   },
   {
    "duration": 11,
    "start_time": "2022-03-28T10:40:55.152Z"
   },
   {
    "duration": 9,
    "start_time": "2022-03-28T10:41:19.203Z"
   },
   {
    "duration": 10,
    "start_time": "2022-03-28T10:41:43.854Z"
   },
   {
    "duration": 10,
    "start_time": "2022-03-28T10:43:16.798Z"
   },
   {
    "duration": 4,
    "start_time": "2022-03-28T10:43:33.199Z"
   },
   {
    "duration": 114,
    "start_time": "2022-03-28T10:52:47.820Z"
   },
   {
    "duration": 13,
    "start_time": "2022-03-28T10:53:06.029Z"
   },
   {
    "duration": 4,
    "start_time": "2022-03-28T10:55:33.263Z"
   },
   {
    "duration": 6,
    "start_time": "2022-03-28T10:56:06.232Z"
   },
   {
    "duration": 5,
    "start_time": "2022-03-28T10:58:44.323Z"
   },
   {
    "duration": 6,
    "start_time": "2022-03-28T10:59:49.468Z"
   },
   {
    "duration": 12,
    "start_time": "2022-03-28T11:00:12.736Z"
   },
   {
    "duration": 6,
    "start_time": "2022-03-28T11:00:19.324Z"
   },
   {
    "duration": 11,
    "start_time": "2022-03-28T11:00:48.628Z"
   },
   {
    "duration": 6,
    "start_time": "2022-03-28T11:01:07.857Z"
   },
   {
    "duration": 6,
    "start_time": "2022-03-28T11:01:30.192Z"
   },
   {
    "duration": 10,
    "start_time": "2022-03-28T11:02:49.499Z"
   },
   {
    "duration": 7,
    "start_time": "2022-03-28T11:02:54.380Z"
   },
   {
    "duration": 7,
    "start_time": "2022-03-28T11:03:27.010Z"
   },
   {
    "duration": 7,
    "start_time": "2022-03-28T11:03:31.845Z"
   },
   {
    "duration": 6,
    "start_time": "2022-03-28T11:04:12.959Z"
   },
   {
    "duration": 3,
    "start_time": "2022-03-28T11:07:09.116Z"
   },
   {
    "duration": 8,
    "start_time": "2022-03-28T11:09:33.960Z"
   },
   {
    "duration": 6,
    "start_time": "2022-03-28T11:09:43.647Z"
   },
   {
    "duration": 6,
    "start_time": "2022-03-28T11:09:44.630Z"
   },
   {
    "duration": 6,
    "start_time": "2022-03-28T11:09:53.905Z"
   },
   {
    "duration": 1862,
    "start_time": "2022-03-28T11:10:04.756Z"
   },
   {
    "duration": 3,
    "start_time": "2022-03-28T11:10:06.620Z"
   },
   {
    "duration": 398,
    "start_time": "2022-03-28T11:10:06.624Z"
   },
   {
    "duration": 5,
    "start_time": "2022-03-28T11:10:07.024Z"
   },
   {
    "duration": 94,
    "start_time": "2022-03-28T11:10:07.031Z"
   },
   {
    "duration": 101,
    "start_time": "2022-03-28T11:10:07.127Z"
   },
   {
    "duration": 93,
    "start_time": "2022-03-28T11:10:07.230Z"
   },
   {
    "duration": 15,
    "start_time": "2022-03-28T11:10:07.325Z"
   },
   {
    "duration": 943,
    "start_time": "2022-03-28T11:10:07.341Z"
   },
   {
    "duration": 3,
    "start_time": "2022-03-28T11:10:08.286Z"
   },
   {
    "duration": 6,
    "start_time": "2022-03-28T11:10:08.290Z"
   },
   {
    "duration": 37,
    "start_time": "2022-03-28T11:10:08.297Z"
   },
   {
    "duration": 7,
    "start_time": "2022-03-28T11:10:08.335Z"
   },
   {
    "duration": 24,
    "start_time": "2022-03-28T11:10:08.344Z"
   },
   {
    "duration": 13,
    "start_time": "2022-03-28T11:10:08.370Z"
   },
   {
    "duration": 8,
    "start_time": "2022-03-28T11:10:16.422Z"
   },
   {
    "duration": 6,
    "start_time": "2022-03-28T11:10:21.843Z"
   },
   {
    "duration": 6,
    "start_time": "2022-03-28T11:11:22.222Z"
   },
   {
    "duration": 6,
    "start_time": "2022-03-28T11:11:23.702Z"
   },
   {
    "duration": 1573,
    "start_time": "2022-03-28T11:11:30.828Z"
   },
   {
    "duration": 3,
    "start_time": "2022-03-28T11:11:32.403Z"
   },
   {
    "duration": 321,
    "start_time": "2022-03-28T11:11:32.408Z"
   },
   {
    "duration": 4,
    "start_time": "2022-03-28T11:11:32.731Z"
   },
   {
    "duration": 82,
    "start_time": "2022-03-28T11:11:32.736Z"
   },
   {
    "duration": 88,
    "start_time": "2022-03-28T11:11:32.819Z"
   },
   {
    "duration": 87,
    "start_time": "2022-03-28T11:11:32.908Z"
   },
   {
    "duration": 16,
    "start_time": "2022-03-28T11:11:32.997Z"
   },
   {
    "duration": 871,
    "start_time": "2022-03-28T11:11:33.015Z"
   },
   {
    "duration": 3,
    "start_time": "2022-03-28T11:11:33.888Z"
   },
   {
    "duration": 5,
    "start_time": "2022-03-28T11:11:33.893Z"
   },
   {
    "duration": 34,
    "start_time": "2022-03-28T11:11:33.899Z"
   },
   {
    "duration": 8,
    "start_time": "2022-03-28T11:11:33.934Z"
   },
   {
    "duration": 103,
    "start_time": "2022-03-28T11:11:33.963Z"
   },
   {
    "duration": 0,
    "start_time": "2022-03-28T11:11:34.067Z"
   },
   {
    "duration": 15,
    "start_time": "2022-03-28T11:13:53.928Z"
   },
   {
    "duration": 56,
    "start_time": "2022-03-28T11:16:35.495Z"
   },
   {
    "duration": 34,
    "start_time": "2022-03-28T11:27:06.617Z"
   },
   {
    "duration": 2257,
    "start_time": "2022-03-28T12:12:07.782Z"
   },
   {
    "duration": 5,
    "start_time": "2022-03-28T12:12:10.042Z"
   },
   {
    "duration": 480,
    "start_time": "2022-03-28T12:12:10.049Z"
   },
   {
    "duration": 6,
    "start_time": "2022-03-28T12:12:10.532Z"
   },
   {
    "duration": 148,
    "start_time": "2022-03-28T12:12:10.543Z"
   },
   {
    "duration": 125,
    "start_time": "2022-03-28T12:12:10.693Z"
   },
   {
    "duration": 132,
    "start_time": "2022-03-28T12:12:10.820Z"
   },
   {
    "duration": 21,
    "start_time": "2022-03-28T12:12:10.954Z"
   },
   {
    "duration": 1574,
    "start_time": "2022-03-28T12:12:10.978Z"
   },
   {
    "duration": 4,
    "start_time": "2022-03-28T12:12:12.557Z"
   },
   {
    "duration": 19,
    "start_time": "2022-03-28T12:12:12.563Z"
   },
   {
    "duration": 72,
    "start_time": "2022-03-28T12:12:12.585Z"
   },
   {
    "duration": 12,
    "start_time": "2022-03-28T12:12:12.661Z"
   },
   {
    "duration": 74,
    "start_time": "2022-03-28T12:12:12.676Z"
   },
   {
    "duration": 42,
    "start_time": "2022-03-28T12:30:08.290Z"
   },
   {
    "duration": 316,
    "start_time": "2022-03-28T13:05:21.579Z"
   },
   {
    "duration": 4,
    "start_time": "2022-03-28T13:05:26.694Z"
   },
   {
    "duration": 24,
    "start_time": "2022-03-28T13:05:27.523Z"
   },
   {
    "duration": 5,
    "start_time": "2022-03-28T13:05:53.110Z"
   },
   {
    "duration": 61,
    "start_time": "2022-03-28T13:05:53.677Z"
   },
   {
    "duration": 65,
    "start_time": "2022-03-28T13:06:02.600Z"
   },
   {
    "duration": 6,
    "start_time": "2022-03-28T13:06:40.362Z"
   },
   {
    "duration": 5,
    "start_time": "2022-03-28T13:10:08.412Z"
   },
   {
    "duration": 37,
    "start_time": "2022-03-28T13:10:08.977Z"
   },
   {
    "duration": 9,
    "start_time": "2022-03-28T13:10:57.147Z"
   },
   {
    "duration": 238,
    "start_time": "2022-03-28T13:10:57.514Z"
   },
   {
    "duration": 5,
    "start_time": "2022-03-28T13:11:07.886Z"
   },
   {
    "duration": 137,
    "start_time": "2022-03-28T13:11:08.320Z"
   },
   {
    "duration": 8,
    "start_time": "2022-03-28T13:11:10.458Z"
   },
   {
    "duration": 4,
    "start_time": "2022-03-28T13:11:32.906Z"
   },
   {
    "duration": 146,
    "start_time": "2022-03-28T13:11:33.806Z"
   },
   {
    "duration": 5,
    "start_time": "2022-03-28T13:11:47.884Z"
   },
   {
    "duration": 196,
    "start_time": "2022-03-28T13:11:48.367Z"
   },
   {
    "duration": 8,
    "start_time": "2022-03-28T13:11:50.655Z"
   },
   {
    "duration": 4,
    "start_time": "2022-03-28T13:12:07.128Z"
   },
   {
    "duration": 4141,
    "start_time": "2022-03-28T13:12:07.644Z"
   },
   {
    "duration": 33,
    "start_time": "2022-03-28T13:12:11.788Z"
   },
   {
    "duration": 4,
    "start_time": "2022-03-28T13:12:42.388Z"
   },
   {
    "duration": 133,
    "start_time": "2022-03-28T13:12:43.320Z"
   },
   {
    "duration": 7,
    "start_time": "2022-03-28T13:12:44.779Z"
   },
   {
    "duration": 6,
    "start_time": "2022-03-28T13:13:13.329Z"
   },
   {
    "duration": 7,
    "start_time": "2022-03-28T13:13:52.606Z"
   },
   {
    "duration": 23,
    "start_time": "2022-03-28T13:15:21.454Z"
   },
   {
    "duration": 9,
    "start_time": "2022-03-28T13:15:22.239Z"
   },
   {
    "duration": 9,
    "start_time": "2022-03-28T13:15:43.721Z"
   },
   {
    "duration": 6,
    "start_time": "2022-03-28T13:16:30.337Z"
   },
   {
    "duration": 109,
    "start_time": "2022-03-28T13:16:31.738Z"
   },
   {
    "duration": 7,
    "start_time": "2022-03-28T13:16:38.641Z"
   },
   {
    "duration": 10,
    "start_time": "2022-03-28T13:16:39.476Z"
   },
   {
    "duration": 4,
    "start_time": "2022-03-28T13:17:22.842Z"
   },
   {
    "duration": 164,
    "start_time": "2022-03-28T13:17:23.390Z"
   },
   {
    "duration": 12,
    "start_time": "2022-03-28T13:17:51.012Z"
   },
   {
    "duration": 4,
    "start_time": "2022-03-28T13:17:59.533Z"
   },
   {
    "duration": 8,
    "start_time": "2022-03-28T13:18:00.236Z"
   },
   {
    "duration": 6,
    "start_time": "2022-03-28T13:18:06.089Z"
   },
   {
    "duration": 6,
    "start_time": "2022-03-28T13:18:16.332Z"
   },
   {
    "duration": 16,
    "start_time": "2022-03-28T13:18:50.603Z"
   },
   {
    "duration": 6,
    "start_time": "2022-03-28T13:21:23.415Z"
   },
   {
    "duration": 25,
    "start_time": "2022-03-28T13:23:32.575Z"
   },
   {
    "duration": 5,
    "start_time": "2022-03-28T13:24:02.930Z"
   },
   {
    "duration": 135,
    "start_time": "2022-03-28T13:24:03.430Z"
   },
   {
    "duration": 21,
    "start_time": "2022-03-28T13:24:04.596Z"
   },
   {
    "duration": 20,
    "start_time": "2022-03-28T13:24:50.766Z"
   },
   {
    "duration": 5,
    "start_time": "2022-03-28T13:25:35.781Z"
   },
   {
    "duration": 7,
    "start_time": "2022-03-28T13:29:31.234Z"
   },
   {
    "duration": 23,
    "start_time": "2022-03-28T13:29:36.336Z"
   },
   {
    "duration": 4,
    "start_time": "2022-03-28T13:29:39.739Z"
   },
   {
    "duration": 413,
    "start_time": "2022-03-28T13:29:40.239Z"
   },
   {
    "duration": 5,
    "start_time": "2022-03-28T13:29:41.485Z"
   },
   {
    "duration": 5,
    "start_time": "2022-03-28T13:30:14.180Z"
   },
   {
    "duration": 249,
    "start_time": "2022-03-28T13:30:38.595Z"
   },
   {
    "duration": 5,
    "start_time": "2022-03-28T13:30:52.904Z"
   },
   {
    "duration": 77,
    "start_time": "2022-03-28T13:30:53.292Z"
   },
   {
    "duration": 5,
    "start_time": "2022-03-28T13:31:19.593Z"
   },
   {
    "duration": 220,
    "start_time": "2022-03-28T13:31:20.428Z"
   },
   {
    "duration": 5,
    "start_time": "2022-03-28T13:32:54.496Z"
   },
   {
    "duration": 94,
    "start_time": "2022-03-28T13:32:55.262Z"
   },
   {
    "duration": 2032,
    "start_time": "2022-03-28T13:33:04.331Z"
   },
   {
    "duration": 5,
    "start_time": "2022-03-28T13:33:06.365Z"
   },
   {
    "duration": 445,
    "start_time": "2022-03-28T13:33:06.376Z"
   },
   {
    "duration": 6,
    "start_time": "2022-03-28T13:33:06.823Z"
   },
   {
    "duration": 138,
    "start_time": "2022-03-28T13:33:06.831Z"
   },
   {
    "duration": 125,
    "start_time": "2022-03-28T13:33:06.971Z"
   },
   {
    "duration": 128,
    "start_time": "2022-03-28T13:33:07.098Z"
   },
   {
    "duration": 23,
    "start_time": "2022-03-28T13:33:07.243Z"
   },
   {
    "duration": 1434,
    "start_time": "2022-03-28T13:33:07.271Z"
   },
   {
    "duration": 3,
    "start_time": "2022-03-28T13:33:08.707Z"
   },
   {
    "duration": 7,
    "start_time": "2022-03-28T13:33:08.712Z"
   },
   {
    "duration": 59,
    "start_time": "2022-03-28T13:33:08.721Z"
   },
   {
    "duration": 10,
    "start_time": "2022-03-28T13:33:08.782Z"
   },
   {
    "duration": 77,
    "start_time": "2022-03-28T13:33:08.794Z"
   },
   {
    "duration": 5,
    "start_time": "2022-03-28T13:33:08.873Z"
   },
   {
    "duration": 319,
    "start_time": "2022-03-28T13:33:08.880Z"
   },
   {
    "duration": 0,
    "start_time": "2022-03-28T13:33:09.201Z"
   },
   {
    "duration": 0,
    "start_time": "2022-03-28T13:33:09.203Z"
   },
   {
    "duration": 5,
    "start_time": "2022-03-28T13:35:58.101Z"
   },
   {
    "duration": 201,
    "start_time": "2022-03-28T13:35:58.457Z"
   },
   {
    "duration": 166,
    "start_time": "2022-03-28T13:36:42.681Z"
   },
   {
    "duration": 20,
    "start_time": "2022-03-28T13:36:43.036Z"
   },
   {
    "duration": 11,
    "start_time": "2022-03-28T13:37:12.784Z"
   },
   {
    "duration": 30,
    "start_time": "2022-03-28T13:37:18.615Z"
   },
   {
    "duration": 15,
    "start_time": "2022-03-28T13:37:35.725Z"
   },
   {
    "duration": 17,
    "start_time": "2022-03-28T13:38:24.743Z"
   },
   {
    "duration": 8,
    "start_time": "2022-03-28T13:39:49.255Z"
   },
   {
    "duration": 2154,
    "start_time": "2022-03-28T13:39:58.787Z"
   },
   {
    "duration": 5,
    "start_time": "2022-03-28T13:40:00.945Z"
   },
   {
    "duration": 535,
    "start_time": "2022-03-28T13:40:00.953Z"
   },
   {
    "duration": 6,
    "start_time": "2022-03-28T13:40:01.492Z"
   },
   {
    "duration": 197,
    "start_time": "2022-03-28T13:40:01.501Z"
   },
   {
    "duration": 156,
    "start_time": "2022-03-28T13:40:01.701Z"
   },
   {
    "duration": 141,
    "start_time": "2022-03-28T13:40:01.860Z"
   },
   {
    "duration": 21,
    "start_time": "2022-03-28T13:40:02.004Z"
   },
   {
    "duration": 1847,
    "start_time": "2022-03-28T13:40:02.043Z"
   },
   {
    "duration": 4,
    "start_time": "2022-03-28T13:40:03.895Z"
   },
   {
    "duration": 18,
    "start_time": "2022-03-28T13:40:03.901Z"
   },
   {
    "duration": 63,
    "start_time": "2022-03-28T13:40:03.922Z"
   },
   {
    "duration": 15,
    "start_time": "2022-03-28T13:40:03.987Z"
   },
   {
    "duration": 67,
    "start_time": "2022-03-28T13:40:04.004Z"
   },
   {
    "duration": 5,
    "start_time": "2022-03-28T13:40:04.073Z"
   },
   {
    "duration": 171,
    "start_time": "2022-03-28T13:40:04.080Z"
   },
   {
    "duration": 90,
    "start_time": "2022-03-28T13:40:04.256Z"
   },
   {
    "duration": 277,
    "start_time": "2022-03-28T13:40:04.349Z"
   },
   {
    "duration": 0,
    "start_time": "2022-03-28T13:40:04.629Z"
   },
   {
    "duration": 0,
    "start_time": "2022-03-28T13:40:04.631Z"
   },
   {
    "duration": 121,
    "start_time": "2022-03-28T13:41:36.328Z"
   },
   {
    "duration": 6,
    "start_time": "2022-03-28T13:42:18.472Z"
   },
   {
    "duration": 11,
    "start_time": "2022-03-28T13:42:25.936Z"
   },
   {
    "duration": 8,
    "start_time": "2022-03-28T13:42:31.677Z"
   },
   {
    "duration": 7,
    "start_time": "2022-03-28T13:42:36.591Z"
   },
   {
    "duration": 15,
    "start_time": "2022-03-28T13:42:52.887Z"
   },
   {
    "duration": 14,
    "start_time": "2022-03-28T13:43:33.450Z"
   },
   {
    "duration": 8,
    "start_time": "2022-03-28T13:43:39.784Z"
   },
   {
    "duration": 26,
    "start_time": "2022-03-28T13:46:04.959Z"
   },
   {
    "duration": 13,
    "start_time": "2022-03-28T13:46:10.812Z"
   },
   {
    "duration": 266,
    "start_time": "2022-03-28T14:08:14.100Z"
   },
   {
    "duration": 5,
    "start_time": "2022-03-28T14:09:34.772Z"
   },
   {
    "duration": 352,
    "start_time": "2022-03-28T14:09:35.707Z"
   },
   {
    "duration": 4,
    "start_time": "2022-03-28T14:10:08.516Z"
   },
   {
    "duration": 233,
    "start_time": "2022-03-28T14:10:08.815Z"
   },
   {
    "duration": 5,
    "start_time": "2022-03-28T14:10:38.661Z"
   },
   {
    "duration": 144,
    "start_time": "2022-03-28T14:10:39.218Z"
   },
   {
    "duration": 5,
    "start_time": "2022-03-28T14:12:21.460Z"
   },
   {
    "duration": 187,
    "start_time": "2022-03-28T14:12:21.960Z"
   },
   {
    "duration": 7,
    "start_time": "2022-03-28T14:12:39.457Z"
   },
   {
    "duration": 6,
    "start_time": "2022-03-28T14:17:30.247Z"
   },
   {
    "duration": 286,
    "start_time": "2022-03-28T14:17:32.383Z"
   },
   {
    "duration": 6,
    "start_time": "2022-03-28T14:17:34.018Z"
   },
   {
    "duration": 2006,
    "start_time": "2022-03-28T14:18:32.067Z"
   },
   {
    "duration": 5,
    "start_time": "2022-03-28T14:18:34.077Z"
   },
   {
    "duration": 496,
    "start_time": "2022-03-28T14:18:34.084Z"
   },
   {
    "duration": 6,
    "start_time": "2022-03-28T14:18:34.582Z"
   },
   {
    "duration": 141,
    "start_time": "2022-03-28T14:18:34.592Z"
   },
   {
    "duration": 130,
    "start_time": "2022-03-28T14:18:34.744Z"
   },
   {
    "duration": 136,
    "start_time": "2022-03-28T14:18:34.877Z"
   },
   {
    "duration": 28,
    "start_time": "2022-03-28T14:18:35.015Z"
   },
   {
    "duration": 1882,
    "start_time": "2022-03-28T14:18:35.045Z"
   },
   {
    "duration": 6,
    "start_time": "2022-03-28T14:18:36.942Z"
   },
   {
    "duration": 16,
    "start_time": "2022-03-28T14:18:36.952Z"
   },
   {
    "duration": 62,
    "start_time": "2022-03-28T14:18:36.971Z"
   },
   {
    "duration": 18,
    "start_time": "2022-03-28T14:18:37.036Z"
   },
   {
    "duration": 60,
    "start_time": "2022-03-28T14:18:37.061Z"
   },
   {
    "duration": 5,
    "start_time": "2022-03-28T14:18:37.123Z"
   },
   {
    "duration": 14,
    "start_time": "2022-03-28T14:18:37.130Z"
   },
   {
    "duration": 198,
    "start_time": "2022-03-28T14:18:37.146Z"
   },
   {
    "duration": 355,
    "start_time": "2022-03-28T14:18:37.347Z"
   },
   {
    "duration": 0,
    "start_time": "2022-03-28T14:18:37.704Z"
   },
   {
    "duration": 164,
    "start_time": "2022-03-28T14:18:54.794Z"
   },
   {
    "duration": 6,
    "start_time": "2022-03-28T14:18:55.760Z"
   },
   {
    "duration": 15,
    "start_time": "2022-03-28T14:19:02.851Z"
   },
   {
    "duration": 1653,
    "start_time": "2022-03-28T14:37:58.943Z"
   },
   {
    "duration": 4,
    "start_time": "2022-03-28T14:38:00.598Z"
   },
   {
    "duration": 388,
    "start_time": "2022-03-28T14:38:00.603Z"
   },
   {
    "duration": 4,
    "start_time": "2022-03-28T14:38:00.993Z"
   },
   {
    "duration": 106,
    "start_time": "2022-03-28T14:38:01.001Z"
   },
   {
    "duration": 103,
    "start_time": "2022-03-28T14:38:01.109Z"
   },
   {
    "duration": 107,
    "start_time": "2022-03-28T14:38:01.238Z"
   },
   {
    "duration": 17,
    "start_time": "2022-03-28T14:38:01.346Z"
   },
   {
    "duration": 1076,
    "start_time": "2022-03-28T14:38:01.365Z"
   },
   {
    "duration": 3,
    "start_time": "2022-03-28T14:38:02.442Z"
   },
   {
    "duration": 13,
    "start_time": "2022-03-28T14:38:02.447Z"
   },
   {
    "duration": 41,
    "start_time": "2022-03-28T14:38:02.462Z"
   },
   {
    "duration": 8,
    "start_time": "2022-03-28T14:38:02.505Z"
   },
   {
    "duration": 51,
    "start_time": "2022-03-28T14:38:02.516Z"
   },
   {
    "duration": 4,
    "start_time": "2022-03-28T14:38:02.569Z"
   },
   {
    "duration": 263,
    "start_time": "2022-03-28T14:38:02.575Z"
   },
   {
    "duration": 218,
    "start_time": "2022-03-28T14:38:02.840Z"
   },
   {
    "duration": 9,
    "start_time": "2022-03-28T14:38:42.885Z"
   },
   {
    "duration": 134,
    "start_time": "2022-03-28T14:39:19.106Z"
   },
   {
    "duration": 9,
    "start_time": "2022-03-28T14:39:20.097Z"
   },
   {
    "duration": 10,
    "start_time": "2022-03-28T14:49:43.494Z"
   },
   {
    "duration": 4,
    "start_time": "2022-03-28T14:49:56.220Z"
   },
   {
    "duration": 8,
    "start_time": "2022-03-28T14:51:42.380Z"
   },
   {
    "duration": 10,
    "start_time": "2022-03-28T14:53:26.274Z"
   },
   {
    "duration": 8,
    "start_time": "2022-03-28T14:53:33.056Z"
   },
   {
    "duration": 158,
    "start_time": "2022-03-28T14:53:35.860Z"
   },
   {
    "duration": 241,
    "start_time": "2022-03-28T14:54:26.801Z"
   },
   {
    "duration": 303,
    "start_time": "2022-03-28T14:54:59.004Z"
   },
   {
    "duration": 216,
    "start_time": "2022-03-28T14:55:05.175Z"
   },
   {
    "duration": 216,
    "start_time": "2022-03-28T14:55:11.150Z"
   },
   {
    "duration": 216,
    "start_time": "2022-03-28T14:55:18.049Z"
   },
   {
    "duration": 197,
    "start_time": "2022-03-28T14:55:25.874Z"
   },
   {
    "duration": 226,
    "start_time": "2022-03-28T14:55:33.049Z"
   },
   {
    "duration": 215,
    "start_time": "2022-03-28T14:55:37.233Z"
   },
   {
    "duration": 208,
    "start_time": "2022-03-28T14:55:41.518Z"
   },
   {
    "duration": 219,
    "start_time": "2022-03-28T14:55:47.871Z"
   },
   {
    "duration": 206,
    "start_time": "2022-03-28T14:55:53.311Z"
   },
   {
    "duration": 197,
    "start_time": "2022-03-28T14:56:47.918Z"
   },
   {
    "duration": 3,
    "start_time": "2022-03-28T15:17:35.649Z"
   },
   {
    "duration": 3,
    "start_time": "2022-03-28T15:20:04.490Z"
   },
   {
    "duration": 11,
    "start_time": "2022-03-28T15:26:11.119Z"
   },
   {
    "duration": 4,
    "start_time": "2022-03-28T15:26:14.038Z"
   },
   {
    "duration": 4,
    "start_time": "2022-03-28T15:26:14.904Z"
   },
   {
    "duration": 12,
    "start_time": "2022-03-28T15:32:05.625Z"
   },
   {
    "duration": 5,
    "start_time": "2022-03-28T15:32:09.007Z"
   },
   {
    "duration": 4,
    "start_time": "2022-03-28T15:32:09.693Z"
   },
   {
    "duration": 8,
    "start_time": "2022-03-28T16:01:51.805Z"
   },
   {
    "duration": 9,
    "start_time": "2022-03-28T16:02:17.571Z"
   },
   {
    "duration": 12,
    "start_time": "2022-03-28T16:06:31.288Z"
   },
   {
    "duration": 9,
    "start_time": "2022-03-28T16:06:48.968Z"
   },
   {
    "duration": 5,
    "start_time": "2022-03-28T16:07:02.297Z"
   },
   {
    "duration": 9,
    "start_time": "2022-03-28T16:07:02.842Z"
   },
   {
    "duration": 10,
    "start_time": "2022-03-28T16:07:13.701Z"
   },
   {
    "duration": 19,
    "start_time": "2022-03-28T16:09:04.531Z"
   },
   {
    "duration": 14,
    "start_time": "2022-03-28T16:11:03.030Z"
   },
   {
    "duration": 9,
    "start_time": "2022-03-28T16:11:19.274Z"
   },
   {
    "duration": 10,
    "start_time": "2022-03-28T16:11:36.788Z"
   },
   {
    "duration": 12,
    "start_time": "2022-03-28T16:14:21.868Z"
   },
   {
    "duration": 189,
    "start_time": "2022-03-28T16:15:37.179Z"
   },
   {
    "duration": 103,
    "start_time": "2022-03-28T16:18:23.929Z"
   },
   {
    "duration": 210,
    "start_time": "2022-03-28T16:18:29.035Z"
   },
   {
    "duration": 318,
    "start_time": "2022-03-28T16:18:51.331Z"
   },
   {
    "duration": 201,
    "start_time": "2022-03-28T16:19:03.627Z"
   },
   {
    "duration": 208,
    "start_time": "2022-03-28T16:19:15.100Z"
   },
   {
    "duration": 198,
    "start_time": "2022-03-28T16:20:48.518Z"
   },
   {
    "duration": 205,
    "start_time": "2022-03-28T16:28:22.945Z"
   },
   {
    "duration": 1722,
    "start_time": "2022-03-29T06:32:30.915Z"
   },
   {
    "duration": 4,
    "start_time": "2022-03-29T06:32:32.639Z"
   },
   {
    "duration": 366,
    "start_time": "2022-03-29T06:32:35.098Z"
   },
   {
    "duration": 4,
    "start_time": "2022-03-29T06:32:38.082Z"
   },
   {
    "duration": 90,
    "start_time": "2022-03-29T06:32:39.284Z"
   },
   {
    "duration": 372,
    "start_time": "2022-03-29T06:33:17.428Z"
   },
   {
    "duration": 4,
    "start_time": "2022-03-29T06:33:18.728Z"
   },
   {
    "duration": 78,
    "start_time": "2022-03-29T06:33:19.413Z"
   },
   {
    "duration": 4,
    "start_time": "2022-03-29T06:33:51.819Z"
   },
   {
    "duration": 76,
    "start_time": "2022-03-29T06:33:53.170Z"
   },
   {
    "duration": 4,
    "start_time": "2022-03-29T06:34:25.643Z"
   },
   {
    "duration": 82,
    "start_time": "2022-03-29T06:34:26.227Z"
   },
   {
    "duration": 4,
    "start_time": "2022-03-29T06:34:48.242Z"
   },
   {
    "duration": 77,
    "start_time": "2022-03-29T06:34:48.541Z"
   },
   {
    "duration": 4,
    "start_time": "2022-03-29T06:35:11.523Z"
   },
   {
    "duration": 77,
    "start_time": "2022-03-29T06:35:12.744Z"
   },
   {
    "duration": 4,
    "start_time": "2022-03-29T06:35:30.923Z"
   },
   {
    "duration": 79,
    "start_time": "2022-03-29T06:35:32.025Z"
   },
   {
    "duration": 75,
    "start_time": "2022-03-29T06:35:39.062Z"
   },
   {
    "duration": 78,
    "start_time": "2022-03-29T06:35:40.915Z"
   },
   {
    "duration": 13,
    "start_time": "2022-03-29T06:35:46.601Z"
   },
   {
    "duration": 1097,
    "start_time": "2022-03-29T06:35:57.276Z"
   },
   {
    "duration": 2,
    "start_time": "2022-03-29T06:36:31.934Z"
   },
   {
    "duration": 4,
    "start_time": "2022-03-29T06:36:57.002Z"
   },
   {
    "duration": 34,
    "start_time": "2022-03-29T06:36:57.669Z"
   },
   {
    "duration": 121,
    "start_time": "2022-03-29T06:37:02.457Z"
   },
   {
    "duration": 7,
    "start_time": "2022-03-29T06:37:54.810Z"
   },
   {
    "duration": 14,
    "start_time": "2022-03-29T06:38:01.800Z"
   },
   {
    "duration": 7,
    "start_time": "2022-03-29T06:38:23.214Z"
   },
   {
    "duration": 15,
    "start_time": "2022-03-29T06:38:39.260Z"
   },
   {
    "duration": 4,
    "start_time": "2022-03-29T06:38:59.991Z"
   },
   {
    "duration": 34,
    "start_time": "2022-03-29T06:39:00.474Z"
   },
   {
    "duration": 8,
    "start_time": "2022-03-29T06:39:01.041Z"
   },
   {
    "duration": 41,
    "start_time": "2022-03-29T06:39:17.553Z"
   },
   {
    "duration": 7,
    "start_time": "2022-03-29T06:43:07.320Z"
   },
   {
    "duration": 3,
    "start_time": "2022-03-29T06:45:20.379Z"
   },
   {
    "duration": 203,
    "start_time": "2022-03-29T06:45:21.531Z"
   },
   {
    "duration": 9,
    "start_time": "2022-03-29T06:45:26.519Z"
   },
   {
    "duration": 8,
    "start_time": "2022-03-29T06:45:36.576Z"
   },
   {
    "duration": 225,
    "start_time": "2022-03-29T06:45:46.266Z"
   },
   {
    "duration": 3,
    "start_time": "2022-03-29T06:46:28.413Z"
   },
   {
    "duration": 4,
    "start_time": "2022-03-29T06:46:30.414Z"
   },
   {
    "duration": 220,
    "start_time": "2022-03-29T06:46:51.547Z"
   },
   {
    "duration": 289,
    "start_time": "2022-03-29T06:47:06.057Z"
   },
   {
    "duration": 220,
    "start_time": "2022-03-29T06:47:52.089Z"
   },
   {
    "duration": 1529,
    "start_time": "2022-03-29T07:33:28.388Z"
   },
   {
    "duration": 4,
    "start_time": "2022-03-29T07:33:29.919Z"
   },
   {
    "duration": 443,
    "start_time": "2022-03-29T07:33:29.924Z"
   },
   {
    "duration": 4,
    "start_time": "2022-03-29T07:33:30.370Z"
   },
   {
    "duration": 117,
    "start_time": "2022-03-29T07:33:30.376Z"
   },
   {
    "duration": 105,
    "start_time": "2022-03-29T07:33:30.495Z"
   },
   {
    "duration": 133,
    "start_time": "2022-03-29T07:33:30.602Z"
   },
   {
    "duration": 20,
    "start_time": "2022-03-29T07:33:30.738Z"
   },
   {
    "duration": 1194,
    "start_time": "2022-03-29T07:33:30.760Z"
   },
   {
    "duration": 3,
    "start_time": "2022-03-29T07:33:31.957Z"
   },
   {
    "duration": 17,
    "start_time": "2022-03-29T07:33:31.961Z"
   },
   {
    "duration": 135,
    "start_time": "2022-03-29T07:33:31.980Z"
   },
   {
    "duration": 0,
    "start_time": "2022-03-29T07:33:32.117Z"
   },
   {
    "duration": 0,
    "start_time": "2022-03-29T07:33:32.119Z"
   },
   {
    "duration": 0,
    "start_time": "2022-03-29T07:33:32.120Z"
   },
   {
    "duration": 0,
    "start_time": "2022-03-29T07:33:32.121Z"
   },
   {
    "duration": 0,
    "start_time": "2022-03-29T07:33:32.123Z"
   },
   {
    "duration": 0,
    "start_time": "2022-03-29T07:33:32.132Z"
   },
   {
    "duration": 0,
    "start_time": "2022-03-29T07:33:32.133Z"
   },
   {
    "duration": 0,
    "start_time": "2022-03-29T07:33:32.136Z"
   },
   {
    "duration": 0,
    "start_time": "2022-03-29T07:33:32.138Z"
   },
   {
    "duration": 4,
    "start_time": "2022-03-29T07:33:48.297Z"
   },
   {
    "duration": 10,
    "start_time": "2022-03-29T07:33:48.303Z"
   },
   {
    "duration": 417,
    "start_time": "2022-03-29T07:33:48.315Z"
   },
   {
    "duration": 7,
    "start_time": "2022-03-29T07:33:48.737Z"
   },
   {
    "duration": 113,
    "start_time": "2022-03-29T07:33:48.747Z"
   },
   {
    "duration": 105,
    "start_time": "2022-03-29T07:33:48.862Z"
   },
   {
    "duration": 119,
    "start_time": "2022-03-29T07:33:48.969Z"
   },
   {
    "duration": 13,
    "start_time": "2022-03-29T07:33:49.090Z"
   },
   {
    "duration": 1220,
    "start_time": "2022-03-29T07:33:49.105Z"
   },
   {
    "duration": 5,
    "start_time": "2022-03-29T07:33:50.331Z"
   },
   {
    "duration": 15,
    "start_time": "2022-03-29T07:33:50.338Z"
   },
   {
    "duration": 31,
    "start_time": "2022-03-29T07:33:50.355Z"
   },
   {
    "duration": 8,
    "start_time": "2022-03-29T07:33:50.388Z"
   },
   {
    "duration": 67,
    "start_time": "2022-03-29T07:33:50.397Z"
   },
   {
    "duration": 4,
    "start_time": "2022-03-29T07:33:50.466Z"
   },
   {
    "duration": 162,
    "start_time": "2022-03-29T07:33:50.472Z"
   },
   {
    "duration": 14,
    "start_time": "2022-03-29T07:33:50.637Z"
   },
   {
    "duration": 341,
    "start_time": "2022-03-29T07:33:50.733Z"
   },
   {
    "duration": 3,
    "start_time": "2022-03-29T07:33:51.076Z"
   },
   {
    "duration": 10,
    "start_time": "2022-03-29T07:33:51.082Z"
   },
   {
    "duration": 259,
    "start_time": "2022-03-29T07:33:51.094Z"
   },
   {
    "duration": 2,
    "start_time": "2022-03-29T07:33:59.853Z"
   },
   {
    "duration": 4,
    "start_time": "2022-03-29T07:34:01.121Z"
   },
   {
    "duration": 3,
    "start_time": "2022-03-29T07:37:03.804Z"
   },
   {
    "duration": 18,
    "start_time": "2022-03-29T07:37:28.572Z"
   },
   {
    "duration": 11,
    "start_time": "2022-03-29T07:38:34.001Z"
   },
   {
    "duration": 3,
    "start_time": "2022-03-29T07:38:37.371Z"
   },
   {
    "duration": 18,
    "start_time": "2022-03-29T07:38:37.871Z"
   },
   {
    "duration": 9,
    "start_time": "2022-03-29T07:38:38.446Z"
   },
   {
    "duration": 6,
    "start_time": "2022-03-29T07:38:55.817Z"
   },
   {
    "duration": 18,
    "start_time": "2022-03-29T07:38:56.384Z"
   },
   {
    "duration": 16,
    "start_time": "2022-03-29T07:38:56.983Z"
   },
   {
    "duration": 4,
    "start_time": "2022-03-29T07:39:29.524Z"
   },
   {
    "duration": 11,
    "start_time": "2022-03-29T07:39:30.244Z"
   },
   {
    "duration": 3,
    "start_time": "2022-03-29T07:41:14.551Z"
   },
   {
    "duration": 4,
    "start_time": "2022-03-29T07:41:14.944Z"
   },
   {
    "duration": 9,
    "start_time": "2022-03-29T07:41:15.350Z"
   },
   {
    "duration": 2679,
    "start_time": "2022-03-29T07:41:33.515Z"
   },
   {
    "duration": 4,
    "start_time": "2022-03-29T07:41:50.144Z"
   },
   {
    "duration": 9,
    "start_time": "2022-03-29T07:41:50.878Z"
   },
   {
    "duration": 8,
    "start_time": "2022-03-29T07:41:57.979Z"
   },
   {
    "duration": 11,
    "start_time": "2022-03-29T07:42:02.970Z"
   },
   {
    "duration": 4,
    "start_time": "2022-03-29T07:46:25.994Z"
   },
   {
    "duration": 18,
    "start_time": "2022-03-29T07:46:26.492Z"
   },
   {
    "duration": 4,
    "start_time": "2022-03-29T07:47:39.255Z"
   },
   {
    "duration": 17,
    "start_time": "2022-03-29T07:47:39.775Z"
   },
   {
    "duration": 13,
    "start_time": "2022-03-29T07:47:45.283Z"
   },
   {
    "duration": 17,
    "start_time": "2022-03-29T07:47:58.659Z"
   },
   {
    "duration": 4,
    "start_time": "2022-03-29T07:49:07.058Z"
   },
   {
    "duration": 17,
    "start_time": "2022-03-29T07:49:07.793Z"
   },
   {
    "duration": 14,
    "start_time": "2022-03-29T07:49:08.792Z"
   },
   {
    "duration": 3,
    "start_time": "2022-03-29T07:49:29.557Z"
   },
   {
    "duration": 19,
    "start_time": "2022-03-29T07:49:30.107Z"
   },
   {
    "duration": 9,
    "start_time": "2022-03-29T07:49:33.110Z"
   },
   {
    "duration": 4,
    "start_time": "2022-03-29T07:50:00.180Z"
   },
   {
    "duration": 23,
    "start_time": "2022-03-29T07:50:00.729Z"
   },
   {
    "duration": 15,
    "start_time": "2022-03-29T07:50:02.430Z"
   },
   {
    "duration": 4,
    "start_time": "2022-03-29T07:50:15.975Z"
   },
   {
    "duration": 18,
    "start_time": "2022-03-29T07:50:20.944Z"
   },
   {
    "duration": 4,
    "start_time": "2022-03-29T07:51:24.884Z"
   },
   {
    "duration": 20,
    "start_time": "2022-03-29T07:51:25.240Z"
   },
   {
    "duration": 22,
    "start_time": "2022-03-29T07:51:32.295Z"
   },
   {
    "duration": 4,
    "start_time": "2022-03-29T07:51:47.053Z"
   },
   {
    "duration": 22,
    "start_time": "2022-03-29T07:51:47.423Z"
   },
   {
    "duration": 19,
    "start_time": "2022-03-29T07:52:58.107Z"
   },
   {
    "duration": 9,
    "start_time": "2022-03-29T07:52:58.773Z"
   },
   {
    "duration": 4,
    "start_time": "2022-03-29T07:53:09.432Z"
   },
   {
    "duration": 17,
    "start_time": "2022-03-29T07:53:09.765Z"
   },
   {
    "duration": 9,
    "start_time": "2022-03-29T07:53:10.251Z"
   },
   {
    "duration": 224,
    "start_time": "2022-03-29T07:54:06.658Z"
   },
   {
    "duration": 223,
    "start_time": "2022-03-29T07:55:19.892Z"
   },
   {
    "duration": 233,
    "start_time": "2022-03-29T07:55:28.899Z"
   },
   {
    "duration": 213,
    "start_time": "2022-03-29T07:55:36.220Z"
   },
   {
    "duration": 222,
    "start_time": "2022-03-29T07:55:40.222Z"
   },
   {
    "duration": 209,
    "start_time": "2022-03-29T07:55:45.639Z"
   },
   {
    "duration": 208,
    "start_time": "2022-03-29T07:55:52.866Z"
   },
   {
    "duration": 206,
    "start_time": "2022-03-29T07:55:56.983Z"
   },
   {
    "duration": 216,
    "start_time": "2022-03-29T07:56:01.069Z"
   },
   {
    "duration": 303,
    "start_time": "2022-03-29T07:56:04.389Z"
   },
   {
    "duration": 204,
    "start_time": "2022-03-29T07:56:18.048Z"
   },
   {
    "duration": 202,
    "start_time": "2022-03-29T07:56:26.570Z"
   },
   {
    "duration": 4,
    "start_time": "2022-03-29T07:57:11.854Z"
   },
   {
    "duration": 16,
    "start_time": "2022-03-29T07:57:12.172Z"
   },
   {
    "duration": 200,
    "start_time": "2022-03-29T07:57:12.606Z"
   },
   {
    "duration": 201,
    "start_time": "2022-03-29T07:57:18.109Z"
   },
   {
    "duration": 198,
    "start_time": "2022-03-29T07:57:26.249Z"
   },
   {
    "duration": 196,
    "start_time": "2022-03-29T07:57:30.586Z"
   },
   {
    "duration": 195,
    "start_time": "2022-03-29T07:57:35.273Z"
   },
   {
    "duration": 203,
    "start_time": "2022-03-29T07:57:39.710Z"
   },
   {
    "duration": 195,
    "start_time": "2022-03-29T07:57:43.247Z"
   },
   {
    "duration": 202,
    "start_time": "2022-03-29T07:57:58.990Z"
   },
   {
    "duration": 205,
    "start_time": "2022-03-29T07:58:28.161Z"
   },
   {
    "duration": 2241,
    "start_time": "2022-03-29T08:08:29.669Z"
   },
   {
    "duration": 5,
    "start_time": "2022-03-29T08:08:31.913Z"
   },
   {
    "duration": 442,
    "start_time": "2022-03-29T08:08:31.920Z"
   },
   {
    "duration": 9,
    "start_time": "2022-03-29T08:08:32.365Z"
   },
   {
    "duration": 131,
    "start_time": "2022-03-29T08:08:32.376Z"
   },
   {
    "duration": 124,
    "start_time": "2022-03-29T08:08:32.509Z"
   },
   {
    "duration": 120,
    "start_time": "2022-03-29T08:08:32.636Z"
   },
   {
    "duration": 21,
    "start_time": "2022-03-29T08:08:32.775Z"
   },
   {
    "duration": 1541,
    "start_time": "2022-03-29T08:08:32.798Z"
   },
   {
    "duration": 3,
    "start_time": "2022-03-29T08:08:34.343Z"
   },
   {
    "duration": 11,
    "start_time": "2022-03-29T08:08:34.348Z"
   },
   {
    "duration": 51,
    "start_time": "2022-03-29T08:08:34.361Z"
   },
   {
    "duration": 10,
    "start_time": "2022-03-29T08:08:34.414Z"
   },
   {
    "duration": 74,
    "start_time": "2022-03-29T08:08:34.427Z"
   },
   {
    "duration": 5,
    "start_time": "2022-03-29T08:08:34.503Z"
   },
   {
    "duration": 266,
    "start_time": "2022-03-29T08:08:34.510Z"
   },
   {
    "duration": 99,
    "start_time": "2022-03-29T08:08:34.779Z"
   },
   {
    "duration": 436,
    "start_time": "2022-03-29T08:08:34.881Z"
   },
   {
    "duration": 4,
    "start_time": "2022-03-29T08:08:35.320Z"
   },
   {
    "duration": 8,
    "start_time": "2022-03-29T08:08:35.326Z"
   },
   {
    "duration": 368,
    "start_time": "2022-03-29T08:08:35.336Z"
   },
   {
    "duration": 5,
    "start_time": "2022-03-29T08:08:35.707Z"
   },
   {
    "duration": 7,
    "start_time": "2022-03-29T08:08:35.715Z"
   },
   {
    "duration": 54,
    "start_time": "2022-03-29T08:08:35.724Z"
   },
   {
    "duration": 437,
    "start_time": "2022-03-29T08:08:35.781Z"
   },
   {
    "duration": 6,
    "start_time": "2022-03-29T08:08:36.221Z"
   },
   {
    "duration": 9,
    "start_time": "2022-03-29T08:26:28.394Z"
   },
   {
    "duration": 9,
    "start_time": "2022-03-29T08:28:11.448Z"
   },
   {
    "duration": 6561,
    "start_time": "2022-03-29T08:28:12.165Z"
   },
   {
    "duration": 6,
    "start_time": "2022-03-29T08:29:11.911Z"
   },
   {
    "duration": 6552,
    "start_time": "2022-03-29T08:29:12.375Z"
   },
   {
    "duration": 2727,
    "start_time": "2022-03-29T08:31:15.865Z"
   },
   {
    "duration": 2279,
    "start_time": "2022-03-29T08:44:25.080Z"
   },
   {
    "duration": 173,
    "start_time": "2022-03-29T08:45:04.117Z"
   },
   {
    "duration": 6,
    "start_time": "2022-03-29T08:45:12.695Z"
   },
   {
    "duration": 2513,
    "start_time": "2022-03-29T08:45:18.034Z"
   },
   {
    "duration": 10,
    "start_time": "2022-03-29T08:46:26.588Z"
   },
   {
    "duration": 6731,
    "start_time": "2022-03-29T08:46:27.629Z"
   },
   {
    "duration": 9,
    "start_time": "2022-03-29T08:47:23.372Z"
   },
   {
    "duration": 9,
    "start_time": "2022-03-29T08:47:52.108Z"
   },
   {
    "duration": 6331,
    "start_time": "2022-03-29T08:47:52.460Z"
   },
   {
    "duration": 9,
    "start_time": "2022-03-29T08:55:13.958Z"
   },
   {
    "duration": 6775,
    "start_time": "2022-03-29T08:55:14.444Z"
   },
   {
    "duration": 8,
    "start_time": "2022-03-29T08:56:21.471Z"
   },
   {
    "duration": 6771,
    "start_time": "2022-03-29T08:56:21.793Z"
   },
   {
    "duration": 8,
    "start_time": "2022-03-29T08:59:29.727Z"
   },
   {
    "duration": 2149,
    "start_time": "2022-03-29T08:59:30.226Z"
   },
   {
    "duration": 5,
    "start_time": "2022-03-29T08:59:54.662Z"
   },
   {
    "duration": 6,
    "start_time": "2022-03-29T08:59:59.830Z"
   },
   {
    "duration": 6443,
    "start_time": "2022-03-29T09:00:00.260Z"
   },
   {
    "duration": 2197,
    "start_time": "2022-03-29T09:02:22.030Z"
   },
   {
    "duration": 6,
    "start_time": "2022-03-29T09:05:02.177Z"
   },
   {
    "duration": 2246,
    "start_time": "2022-03-29T09:05:07.512Z"
   },
   {
    "duration": 6,
    "start_time": "2022-03-29T09:06:17.847Z"
   },
   {
    "duration": 2129,
    "start_time": "2022-03-29T09:06:21.499Z"
   },
   {
    "duration": 2168,
    "start_time": "2022-03-29T09:08:48.186Z"
   },
   {
    "duration": 2219,
    "start_time": "2022-03-29T09:13:01.184Z"
   },
   {
    "duration": 2138,
    "start_time": "2022-03-29T09:13:20.464Z"
   },
   {
    "duration": 2133,
    "start_time": "2022-03-29T09:13:31.940Z"
   },
   {
    "duration": 2100,
    "start_time": "2022-03-29T09:15:13.310Z"
   },
   {
    "duration": 2863,
    "start_time": "2022-03-29T09:16:14.456Z"
   },
   {
    "duration": 6,
    "start_time": "2022-03-29T09:16:17.322Z"
   },
   {
    "duration": 471,
    "start_time": "2022-03-29T09:16:17.330Z"
   },
   {
    "duration": 7,
    "start_time": "2022-03-29T09:16:17.803Z"
   },
   {
    "duration": 137,
    "start_time": "2022-03-29T09:16:17.814Z"
   },
   {
    "duration": 144,
    "start_time": "2022-03-29T09:16:17.954Z"
   },
   {
    "duration": 135,
    "start_time": "2022-03-29T09:16:18.101Z"
   },
   {
    "duration": 36,
    "start_time": "2022-03-29T09:16:18.238Z"
   },
   {
    "duration": 1558,
    "start_time": "2022-03-29T09:16:18.276Z"
   },
   {
    "duration": 4,
    "start_time": "2022-03-29T09:16:19.836Z"
   },
   {
    "duration": 9,
    "start_time": "2022-03-29T09:16:19.842Z"
   },
   {
    "duration": 58,
    "start_time": "2022-03-29T09:16:19.853Z"
   },
   {
    "duration": 9,
    "start_time": "2022-03-29T09:16:19.913Z"
   },
   {
    "duration": 75,
    "start_time": "2022-03-29T09:16:19.928Z"
   },
   {
    "duration": 5,
    "start_time": "2022-03-29T09:16:20.006Z"
   },
   {
    "duration": 167,
    "start_time": "2022-03-29T09:16:20.014Z"
   },
   {
    "duration": 99,
    "start_time": "2022-03-29T09:16:20.184Z"
   },
   {
    "duration": 359,
    "start_time": "2022-03-29T09:16:20.373Z"
   },
   {
    "duration": 5,
    "start_time": "2022-03-29T09:16:20.734Z"
   },
   {
    "duration": 15,
    "start_time": "2022-03-29T09:16:20.741Z"
   },
   {
    "duration": 404,
    "start_time": "2022-03-29T09:16:20.759Z"
   },
   {
    "duration": 9,
    "start_time": "2022-03-29T09:16:21.165Z"
   },
   {
    "duration": 12,
    "start_time": "2022-03-29T09:16:21.176Z"
   },
   {
    "duration": 21,
    "start_time": "2022-03-29T09:16:21.190Z"
   },
   {
    "duration": 389,
    "start_time": "2022-03-29T09:16:21.214Z"
   },
   {
    "duration": 150,
    "start_time": "2022-03-29T09:17:38.696Z"
   },
   {
    "duration": 167,
    "start_time": "2022-03-29T09:17:39.230Z"
   },
   {
    "duration": 6,
    "start_time": "2022-03-29T09:17:44.733Z"
   },
   {
    "duration": 23,
    "start_time": "2022-03-29T09:17:45.635Z"
   },
   {
    "duration": 337,
    "start_time": "2022-03-29T09:17:47.001Z"
   },
   {
    "duration": 2230,
    "start_time": "2022-03-29T09:18:15.426Z"
   },
   {
    "duration": 2082,
    "start_time": "2022-03-29T09:21:29.614Z"
   },
   {
    "duration": 17,
    "start_time": "2022-03-29T09:30:27.306Z"
   },
   {
    "duration": 21,
    "start_time": "2022-03-29T09:30:36.124Z"
   },
   {
    "duration": 2142,
    "start_time": "2022-03-29T09:31:12.183Z"
   },
   {
    "duration": 7,
    "start_time": "2022-03-29T09:32:29.253Z"
   },
   {
    "duration": 13,
    "start_time": "2022-03-29T09:32:45.315Z"
   },
   {
    "duration": 2275,
    "start_time": "2022-03-29T09:34:33.967Z"
   },
   {
    "duration": 4,
    "start_time": "2022-03-29T09:34:36.246Z"
   },
   {
    "duration": 442,
    "start_time": "2022-03-29T09:34:36.253Z"
   },
   {
    "duration": 6,
    "start_time": "2022-03-29T09:34:36.698Z"
   },
   {
    "duration": 136,
    "start_time": "2022-03-29T09:34:36.706Z"
   },
   {
    "duration": 135,
    "start_time": "2022-03-29T09:34:36.844Z"
   },
   {
    "duration": 129,
    "start_time": "2022-03-29T09:34:36.981Z"
   },
   {
    "duration": 22,
    "start_time": "2022-03-29T09:34:37.112Z"
   },
   {
    "duration": 1497,
    "start_time": "2022-03-29T09:34:37.136Z"
   },
   {
    "duration": 4,
    "start_time": "2022-03-29T09:34:38.636Z"
   },
   {
    "duration": 7,
    "start_time": "2022-03-29T09:34:38.642Z"
   },
   {
    "duration": 58,
    "start_time": "2022-03-29T09:34:38.651Z"
   },
   {
    "duration": 10,
    "start_time": "2022-03-29T09:34:38.711Z"
   },
   {
    "duration": 71,
    "start_time": "2022-03-29T09:34:38.723Z"
   },
   {
    "duration": 4,
    "start_time": "2022-03-29T09:34:38.797Z"
   },
   {
    "duration": 274,
    "start_time": "2022-03-29T09:34:38.803Z"
   },
   {
    "duration": 95,
    "start_time": "2022-03-29T09:34:39.080Z"
   },
   {
    "duration": 442,
    "start_time": "2022-03-29T09:34:39.178Z"
   },
   {
    "duration": 11,
    "start_time": "2022-03-29T09:34:43.894Z"
   },
   {
    "duration": 4,
    "start_time": "2022-03-29T09:34:54.441Z"
   },
   {
    "duration": 6,
    "start_time": "2022-03-29T09:34:58.143Z"
   },
   {
    "duration": 367,
    "start_time": "2022-03-29T09:35:06.517Z"
   },
   {
    "duration": 5,
    "start_time": "2022-03-29T09:35:11.739Z"
   },
   {
    "duration": 11,
    "start_time": "2022-03-29T09:35:16.639Z"
   },
   {
    "duration": 2263,
    "start_time": "2022-03-29T09:35:18.126Z"
   },
   {
    "duration": 2175,
    "start_time": "2022-03-29T09:37:04.486Z"
   },
   {
    "duration": 2229,
    "start_time": "2022-03-29T09:37:33.969Z"
   },
   {
    "duration": 2446,
    "start_time": "2022-03-29T09:37:49.969Z"
   },
   {
    "duration": 2152,
    "start_time": "2022-03-29T09:37:57.823Z"
   },
   {
    "duration": 11,
    "start_time": "2022-03-29T09:40:18.225Z"
   },
   {
    "duration": 10,
    "start_time": "2022-03-29T09:40:23.094Z"
   },
   {
    "duration": 2097,
    "start_time": "2022-03-29T09:41:28.542Z"
   },
   {
    "duration": 1553,
    "start_time": "2022-03-29T09:42:53.220Z"
   },
   {
    "duration": 2205,
    "start_time": "2022-03-29T09:44:26.870Z"
   },
   {
    "duration": 1658,
    "start_time": "2022-03-29T10:01:09.276Z"
   },
   {
    "duration": 4,
    "start_time": "2022-03-29T10:01:10.936Z"
   },
   {
    "duration": 370,
    "start_time": "2022-03-29T10:01:10.941Z"
   },
   {
    "duration": 4,
    "start_time": "2022-03-29T10:01:11.314Z"
   },
   {
    "duration": 106,
    "start_time": "2022-03-29T10:01:11.320Z"
   },
   {
    "duration": 104,
    "start_time": "2022-03-29T10:01:11.428Z"
   },
   {
    "duration": 102,
    "start_time": "2022-03-29T10:01:11.533Z"
   },
   {
    "duration": 18,
    "start_time": "2022-03-29T10:01:11.637Z"
   },
   {
    "duration": 1053,
    "start_time": "2022-03-29T10:01:11.657Z"
   },
   {
    "duration": 2,
    "start_time": "2022-03-29T10:01:12.713Z"
   },
   {
    "duration": 8,
    "start_time": "2022-03-29T10:01:12.717Z"
   },
   {
    "duration": 37,
    "start_time": "2022-03-29T10:01:12.727Z"
   },
   {
    "duration": 7,
    "start_time": "2022-03-29T10:01:12.765Z"
   },
   {
    "duration": 61,
    "start_time": "2022-03-29T10:01:12.774Z"
   },
   {
    "duration": 3,
    "start_time": "2022-03-29T10:01:12.837Z"
   },
   {
    "duration": 267,
    "start_time": "2022-03-29T10:01:12.842Z"
   },
   {
    "duration": 99,
    "start_time": "2022-03-29T10:01:13.113Z"
   },
   {
    "duration": 218,
    "start_time": "2022-03-29T10:01:13.214Z"
   },
   {
    "duration": 3,
    "start_time": "2022-03-29T10:01:13.434Z"
   },
   {
    "duration": 6,
    "start_time": "2022-03-29T10:01:13.439Z"
   },
   {
    "duration": 228,
    "start_time": "2022-03-29T10:01:13.446Z"
   },
   {
    "duration": 3,
    "start_time": "2022-03-29T10:01:13.677Z"
   },
   {
    "duration": 9,
    "start_time": "2022-03-29T10:01:13.682Z"
   },
   {
    "duration": 32,
    "start_time": "2022-03-29T10:01:13.693Z"
   },
   {
    "duration": 300,
    "start_time": "2022-03-29T10:01:13.727Z"
   },
   {
    "duration": 10,
    "start_time": "2022-03-29T10:01:19.847Z"
   },
   {
    "duration": 8,
    "start_time": "2022-03-29T10:03:46.215Z"
   },
   {
    "duration": 9,
    "start_time": "2022-03-29T10:04:01.196Z"
   },
   {
    "duration": 3,
    "start_time": "2022-03-29T10:05:24.656Z"
   },
   {
    "duration": 109,
    "start_time": "2022-03-29T10:05:31.876Z"
   },
   {
    "duration": 1487,
    "start_time": "2022-03-29T10:05:52.058Z"
   },
   {
    "duration": 1321,
    "start_time": "2022-03-29T10:07:02.462Z"
   },
   {
    "duration": 3,
    "start_time": "2022-03-29T10:07:03.785Z"
   },
   {
    "duration": 363,
    "start_time": "2022-03-29T10:07:03.790Z"
   },
   {
    "duration": 4,
    "start_time": "2022-03-29T10:07:04.155Z"
   },
   {
    "duration": 96,
    "start_time": "2022-03-29T10:07:04.160Z"
   },
   {
    "duration": 93,
    "start_time": "2022-03-29T10:07:04.258Z"
   },
   {
    "duration": 92,
    "start_time": "2022-03-29T10:07:04.353Z"
   },
   {
    "duration": 17,
    "start_time": "2022-03-29T10:07:04.446Z"
   },
   {
    "duration": 1025,
    "start_time": "2022-03-29T10:07:04.464Z"
   },
   {
    "duration": 3,
    "start_time": "2022-03-29T10:07:05.491Z"
   },
   {
    "duration": 12,
    "start_time": "2022-03-29T10:07:05.496Z"
   },
   {
    "duration": 39,
    "start_time": "2022-03-29T10:07:05.509Z"
   },
   {
    "duration": 7,
    "start_time": "2022-03-29T10:07:05.550Z"
   },
   {
    "duration": 55,
    "start_time": "2022-03-29T10:07:05.558Z"
   },
   {
    "duration": 3,
    "start_time": "2022-03-29T10:07:05.615Z"
   },
   {
    "duration": 195,
    "start_time": "2022-03-29T10:07:05.620Z"
   },
   {
    "duration": 101,
    "start_time": "2022-03-29T10:07:05.908Z"
   },
   {
    "duration": 1454,
    "start_time": "2022-03-29T10:07:22.673Z"
   },
   {
    "duration": 3,
    "start_time": "2022-03-29T10:07:24.129Z"
   },
   {
    "duration": 359,
    "start_time": "2022-03-29T10:07:24.134Z"
   },
   {
    "duration": 4,
    "start_time": "2022-03-29T10:07:24.495Z"
   },
   {
    "duration": 88,
    "start_time": "2022-03-29T10:07:24.501Z"
   },
   {
    "duration": 88,
    "start_time": "2022-03-29T10:07:24.591Z"
   },
   {
    "duration": 96,
    "start_time": "2022-03-29T10:07:24.681Z"
   },
   {
    "duration": 34,
    "start_time": "2022-03-29T10:07:24.778Z"
   },
   {
    "duration": 985,
    "start_time": "2022-03-29T10:07:30.090Z"
   },
   {
    "duration": 3,
    "start_time": "2022-03-29T10:07:34.494Z"
   },
   {
    "duration": 4,
    "start_time": "2022-03-29T10:07:38.714Z"
   },
   {
    "duration": 34,
    "start_time": "2022-03-29T10:07:40.165Z"
   },
   {
    "duration": 7,
    "start_time": "2022-03-29T10:07:57.561Z"
   },
   {
    "duration": 5,
    "start_time": "2022-03-29T10:14:27.291Z"
   },
   {
    "duration": 35,
    "start_time": "2022-03-29T10:14:27.925Z"
   },
   {
    "duration": 4,
    "start_time": "2022-03-29T10:16:03.662Z"
   },
   {
    "duration": 205,
    "start_time": "2022-03-29T10:16:04.910Z"
   },
   {
    "duration": 3,
    "start_time": "2022-03-29T10:17:03.770Z"
   },
   {
    "duration": 106,
    "start_time": "2022-03-29T10:27:58.148Z"
   },
   {
    "duration": 149,
    "start_time": "2022-03-29T10:28:03.462Z"
   },
   {
    "duration": 3,
    "start_time": "2022-03-29T10:28:03.809Z"
   },
   {
    "duration": 12,
    "start_time": "2022-03-29T10:28:04.446Z"
   },
   {
    "duration": 9,
    "start_time": "2022-03-29T10:28:20.175Z"
   },
   {
    "duration": 195,
    "start_time": "2022-03-29T10:28:26.078Z"
   },
   {
    "duration": 4,
    "start_time": "2022-03-29T10:28:44.508Z"
   },
   {
    "duration": 4,
    "start_time": "2022-03-29T10:28:45.992Z"
   },
   {
    "duration": 199,
    "start_time": "2022-03-29T10:28:59.534Z"
   },
   {
    "duration": 5,
    "start_time": "2022-03-29T10:29:48.887Z"
   },
   {
    "duration": 3,
    "start_time": "2022-03-29T10:30:03.848Z"
   },
   {
    "duration": 4,
    "start_time": "2022-03-29T10:33:23.558Z"
   },
   {
    "duration": 4,
    "start_time": "2022-03-29T10:33:24.009Z"
   },
   {
    "duration": 4,
    "start_time": "2022-03-29T10:35:17.300Z"
   },
   {
    "duration": 16,
    "start_time": "2022-03-29T10:35:21.742Z"
   },
   {
    "duration": 253,
    "start_time": "2022-03-29T10:35:25.980Z"
   },
   {
    "duration": 1522,
    "start_time": "2022-03-29T10:36:44.187Z"
   },
   {
    "duration": 101,
    "start_time": "2022-03-29T10:39:27.338Z"
   },
   {
    "duration": 5,
    "start_time": "2022-03-29T10:41:41.451Z"
   },
   {
    "duration": 3,
    "start_time": "2022-03-29T10:41:42.201Z"
   },
   {
    "duration": 4,
    "start_time": "2022-03-29T10:41:49.222Z"
   },
   {
    "duration": 15,
    "start_time": "2022-03-29T10:41:50.307Z"
   },
   {
    "duration": 178,
    "start_time": "2022-03-29T10:41:51.758Z"
   },
   {
    "duration": 1463,
    "start_time": "2022-03-29T10:42:53.584Z"
   },
   {
    "duration": 9,
    "start_time": "2022-03-29T10:43:49.293Z"
   },
   {
    "duration": 3,
    "start_time": "2022-03-29T10:44:26.200Z"
   },
   {
    "duration": 1528,
    "start_time": "2022-03-29T10:44:35.241Z"
   },
   {
    "duration": 1480,
    "start_time": "2022-03-29T10:48:59.001Z"
   },
   {
    "duration": 4,
    "start_time": "2022-03-29T10:49:35.024Z"
   },
   {
    "duration": 4,
    "start_time": "2022-03-29T10:50:30.880Z"
   },
   {
    "duration": 37,
    "start_time": "2022-03-29T10:50:31.597Z"
   },
   {
    "duration": 3,
    "start_time": "2022-03-29T10:50:47.127Z"
   },
   {
    "duration": 166,
    "start_time": "2022-03-29T10:50:51.645Z"
   },
   {
    "duration": 2,
    "start_time": "2022-03-29T10:50:52.262Z"
   },
   {
    "duration": 7,
    "start_time": "2022-03-29T10:50:57.148Z"
   },
   {
    "duration": 197,
    "start_time": "2022-03-29T10:50:57.998Z"
   },
   {
    "duration": 3,
    "start_time": "2022-03-29T10:51:03.754Z"
   },
   {
    "duration": 4,
    "start_time": "2022-03-29T10:51:04.821Z"
   },
   {
    "duration": 195,
    "start_time": "2022-03-29T10:51:07.556Z"
   },
   {
    "duration": 5,
    "start_time": "2022-03-29T10:51:24.275Z"
   },
   {
    "duration": 3,
    "start_time": "2022-03-29T10:51:24.718Z"
   },
   {
    "duration": 5,
    "start_time": "2022-03-29T10:51:54.123Z"
   },
   {
    "duration": 3,
    "start_time": "2022-03-29T10:51:54.375Z"
   },
   {
    "duration": 4,
    "start_time": "2022-03-29T10:51:55.857Z"
   },
   {
    "duration": 15,
    "start_time": "2022-03-29T10:51:56.892Z"
   },
   {
    "duration": 186,
    "start_time": "2022-03-29T10:51:58.541Z"
   },
   {
    "duration": 5,
    "start_time": "2022-03-29T10:53:46.021Z"
   },
   {
    "duration": 14,
    "start_time": "2022-03-29T10:53:46.621Z"
   },
   {
    "duration": 5,
    "start_time": "2022-03-29T10:54:00.632Z"
   },
   {
    "duration": 1573,
    "start_time": "2022-03-29T10:54:01.081Z"
   },
   {
    "duration": 7,
    "start_time": "2022-03-29T10:54:50.065Z"
   },
   {
    "duration": 4675,
    "start_time": "2022-03-29T10:54:50.619Z"
   },
   {
    "duration": 3040,
    "start_time": "2022-03-29T10:58:07.074Z"
   },
   {
    "duration": 3,
    "start_time": "2022-03-29T10:58:10.116Z"
   },
   {
    "duration": 383,
    "start_time": "2022-03-29T10:58:10.124Z"
   },
   {
    "duration": 5,
    "start_time": "2022-03-29T10:58:10.509Z"
   },
   {
    "duration": 115,
    "start_time": "2022-03-29T10:58:10.516Z"
   },
   {
    "duration": 104,
    "start_time": "2022-03-29T10:58:10.633Z"
   },
   {
    "duration": 107,
    "start_time": "2022-03-29T10:58:10.739Z"
   },
   {
    "duration": 19,
    "start_time": "2022-03-29T10:58:10.848Z"
   },
   {
    "duration": 1046,
    "start_time": "2022-03-29T10:58:10.870Z"
   },
   {
    "duration": 3,
    "start_time": "2022-03-29T10:58:11.918Z"
   },
   {
    "duration": 4,
    "start_time": "2022-03-29T10:58:11.923Z"
   },
   {
    "duration": 36,
    "start_time": "2022-03-29T10:58:11.929Z"
   },
   {
    "duration": 7,
    "start_time": "2022-03-29T10:58:11.967Z"
   },
   {
    "duration": 6,
    "start_time": "2022-03-29T10:58:11.976Z"
   },
   {
    "duration": 56,
    "start_time": "2022-03-29T10:58:11.984Z"
   },
   {
    "duration": 3,
    "start_time": "2022-03-29T10:58:12.041Z"
   },
   {
    "duration": 263,
    "start_time": "2022-03-29T10:58:12.046Z"
   },
   {
    "duration": 3,
    "start_time": "2022-03-29T10:58:12.312Z"
   },
   {
    "duration": 207,
    "start_time": "2022-03-29T10:58:12.317Z"
   },
   {
    "duration": 0,
    "start_time": "2022-03-29T10:58:12.526Z"
   },
   {
    "duration": 0,
    "start_time": "2022-03-29T10:58:12.527Z"
   },
   {
    "duration": 0,
    "start_time": "2022-03-29T10:58:12.529Z"
   },
   {
    "duration": 0,
    "start_time": "2022-03-29T10:58:12.530Z"
   },
   {
    "duration": 0,
    "start_time": "2022-03-29T10:58:12.531Z"
   },
   {
    "duration": 0,
    "start_time": "2022-03-29T10:58:12.532Z"
   },
   {
    "duration": 0,
    "start_time": "2022-03-29T10:58:12.533Z"
   },
   {
    "duration": 0,
    "start_time": "2022-03-29T10:58:12.535Z"
   },
   {
    "duration": 0,
    "start_time": "2022-03-29T10:58:12.536Z"
   },
   {
    "duration": 0,
    "start_time": "2022-03-29T10:58:12.536Z"
   },
   {
    "duration": 0,
    "start_time": "2022-03-29T10:58:12.538Z"
   },
   {
    "duration": 1452,
    "start_time": "2022-03-29T10:58:38.403Z"
   },
   {
    "duration": 4,
    "start_time": "2022-03-29T10:58:39.857Z"
   },
   {
    "duration": 348,
    "start_time": "2022-03-29T10:58:39.863Z"
   },
   {
    "duration": 4,
    "start_time": "2022-03-29T10:58:40.214Z"
   },
   {
    "duration": 104,
    "start_time": "2022-03-29T10:58:40.219Z"
   },
   {
    "duration": 87,
    "start_time": "2022-03-29T10:58:40.325Z"
   },
   {
    "duration": 95,
    "start_time": "2022-03-29T10:58:40.414Z"
   },
   {
    "duration": 16,
    "start_time": "2022-03-29T10:58:40.510Z"
   },
   {
    "duration": 999,
    "start_time": "2022-03-29T10:58:40.528Z"
   },
   {
    "duration": 3,
    "start_time": "2022-03-29T10:58:41.529Z"
   },
   {
    "duration": 7,
    "start_time": "2022-03-29T10:58:41.533Z"
   },
   {
    "duration": 36,
    "start_time": "2022-03-29T10:58:41.541Z"
   },
   {
    "duration": 6,
    "start_time": "2022-03-29T10:58:41.579Z"
   },
   {
    "duration": 22,
    "start_time": "2022-03-29T10:58:41.587Z"
   },
   {
    "duration": 34,
    "start_time": "2022-03-29T10:58:41.610Z"
   },
   {
    "duration": 3,
    "start_time": "2022-03-29T10:58:41.646Z"
   },
   {
    "duration": 162,
    "start_time": "2022-03-29T10:58:41.650Z"
   },
   {
    "duration": 94,
    "start_time": "2022-03-29T10:58:41.816Z"
   },
   {
    "duration": 100,
    "start_time": "2022-03-29T10:58:41.912Z"
   },
   {
    "duration": 213,
    "start_time": "2022-03-29T10:58:42.014Z"
   },
   {
    "duration": 3,
    "start_time": "2022-03-29T10:58:42.229Z"
   },
   {
    "duration": 7,
    "start_time": "2022-03-29T10:58:42.234Z"
   },
   {
    "duration": 221,
    "start_time": "2022-03-29T10:58:42.244Z"
   },
   {
    "duration": 5,
    "start_time": "2022-03-29T10:58:42.466Z"
   },
   {
    "duration": 7,
    "start_time": "2022-03-29T10:58:42.472Z"
   },
   {
    "duration": 8,
    "start_time": "2022-03-29T10:58:42.481Z"
   },
   {
    "duration": 32,
    "start_time": "2022-03-29T10:58:42.491Z"
   },
   {
    "duration": 273,
    "start_time": "2022-03-29T10:58:42.527Z"
   },
   {
    "duration": 10,
    "start_time": "2022-03-29T10:58:42.802Z"
   },
   {
    "duration": 4572,
    "start_time": "2022-03-29T10:58:42.814Z"
   },
   {
    "duration": 4,
    "start_time": "2022-03-29T11:02:29.161Z"
   },
   {
    "duration": 15,
    "start_time": "2022-03-29T11:02:31.716Z"
   },
   {
    "duration": 190,
    "start_time": "2022-03-29T11:02:32.381Z"
   },
   {
    "duration": 5,
    "start_time": "2022-03-29T11:02:38.469Z"
   },
   {
    "duration": 4759,
    "start_time": "2022-03-29T11:02:39.388Z"
   },
   {
    "duration": 9,
    "start_time": "2022-03-29T12:09:46.139Z"
   },
   {
    "duration": 41,
    "start_time": "2022-03-29T12:09:49.092Z"
   },
   {
    "duration": 1824,
    "start_time": "2022-03-29T12:09:54.893Z"
   },
   {
    "duration": 4,
    "start_time": "2022-03-29T12:09:56.719Z"
   },
   {
    "duration": 365,
    "start_time": "2022-03-29T12:09:56.726Z"
   },
   {
    "duration": 4,
    "start_time": "2022-03-29T12:09:57.093Z"
   },
   {
    "duration": 91,
    "start_time": "2022-03-29T12:09:57.098Z"
   },
   {
    "duration": 89,
    "start_time": "2022-03-29T12:09:57.190Z"
   },
   {
    "duration": 88,
    "start_time": "2022-03-29T12:09:57.281Z"
   },
   {
    "duration": 17,
    "start_time": "2022-03-29T12:09:57.371Z"
   },
   {
    "duration": 960,
    "start_time": "2022-03-29T12:09:57.390Z"
   },
   {
    "duration": 2,
    "start_time": "2022-03-29T12:09:58.352Z"
   },
   {
    "duration": 7,
    "start_time": "2022-03-29T12:09:58.356Z"
   },
   {
    "duration": 36,
    "start_time": "2022-03-29T12:09:58.365Z"
   },
   {
    "duration": 7,
    "start_time": "2022-03-29T12:09:58.403Z"
   },
   {
    "duration": 9,
    "start_time": "2022-03-29T12:09:58.411Z"
   },
   {
    "duration": 52,
    "start_time": "2022-03-29T12:09:58.422Z"
   },
   {
    "duration": 4,
    "start_time": "2022-03-29T12:09:58.476Z"
   },
   {
    "duration": 184,
    "start_time": "2022-03-29T12:09:58.481Z"
   },
   {
    "duration": 5,
    "start_time": "2022-03-29T12:09:58.667Z"
   },
   {
    "duration": 102,
    "start_time": "2022-03-29T12:09:58.764Z"
   },
   {
    "duration": 192,
    "start_time": "2022-03-29T12:09:58.868Z"
   },
   {
    "duration": 3,
    "start_time": "2022-03-29T12:09:59.063Z"
   },
   {
    "duration": 6,
    "start_time": "2022-03-29T12:09:59.068Z"
   },
   {
    "duration": 215,
    "start_time": "2022-03-29T12:09:59.076Z"
   },
   {
    "duration": 6,
    "start_time": "2022-03-29T12:09:59.293Z"
   },
   {
    "duration": 4,
    "start_time": "2022-03-29T12:09:59.301Z"
   },
   {
    "duration": 7,
    "start_time": "2022-03-29T12:09:59.307Z"
   },
   {
    "duration": 16,
    "start_time": "2022-03-29T12:09:59.318Z"
   },
   {
    "duration": 284,
    "start_time": "2022-03-29T12:09:59.335Z"
   },
   {
    "duration": 6,
    "start_time": "2022-03-29T12:09:59.621Z"
   },
   {
    "duration": 4087,
    "start_time": "2022-03-29T12:09:59.629Z"
   },
   {
    "duration": 4,
    "start_time": "2022-03-29T12:12:12.543Z"
   },
   {
    "duration": 3968,
    "start_time": "2022-03-29T12:12:17.465Z"
   },
   {
    "duration": 4,
    "start_time": "2022-03-29T12:12:41.850Z"
   },
   {
    "duration": 4220,
    "start_time": "2022-03-29T12:12:44.166Z"
   },
   {
    "duration": 4,
    "start_time": "2022-03-29T12:14:37.749Z"
   },
   {
    "duration": 6,
    "start_time": "2022-03-29T12:15:29.652Z"
   },
   {
    "duration": 3,
    "start_time": "2022-03-29T12:15:30.037Z"
   },
   {
    "duration": 5,
    "start_time": "2022-03-29T12:15:31.053Z"
   },
   {
    "duration": 16,
    "start_time": "2022-03-29T12:15:31.454Z"
   },
   {
    "duration": 164,
    "start_time": "2022-03-29T12:15:32.155Z"
   },
   {
    "duration": 4,
    "start_time": "2022-03-29T12:15:38.642Z"
   },
   {
    "duration": 3820,
    "start_time": "2022-03-29T12:15:39.276Z"
   },
   {
    "duration": 4,
    "start_time": "2022-03-29T12:16:54.264Z"
   },
   {
    "duration": 111,
    "start_time": "2022-03-29T12:16:54.931Z"
   },
   {
    "duration": 4,
    "start_time": "2022-03-29T12:17:06.741Z"
   },
   {
    "duration": 17,
    "start_time": "2022-03-29T12:17:07.139Z"
   },
   {
    "duration": 1550,
    "start_time": "2022-03-29T12:18:04.837Z"
   },
   {
    "duration": 4,
    "start_time": "2022-03-29T12:18:06.389Z"
   },
   {
    "duration": 344,
    "start_time": "2022-03-29T12:18:06.395Z"
   },
   {
    "duration": 5,
    "start_time": "2022-03-29T12:18:06.742Z"
   },
   {
    "duration": 94,
    "start_time": "2022-03-29T12:18:06.749Z"
   },
   {
    "duration": 72,
    "start_time": "2022-03-29T12:18:06.863Z"
   },
   {
    "duration": 91,
    "start_time": "2022-03-29T12:18:06.937Z"
   },
   {
    "duration": 37,
    "start_time": "2022-03-29T12:18:07.030Z"
   },
   {
    "duration": 894,
    "start_time": "2022-03-29T12:18:07.069Z"
   },
   {
    "duration": 3,
    "start_time": "2022-03-29T12:18:07.965Z"
   },
   {
    "duration": 7,
    "start_time": "2022-03-29T12:18:07.969Z"
   },
   {
    "duration": 35,
    "start_time": "2022-03-29T12:18:07.978Z"
   },
   {
    "duration": 7,
    "start_time": "2022-03-29T12:18:08.015Z"
   },
   {
    "duration": 6,
    "start_time": "2022-03-29T12:18:08.024Z"
   },
   {
    "duration": 62,
    "start_time": "2022-03-29T12:18:08.031Z"
   },
   {
    "duration": 3,
    "start_time": "2022-03-29T12:18:08.094Z"
   },
   {
    "duration": 169,
    "start_time": "2022-03-29T12:18:08.099Z"
   },
   {
    "duration": 92,
    "start_time": "2022-03-29T12:18:08.270Z"
   },
   {
    "duration": 9,
    "start_time": "2022-03-29T12:18:08.365Z"
   },
   {
    "duration": 283,
    "start_time": "2022-03-29T12:18:08.376Z"
   },
   {
    "duration": 3,
    "start_time": "2022-03-29T12:18:08.662Z"
   },
   {
    "duration": 6,
    "start_time": "2022-03-29T12:18:08.667Z"
   },
   {
    "duration": 198,
    "start_time": "2022-03-29T12:18:08.675Z"
   },
   {
    "duration": 4,
    "start_time": "2022-03-29T12:18:08.875Z"
   },
   {
    "duration": 6,
    "start_time": "2022-03-29T12:18:08.881Z"
   },
   {
    "duration": 6,
    "start_time": "2022-03-29T12:18:08.889Z"
   },
   {
    "duration": 16,
    "start_time": "2022-03-29T12:18:08.896Z"
   },
   {
    "duration": 268,
    "start_time": "2022-03-29T12:18:08.915Z"
   },
   {
    "duration": 4,
    "start_time": "2022-03-29T12:18:09.185Z"
   },
   {
    "duration": 121,
    "start_time": "2022-03-29T12:18:09.191Z"
   },
   {
    "duration": 4,
    "start_time": "2022-03-29T12:19:49.745Z"
   },
   {
    "duration": 1569,
    "start_time": "2022-03-29T12:19:50.142Z"
   },
   {
    "duration": 5,
    "start_time": "2022-03-29T12:20:21.000Z"
   },
   {
    "duration": 1491,
    "start_time": "2022-03-29T12:20:23.167Z"
   },
   {
    "duration": 5,
    "start_time": "2022-03-29T12:20:37.828Z"
   },
   {
    "duration": 1500,
    "start_time": "2022-03-29T12:20:38.912Z"
   },
   {
    "duration": 7,
    "start_time": "2022-03-29T12:21:07.506Z"
   },
   {
    "duration": 17,
    "start_time": "2022-03-29T12:21:07.889Z"
   },
   {
    "duration": 6,
    "start_time": "2022-03-29T12:23:02.471Z"
   },
   {
    "duration": 6078,
    "start_time": "2022-03-29T12:23:02.988Z"
   },
   {
    "duration": 4,
    "start_time": "2022-03-29T12:26:46.983Z"
   },
   {
    "duration": 4,
    "start_time": "2022-03-29T12:26:55.338Z"
   },
   {
    "duration": 3735,
    "start_time": "2022-03-29T12:26:55.838Z"
   },
   {
    "duration": 1987,
    "start_time": "2022-03-29T12:28:47.670Z"
   },
   {
    "duration": 5,
    "start_time": "2022-03-29T12:28:49.660Z"
   },
   {
    "duration": 523,
    "start_time": "2022-03-29T12:28:49.666Z"
   },
   {
    "duration": 6,
    "start_time": "2022-03-29T12:28:50.193Z"
   },
   {
    "duration": 164,
    "start_time": "2022-03-29T12:28:50.201Z"
   },
   {
    "duration": 108,
    "start_time": "2022-03-29T12:28:50.367Z"
   },
   {
    "duration": 97,
    "start_time": "2022-03-29T12:28:50.476Z"
   },
   {
    "duration": 18,
    "start_time": "2022-03-29T12:28:50.575Z"
   },
   {
    "duration": 1034,
    "start_time": "2022-03-29T12:28:50.595Z"
   },
   {
    "duration": 3,
    "start_time": "2022-03-29T12:28:51.632Z"
   },
   {
    "duration": 7,
    "start_time": "2022-03-29T12:28:51.636Z"
   },
   {
    "duration": 43,
    "start_time": "2022-03-29T12:28:51.645Z"
   },
   {
    "duration": 7,
    "start_time": "2022-03-29T12:28:51.690Z"
   },
   {
    "duration": 8,
    "start_time": "2022-03-29T12:28:51.698Z"
   },
   {
    "duration": 37,
    "start_time": "2022-03-29T12:28:51.707Z"
   },
   {
    "duration": 17,
    "start_time": "2022-03-29T12:28:51.746Z"
   },
   {
    "duration": 398,
    "start_time": "2022-03-29T12:28:51.765Z"
   },
   {
    "duration": 3,
    "start_time": "2022-03-29T12:28:52.166Z"
   },
   {
    "duration": 103,
    "start_time": "2022-03-29T12:28:52.171Z"
   },
   {
    "duration": 186,
    "start_time": "2022-03-29T12:28:52.276Z"
   },
   {
    "duration": 3,
    "start_time": "2022-03-29T12:28:52.464Z"
   },
   {
    "duration": 8,
    "start_time": "2022-03-29T12:28:52.468Z"
   },
   {
    "duration": 211,
    "start_time": "2022-03-29T12:28:52.477Z"
   },
   {
    "duration": 4,
    "start_time": "2022-03-29T12:28:52.690Z"
   },
   {
    "duration": 5,
    "start_time": "2022-03-29T12:28:52.696Z"
   },
   {
    "duration": 6,
    "start_time": "2022-03-29T12:28:52.702Z"
   },
   {
    "duration": 20,
    "start_time": "2022-03-29T12:28:52.709Z"
   },
   {
    "duration": 288,
    "start_time": "2022-03-29T12:28:52.733Z"
   },
   {
    "duration": 6,
    "start_time": "2022-03-29T12:28:53.023Z"
   },
   {
    "duration": 4183,
    "start_time": "2022-03-29T12:28:53.031Z"
   },
   {
    "duration": 5,
    "start_time": "2022-03-29T12:30:35.813Z"
   },
   {
    "duration": 2105,
    "start_time": "2022-03-29T12:30:36.246Z"
   },
   {
    "duration": 4,
    "start_time": "2022-03-29T12:32:01.873Z"
   },
   {
    "duration": 1807,
    "start_time": "2022-03-29T12:32:04.309Z"
   },
   {
    "duration": 4,
    "start_time": "2022-03-29T12:33:07.989Z"
   },
   {
    "duration": 1286,
    "start_time": "2022-03-29T12:33:08.324Z"
   },
   {
    "duration": 4,
    "start_time": "2022-03-29T12:33:31.707Z"
   },
   {
    "duration": 1144,
    "start_time": "2022-03-29T12:33:32.040Z"
   },
   {
    "duration": 4,
    "start_time": "2022-03-29T12:35:18.935Z"
   },
   {
    "duration": 5,
    "start_time": "2022-03-29T12:35:23.571Z"
   },
   {
    "duration": 1311,
    "start_time": "2022-03-29T12:35:23.852Z"
   },
   {
    "duration": 4,
    "start_time": "2022-03-29T12:35:41.317Z"
   },
   {
    "duration": 1273,
    "start_time": "2022-03-29T12:35:43.267Z"
   },
   {
    "duration": 4,
    "start_time": "2022-03-29T12:48:37.056Z"
   },
   {
    "duration": 4,
    "start_time": "2022-03-29T12:48:40.859Z"
   },
   {
    "duration": 2514,
    "start_time": "2022-03-29T12:48:41.376Z"
   },
   {
    "duration": 6,
    "start_time": "2022-03-29T12:50:48.251Z"
   },
   {
    "duration": 2516,
    "start_time": "2022-03-29T12:50:54.631Z"
   },
   {
    "duration": 1478,
    "start_time": "2022-03-29T12:52:01.547Z"
   },
   {
    "duration": 4,
    "start_time": "2022-03-29T12:52:03.028Z"
   },
   {
    "duration": 431,
    "start_time": "2022-03-29T12:52:03.033Z"
   },
   {
    "duration": 5,
    "start_time": "2022-03-29T12:52:03.466Z"
   },
   {
    "duration": 95,
    "start_time": "2022-03-29T12:52:03.472Z"
   },
   {
    "duration": 62,
    "start_time": "2022-03-29T12:52:03.569Z"
   },
   {
    "duration": 83,
    "start_time": "2022-03-29T12:52:03.633Z"
   },
   {
    "duration": 15,
    "start_time": "2022-03-29T12:52:03.718Z"
   },
   {
    "duration": 871,
    "start_time": "2022-03-29T12:52:03.734Z"
   },
   {
    "duration": 3,
    "start_time": "2022-03-29T12:52:04.607Z"
   },
   {
    "duration": 9,
    "start_time": "2022-03-29T12:52:04.611Z"
   },
   {
    "duration": 41,
    "start_time": "2022-03-29T12:52:04.622Z"
   },
   {
    "duration": 6,
    "start_time": "2022-03-29T12:52:04.664Z"
   },
   {
    "duration": 13,
    "start_time": "2022-03-29T12:52:04.671Z"
   },
   {
    "duration": 38,
    "start_time": "2022-03-29T12:52:04.685Z"
   },
   {
    "duration": 3,
    "start_time": "2022-03-29T12:52:04.724Z"
   },
   {
    "duration": 135,
    "start_time": "2022-03-29T12:52:04.729Z"
   },
   {
    "duration": 100,
    "start_time": "2022-03-29T12:52:04.867Z"
   },
   {
    "duration": 95,
    "start_time": "2022-03-29T12:52:04.970Z"
   },
   {
    "duration": 215,
    "start_time": "2022-03-29T12:52:05.067Z"
   },
   {
    "duration": 3,
    "start_time": "2022-03-29T12:52:05.284Z"
   },
   {
    "duration": 6,
    "start_time": "2022-03-29T12:52:05.288Z"
   },
   {
    "duration": 200,
    "start_time": "2022-03-29T12:52:05.295Z"
   },
   {
    "duration": 5,
    "start_time": "2022-03-29T12:52:18.069Z"
   },
   {
    "duration": 6,
    "start_time": "2022-03-29T12:52:40.435Z"
   },
   {
    "duration": 5,
    "start_time": "2022-03-29T12:53:06.854Z"
   },
   {
    "duration": 5,
    "start_time": "2022-03-29T13:01:43.231Z"
   },
   {
    "duration": 111,
    "start_time": "2022-03-29T13:01:44.111Z"
   },
   {
    "duration": 6,
    "start_time": "2022-03-29T13:01:50.515Z"
   },
   {
    "duration": 3,
    "start_time": "2022-03-29T13:01:52.001Z"
   },
   {
    "duration": 87,
    "start_time": "2022-03-29T13:01:57.795Z"
   },
   {
    "duration": 21,
    "start_time": "2022-03-29T13:01:58.771Z"
   },
   {
    "duration": 4,
    "start_time": "2022-03-29T13:02:06.578Z"
   },
   {
    "duration": 18,
    "start_time": "2022-03-29T13:02:07.194Z"
   },
   {
    "duration": 177,
    "start_time": "2022-03-29T13:02:08.295Z"
   },
   {
    "duration": 4,
    "start_time": "2022-03-29T13:02:12.787Z"
   },
   {
    "duration": 1303,
    "start_time": "2022-03-29T13:02:14.666Z"
   },
   {
    "duration": 5,
    "start_time": "2022-03-29T13:08:45.048Z"
   },
   {
    "duration": 5,
    "start_time": "2022-03-29T13:08:48.383Z"
   },
   {
    "duration": 1320,
    "start_time": "2022-03-29T13:08:48.984Z"
   },
   {
    "duration": 4,
    "start_time": "2022-03-29T13:16:23.078Z"
   },
   {
    "duration": 4,
    "start_time": "2022-03-29T13:16:27.748Z"
   },
   {
    "duration": 2094,
    "start_time": "2022-03-29T13:16:28.364Z"
   },
   {
    "duration": 5,
    "start_time": "2022-03-29T13:16:41.674Z"
   },
   {
    "duration": 1349,
    "start_time": "2022-03-29T13:16:42.858Z"
   },
   {
    "duration": 5,
    "start_time": "2022-03-29T13:17:28.138Z"
   },
   {
    "duration": 4,
    "start_time": "2022-03-29T13:17:31.709Z"
   },
   {
    "duration": 1397,
    "start_time": "2022-03-29T13:17:31.959Z"
   },
   {
    "duration": 5,
    "start_time": "2022-03-29T13:18:11.540Z"
   },
   {
    "duration": 6,
    "start_time": "2022-03-29T13:18:26.434Z"
   },
   {
    "duration": 1482,
    "start_time": "2022-03-29T13:18:26.881Z"
   },
   {
    "duration": 4,
    "start_time": "2022-03-29T13:19:53.780Z"
   },
   {
    "duration": 1372,
    "start_time": "2022-03-29T13:19:54.160Z"
   },
   {
    "duration": 4,
    "start_time": "2022-03-29T13:20:37.193Z"
   },
   {
    "duration": 1453,
    "start_time": "2022-03-29T13:20:37.660Z"
   },
   {
    "duration": 4,
    "start_time": "2022-03-29T13:21:08.100Z"
   },
   {
    "duration": 1284,
    "start_time": "2022-03-29T13:21:08.796Z"
   },
   {
    "duration": 4,
    "start_time": "2022-03-29T13:21:27.300Z"
   },
   {
    "duration": 2364,
    "start_time": "2022-03-29T13:21:35.167Z"
   },
   {
    "duration": 4,
    "start_time": "2022-03-29T13:23:08.418Z"
   },
   {
    "duration": 1319,
    "start_time": "2022-03-29T13:23:12.254Z"
   },
   {
    "duration": 4,
    "start_time": "2022-03-29T13:23:24.764Z"
   },
   {
    "duration": 1337,
    "start_time": "2022-03-29T13:23:26.164Z"
   },
   {
    "duration": 114,
    "start_time": "2022-03-29T13:23:56.620Z"
   },
   {
    "duration": 3,
    "start_time": "2022-03-29T13:24:09.831Z"
   },
   {
    "duration": 1590,
    "start_time": "2022-03-29T13:24:13.631Z"
   },
   {
    "duration": 3,
    "start_time": "2022-03-29T13:26:12.518Z"
   },
   {
    "duration": 4,
    "start_time": "2022-03-29T13:26:16.239Z"
   },
   {
    "duration": 15,
    "start_time": "2022-03-29T13:26:16.837Z"
   },
   {
    "duration": 4,
    "start_time": "2022-03-29T13:26:43.374Z"
   },
   {
    "duration": 4,
    "start_time": "2022-03-29T13:26:46.891Z"
   },
   {
    "duration": 13,
    "start_time": "2022-03-29T13:26:47.208Z"
   },
   {
    "duration": 3,
    "start_time": "2022-03-29T13:27:28.522Z"
   },
   {
    "duration": 3,
    "start_time": "2022-03-29T13:27:41.247Z"
   },
   {
    "duration": 4,
    "start_time": "2022-03-29T13:27:57.344Z"
   },
   {
    "duration": 1344,
    "start_time": "2022-03-29T13:27:57.910Z"
   },
   {
    "duration": 4,
    "start_time": "2022-03-29T13:28:35.770Z"
   },
   {
    "duration": 3,
    "start_time": "2022-03-29T13:28:49.081Z"
   },
   {
    "duration": 4,
    "start_time": "2022-03-29T13:28:54.986Z"
   },
   {
    "duration": 1319,
    "start_time": "2022-03-29T13:28:55.747Z"
   },
   {
    "duration": 6,
    "start_time": "2022-03-29T13:29:21.469Z"
   },
   {
    "duration": 7,
    "start_time": "2022-03-29T13:29:49.458Z"
   },
   {
    "duration": 4,
    "start_time": "2022-03-29T13:31:39.788Z"
   },
   {
    "duration": 6,
    "start_time": "2022-03-29T13:31:43.706Z"
   },
   {
    "duration": 2022,
    "start_time": "2022-03-29T13:31:44.190Z"
   },
   {
    "duration": 4,
    "start_time": "2022-03-29T13:32:21.083Z"
   },
   {
    "duration": 2027,
    "start_time": "2022-03-29T13:32:21.383Z"
   },
   {
    "duration": 3,
    "start_time": "2022-03-29T13:33:04.949Z"
   },
   {
    "duration": 4,
    "start_time": "2022-03-29T13:33:10.718Z"
   },
   {
    "duration": 1270,
    "start_time": "2022-03-29T13:33:11.687Z"
   },
   {
    "duration": 1583,
    "start_time": "2022-03-29T13:34:53.926Z"
   },
   {
    "duration": 3,
    "start_time": "2022-03-29T13:34:55.510Z"
   },
   {
    "duration": 322,
    "start_time": "2022-03-29T13:34:55.515Z"
   },
   {
    "duration": 4,
    "start_time": "2022-03-29T13:34:55.839Z"
   },
   {
    "duration": 85,
    "start_time": "2022-03-29T13:34:55.844Z"
   },
   {
    "duration": 85,
    "start_time": "2022-03-29T13:34:55.930Z"
   },
   {
    "duration": 95,
    "start_time": "2022-03-29T13:34:56.016Z"
   },
   {
    "duration": 15,
    "start_time": "2022-03-29T13:34:56.113Z"
   },
   {
    "duration": 892,
    "start_time": "2022-03-29T13:34:56.130Z"
   },
   {
    "duration": 3,
    "start_time": "2022-03-29T13:34:57.025Z"
   },
   {
    "duration": 5,
    "start_time": "2022-03-29T13:34:57.029Z"
   },
   {
    "duration": 43,
    "start_time": "2022-03-29T13:34:57.036Z"
   },
   {
    "duration": 8,
    "start_time": "2022-03-29T13:34:57.081Z"
   },
   {
    "duration": 8,
    "start_time": "2022-03-29T13:34:57.091Z"
   },
   {
    "duration": 62,
    "start_time": "2022-03-29T13:34:57.101Z"
   },
   {
    "duration": 4,
    "start_time": "2022-03-29T13:34:57.165Z"
   },
   {
    "duration": 193,
    "start_time": "2022-03-29T13:34:57.171Z"
   },
   {
    "duration": 2,
    "start_time": "2022-03-29T13:34:57.366Z"
   },
   {
    "duration": 97,
    "start_time": "2022-03-29T13:34:57.370Z"
   },
   {
    "duration": 187,
    "start_time": "2022-03-29T13:34:57.469Z"
   },
   {
    "duration": 4,
    "start_time": "2022-03-29T13:34:57.658Z"
   },
   {
    "duration": 4,
    "start_time": "2022-03-29T13:34:57.664Z"
   },
   {
    "duration": 194,
    "start_time": "2022-03-29T13:34:57.669Z"
   },
   {
    "duration": 5,
    "start_time": "2022-03-29T13:34:57.864Z"
   },
   {
    "duration": 4,
    "start_time": "2022-03-29T13:35:03.012Z"
   },
   {
    "duration": 4,
    "start_time": "2022-03-29T13:35:13.153Z"
   },
   {
    "duration": 1412,
    "start_time": "2022-03-29T13:35:15.135Z"
   },
   {
    "duration": 4,
    "start_time": "2022-03-29T13:35:51.115Z"
   },
   {
    "duration": 1375,
    "start_time": "2022-03-29T13:35:51.447Z"
   },
   {
    "duration": 4,
    "start_time": "2022-03-29T13:35:57.352Z"
   },
   {
    "duration": 1309,
    "start_time": "2022-03-29T13:35:57.618Z"
   },
   {
    "duration": 3,
    "start_time": "2022-03-29T13:36:26.791Z"
   },
   {
    "duration": 1120,
    "start_time": "2022-03-29T13:36:27.523Z"
   },
   {
    "duration": 12,
    "start_time": "2022-03-29T13:42:34.739Z"
   },
   {
    "duration": 1335,
    "start_time": "2022-03-29T13:42:42.728Z"
   },
   {
    "duration": 3,
    "start_time": "2022-03-29T13:44:14.393Z"
   },
   {
    "duration": 3,
    "start_time": "2022-03-29T13:44:16.979Z"
   },
   {
    "duration": 1279,
    "start_time": "2022-03-29T13:44:17.279Z"
   },
   {
    "duration": 4,
    "start_time": "2022-03-29T13:45:10.468Z"
   },
   {
    "duration": 1287,
    "start_time": "2022-03-29T13:45:10.967Z"
   },
   {
    "duration": 13,
    "start_time": "2022-03-29T13:48:41.820Z"
   },
   {
    "duration": 20,
    "start_time": "2022-03-29T13:49:09.056Z"
   },
   {
    "duration": 16,
    "start_time": "2022-03-29T13:49:27.953Z"
   },
   {
    "duration": 12,
    "start_time": "2022-03-29T13:50:37.787Z"
   },
   {
    "duration": 1812,
    "start_time": "2022-03-29T13:50:44.657Z"
   },
   {
    "duration": 4,
    "start_time": "2022-03-29T13:50:52.264Z"
   },
   {
    "duration": 1277,
    "start_time": "2022-03-29T13:50:52.614Z"
   },
   {
    "duration": 4,
    "start_time": "2022-03-29T14:02:20.326Z"
   },
   {
    "duration": 5,
    "start_time": "2022-03-29T14:02:37.221Z"
   },
   {
    "duration": 1373,
    "start_time": "2022-03-29T14:02:37.771Z"
   },
   {
    "duration": 4,
    "start_time": "2022-03-29T14:02:54.250Z"
   },
   {
    "duration": 4,
    "start_time": "2022-03-29T14:03:02.840Z"
   },
   {
    "duration": 1347,
    "start_time": "2022-03-29T14:03:03.373Z"
   },
   {
    "duration": 2328,
    "start_time": "2022-03-29T14:09:17.350Z"
   },
   {
    "duration": 5,
    "start_time": "2022-03-29T14:09:19.681Z"
   },
   {
    "duration": 449,
    "start_time": "2022-03-29T14:09:19.688Z"
   },
   {
    "duration": 5,
    "start_time": "2022-03-29T14:09:20.142Z"
   },
   {
    "duration": 135,
    "start_time": "2022-03-29T14:09:20.150Z"
   },
   {
    "duration": 121,
    "start_time": "2022-03-29T14:09:20.287Z"
   },
   {
    "duration": 136,
    "start_time": "2022-03-29T14:09:20.411Z"
   },
   {
    "duration": 23,
    "start_time": "2022-03-29T14:09:20.549Z"
   },
   {
    "duration": 1473,
    "start_time": "2022-03-29T14:09:20.574Z"
   },
   {
    "duration": 4,
    "start_time": "2022-03-29T14:09:22.051Z"
   },
   {
    "duration": 13,
    "start_time": "2022-03-29T14:09:22.056Z"
   },
   {
    "duration": 43,
    "start_time": "2022-03-29T14:09:22.071Z"
   },
   {
    "duration": 30,
    "start_time": "2022-03-29T14:09:22.116Z"
   },
   {
    "duration": 6,
    "start_time": "2022-03-29T14:09:22.148Z"
   },
   {
    "duration": 63,
    "start_time": "2022-03-29T14:09:22.156Z"
   },
   {
    "duration": 4,
    "start_time": "2022-03-29T14:09:22.221Z"
   },
   {
    "duration": 317,
    "start_time": "2022-03-29T14:09:22.227Z"
   },
   {
    "duration": 4,
    "start_time": "2022-03-29T14:09:22.548Z"
   },
   {
    "duration": 17,
    "start_time": "2022-03-29T14:09:22.643Z"
   },
   {
    "duration": 420,
    "start_time": "2022-03-29T14:09:22.663Z"
   },
   {
    "duration": 4,
    "start_time": "2022-03-29T14:09:23.085Z"
   },
   {
    "duration": 33,
    "start_time": "2022-03-29T14:09:23.091Z"
   },
   {
    "duration": 342,
    "start_time": "2022-03-29T14:09:23.127Z"
   },
   {
    "duration": 6,
    "start_time": "2022-03-29T14:09:23.471Z"
   },
   {
    "duration": 27,
    "start_time": "2022-03-29T14:09:23.479Z"
   },
   {
    "duration": 34,
    "start_time": "2022-03-29T14:09:23.508Z"
   },
   {
    "duration": 422,
    "start_time": "2022-03-29T14:09:23.544Z"
   },
   {
    "duration": 6,
    "start_time": "2022-03-29T14:09:23.971Z"
   },
   {
    "duration": 2126,
    "start_time": "2022-03-29T14:09:23.979Z"
   },
   {
    "duration": 1979,
    "start_time": "2022-03-29T14:11:15.523Z"
   },
   {
    "duration": 5,
    "start_time": "2022-03-29T14:11:17.504Z"
   },
   {
    "duration": 439,
    "start_time": "2022-03-29T14:11:17.511Z"
   },
   {
    "duration": 5,
    "start_time": "2022-03-29T14:11:17.953Z"
   },
   {
    "duration": 130,
    "start_time": "2022-03-29T14:11:17.960Z"
   },
   {
    "duration": 117,
    "start_time": "2022-03-29T14:11:18.092Z"
   },
   {
    "duration": 149,
    "start_time": "2022-03-29T14:11:18.211Z"
   },
   {
    "duration": 20,
    "start_time": "2022-03-29T14:11:18.362Z"
   },
   {
    "duration": 1393,
    "start_time": "2022-03-29T14:11:18.384Z"
   },
   {
    "duration": 15,
    "start_time": "2022-03-29T14:11:19.781Z"
   },
   {
    "duration": 50,
    "start_time": "2022-03-29T14:11:19.799Z"
   },
   {
    "duration": 56,
    "start_time": "2022-03-29T14:11:19.852Z"
   },
   {
    "duration": 10,
    "start_time": "2022-03-29T14:11:19.910Z"
   },
   {
    "duration": 32,
    "start_time": "2022-03-29T14:11:19.922Z"
   },
   {
    "duration": 92,
    "start_time": "2022-03-29T14:11:19.956Z"
   },
   {
    "duration": 4,
    "start_time": "2022-03-29T14:11:20.051Z"
   },
   {
    "duration": 286,
    "start_time": "2022-03-29T14:11:20.057Z"
   },
   {
    "duration": 5,
    "start_time": "2022-03-29T14:11:20.347Z"
   },
   {
    "duration": 11,
    "start_time": "2022-03-29T14:11:20.444Z"
   },
   {
    "duration": 429,
    "start_time": "2022-03-29T14:11:20.458Z"
   },
   {
    "duration": 4,
    "start_time": "2022-03-29T14:11:20.889Z"
   },
   {
    "duration": 7,
    "start_time": "2022-03-29T14:11:20.895Z"
   },
   {
    "duration": 374,
    "start_time": "2022-03-29T14:11:20.904Z"
   },
   {
    "duration": 6,
    "start_time": "2022-03-29T14:11:21.281Z"
   },
   {
    "duration": 6,
    "start_time": "2022-03-29T14:11:21.289Z"
   },
   {
    "duration": 46,
    "start_time": "2022-03-29T14:11:21.297Z"
   },
   {
    "duration": 535,
    "start_time": "2022-03-29T14:11:21.345Z"
   },
   {
    "duration": 7,
    "start_time": "2022-03-29T14:11:21.885Z"
   },
   {
    "duration": 2255,
    "start_time": "2022-03-29T14:11:21.894Z"
   },
   {
    "duration": 1921,
    "start_time": "2022-03-29T14:15:32.772Z"
   },
   {
    "duration": 5,
    "start_time": "2022-03-29T14:15:34.696Z"
   },
   {
    "duration": 437,
    "start_time": "2022-03-29T14:15:34.704Z"
   },
   {
    "duration": 7,
    "start_time": "2022-03-29T14:15:35.144Z"
   },
   {
    "duration": 141,
    "start_time": "2022-03-29T14:15:35.153Z"
   },
   {
    "duration": 121,
    "start_time": "2022-03-29T14:15:35.296Z"
   },
   {
    "duration": 126,
    "start_time": "2022-03-29T14:15:35.442Z"
   },
   {
    "duration": 23,
    "start_time": "2022-03-29T14:15:35.571Z"
   },
   {
    "duration": 1037,
    "start_time": "2022-03-29T14:15:35.596Z"
   },
   {
    "duration": 0,
    "start_time": "2022-03-29T14:15:36.643Z"
   },
   {
    "duration": 0,
    "start_time": "2022-03-29T14:15:36.645Z"
   },
   {
    "duration": 0,
    "start_time": "2022-03-29T14:15:36.647Z"
   },
   {
    "duration": 0,
    "start_time": "2022-03-29T14:15:36.650Z"
   },
   {
    "duration": 0,
    "start_time": "2022-03-29T14:15:36.652Z"
   },
   {
    "duration": 0,
    "start_time": "2022-03-29T14:15:36.654Z"
   },
   {
    "duration": 0,
    "start_time": "2022-03-29T14:15:36.656Z"
   },
   {
    "duration": 0,
    "start_time": "2022-03-29T14:15:36.658Z"
   },
   {
    "duration": 0,
    "start_time": "2022-03-29T14:15:36.660Z"
   },
   {
    "duration": 0,
    "start_time": "2022-03-29T14:15:36.662Z"
   },
   {
    "duration": 0,
    "start_time": "2022-03-29T14:15:36.664Z"
   },
   {
    "duration": 0,
    "start_time": "2022-03-29T14:15:36.666Z"
   },
   {
    "duration": 0,
    "start_time": "2022-03-29T14:15:36.668Z"
   },
   {
    "duration": 0,
    "start_time": "2022-03-29T14:15:36.670Z"
   },
   {
    "duration": 0,
    "start_time": "2022-03-29T14:15:36.672Z"
   },
   {
    "duration": 0,
    "start_time": "2022-03-29T14:15:36.674Z"
   },
   {
    "duration": 0,
    "start_time": "2022-03-29T14:15:36.676Z"
   },
   {
    "duration": 0,
    "start_time": "2022-03-29T14:15:36.678Z"
   },
   {
    "duration": 0,
    "start_time": "2022-03-29T14:15:36.680Z"
   },
   {
    "duration": 0,
    "start_time": "2022-03-29T14:15:36.682Z"
   },
   {
    "duration": 909,
    "start_time": "2022-03-29T14:15:59.754Z"
   },
   {
    "duration": 1530,
    "start_time": "2022-03-29T14:16:09.307Z"
   },
   {
    "duration": 1413,
    "start_time": "2022-03-29T14:16:17.798Z"
   },
   {
    "duration": 177,
    "start_time": "2022-03-29T14:16:33.323Z"
   },
   {
    "duration": 866,
    "start_time": "2022-03-29T14:16:40.379Z"
   },
   {
    "duration": 891,
    "start_time": "2022-03-29T14:16:51.199Z"
   },
   {
    "duration": 1499,
    "start_time": "2022-03-29T14:17:04.597Z"
   },
   {
    "duration": 1395,
    "start_time": "2022-03-29T14:17:10.433Z"
   },
   {
    "duration": 4,
    "start_time": "2022-03-29T14:17:17.056Z"
   },
   {
    "duration": 5,
    "start_time": "2022-03-29T14:17:18.223Z"
   },
   {
    "duration": 40,
    "start_time": "2022-03-29T14:17:18.989Z"
   },
   {
    "duration": 11,
    "start_time": "2022-03-29T14:17:20.171Z"
   },
   {
    "duration": 6,
    "start_time": "2022-03-29T14:17:25.895Z"
   },
   {
    "duration": 51,
    "start_time": "2022-03-29T14:17:26.812Z"
   },
   {
    "duration": 4,
    "start_time": "2022-03-29T14:17:27.913Z"
   },
   {
    "duration": 203,
    "start_time": "2022-03-29T14:17:31.849Z"
   },
   {
    "duration": 4,
    "start_time": "2022-03-29T14:17:33.903Z"
   },
   {
    "duration": 10,
    "start_time": "2022-03-29T14:17:34.568Z"
   },
   {
    "duration": 10,
    "start_time": "2022-03-29T14:17:50.396Z"
   },
   {
    "duration": 340,
    "start_time": "2022-03-29T14:17:59.036Z"
   },
   {
    "duration": 4,
    "start_time": "2022-03-29T14:18:11.912Z"
   },
   {
    "duration": 5,
    "start_time": "2022-03-29T14:18:12.779Z"
   },
   {
    "duration": 349,
    "start_time": "2022-03-29T14:18:13.430Z"
   },
   {
    "duration": 6,
    "start_time": "2022-03-29T14:18:18.767Z"
   },
   {
    "duration": 8,
    "start_time": "2022-03-29T14:18:19.886Z"
   },
   {
    "duration": 21,
    "start_time": "2022-03-29T14:18:21.802Z"
   },
   {
    "duration": 335,
    "start_time": "2022-03-29T14:18:22.686Z"
   },
   {
    "duration": 7,
    "start_time": "2022-03-29T14:18:27.339Z"
   },
   {
    "duration": 2113,
    "start_time": "2022-03-29T14:18:28.007Z"
   },
   {
    "duration": 15,
    "start_time": "2022-03-29T14:19:42.578Z"
   },
   {
    "duration": 10,
    "start_time": "2022-03-29T14:19:55.152Z"
   },
   {
    "duration": 327,
    "start_time": "2022-03-29T14:19:55.902Z"
   },
   {
    "duration": 7,
    "start_time": "2022-03-29T14:20:37.381Z"
   },
   {
    "duration": 6,
    "start_time": "2022-03-29T14:20:38.134Z"
   },
   {
    "duration": 21,
    "start_time": "2022-03-29T14:20:38.651Z"
   },
   {
    "duration": 327,
    "start_time": "2022-03-29T14:20:39.267Z"
   },
   {
    "duration": 7,
    "start_time": "2022-03-29T14:20:41.202Z"
   },
   {
    "duration": 2185,
    "start_time": "2022-03-29T14:20:41.636Z"
   },
   {
    "duration": 10,
    "start_time": "2022-03-29T14:21:21.048Z"
   },
   {
    "duration": 2127,
    "start_time": "2022-03-29T14:21:21.448Z"
   },
   {
    "duration": 7,
    "start_time": "2022-03-29T14:22:43.308Z"
   },
   {
    "duration": 17124,
    "start_time": "2022-03-29T14:22:43.656Z"
   },
   {
    "duration": 7,
    "start_time": "2022-03-29T14:24:47.439Z"
   },
   {
    "duration": 15552,
    "start_time": "2022-03-29T14:24:51.198Z"
   },
   {
    "duration": 7,
    "start_time": "2022-03-29T14:26:21.872Z"
   },
   {
    "duration": 15016,
    "start_time": "2022-03-29T14:26:24.457Z"
   },
   {
    "duration": 17,
    "start_time": "2022-03-29T14:28:23.744Z"
   },
   {
    "duration": 2952,
    "start_time": "2022-03-29T14:28:40.105Z"
   },
   {
    "duration": 2095,
    "start_time": "2022-03-29T14:29:08.326Z"
   },
   {
    "duration": 7,
    "start_time": "2022-03-29T14:34:52.383Z"
   },
   {
    "duration": 2191,
    "start_time": "2022-03-29T14:34:52.393Z"
   },
   {
    "duration": 7,
    "start_time": "2022-03-29T14:35:18.468Z"
   },
   {
    "duration": 2095,
    "start_time": "2022-03-29T14:35:18.768Z"
   },
   {
    "duration": 5,
    "start_time": "2022-03-29T14:38:56.726Z"
   },
   {
    "duration": 20,
    "start_time": "2022-03-29T14:38:57.092Z"
   },
   {
    "duration": 322,
    "start_time": "2022-03-29T14:38:57.497Z"
   },
   {
    "duration": 333,
    "start_time": "2022-03-29T14:39:11.519Z"
   },
   {
    "duration": 430,
    "start_time": "2022-03-29T14:40:01.288Z"
   },
   {
    "duration": 2309,
    "start_time": "2022-03-29T14:40:42.799Z"
   },
   {
    "duration": 5,
    "start_time": "2022-03-29T14:40:45.111Z"
   },
   {
    "duration": 459,
    "start_time": "2022-03-29T14:40:45.118Z"
   },
   {
    "duration": 5,
    "start_time": "2022-03-29T14:40:45.580Z"
   },
   {
    "duration": 125,
    "start_time": "2022-03-29T14:40:45.587Z"
   },
   {
    "duration": 131,
    "start_time": "2022-03-29T14:40:45.715Z"
   },
   {
    "duration": 130,
    "start_time": "2022-03-29T14:40:45.848Z"
   },
   {
    "duration": 22,
    "start_time": "2022-03-29T14:40:45.980Z"
   },
   {
    "duration": 1479,
    "start_time": "2022-03-29T14:40:46.004Z"
   },
   {
    "duration": 4,
    "start_time": "2022-03-29T14:40:47.487Z"
   },
   {
    "duration": 7,
    "start_time": "2022-03-29T14:40:47.493Z"
   },
   {
    "duration": 77,
    "start_time": "2022-03-29T14:40:47.502Z"
   },
   {
    "duration": 9,
    "start_time": "2022-03-29T14:40:47.582Z"
   },
   {
    "duration": 6,
    "start_time": "2022-03-29T14:40:47.593Z"
   },
   {
    "duration": 69,
    "start_time": "2022-03-29T14:40:47.601Z"
   },
   {
    "duration": 4,
    "start_time": "2022-03-29T14:40:47.673Z"
   },
   {
    "duration": 380,
    "start_time": "2022-03-29T14:40:47.680Z"
   },
   {
    "duration": 3,
    "start_time": "2022-03-29T14:40:48.143Z"
   },
   {
    "duration": 11,
    "start_time": "2022-03-29T14:40:48.148Z"
   },
   {
    "duration": 361,
    "start_time": "2022-03-29T14:40:48.161Z"
   },
   {
    "duration": 5,
    "start_time": "2022-03-29T14:40:48.525Z"
   },
   {
    "duration": 17,
    "start_time": "2022-03-29T14:40:48.532Z"
   },
   {
    "duration": 361,
    "start_time": "2022-03-29T14:40:48.551Z"
   },
   {
    "duration": 8,
    "start_time": "2022-03-29T14:40:48.914Z"
   },
   {
    "duration": 8,
    "start_time": "2022-03-29T14:40:48.924Z"
   },
   {
    "duration": 27,
    "start_time": "2022-03-29T14:40:48.934Z"
   },
   {
    "duration": 417,
    "start_time": "2022-03-29T14:40:48.963Z"
   },
   {
    "duration": 59,
    "start_time": "2022-03-29T14:40:49.385Z"
   },
   {
    "duration": 2333,
    "start_time": "2022-03-29T14:40:49.446Z"
   },
   {
    "duration": 277,
    "start_time": "2022-03-29T14:41:47.784Z"
   },
   {
    "duration": 199,
    "start_time": "2022-03-29T14:42:32.032Z"
   },
   {
    "duration": 7,
    "start_time": "2022-03-29T14:43:17.536Z"
   },
   {
    "duration": 21,
    "start_time": "2022-03-29T14:43:17.874Z"
   },
   {
    "duration": 276,
    "start_time": "2022-03-29T14:43:18.526Z"
   },
   {
    "duration": 197,
    "start_time": "2022-03-29T14:43:34.992Z"
   },
   {
    "duration": 290,
    "start_time": "2022-03-29T14:43:42.632Z"
   },
   {
    "duration": 329,
    "start_time": "2022-03-29T14:44:24.562Z"
   },
   {
    "duration": 325,
    "start_time": "2022-03-29T14:44:28.983Z"
   },
   {
    "duration": 5,
    "start_time": "2022-03-29T14:44:36.098Z"
   },
   {
    "duration": 6,
    "start_time": "2022-03-29T14:44:41.574Z"
   },
   {
    "duration": 2368,
    "start_time": "2022-03-29T14:44:42.275Z"
   },
   {
    "duration": 5,
    "start_time": "2022-03-29T14:45:01.591Z"
   },
   {
    "duration": 20,
    "start_time": "2022-03-29T14:45:06.843Z"
   },
   {
    "duration": 322,
    "start_time": "2022-03-29T14:45:07.576Z"
   },
   {
    "duration": 6,
    "start_time": "2022-03-29T14:45:39.413Z"
   },
   {
    "duration": 2101,
    "start_time": "2022-03-29T14:45:40.199Z"
   },
   {
    "duration": 7,
    "start_time": "2022-03-29T14:46:15.492Z"
   },
   {
    "duration": 2142,
    "start_time": "2022-03-29T14:46:15.773Z"
   },
   {
    "duration": 39,
    "start_time": "2022-03-29T14:56:15.941Z"
   },
   {
    "duration": 4,
    "start_time": "2022-03-29T14:56:16.541Z"
   },
   {
    "duration": 33,
    "start_time": "2022-03-29T14:56:17.024Z"
   },
   {
    "duration": 19,
    "start_time": "2022-03-29T14:56:36.972Z"
   },
   {
    "duration": 8,
    "start_time": "2022-03-29T14:57:42.570Z"
   },
   {
    "duration": 2089,
    "start_time": "2022-03-29T14:58:12.316Z"
   },
   {
    "duration": 4,
    "start_time": "2022-03-29T14:58:14.408Z"
   },
   {
    "duration": 476,
    "start_time": "2022-03-29T14:58:14.414Z"
   },
   {
    "duration": 6,
    "start_time": "2022-03-29T14:58:14.893Z"
   },
   {
    "duration": 144,
    "start_time": "2022-03-29T14:58:14.902Z"
   },
   {
    "duration": 130,
    "start_time": "2022-03-29T14:58:15.048Z"
   },
   {
    "duration": 131,
    "start_time": "2022-03-29T14:58:15.180Z"
   },
   {
    "duration": 42,
    "start_time": "2022-03-29T14:58:15.314Z"
   },
   {
    "duration": 1495,
    "start_time": "2022-03-29T14:58:15.358Z"
   },
   {
    "duration": 4,
    "start_time": "2022-03-29T14:58:16.859Z"
   },
   {
    "duration": 32,
    "start_time": "2022-03-29T14:58:16.865Z"
   },
   {
    "duration": 84,
    "start_time": "2022-03-29T14:58:16.900Z"
   },
   {
    "duration": 4,
    "start_time": "2022-03-29T14:58:16.986Z"
   },
   {
    "duration": 33,
    "start_time": "2022-03-29T14:58:16.991Z"
   },
   {
    "duration": 33,
    "start_time": "2022-03-29T14:58:17.026Z"
   },
   {
    "duration": 54,
    "start_time": "2022-03-29T14:58:17.062Z"
   },
   {
    "duration": 5,
    "start_time": "2022-03-29T14:58:17.119Z"
   },
   {
    "duration": 127,
    "start_time": "2022-03-29T14:58:17.127Z"
   },
   {
    "duration": 89,
    "start_time": "2022-03-29T14:58:17.256Z"
   },
   {
    "duration": 102,
    "start_time": "2022-03-29T14:58:17.347Z"
   },
   {
    "duration": 345,
    "start_time": "2022-03-29T14:58:17.451Z"
   },
   {
    "duration": 4,
    "start_time": "2022-03-29T14:58:17.799Z"
   },
   {
    "duration": 8,
    "start_time": "2022-03-29T14:58:17.805Z"
   },
   {
    "duration": 374,
    "start_time": "2022-03-29T14:58:17.815Z"
   },
   {
    "duration": 6,
    "start_time": "2022-03-29T14:58:18.191Z"
   },
   {
    "duration": 10,
    "start_time": "2022-03-29T14:58:18.199Z"
   },
   {
    "duration": 44,
    "start_time": "2022-03-29T14:58:18.211Z"
   },
   {
    "duration": 435,
    "start_time": "2022-03-29T14:58:18.260Z"
   },
   {
    "duration": 7,
    "start_time": "2022-03-29T14:58:18.697Z"
   },
   {
    "duration": 2091,
    "start_time": "2022-03-29T14:58:18.706Z"
   },
   {
    "duration": 14,
    "start_time": "2022-03-29T14:59:31.238Z"
   },
   {
    "duration": 1961,
    "start_time": "2022-03-29T14:59:50.956Z"
   },
   {
    "duration": 4,
    "start_time": "2022-03-29T14:59:52.920Z"
   },
   {
    "duration": 457,
    "start_time": "2022-03-29T14:59:52.926Z"
   },
   {
    "duration": 5,
    "start_time": "2022-03-29T14:59:53.386Z"
   },
   {
    "duration": 116,
    "start_time": "2022-03-29T14:59:53.393Z"
   },
   {
    "duration": 142,
    "start_time": "2022-03-29T14:59:53.511Z"
   },
   {
    "duration": 121,
    "start_time": "2022-03-29T14:59:53.655Z"
   },
   {
    "duration": 20,
    "start_time": "2022-03-29T14:59:53.779Z"
   },
   {
    "duration": 1460,
    "start_time": "2022-03-29T14:59:53.802Z"
   },
   {
    "duration": 3,
    "start_time": "2022-03-29T14:59:55.266Z"
   },
   {
    "duration": 8,
    "start_time": "2022-03-29T14:59:55.271Z"
   },
   {
    "duration": 61,
    "start_time": "2022-03-29T14:59:55.281Z"
   },
   {
    "duration": 4,
    "start_time": "2022-03-29T14:59:55.344Z"
   },
   {
    "duration": 9,
    "start_time": "2022-03-29T14:59:55.351Z"
   },
   {
    "duration": 5,
    "start_time": "2022-03-29T14:59:55.362Z"
   },
   {
    "duration": 46,
    "start_time": "2022-03-29T14:59:55.369Z"
   },
   {
    "duration": 5,
    "start_time": "2022-03-29T14:59:55.443Z"
   },
   {
    "duration": 293,
    "start_time": "2022-03-29T14:59:55.450Z"
   },
   {
    "duration": 5,
    "start_time": "2022-03-29T14:59:55.746Z"
   },
   {
    "duration": 10,
    "start_time": "2022-03-29T14:59:55.844Z"
   },
   {
    "duration": 354,
    "start_time": "2022-03-29T14:59:55.856Z"
   },
   {
    "duration": 5,
    "start_time": "2022-03-29T14:59:56.212Z"
   },
   {
    "duration": 11,
    "start_time": "2022-03-29T14:59:56.219Z"
   },
   {
    "duration": 372,
    "start_time": "2022-03-29T14:59:56.244Z"
   },
   {
    "duration": 7,
    "start_time": "2022-03-29T14:59:56.619Z"
   },
   {
    "duration": 18,
    "start_time": "2022-03-29T14:59:56.628Z"
   },
   {
    "duration": 23,
    "start_time": "2022-03-29T14:59:56.648Z"
   },
   {
    "duration": 414,
    "start_time": "2022-03-29T14:59:56.676Z"
   },
   {
    "duration": 7,
    "start_time": "2022-03-29T14:59:57.092Z"
   },
   {
    "duration": 2145,
    "start_time": "2022-03-29T14:59:57.101Z"
   },
   {
    "duration": 4,
    "start_time": "2022-03-29T15:02:31.457Z"
   },
   {
    "duration": 6,
    "start_time": "2022-03-29T15:03:19.408Z"
   },
   {
    "duration": 20,
    "start_time": "2022-03-29T15:03:19.862Z"
   },
   {
    "duration": 5,
    "start_time": "2022-03-29T15:03:20.372Z"
   },
   {
    "duration": 6,
    "start_time": "2022-03-29T15:05:50.340Z"
   },
   {
    "duration": 22,
    "start_time": "2022-03-29T15:05:50.817Z"
   },
   {
    "duration": 5,
    "start_time": "2022-03-29T15:05:51.584Z"
   },
   {
    "duration": 6,
    "start_time": "2022-03-29T15:06:03.760Z"
   },
   {
    "duration": 160,
    "start_time": "2022-03-29T15:06:04.276Z"
   },
   {
    "duration": 5,
    "start_time": "2022-03-29T15:06:04.777Z"
   },
   {
    "duration": 6,
    "start_time": "2022-03-29T15:07:07.372Z"
   },
   {
    "duration": 21,
    "start_time": "2022-03-29T15:07:07.905Z"
   },
   {
    "duration": 5,
    "start_time": "2022-03-29T15:07:55.508Z"
   },
   {
    "duration": 22,
    "start_time": "2022-03-29T15:07:56.090Z"
   },
   {
    "duration": 4,
    "start_time": "2022-03-29T15:07:57.492Z"
   },
   {
    "duration": 313,
    "start_time": "2022-03-29T15:07:59.260Z"
   },
   {
    "duration": 2110,
    "start_time": "2022-03-29T15:09:07.256Z"
   },
   {
    "duration": 5,
    "start_time": "2022-03-29T15:09:09.369Z"
   },
   {
    "duration": 464,
    "start_time": "2022-03-29T15:09:09.376Z"
   },
   {
    "duration": 6,
    "start_time": "2022-03-29T15:09:09.842Z"
   },
   {
    "duration": 135,
    "start_time": "2022-03-29T15:09:09.850Z"
   },
   {
    "duration": 115,
    "start_time": "2022-03-29T15:09:09.987Z"
   },
   {
    "duration": 150,
    "start_time": "2022-03-29T15:09:10.104Z"
   },
   {
    "duration": 21,
    "start_time": "2022-03-29T15:09:10.256Z"
   },
   {
    "duration": 1418,
    "start_time": "2022-03-29T15:09:10.280Z"
   },
   {
    "duration": 4,
    "start_time": "2022-03-29T15:09:11.702Z"
   },
   {
    "duration": 16,
    "start_time": "2022-03-29T15:09:11.708Z"
   },
   {
    "duration": 51,
    "start_time": "2022-03-29T15:09:11.726Z"
   },
   {
    "duration": 4,
    "start_time": "2022-03-29T15:09:11.779Z"
   },
   {
    "duration": 33,
    "start_time": "2022-03-29T15:09:11.785Z"
   },
   {
    "duration": 6,
    "start_time": "2022-03-29T15:09:11.821Z"
   },
   {
    "duration": 67,
    "start_time": "2022-03-29T15:09:11.829Z"
   },
   {
    "duration": 6,
    "start_time": "2022-03-29T15:09:11.898Z"
   },
   {
    "duration": 144,
    "start_time": "2022-03-29T15:09:11.907Z"
   },
   {
    "duration": 98,
    "start_time": "2022-03-29T15:09:12.145Z"
   },
   {
    "duration": 11,
    "start_time": "2022-03-29T15:09:12.245Z"
   },
   {
    "duration": 355,
    "start_time": "2022-03-29T15:09:12.259Z"
   },
   {
    "duration": 4,
    "start_time": "2022-03-29T15:09:12.616Z"
   },
   {
    "duration": 22,
    "start_time": "2022-03-29T15:09:12.622Z"
   },
   {
    "duration": 372,
    "start_time": "2022-03-29T15:09:12.646Z"
   },
   {
    "duration": 6,
    "start_time": "2022-03-29T15:09:13.021Z"
   },
   {
    "duration": 6,
    "start_time": "2022-03-29T15:09:13.042Z"
   },
   {
    "duration": 23,
    "start_time": "2022-03-29T15:09:13.049Z"
   },
   {
    "duration": 4,
    "start_time": "2022-03-29T15:09:13.077Z"
   },
   {
    "duration": 440,
    "start_time": "2022-03-29T15:09:13.090Z"
   },
   {
    "duration": 15,
    "start_time": "2022-03-29T15:09:13.532Z"
   },
   {
    "duration": 2668,
    "start_time": "2022-03-29T15:09:13.549Z"
   },
   {
    "duration": 2187,
    "start_time": "2022-03-29T15:20:24.149Z"
   },
   {
    "duration": 6,
    "start_time": "2022-03-29T15:20:26.339Z"
   },
   {
    "duration": 432,
    "start_time": "2022-03-29T15:20:26.347Z"
   },
   {
    "duration": 6,
    "start_time": "2022-03-29T15:20:26.783Z"
   },
   {
    "duration": 124,
    "start_time": "2022-03-29T15:20:26.791Z"
   },
   {
    "duration": 153,
    "start_time": "2022-03-29T15:20:26.917Z"
   },
   {
    "duration": 126,
    "start_time": "2022-03-29T15:20:27.073Z"
   },
   {
    "duration": 21,
    "start_time": "2022-03-29T15:20:27.201Z"
   },
   {
    "duration": 1413,
    "start_time": "2022-03-29T15:20:27.243Z"
   },
   {
    "duration": 4,
    "start_time": "2022-03-29T15:20:28.660Z"
   },
   {
    "duration": 8,
    "start_time": "2022-03-29T15:20:28.666Z"
   },
   {
    "duration": 45,
    "start_time": "2022-03-29T15:20:28.676Z"
   },
   {
    "duration": 21,
    "start_time": "2022-03-29T15:20:28.723Z"
   },
   {
    "duration": 29,
    "start_time": "2022-03-29T15:20:28.746Z"
   },
   {
    "duration": 13,
    "start_time": "2022-03-29T15:20:28.777Z"
   },
   {
    "duration": 59,
    "start_time": "2022-03-29T15:20:28.792Z"
   },
   {
    "duration": 5,
    "start_time": "2022-03-29T15:20:28.853Z"
   },
   {
    "duration": 192,
    "start_time": "2022-03-29T15:20:28.860Z"
   },
   {
    "duration": 5,
    "start_time": "2022-03-29T15:20:29.144Z"
   },
   {
    "duration": 102,
    "start_time": "2022-03-29T15:20:29.152Z"
   },
   {
    "duration": 348,
    "start_time": "2022-03-29T15:20:29.257Z"
   },
   {
    "duration": 4,
    "start_time": "2022-03-29T15:20:29.607Z"
   },
   {
    "duration": 10,
    "start_time": "2022-03-29T15:20:29.613Z"
   },
   {
    "duration": 378,
    "start_time": "2022-03-29T15:20:29.625Z"
   },
   {
    "duration": 7,
    "start_time": "2022-03-29T15:20:30.005Z"
   },
   {
    "duration": 13,
    "start_time": "2022-03-29T15:20:30.014Z"
   },
   {
    "duration": 22,
    "start_time": "2022-03-29T15:20:30.042Z"
   },
   {
    "duration": 433,
    "start_time": "2022-03-29T15:20:30.069Z"
   },
   {
    "duration": 7,
    "start_time": "2022-03-29T15:20:30.504Z"
   },
   {
    "duration": 2176,
    "start_time": "2022-03-29T15:20:30.513Z"
   },
   {
    "duration": 7,
    "start_time": "2022-03-29T15:21:31.976Z"
   },
   {
    "duration": 2068,
    "start_time": "2022-03-29T15:21:32.692Z"
   },
   {
    "duration": 10,
    "start_time": "2022-03-29T15:22:52.690Z"
   },
   {
    "duration": 171,
    "start_time": "2022-03-29T15:22:53.368Z"
   },
   {
    "duration": 167,
    "start_time": "2022-03-29T15:23:21.076Z"
   },
   {
    "duration": 7,
    "start_time": "2022-03-29T15:23:31.495Z"
   },
   {
    "duration": 17,
    "start_time": "2022-03-29T15:23:34.145Z"
   },
   {
    "duration": 21,
    "start_time": "2022-03-29T15:23:53.863Z"
   },
   {
    "duration": 12,
    "start_time": "2022-03-29T15:24:24.118Z"
   },
   {
    "duration": 2118,
    "start_time": "2022-03-29T15:26:26.537Z"
   },
   {
    "duration": 6,
    "start_time": "2022-03-29T15:27:34.387Z"
   },
   {
    "duration": 7,
    "start_time": "2022-03-29T15:27:37.388Z"
   },
   {
    "duration": 2095,
    "start_time": "2022-03-29T15:27:37.687Z"
   },
   {
    "duration": 6,
    "start_time": "2022-03-29T15:38:43.402Z"
   },
   {
    "duration": 21,
    "start_time": "2022-03-29T15:38:43.770Z"
   },
   {
    "duration": 342,
    "start_time": "2022-03-29T15:38:44.812Z"
   },
   {
    "duration": 7,
    "start_time": "2022-03-29T15:38:53.404Z"
   },
   {
    "duration": 2071,
    "start_time": "2022-03-29T15:38:53.877Z"
   },
   {
    "duration": 1994,
    "start_time": "2022-03-29T15:39:05.068Z"
   },
   {
    "duration": 4,
    "start_time": "2022-03-29T15:39:07.065Z"
   },
   {
    "duration": 491,
    "start_time": "2022-03-29T15:39:07.072Z"
   },
   {
    "duration": 8,
    "start_time": "2022-03-29T15:39:07.565Z"
   },
   {
    "duration": 148,
    "start_time": "2022-03-29T15:39:07.578Z"
   },
   {
    "duration": 126,
    "start_time": "2022-03-29T15:39:07.743Z"
   },
   {
    "duration": 126,
    "start_time": "2022-03-29T15:39:07.872Z"
   },
   {
    "duration": 23,
    "start_time": "2022-03-29T15:39:08.000Z"
   },
   {
    "duration": 1565,
    "start_time": "2022-03-29T15:39:08.043Z"
   },
   {
    "duration": 3,
    "start_time": "2022-03-29T15:39:09.610Z"
   },
   {
    "duration": 6,
    "start_time": "2022-03-29T15:39:09.615Z"
   },
   {
    "duration": 60,
    "start_time": "2022-03-29T15:39:09.624Z"
   },
   {
    "duration": 5,
    "start_time": "2022-03-29T15:39:09.687Z"
   },
   {
    "duration": 10,
    "start_time": "2022-03-29T15:39:09.698Z"
   },
   {
    "duration": 35,
    "start_time": "2022-03-29T15:39:09.710Z"
   },
   {
    "duration": 50,
    "start_time": "2022-03-29T15:39:09.748Z"
   },
   {
    "duration": 4,
    "start_time": "2022-03-29T15:39:09.801Z"
   },
   {
    "duration": 237,
    "start_time": "2022-03-29T15:39:09.809Z"
   },
   {
    "duration": 95,
    "start_time": "2022-03-29T15:39:10.049Z"
   },
   {
    "duration": 100,
    "start_time": "2022-03-29T15:39:10.147Z"
   },
   {
    "duration": 338,
    "start_time": "2022-03-29T15:39:10.250Z"
   },
   {
    "duration": 5,
    "start_time": "2022-03-29T15:39:10.590Z"
   },
   {
    "duration": 9,
    "start_time": "2022-03-29T15:39:10.597Z"
   },
   {
    "duration": 359,
    "start_time": "2022-03-29T15:39:10.608Z"
   },
   {
    "duration": 6,
    "start_time": "2022-03-29T15:39:10.969Z"
   },
   {
    "duration": 8,
    "start_time": "2022-03-29T15:39:10.977Z"
   },
   {
    "duration": 26,
    "start_time": "2022-03-29T15:39:10.987Z"
   },
   {
    "duration": 410,
    "start_time": "2022-03-29T15:39:11.015Z"
   },
   {
    "duration": 5,
    "start_time": "2022-03-29T15:39:11.427Z"
   },
   {
    "duration": 2246,
    "start_time": "2022-03-29T15:39:11.435Z"
   },
   {
    "duration": 4,
    "start_time": "2022-03-29T15:46:05.323Z"
   },
   {
    "duration": 6,
    "start_time": "2022-03-29T15:46:37.215Z"
   },
   {
    "duration": 1831,
    "start_time": "2022-03-29T15:46:37.580Z"
   },
   {
    "duration": 4,
    "start_time": "2022-03-29T15:48:34.165Z"
   },
   {
    "duration": 4,
    "start_time": "2022-03-29T15:50:06.249Z"
   },
   {
    "duration": 8,
    "start_time": "2022-03-29T15:50:06.865Z"
   },
   {
    "duration": 160,
    "start_time": "2022-03-29T15:50:07.732Z"
   },
   {
    "duration": 5758,
    "start_time": "2022-03-29T15:50:26.964Z"
   },
   {
    "duration": 9,
    "start_time": "2022-03-29T15:51:19.552Z"
   },
   {
    "duration": 1835,
    "start_time": "2022-03-29T15:51:20.301Z"
   },
   {
    "duration": 8,
    "start_time": "2022-03-29T15:51:42.401Z"
   },
   {
    "duration": 5569,
    "start_time": "2022-03-29T15:51:42.918Z"
   },
   {
    "duration": 12,
    "start_time": "2022-03-29T15:58:37.317Z"
   },
   {
    "duration": 2027,
    "start_time": "2022-03-29T15:58:37.954Z"
   },
   {
    "duration": 10,
    "start_time": "2022-03-29T15:58:51.111Z"
   },
   {
    "duration": 5852,
    "start_time": "2022-03-29T15:58:51.661Z"
   },
   {
    "duration": 71,
    "start_time": "2022-03-30T07:12:02.754Z"
   },
   {
    "duration": 2357,
    "start_time": "2022-03-30T07:12:15.545Z"
   },
   {
    "duration": 5,
    "start_time": "2022-03-30T07:12:17.905Z"
   },
   {
    "duration": 432,
    "start_time": "2022-03-30T07:12:17.912Z"
   },
   {
    "duration": 6,
    "start_time": "2022-03-30T07:12:18.347Z"
   },
   {
    "duration": 147,
    "start_time": "2022-03-30T07:12:18.356Z"
   },
   {
    "duration": 117,
    "start_time": "2022-03-30T07:12:18.506Z"
   },
   {
    "duration": 123,
    "start_time": "2022-03-30T07:12:18.626Z"
   },
   {
    "duration": 45,
    "start_time": "2022-03-30T07:12:18.752Z"
   },
   {
    "duration": 1619,
    "start_time": "2022-03-30T07:12:18.800Z"
   },
   {
    "duration": 3,
    "start_time": "2022-03-30T07:12:20.423Z"
   },
   {
    "duration": 76,
    "start_time": "2022-03-30T07:12:20.428Z"
   },
   {
    "duration": 55,
    "start_time": "2022-03-30T07:12:20.506Z"
   },
   {
    "duration": 4,
    "start_time": "2022-03-30T07:12:20.563Z"
   },
   {
    "duration": 27,
    "start_time": "2022-03-30T07:12:20.569Z"
   },
   {
    "duration": 26,
    "start_time": "2022-03-30T07:12:20.598Z"
   },
   {
    "duration": 56,
    "start_time": "2022-03-30T07:12:20.626Z"
   },
   {
    "duration": 5,
    "start_time": "2022-03-30T07:12:20.684Z"
   },
   {
    "duration": 293,
    "start_time": "2022-03-30T07:12:20.691Z"
   },
   {
    "duration": 5,
    "start_time": "2022-03-30T07:12:20.987Z"
   },
   {
    "duration": 195,
    "start_time": "2022-03-30T07:12:20.994Z"
   },
   {
    "duration": 382,
    "start_time": "2022-03-30T07:12:21.192Z"
   },
   {
    "duration": 4,
    "start_time": "2022-03-30T07:12:21.582Z"
   },
   {
    "duration": 35,
    "start_time": "2022-03-30T07:12:21.588Z"
   },
   {
    "duration": 360,
    "start_time": "2022-03-30T07:12:21.625Z"
   },
   {
    "duration": 7,
    "start_time": "2022-03-30T07:12:21.987Z"
   },
   {
    "duration": 27,
    "start_time": "2022-03-30T07:12:21.996Z"
   },
   {
    "duration": 39,
    "start_time": "2022-03-30T07:12:22.026Z"
   },
   {
    "duration": 396,
    "start_time": "2022-03-30T07:12:22.070Z"
   },
   {
    "duration": 4,
    "start_time": "2022-03-30T07:12:22.468Z"
   },
   {
    "duration": 35,
    "start_time": "2022-03-30T07:12:22.474Z"
   },
   {
    "duration": 5836,
    "start_time": "2022-03-30T07:12:22.512Z"
   },
   {
    "duration": 8,
    "start_time": "2022-03-30T07:13:00.971Z"
   },
   {
    "duration": 6146,
    "start_time": "2022-03-30T07:13:02.707Z"
   },
   {
    "duration": 6,
    "start_time": "2022-03-30T07:16:39.298Z"
   },
   {
    "duration": 9,
    "start_time": "2022-03-30T07:16:39.977Z"
   },
   {
    "duration": 3045,
    "start_time": "2022-03-30T07:16:41.046Z"
   },
   {
    "duration": 5,
    "start_time": "2022-03-30T07:16:52.688Z"
   },
   {
    "duration": 14,
    "start_time": "2022-03-30T07:16:53.190Z"
   },
   {
    "duration": 8032,
    "start_time": "2022-03-30T07:16:53.803Z"
   },
   {
    "duration": 5,
    "start_time": "2022-03-30T07:17:31.431Z"
   },
   {
    "duration": 8,
    "start_time": "2022-03-30T07:17:31.750Z"
   },
   {
    "duration": 7647,
    "start_time": "2022-03-30T07:17:31.999Z"
   },
   {
    "duration": 4,
    "start_time": "2022-03-30T07:18:29.380Z"
   },
   {
    "duration": 9,
    "start_time": "2022-03-30T07:18:29.908Z"
   },
   {
    "duration": 7366,
    "start_time": "2022-03-30T07:18:30.442Z"
   },
   {
    "duration": 116,
    "start_time": "2022-03-30T07:18:46.150Z"
   },
   {
    "duration": 12,
    "start_time": "2022-03-30T07:18:46.619Z"
   },
   {
    "duration": 7,
    "start_time": "2022-03-30T07:19:01.112Z"
   },
   {
    "duration": 14,
    "start_time": "2022-03-30T07:21:35.359Z"
   },
   {
    "duration": 8632,
    "start_time": "2022-03-30T07:21:36.124Z"
   },
   {
    "duration": 9,
    "start_time": "2022-03-30T07:21:45.498Z"
   },
   {
    "duration": 21,
    "start_time": "2022-03-30T07:22:34.802Z"
   },
   {
    "duration": 3,
    "start_time": "2022-03-30T07:29:02.848Z"
   },
   {
    "duration": 9,
    "start_time": "2022-03-30T07:29:04.131Z"
   },
   {
    "duration": 6091,
    "start_time": "2022-03-30T07:29:05.515Z"
   },
   {
    "duration": 4,
    "start_time": "2022-03-30T07:29:40.091Z"
   },
   {
    "duration": 11,
    "start_time": "2022-03-30T07:29:40.708Z"
   },
   {
    "duration": 2345,
    "start_time": "2022-03-30T07:29:41.686Z"
   },
   {
    "duration": 5,
    "start_time": "2022-03-30T07:30:04.919Z"
   },
   {
    "duration": 504,
    "start_time": "2022-03-30T07:30:05.809Z"
   },
   {
    "duration": 5579,
    "start_time": "2022-03-30T07:30:06.523Z"
   },
   {
    "duration": 10,
    "start_time": "2022-03-30T07:30:33.796Z"
   },
   {
    "duration": 6112,
    "start_time": "2022-03-30T07:30:34.362Z"
   },
   {
    "duration": 1908,
    "start_time": "2022-03-30T07:31:14.688Z"
   },
   {
    "duration": 6,
    "start_time": "2022-03-30T07:31:16.599Z"
   },
   {
    "duration": 446,
    "start_time": "2022-03-30T07:31:16.608Z"
   },
   {
    "duration": 6,
    "start_time": "2022-03-30T07:31:17.058Z"
   },
   {
    "duration": 140,
    "start_time": "2022-03-30T07:31:17.067Z"
   },
   {
    "duration": 118,
    "start_time": "2022-03-30T07:31:17.209Z"
   },
   {
    "duration": 124,
    "start_time": "2022-03-30T07:31:17.329Z"
   },
   {
    "duration": 38,
    "start_time": "2022-03-30T07:31:17.455Z"
   },
   {
    "duration": 1434,
    "start_time": "2022-03-30T07:31:17.495Z"
   },
   {
    "duration": 3,
    "start_time": "2022-03-30T07:31:18.934Z"
   },
   {
    "duration": 6,
    "start_time": "2022-03-30T07:31:18.939Z"
   },
   {
    "duration": 97,
    "start_time": "2022-03-30T07:31:18.951Z"
   },
   {
    "duration": 5,
    "start_time": "2022-03-30T07:31:19.051Z"
   },
   {
    "duration": 28,
    "start_time": "2022-03-30T07:31:19.059Z"
   },
   {
    "duration": 29,
    "start_time": "2022-03-30T07:31:19.090Z"
   },
   {
    "duration": 59,
    "start_time": "2022-03-30T07:31:19.122Z"
   },
   {
    "duration": 5,
    "start_time": "2022-03-30T07:31:19.183Z"
   },
   {
    "duration": 199,
    "start_time": "2022-03-30T07:31:19.190Z"
   },
   {
    "duration": 105,
    "start_time": "2022-03-30T07:31:19.392Z"
   },
   {
    "duration": 10,
    "start_time": "2022-03-30T07:31:19.583Z"
   },
   {
    "duration": 352,
    "start_time": "2022-03-30T07:31:19.595Z"
   },
   {
    "duration": 4,
    "start_time": "2022-03-30T07:31:19.949Z"
   },
   {
    "duration": 9,
    "start_time": "2022-03-30T07:31:19.955Z"
   },
   {
    "duration": 352,
    "start_time": "2022-03-30T07:31:19.983Z"
   },
   {
    "duration": 7,
    "start_time": "2022-03-30T07:31:20.338Z"
   },
   {
    "duration": 7,
    "start_time": "2022-03-30T07:31:20.347Z"
   },
   {
    "duration": 46,
    "start_time": "2022-03-30T07:31:20.356Z"
   },
   {
    "duration": 412,
    "start_time": "2022-03-30T07:31:20.407Z"
   },
   {
    "duration": 4,
    "start_time": "2022-03-30T07:31:20.822Z"
   },
   {
    "duration": 12,
    "start_time": "2022-03-30T07:31:20.828Z"
   },
   {
    "duration": 11,
    "start_time": "2022-03-30T07:31:20.842Z"
   },
   {
    "duration": 2570,
    "start_time": "2022-03-30T07:31:20.856Z"
   },
   {
    "duration": 0,
    "start_time": "2022-03-30T07:31:23.429Z"
   },
   {
    "duration": 9,
    "start_time": "2022-03-30T07:34:06.467Z"
   },
   {
    "duration": 1825,
    "start_time": "2022-03-30T07:34:07.416Z"
   },
   {
    "duration": 18,
    "start_time": "2022-03-30T07:34:37.372Z"
   },
   {
    "duration": 10,
    "start_time": "2022-03-30T07:35:03.076Z"
   },
   {
    "duration": 1862,
    "start_time": "2022-03-30T07:35:04.892Z"
   },
   {
    "duration": 11,
    "start_time": "2022-03-30T07:36:30.168Z"
   },
   {
    "duration": 6478,
    "start_time": "2022-03-30T07:36:30.753Z"
   },
   {
    "duration": 10,
    "start_time": "2022-03-30T07:37:42.872Z"
   },
   {
    "duration": 6805,
    "start_time": "2022-03-30T07:37:43.539Z"
   },
   {
    "duration": 10,
    "start_time": "2022-03-30T07:38:14.895Z"
   },
   {
    "duration": 2453,
    "start_time": "2022-03-30T07:38:15.295Z"
   },
   {
    "duration": 137,
    "start_time": "2022-03-30T07:39:24.896Z"
   },
   {
    "duration": 3866,
    "start_time": "2022-03-30T07:39:25.647Z"
   },
   {
    "duration": 161,
    "start_time": "2022-03-30T07:42:52.267Z"
   },
   {
    "duration": 2585,
    "start_time": "2022-03-30T07:42:52.697Z"
   },
   {
    "duration": 10,
    "start_time": "2022-03-30T07:42:59.649Z"
   },
   {
    "duration": 2638,
    "start_time": "2022-03-30T07:43:00.268Z"
   },
   {
    "duration": 14,
    "start_time": "2022-03-30T07:43:59.512Z"
   },
   {
    "duration": 3808,
    "start_time": "2022-03-30T07:44:00.158Z"
   },
   {
    "duration": 10,
    "start_time": "2022-03-30T07:44:51.948Z"
   },
   {
    "duration": 2503,
    "start_time": "2022-03-30T07:44:52.381Z"
   },
   {
    "duration": 10,
    "start_time": "2022-03-30T07:45:17.999Z"
   },
   {
    "duration": 2664,
    "start_time": "2022-03-30T07:45:18.598Z"
   },
   {
    "duration": 9,
    "start_time": "2022-03-30T07:46:14.792Z"
   },
   {
    "duration": 6827,
    "start_time": "2022-03-30T07:46:15.408Z"
   },
   {
    "duration": 10,
    "start_time": "2022-03-30T07:46:55.687Z"
   },
   {
    "duration": 10007,
    "start_time": "2022-03-30T07:46:56.154Z"
   },
   {
    "duration": 14,
    "start_time": "2022-03-30T07:47:25.308Z"
   },
   {
    "duration": 10357,
    "start_time": "2022-03-30T07:47:25.825Z"
   },
   {
    "duration": 10,
    "start_time": "2022-03-30T07:47:41.470Z"
   },
   {
    "duration": 6678,
    "start_time": "2022-03-30T07:47:42.819Z"
   },
   {
    "duration": 11,
    "start_time": "2022-03-30T07:47:56.864Z"
   },
   {
    "duration": 8142,
    "start_time": "2022-03-30T07:47:57.583Z"
   },
   {
    "duration": 13,
    "start_time": "2022-03-30T07:48:33.259Z"
   },
   {
    "duration": 2589,
    "start_time": "2022-03-30T07:48:33.672Z"
   },
   {
    "duration": 13,
    "start_time": "2022-03-30T07:48:43.143Z"
   },
   {
    "duration": 7312,
    "start_time": "2022-03-30T07:48:43.663Z"
   },
   {
    "duration": 5,
    "start_time": "2022-03-30T07:49:54.866Z"
   },
   {
    "duration": 10,
    "start_time": "2022-03-30T07:49:55.332Z"
   },
   {
    "duration": 7341,
    "start_time": "2022-03-30T07:49:59.169Z"
   },
   {
    "duration": 14,
    "start_time": "2022-03-30T07:51:24.647Z"
   },
   {
    "duration": 7438,
    "start_time": "2022-03-30T07:51:25.178Z"
   },
   {
    "duration": 14,
    "start_time": "2022-03-30T07:52:43.606Z"
   },
   {
    "duration": 7396,
    "start_time": "2022-03-30T07:52:44.266Z"
   },
   {
    "duration": 11,
    "start_time": "2022-03-30T07:52:59.128Z"
   },
   {
    "duration": 10896,
    "start_time": "2022-03-30T07:53:00.966Z"
   },
   {
    "duration": 190,
    "start_time": "2022-03-30T07:54:52.334Z"
   },
   {
    "duration": 3185,
    "start_time": "2022-03-30T07:54:53.330Z"
   },
   {
    "duration": 11,
    "start_time": "2022-03-30T07:55:11.278Z"
   },
   {
    "duration": 4836,
    "start_time": "2022-03-30T07:55:12.146Z"
   },
   {
    "duration": 12,
    "start_time": "2022-03-30T07:55:49.855Z"
   },
   {
    "duration": 7370,
    "start_time": "2022-03-30T07:55:50.590Z"
   },
   {
    "duration": 13,
    "start_time": "2022-03-30T07:58:14.874Z"
   },
   {
    "duration": 3298,
    "start_time": "2022-03-30T07:58:15.443Z"
   },
   {
    "duration": 10,
    "start_time": "2022-03-30T07:58:55.873Z"
   },
   {
    "duration": 3109,
    "start_time": "2022-03-30T07:58:56.156Z"
   },
   {
    "duration": 16,
    "start_time": "2022-03-30T07:59:12.501Z"
   },
   {
    "duration": 3125,
    "start_time": "2022-03-30T07:59:12.934Z"
   },
   {
    "duration": 12,
    "start_time": "2022-03-30T07:59:25.358Z"
   },
   {
    "duration": 7601,
    "start_time": "2022-03-30T07:59:25.693Z"
   },
   {
    "duration": 195,
    "start_time": "2022-03-30T08:01:40.224Z"
   },
   {
    "duration": 10774,
    "start_time": "2022-03-30T08:01:44.811Z"
   },
   {
    "duration": 14,
    "start_time": "2022-03-30T08:02:41.235Z"
   },
   {
    "duration": 7095,
    "start_time": "2022-03-30T08:02:41.498Z"
   },
   {
    "duration": 12,
    "start_time": "2022-03-30T08:02:56.679Z"
   },
   {
    "duration": 7192,
    "start_time": "2022-03-30T08:02:57.280Z"
   },
   {
    "duration": 12,
    "start_time": "2022-03-30T08:03:11.891Z"
   },
   {
    "duration": 7598,
    "start_time": "2022-03-30T08:03:13.658Z"
   },
   {
    "duration": 13,
    "start_time": "2022-03-30T08:03:30.370Z"
   },
   {
    "duration": 7361,
    "start_time": "2022-03-30T08:03:30.636Z"
   },
   {
    "duration": 12,
    "start_time": "2022-03-30T08:03:47.466Z"
   },
   {
    "duration": 7276,
    "start_time": "2022-03-30T08:03:47.733Z"
   },
   {
    "duration": 11,
    "start_time": "2022-03-30T08:04:39.972Z"
   },
   {
    "duration": 7427,
    "start_time": "2022-03-30T08:04:40.437Z"
   },
   {
    "duration": 12,
    "start_time": "2022-03-30T08:07:30.273Z"
   },
   {
    "duration": 7546,
    "start_time": "2022-03-30T08:07:30.576Z"
   },
   {
    "duration": 12,
    "start_time": "2022-03-30T08:07:51.192Z"
   },
   {
    "duration": 7270,
    "start_time": "2022-03-30T08:07:52.292Z"
   },
   {
    "duration": 13,
    "start_time": "2022-03-30T08:08:13.440Z"
   },
   {
    "duration": 7449,
    "start_time": "2022-03-30T08:08:15.676Z"
   },
   {
    "duration": 13,
    "start_time": "2022-03-30T08:08:33.572Z"
   },
   {
    "duration": 7249,
    "start_time": "2022-03-30T08:08:33.955Z"
   },
   {
    "duration": 13,
    "start_time": "2022-03-30T08:09:23.607Z"
   },
   {
    "duration": 7199,
    "start_time": "2022-03-30T08:09:23.941Z"
   },
   {
    "duration": 13,
    "start_time": "2022-03-30T08:10:06.839Z"
   },
   {
    "duration": 10936,
    "start_time": "2022-03-30T08:10:07.752Z"
   },
   {
    "duration": 194,
    "start_time": "2022-03-30T08:21:37.958Z"
   },
   {
    "duration": 7583,
    "start_time": "2022-03-30T08:21:38.424Z"
   },
   {
    "duration": 2620,
    "start_time": "2022-03-30T08:24:08.024Z"
   },
   {
    "duration": 7,
    "start_time": "2022-03-30T08:24:10.647Z"
   },
   {
    "duration": 536,
    "start_time": "2022-03-30T08:24:10.656Z"
   },
   {
    "duration": 5,
    "start_time": "2022-03-30T08:24:11.195Z"
   },
   {
    "duration": 130,
    "start_time": "2022-03-30T08:24:11.203Z"
   },
   {
    "duration": 116,
    "start_time": "2022-03-30T08:24:11.336Z"
   },
   {
    "duration": 138,
    "start_time": "2022-03-30T08:24:11.454Z"
   },
   {
    "duration": 20,
    "start_time": "2022-03-30T08:24:11.594Z"
   },
   {
    "duration": 1385,
    "start_time": "2022-03-30T08:24:11.616Z"
   },
   {
    "duration": 3,
    "start_time": "2022-03-30T08:24:13.005Z"
   },
   {
    "duration": 9,
    "start_time": "2022-03-30T08:24:13.011Z"
   },
   {
    "duration": 67,
    "start_time": "2022-03-30T08:24:13.023Z"
   },
   {
    "duration": 4,
    "start_time": "2022-03-30T08:24:13.092Z"
   },
   {
    "duration": 11,
    "start_time": "2022-03-30T08:24:13.099Z"
   },
   {
    "duration": 7,
    "start_time": "2022-03-30T08:24:13.112Z"
   },
   {
    "duration": 95,
    "start_time": "2022-03-30T08:24:13.122Z"
   },
   {
    "duration": 6,
    "start_time": "2022-03-30T08:24:13.219Z"
   },
   {
    "duration": 166,
    "start_time": "2022-03-30T08:24:13.227Z"
   },
   {
    "duration": 4,
    "start_time": "2022-03-30T08:24:13.485Z"
   },
   {
    "duration": 95,
    "start_time": "2022-03-30T08:24:13.492Z"
   },
   {
    "duration": 348,
    "start_time": "2022-03-30T08:24:13.589Z"
   },
   {
    "duration": 5,
    "start_time": "2022-03-30T08:24:13.939Z"
   },
   {
    "duration": 14,
    "start_time": "2022-03-30T08:24:13.947Z"
   },
   {
    "duration": 370,
    "start_time": "2022-03-30T08:24:13.981Z"
   },
   {
    "duration": 8,
    "start_time": "2022-03-30T08:24:14.354Z"
   },
   {
    "duration": 20,
    "start_time": "2022-03-30T08:24:14.365Z"
   },
   {
    "duration": 25,
    "start_time": "2022-03-30T08:24:14.388Z"
   },
   {
    "duration": 416,
    "start_time": "2022-03-30T08:24:14.418Z"
   },
   {
    "duration": 4,
    "start_time": "2022-03-30T08:24:14.837Z"
   },
   {
    "duration": 24,
    "start_time": "2022-03-30T08:24:14.844Z"
   },
   {
    "duration": 7458,
    "start_time": "2022-03-30T08:24:14.882Z"
   },
   {
    "duration": 48,
    "start_time": "2022-03-30T08:46:17.546Z"
   },
   {
    "duration": 5,
    "start_time": "2022-03-30T08:46:17.843Z"
   },
   {
    "duration": 11,
    "start_time": "2022-03-30T08:46:41.659Z"
   },
   {
    "duration": 11,
    "start_time": "2022-03-30T08:47:08.998Z"
   },
   {
    "duration": 1724,
    "start_time": "2022-03-30T08:47:18.190Z"
   },
   {
    "duration": 4,
    "start_time": "2022-03-30T08:47:19.916Z"
   },
   {
    "duration": 346,
    "start_time": "2022-03-30T08:47:19.922Z"
   },
   {
    "duration": 4,
    "start_time": "2022-03-30T08:47:20.270Z"
   },
   {
    "duration": 76,
    "start_time": "2022-03-30T08:47:20.280Z"
   },
   {
    "duration": 137,
    "start_time": "2022-03-30T08:47:20.357Z"
   },
   {
    "duration": 103,
    "start_time": "2022-03-30T08:47:20.496Z"
   },
   {
    "duration": 15,
    "start_time": "2022-03-30T08:47:20.601Z"
   },
   {
    "duration": 1468,
    "start_time": "2022-03-30T08:47:20.618Z"
   },
   {
    "duration": 2,
    "start_time": "2022-03-30T08:47:22.089Z"
   },
   {
    "duration": 9,
    "start_time": "2022-03-30T08:47:22.093Z"
   },
   {
    "duration": 38,
    "start_time": "2022-03-30T08:47:22.104Z"
   },
   {
    "duration": 3,
    "start_time": "2022-03-30T08:47:22.143Z"
   },
   {
    "duration": 9,
    "start_time": "2022-03-30T08:47:22.148Z"
   },
   {
    "duration": 23,
    "start_time": "2022-03-30T08:47:22.158Z"
   },
   {
    "duration": 39,
    "start_time": "2022-03-30T08:47:22.183Z"
   },
   {
    "duration": 3,
    "start_time": "2022-03-30T08:47:22.224Z"
   },
   {
    "duration": 65,
    "start_time": "2022-03-30T08:47:22.229Z"
   },
   {
    "duration": 4,
    "start_time": "2022-03-30T08:47:22.382Z"
   },
   {
    "duration": 101,
    "start_time": "2022-03-30T08:47:22.388Z"
   },
   {
    "duration": 302,
    "start_time": "2022-03-30T08:47:22.492Z"
   },
   {
    "duration": 3,
    "start_time": "2022-03-30T08:47:22.796Z"
   },
   {
    "duration": 22,
    "start_time": "2022-03-30T08:47:22.801Z"
   },
   {
    "duration": 318,
    "start_time": "2022-03-30T08:47:22.826Z"
   },
   {
    "duration": 5,
    "start_time": "2022-03-30T08:47:23.146Z"
   },
   {
    "duration": 6,
    "start_time": "2022-03-30T08:47:23.153Z"
   },
   {
    "duration": 36,
    "start_time": "2022-03-30T08:47:23.160Z"
   },
   {
    "duration": 387,
    "start_time": "2022-03-30T08:47:23.200Z"
   },
   {
    "duration": 3,
    "start_time": "2022-03-30T08:47:23.590Z"
   },
   {
    "duration": 9,
    "start_time": "2022-03-30T08:47:23.594Z"
   },
   {
    "duration": 4523,
    "start_time": "2022-03-30T08:47:23.605Z"
   },
   {
    "duration": 8,
    "start_time": "2022-03-30T08:47:42.405Z"
   },
   {
    "duration": 4490,
    "start_time": "2022-03-30T08:47:42.855Z"
   },
   {
    "duration": 8,
    "start_time": "2022-03-30T08:57:59.766Z"
   },
   {
    "duration": 3241,
    "start_time": "2022-03-30T08:58:00.049Z"
   },
   {
    "duration": 106,
    "start_time": "2022-03-30T09:00:58.810Z"
   },
   {
    "duration": 4729,
    "start_time": "2022-03-30T09:00:59.380Z"
   },
   {
    "duration": 10,
    "start_time": "2022-03-30T09:01:39.171Z"
   },
   {
    "duration": 4698,
    "start_time": "2022-03-30T09:01:39.621Z"
   },
   {
    "duration": 10,
    "start_time": "2022-03-30T09:02:10.413Z"
   },
   {
    "duration": 4712,
    "start_time": "2022-03-30T09:02:10.829Z"
   },
   {
    "duration": 9,
    "start_time": "2022-03-30T09:02:28.409Z"
   },
   {
    "duration": 4854,
    "start_time": "2022-03-30T09:02:28.709Z"
   },
   {
    "duration": 9,
    "start_time": "2022-03-30T09:03:58.690Z"
   },
   {
    "duration": 4514,
    "start_time": "2022-03-30T09:03:59.145Z"
   },
   {
    "duration": 122,
    "start_time": "2022-03-30T09:04:15.419Z"
   },
   {
    "duration": 5215,
    "start_time": "2022-03-30T09:04:15.844Z"
   },
   {
    "duration": 9,
    "start_time": "2022-03-30T09:05:06.090Z"
   },
   {
    "duration": 4464,
    "start_time": "2022-03-30T09:05:06.440Z"
   },
   {
    "duration": 9,
    "start_time": "2022-03-30T09:06:22.613Z"
   },
   {
    "duration": 5712,
    "start_time": "2022-03-30T09:06:23.294Z"
   },
   {
    "duration": 9,
    "start_time": "2022-03-30T09:06:49.645Z"
   },
   {
    "duration": 4779,
    "start_time": "2022-03-30T09:06:49.931Z"
   },
   {
    "duration": 8,
    "start_time": "2022-03-30T09:07:14.432Z"
   },
   {
    "duration": 4953,
    "start_time": "2022-03-30T09:07:14.915Z"
   },
   {
    "duration": 9,
    "start_time": "2022-03-30T09:07:35.647Z"
   },
   {
    "duration": 4680,
    "start_time": "2022-03-30T09:07:36.254Z"
   },
   {
    "duration": 9,
    "start_time": "2022-03-30T09:14:06.312Z"
   },
   {
    "duration": 4902,
    "start_time": "2022-03-30T09:14:06.661Z"
   },
   {
    "duration": 131,
    "start_time": "2022-03-30T09:14:33.799Z"
   },
   {
    "duration": 4750,
    "start_time": "2022-03-30T09:14:34.481Z"
   },
   {
    "duration": 9,
    "start_time": "2022-03-30T09:34:25.874Z"
   },
   {
    "duration": 4727,
    "start_time": "2022-03-30T09:34:26.288Z"
   },
   {
    "duration": 9,
    "start_time": "2022-03-30T09:34:54.591Z"
   },
   {
    "duration": 4822,
    "start_time": "2022-03-30T09:34:55.340Z"
   },
   {
    "duration": 10,
    "start_time": "2022-03-30T09:35:18.058Z"
   },
   {
    "duration": 4775,
    "start_time": "2022-03-30T09:35:18.421Z"
   },
   {
    "duration": 9,
    "start_time": "2022-03-30T09:35:57.387Z"
   },
   {
    "duration": 7821,
    "start_time": "2022-03-30T09:35:59.788Z"
   },
   {
    "duration": 1539,
    "start_time": "2022-03-30T09:36:36.973Z"
   },
   {
    "duration": 4,
    "start_time": "2022-03-30T09:36:38.515Z"
   },
   {
    "duration": 356,
    "start_time": "2022-03-30T09:36:38.521Z"
   },
   {
    "duration": 4,
    "start_time": "2022-03-30T09:36:38.879Z"
   },
   {
    "duration": 97,
    "start_time": "2022-03-30T09:36:38.884Z"
   },
   {
    "duration": 68,
    "start_time": "2022-03-30T09:36:38.982Z"
   },
   {
    "duration": 89,
    "start_time": "2022-03-30T09:36:39.052Z"
   },
   {
    "duration": 15,
    "start_time": "2022-03-30T09:36:39.142Z"
   },
   {
    "duration": 908,
    "start_time": "2022-03-30T09:36:39.159Z"
   },
   {
    "duration": 2,
    "start_time": "2022-03-30T09:36:40.070Z"
   },
   {
    "duration": 3,
    "start_time": "2022-03-30T09:36:40.080Z"
   },
   {
    "duration": 36,
    "start_time": "2022-03-30T09:36:40.085Z"
   },
   {
    "duration": 3,
    "start_time": "2022-03-30T09:36:40.123Z"
   },
   {
    "duration": 8,
    "start_time": "2022-03-30T09:36:40.127Z"
   },
   {
    "duration": 4,
    "start_time": "2022-03-30T09:36:40.136Z"
   },
   {
    "duration": 55,
    "start_time": "2022-03-30T09:36:40.141Z"
   },
   {
    "duration": 3,
    "start_time": "2022-03-30T09:36:40.198Z"
   },
   {
    "duration": 289,
    "start_time": "2022-03-30T09:36:40.202Z"
   },
   {
    "duration": 90,
    "start_time": "2022-03-30T09:36:40.492Z"
   },
   {
    "duration": 105,
    "start_time": "2022-03-30T09:36:40.584Z"
   },
   {
    "duration": 299,
    "start_time": "2022-03-30T09:36:40.691Z"
   },
   {
    "duration": 4,
    "start_time": "2022-03-30T09:36:40.992Z"
   },
   {
    "duration": 9,
    "start_time": "2022-03-30T09:36:40.997Z"
   },
   {
    "duration": 314,
    "start_time": "2022-03-30T09:36:41.008Z"
   },
   {
    "duration": 5,
    "start_time": "2022-03-30T09:36:41.324Z"
   },
   {
    "duration": 6,
    "start_time": "2022-03-30T09:36:41.331Z"
   },
   {
    "duration": 25,
    "start_time": "2022-03-30T09:36:41.339Z"
   },
   {
    "duration": 371,
    "start_time": "2022-03-30T09:36:41.382Z"
   },
   {
    "duration": 3,
    "start_time": "2022-03-30T09:36:41.755Z"
   },
   {
    "duration": 9,
    "start_time": "2022-03-30T09:36:41.760Z"
   },
   {
    "duration": 4872,
    "start_time": "2022-03-30T09:36:41.781Z"
   },
   {
    "duration": 1843,
    "start_time": "2022-03-31T06:28:39.319Z"
   },
   {
    "duration": 3,
    "start_time": "2022-03-31T06:28:41.164Z"
   },
   {
    "duration": 355,
    "start_time": "2022-03-31T06:28:41.168Z"
   },
   {
    "duration": 4,
    "start_time": "2022-03-31T06:28:41.525Z"
   },
   {
    "duration": 90,
    "start_time": "2022-03-31T06:28:41.530Z"
   },
   {
    "duration": 87,
    "start_time": "2022-03-31T06:28:41.621Z"
   },
   {
    "duration": 92,
    "start_time": "2022-03-31T06:28:41.710Z"
   },
   {
    "duration": 16,
    "start_time": "2022-03-31T06:28:41.803Z"
   },
   {
    "duration": 920,
    "start_time": "2022-03-31T06:28:41.820Z"
   },
   {
    "duration": 2,
    "start_time": "2022-03-31T06:28:42.743Z"
   },
   {
    "duration": 12,
    "start_time": "2022-03-31T06:28:42.746Z"
   },
   {
    "duration": 34,
    "start_time": "2022-03-31T06:28:42.763Z"
   },
   {
    "duration": 2,
    "start_time": "2022-03-31T06:28:42.799Z"
   },
   {
    "duration": 8,
    "start_time": "2022-03-31T06:28:42.802Z"
   },
   {
    "duration": 5,
    "start_time": "2022-03-31T06:28:42.811Z"
   },
   {
    "duration": 46,
    "start_time": "2022-03-31T06:28:42.818Z"
   },
   {
    "duration": 2,
    "start_time": "2022-03-31T06:28:42.866Z"
   },
   {
    "duration": 194,
    "start_time": "2022-03-31T06:28:42.870Z"
   },
   {
    "duration": 4,
    "start_time": "2022-03-31T06:28:43.066Z"
   },
   {
    "duration": 102,
    "start_time": "2022-03-31T06:28:43.072Z"
   },
   {
    "duration": 266,
    "start_time": "2022-03-31T06:28:43.176Z"
   },
   {
    "duration": 3,
    "start_time": "2022-03-31T06:28:43.443Z"
   },
   {
    "duration": 16,
    "start_time": "2022-03-31T06:28:43.448Z"
   },
   {
    "duration": 318,
    "start_time": "2022-03-31T06:28:43.466Z"
   },
   {
    "duration": 4,
    "start_time": "2022-03-31T06:28:43.786Z"
   },
   {
    "duration": 5,
    "start_time": "2022-03-31T06:28:43.791Z"
   },
   {
    "duration": 116,
    "start_time": "2022-03-31T06:28:43.797Z"
   },
   {
    "duration": 0,
    "start_time": "2022-03-31T06:28:43.914Z"
   },
   {
    "duration": 0,
    "start_time": "2022-03-31T06:28:43.916Z"
   },
   {
    "duration": 0,
    "start_time": "2022-03-31T06:28:43.917Z"
   },
   {
    "duration": 0,
    "start_time": "2022-03-31T06:28:43.917Z"
   },
   {
    "duration": 16,
    "start_time": "2022-03-31T06:29:44.359Z"
   },
   {
    "duration": 14,
    "start_time": "2022-03-31T06:29:55.667Z"
   },
   {
    "duration": 1582,
    "start_time": "2022-03-31T06:30:07.345Z"
   },
   {
    "duration": 3,
    "start_time": "2022-03-31T06:30:08.929Z"
   },
   {
    "duration": 344,
    "start_time": "2022-03-31T06:30:08.933Z"
   },
   {
    "duration": 3,
    "start_time": "2022-03-31T06:30:09.279Z"
   },
   {
    "duration": 82,
    "start_time": "2022-03-31T06:30:09.324Z"
   },
   {
    "duration": 70,
    "start_time": "2022-03-31T06:30:09.569Z"
   },
   {
    "duration": 69,
    "start_time": "2022-03-31T06:30:09.808Z"
   },
   {
    "duration": 16,
    "start_time": "2022-03-31T06:30:10.748Z"
   },
   {
    "duration": 851,
    "start_time": "2022-03-31T06:30:11.248Z"
   },
   {
    "duration": 2,
    "start_time": "2022-03-31T06:30:13.600Z"
   },
   {
    "duration": 4,
    "start_time": "2022-03-31T06:30:14.718Z"
   },
   {
    "duration": 34,
    "start_time": "2022-03-31T06:30:15.252Z"
   },
   {
    "duration": 3,
    "start_time": "2022-03-31T06:30:15.468Z"
   },
   {
    "duration": 6,
    "start_time": "2022-03-31T06:30:15.667Z"
   },
   {
    "duration": 4,
    "start_time": "2022-03-31T06:30:16.752Z"
   },
   {
    "duration": 32,
    "start_time": "2022-03-31T06:30:17.302Z"
   },
   {
    "duration": 4,
    "start_time": "2022-03-31T06:30:18.269Z"
   },
   {
    "duration": 143,
    "start_time": "2022-03-31T06:30:18.921Z"
   },
   {
    "duration": 3,
    "start_time": "2022-03-31T06:30:19.186Z"
   },
   {
    "duration": 8,
    "start_time": "2022-03-31T06:30:20.187Z"
   },
   {
    "duration": 190,
    "start_time": "2022-03-31T06:30:24.975Z"
   },
   {
    "duration": 3,
    "start_time": "2022-03-31T06:30:29.762Z"
   },
   {
    "duration": 4,
    "start_time": "2022-03-31T06:30:31.312Z"
   },
   {
    "duration": 113,
    "start_time": "2022-03-31T06:30:34.063Z"
   },
   {
    "duration": 251,
    "start_time": "2022-03-31T06:30:53.496Z"
   },
   {
    "duration": 2245,
    "start_time": "2022-03-31T06:31:27.970Z"
   },
   {
    "duration": 356,
    "start_time": "2022-03-31T06:31:40.796Z"
   },
   {
    "duration": 4,
    "start_time": "2022-03-31T06:33:14.665Z"
   },
   {
    "duration": 5,
    "start_time": "2022-03-31T06:33:15.679Z"
   },
   {
    "duration": 17,
    "start_time": "2022-03-31T06:33:20.069Z"
   },
   {
    "duration": 4,
    "start_time": "2022-03-31T06:33:38.148Z"
   },
   {
    "duration": 15,
    "start_time": "2022-03-31T06:33:38.680Z"
   },
   {
    "duration": 159,
    "start_time": "2022-03-31T06:33:44.718Z"
   },
   {
    "duration": 3,
    "start_time": "2022-03-31T06:33:54.855Z"
   },
   {
    "duration": 10,
    "start_time": "2022-03-31T06:37:07.082Z"
   },
   {
    "duration": 774,
    "start_time": "2022-03-31T06:37:09.333Z"
   },
   {
    "duration": 9,
    "start_time": "2022-03-31T06:37:32.184Z"
   },
   {
    "duration": 4665,
    "start_time": "2022-03-31T06:37:33.050Z"
   },
   {
    "duration": 103,
    "start_time": "2022-03-31T06:38:08.226Z"
   },
   {
    "duration": 4594,
    "start_time": "2022-03-31T06:38:09.777Z"
   },
   {
    "duration": 4,
    "start_time": "2022-03-31T06:45:58.363Z"
   },
   {
    "duration": 305,
    "start_time": "2022-03-31T06:45:59.029Z"
   },
   {
    "duration": 271,
    "start_time": "2022-03-31T06:47:23.577Z"
   },
   {
    "duration": 307,
    "start_time": "2022-03-31T06:48:10.410Z"
   },
   {
    "duration": 303,
    "start_time": "2022-03-31T06:49:20.160Z"
   },
   {
    "duration": 306,
    "start_time": "2022-03-31T06:50:00.940Z"
   },
   {
    "duration": 289,
    "start_time": "2022-03-31T06:51:11.957Z"
   },
   {
    "duration": 396,
    "start_time": "2022-03-31T06:53:54.445Z"
   },
   {
    "duration": 268,
    "start_time": "2022-03-31T06:54:02.279Z"
   },
   {
    "duration": 284,
    "start_time": "2022-03-31T06:54:10.152Z"
   },
   {
    "duration": 274,
    "start_time": "2022-03-31T06:54:27.146Z"
   },
   {
    "duration": 276,
    "start_time": "2022-03-31T06:54:39.069Z"
   },
   {
    "duration": 300,
    "start_time": "2022-03-31T06:54:48.429Z"
   },
   {
    "duration": 292,
    "start_time": "2022-03-31T06:54:53.149Z"
   },
   {
    "duration": 304,
    "start_time": "2022-03-31T06:55:00.738Z"
   },
   {
    "duration": 270,
    "start_time": "2022-03-31T06:55:06.808Z"
   },
   {
    "duration": 292,
    "start_time": "2022-03-31T06:55:16.049Z"
   },
   {
    "duration": 315,
    "start_time": "2022-03-31T06:55:29.609Z"
   },
   {
    "duration": 259,
    "start_time": "2022-03-31T06:55:46.288Z"
   },
   {
    "duration": 1602,
    "start_time": "2022-03-31T06:56:07.123Z"
   },
   {
    "duration": 3,
    "start_time": "2022-03-31T06:56:08.727Z"
   },
   {
    "duration": 348,
    "start_time": "2022-03-31T06:56:08.731Z"
   },
   {
    "duration": 5,
    "start_time": "2022-03-31T06:56:09.082Z"
   },
   {
    "duration": 97,
    "start_time": "2022-03-31T06:56:09.088Z"
   },
   {
    "duration": 89,
    "start_time": "2022-03-31T06:56:09.187Z"
   },
   {
    "duration": 92,
    "start_time": "2022-03-31T06:56:09.278Z"
   },
   {
    "duration": 18,
    "start_time": "2022-03-31T06:56:09.371Z"
   },
   {
    "duration": 907,
    "start_time": "2022-03-31T06:56:09.391Z"
   },
   {
    "duration": 3,
    "start_time": "2022-03-31T06:56:10.301Z"
   },
   {
    "duration": 6,
    "start_time": "2022-03-31T06:56:10.305Z"
   },
   {
    "duration": 34,
    "start_time": "2022-03-31T06:56:10.312Z"
   },
   {
    "duration": 3,
    "start_time": "2022-03-31T06:56:10.363Z"
   },
   {
    "duration": 9,
    "start_time": "2022-03-31T06:56:10.368Z"
   },
   {
    "duration": 6,
    "start_time": "2022-03-31T06:56:10.378Z"
   },
   {
    "duration": 34,
    "start_time": "2022-03-31T06:56:10.385Z"
   },
   {
    "duration": 3,
    "start_time": "2022-03-31T06:56:10.420Z"
   },
   {
    "duration": 242,
    "start_time": "2022-03-31T06:56:10.425Z"
   },
   {
    "duration": 4,
    "start_time": "2022-03-31T06:56:10.669Z"
   },
   {
    "duration": 188,
    "start_time": "2022-03-31T06:56:10.675Z"
   },
   {
    "duration": 193,
    "start_time": "2022-03-31T06:56:10.866Z"
   },
   {
    "duration": 3,
    "start_time": "2022-03-31T06:56:11.060Z"
   },
   {
    "duration": 8,
    "start_time": "2022-03-31T06:56:11.065Z"
   },
   {
    "duration": 302,
    "start_time": "2022-03-31T06:56:11.075Z"
   },
   {
    "duration": 4,
    "start_time": "2022-03-31T06:56:11.379Z"
   },
   {
    "duration": 5,
    "start_time": "2022-03-31T06:56:11.385Z"
   },
   {
    "duration": 16,
    "start_time": "2022-03-31T06:56:11.391Z"
   },
   {
    "duration": 252,
    "start_time": "2022-03-31T06:56:11.410Z"
   },
   {
    "duration": 3,
    "start_time": "2022-03-31T06:56:11.664Z"
   },
   {
    "duration": 10,
    "start_time": "2022-03-31T06:56:11.669Z"
   },
   {
    "duration": 4655,
    "start_time": "2022-03-31T06:56:11.680Z"
   },
   {
    "duration": 1440,
    "start_time": "2022-03-31T07:02:06.418Z"
   },
   {
    "duration": 4,
    "start_time": "2022-03-31T07:02:07.860Z"
   },
   {
    "duration": 361,
    "start_time": "2022-03-31T07:02:07.865Z"
   },
   {
    "duration": 4,
    "start_time": "2022-03-31T07:02:08.228Z"
   },
   {
    "duration": 87,
    "start_time": "2022-03-31T07:02:08.233Z"
   },
   {
    "duration": 86,
    "start_time": "2022-03-31T07:02:08.321Z"
   },
   {
    "duration": 103,
    "start_time": "2022-03-31T07:02:08.409Z"
   },
   {
    "duration": 15,
    "start_time": "2022-03-31T07:02:08.515Z"
   },
   {
    "duration": 962,
    "start_time": "2022-03-31T07:02:08.531Z"
   },
   {
    "duration": 3,
    "start_time": "2022-03-31T07:02:09.497Z"
   },
   {
    "duration": 11,
    "start_time": "2022-03-31T07:02:09.501Z"
   },
   {
    "duration": 37,
    "start_time": "2022-03-31T07:02:09.513Z"
   },
   {
    "duration": 2,
    "start_time": "2022-03-31T07:02:09.552Z"
   },
   {
    "duration": 6,
    "start_time": "2022-03-31T07:02:09.562Z"
   },
   {
    "duration": 4,
    "start_time": "2022-03-31T07:02:09.570Z"
   },
   {
    "duration": 35,
    "start_time": "2022-03-31T07:02:09.575Z"
   },
   {
    "duration": 3,
    "start_time": "2022-03-31T07:02:09.611Z"
   },
   {
    "duration": 58,
    "start_time": "2022-03-31T07:02:09.616Z"
   },
   {
    "duration": 95,
    "start_time": "2022-03-31T07:02:09.677Z"
   },
   {
    "duration": 93,
    "start_time": "2022-03-31T07:02:09.773Z"
   },
   {
    "duration": 194,
    "start_time": "2022-03-31T07:02:09.868Z"
   },
   {
    "duration": 2,
    "start_time": "2022-03-31T07:02:10.064Z"
   },
   {
    "duration": 10,
    "start_time": "2022-03-31T07:02:10.068Z"
   },
   {
    "duration": 301,
    "start_time": "2022-03-31T07:02:10.080Z"
   },
   {
    "duration": 4,
    "start_time": "2022-03-31T07:02:10.383Z"
   },
   {
    "duration": 7,
    "start_time": "2022-03-31T07:02:10.389Z"
   },
   {
    "duration": 38,
    "start_time": "2022-03-31T07:02:10.398Z"
   },
   {
    "duration": 232,
    "start_time": "2022-03-31T07:02:10.439Z"
   },
   {
    "duration": 3,
    "start_time": "2022-03-31T07:02:10.672Z"
   },
   {
    "duration": 10,
    "start_time": "2022-03-31T07:02:10.676Z"
   },
   {
    "duration": 5091,
    "start_time": "2022-03-31T07:02:10.688Z"
   }
  ],
  "kernelspec": {
   "display_name": "Python 3 (ipykernel)",
   "language": "python",
   "name": "python3"
  },
  "language_info": {
   "codemirror_mode": {
    "name": "ipython",
    "version": 3
   },
   "file_extension": ".py",
   "mimetype": "text/x-python",
   "name": "python",
   "nbconvert_exporter": "python",
   "pygments_lexer": "ipython3",
   "version": "3.9.7"
  },
  "toc": {
   "base_numbering": 1,
   "nav_menu": {},
   "number_sections": true,
   "sideBar": true,
   "skip_h1_title": true,
   "title_cell": "Содержание",
   "title_sidebar": "Contents",
   "toc_cell": true,
   "toc_position": {},
   "toc_section_display": true,
   "toc_window_display": false
  }
 },
 "nbformat": 4,
 "nbformat_minor": 2
}

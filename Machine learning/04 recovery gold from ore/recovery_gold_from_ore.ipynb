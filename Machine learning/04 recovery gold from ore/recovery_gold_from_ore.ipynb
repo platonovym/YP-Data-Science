{
 "cells": [
  {
   "cell_type": "markdown",
   "metadata": {},
   "source": [
    "# Восстановление золота из руды"
   ]
  },
  {
   "cell_type": "markdown",
   "metadata": {},
   "source": [
    "Подготовьте прототип модели машинного обучения для «Цифры». Компания разрабатывает решения для эффективной работы промышленных предприятий.\n",
    "\n",
    "Модель должна предсказать коэффициент восстановления золота из золотосодержащей руды. Используйте данные с параметрами добычи и очистки. \n",
    "\n",
    "Модель поможет оптимизировать производство, чтобы не запускать предприятие с убыточными характеристиками."
   ]
  },
  {
   "cell_type": "markdown",
   "metadata": {},
   "source": [
    "## Подготовка данных"
   ]
  },
  {
   "cell_type": "markdown",
   "metadata": {},
   "source": [
    "### Изучение данных"
   ]
  },
  {
   "cell_type": "code",
   "execution_count": 2,
   "metadata": {},
   "outputs": [],
   "source": [
    "import pandas as pd\n",
    "import matplotlib.pyplot as plt\n",
    "import seaborn as sns\n",
    "from functools import reduce\n",
    "from sklearn.preprocessing import StandardScaler\n",
    "\n",
    "from numpy.random import RandomState\n",
    "from sklearn.metrics import make_scorer\n",
    "from sklearn.model_selection import GridSearchCV, KFold\n",
    "\n",
    "from sklearn.ensemble import RandomForestRegressor\n",
    "from sklearn.tree import DecisionTreeRegressor\n",
    "from catboost import CatBoostRegressor\n",
    "from sklearn.dummy import DummyRegressor\n",
    "\n",
    "import warnings\n",
    "\n",
    "warnings.filterwarnings(\"ignore\")\n",
    "\n",
    "pd.set_option('display.max_columns', 100)\n",
    "pd.set_option('display.max_rows', 100)\n",
    "pd.options.display.float_format = '{:,.2f}'.format\n",
    "\n",
    "# зададим темный стиль оформления background для всех следующих графиков\n",
    "sns.set_theme(style=\"darkgrid\")"
   ]
  },
  {
   "cell_type": "code",
   "execution_count": 4,
   "metadata": {},
   "outputs": [],
   "source": [
    "data = pd.read_csv('datasets/gold_recovery_full_new.csv')\n",
    "data_train = pd.read_csv('datasets/gold_recovery_train_new.csv')\n",
    "data_test = pd.read_csv('datasets/gold_recovery_test_new.csv')"
   ]
  },
  {
   "cell_type": "code",
   "execution_count": 5,
   "metadata": {},
   "outputs": [],
   "source": [
    "def data_check(data, title):\n",
    "    print('--------------- Общая информация датасэта', title, '---------------')\n",
    "    print()\n",
    "    display(data.info())\n",
    "    \n",
    "    print('Первые 5 строк датасэта:')\n",
    "    display(data.head(5))\n",
    "    print()\n",
    "    \n",
    "    print('Описательная статистика датасэта:')\n",
    "    display(data.describe())\n",
    "    print()\n",
    "    \n",
    "    print('Количество дубликатов:', data.duplicated().sum())"
   ]
  },
  {
   "cell_type": "code",
   "execution_count": 6,
   "metadata": {
    "scrolled": false
   },
   "outputs": [
    {
     "name": "stdout",
     "output_type": "stream",
     "text": [
      "--------------- Общая информация датасэта \"исходные данные\" ---------------\n",
      "\n",
      "<class 'pandas.core.frame.DataFrame'>\n",
      "RangeIndex: 19439 entries, 0 to 19438\n",
      "Data columns (total 87 columns):\n",
      " #   Column                                              Non-Null Count  Dtype  \n",
      "---  ------                                              --------------  -----  \n",
      " 0   date                                                19439 non-null  object \n",
      " 1   final.output.concentrate_ag                         19438 non-null  float64\n",
      " 2   final.output.concentrate_pb                         19438 non-null  float64\n",
      " 3   final.output.concentrate_sol                        19228 non-null  float64\n",
      " 4   final.output.concentrate_au                         19439 non-null  float64\n",
      " 5   final.output.recovery                               19439 non-null  float64\n",
      " 6   final.output.tail_ag                                19438 non-null  float64\n",
      " 7   final.output.tail_pb                                19338 non-null  float64\n",
      " 8   final.output.tail_sol                               19433 non-null  float64\n",
      " 9   final.output.tail_au                                19439 non-null  float64\n",
      " 10  primary_cleaner.input.sulfate                       19415 non-null  float64\n",
      " 11  primary_cleaner.input.depressant                    19402 non-null  float64\n",
      " 12  primary_cleaner.input.feed_size                     19439 non-null  float64\n",
      " 13  primary_cleaner.input.xanthate                      19335 non-null  float64\n",
      " 14  primary_cleaner.output.concentrate_ag               19439 non-null  float64\n",
      " 15  primary_cleaner.output.concentrate_pb               19323 non-null  float64\n",
      " 16  primary_cleaner.output.concentrate_sol              19069 non-null  float64\n",
      " 17  primary_cleaner.output.concentrate_au               19439 non-null  float64\n",
      " 18  primary_cleaner.output.tail_ag                      19435 non-null  float64\n",
      " 19  primary_cleaner.output.tail_pb                      19418 non-null  float64\n",
      " 20  primary_cleaner.output.tail_sol                     19377 non-null  float64\n",
      " 21  primary_cleaner.output.tail_au                      19439 non-null  float64\n",
      " 22  primary_cleaner.state.floatbank8_a_air              19435 non-null  float64\n",
      " 23  primary_cleaner.state.floatbank8_a_level            19438 non-null  float64\n",
      " 24  primary_cleaner.state.floatbank8_b_air              19435 non-null  float64\n",
      " 25  primary_cleaner.state.floatbank8_b_level            19438 non-null  float64\n",
      " 26  primary_cleaner.state.floatbank8_c_air              19437 non-null  float64\n",
      " 27  primary_cleaner.state.floatbank8_c_level            19438 non-null  float64\n",
      " 28  primary_cleaner.state.floatbank8_d_air              19436 non-null  float64\n",
      " 29  primary_cleaner.state.floatbank8_d_level            19438 non-null  float64\n",
      " 30  rougher.calculation.sulfate_to_au_concentrate       19437 non-null  float64\n",
      " 31  rougher.calculation.floatbank10_sulfate_to_au_feed  19437 non-null  float64\n",
      " 32  rougher.calculation.floatbank11_sulfate_to_au_feed  19437 non-null  float64\n",
      " 33  rougher.calculation.au_pb_ratio                     19439 non-null  float64\n",
      " 34  rougher.input.feed_ag                               19439 non-null  float64\n",
      " 35  rougher.input.feed_pb                               19339 non-null  float64\n",
      " 36  rougher.input.feed_rate                             19428 non-null  float64\n",
      " 37  rougher.input.feed_size                             19294 non-null  float64\n",
      " 38  rougher.input.feed_sol                              19340 non-null  float64\n",
      " 39  rougher.input.feed_au                               19439 non-null  float64\n",
      " 40  rougher.input.floatbank10_sulfate                   19405 non-null  float64\n",
      " 41  rougher.input.floatbank10_xanthate                  19431 non-null  float64\n",
      " 42  rougher.input.floatbank11_sulfate                   19395 non-null  float64\n",
      " 43  rougher.input.floatbank11_xanthate                  18986 non-null  float64\n",
      " 44  rougher.output.concentrate_ag                       19439 non-null  float64\n",
      " 45  rougher.output.concentrate_pb                       19439 non-null  float64\n",
      " 46  rougher.output.concentrate_sol                      19416 non-null  float64\n",
      " 47  rougher.output.concentrate_au                       19439 non-null  float64\n",
      " 48  rougher.output.recovery                             19439 non-null  float64\n",
      " 49  rougher.output.tail_ag                              19438 non-null  float64\n",
      " 50  rougher.output.tail_pb                              19439 non-null  float64\n",
      " 51  rougher.output.tail_sol                             19439 non-null  float64\n",
      " 52  rougher.output.tail_au                              19439 non-null  float64\n",
      " 53  rougher.state.floatbank10_a_air                     19438 non-null  float64\n",
      " 54  rougher.state.floatbank10_a_level                   19438 non-null  float64\n",
      " 55  rougher.state.floatbank10_b_air                     19438 non-null  float64\n",
      " 56  rougher.state.floatbank10_b_level                   19438 non-null  float64\n",
      " 57  rougher.state.floatbank10_c_air                     19438 non-null  float64\n",
      " 58  rougher.state.floatbank10_c_level                   19438 non-null  float64\n",
      " 59  rougher.state.floatbank10_d_air                     19439 non-null  float64\n",
      " 60  rougher.state.floatbank10_d_level                   19439 non-null  float64\n",
      " 61  rougher.state.floatbank10_e_air                     19003 non-null  float64\n",
      " 62  rougher.state.floatbank10_e_level                   19439 non-null  float64\n",
      " 63  rougher.state.floatbank10_f_air                     19439 non-null  float64\n",
      " 64  rougher.state.floatbank10_f_level                   19439 non-null  float64\n",
      " 65  secondary_cleaner.output.tail_ag                    19437 non-null  float64\n",
      " 66  secondary_cleaner.output.tail_pb                    19427 non-null  float64\n",
      " 67  secondary_cleaner.output.tail_sol                   17691 non-null  float64\n",
      " 68  secondary_cleaner.output.tail_au                    19439 non-null  float64\n",
      " 69  secondary_cleaner.state.floatbank2_a_air            19219 non-null  float64\n",
      " 70  secondary_cleaner.state.floatbank2_a_level          19438 non-null  float64\n",
      " 71  secondary_cleaner.state.floatbank2_b_air            19416 non-null  float64\n",
      " 72  secondary_cleaner.state.floatbank2_b_level          19438 non-null  float64\n",
      " 73  secondary_cleaner.state.floatbank3_a_air            19426 non-null  float64\n",
      " 74  secondary_cleaner.state.floatbank3_a_level          19438 non-null  float64\n",
      " 75  secondary_cleaner.state.floatbank3_b_air            19438 non-null  float64\n",
      " 76  secondary_cleaner.state.floatbank3_b_level          19438 non-null  float64\n",
      " 77  secondary_cleaner.state.floatbank4_a_air            19433 non-null  float64\n",
      " 78  secondary_cleaner.state.floatbank4_a_level          19438 non-null  float64\n",
      " 79  secondary_cleaner.state.floatbank4_b_air            19438 non-null  float64\n",
      " 80  secondary_cleaner.state.floatbank4_b_level          19438 non-null  float64\n",
      " 81  secondary_cleaner.state.floatbank5_a_air            19438 non-null  float64\n",
      " 82  secondary_cleaner.state.floatbank5_a_level          19438 non-null  float64\n",
      " 83  secondary_cleaner.state.floatbank5_b_air            19438 non-null  float64\n",
      " 84  secondary_cleaner.state.floatbank5_b_level          19438 non-null  float64\n",
      " 85  secondary_cleaner.state.floatbank6_a_air            19437 non-null  float64\n",
      " 86  secondary_cleaner.state.floatbank6_a_level          19438 non-null  float64\n",
      "dtypes: float64(86), object(1)\n",
      "memory usage: 12.9+ MB\n"
     ]
    },
    {
     "data": {
      "text/plain": [
       "None"
      ]
     },
     "metadata": {},
     "output_type": "display_data"
    },
    {
     "name": "stdout",
     "output_type": "stream",
     "text": [
      "Первые 5 строк датасэта:\n"
     ]
    },
    {
     "data": {
      "text/html": [
       "<div>\n",
       "<style scoped>\n",
       "    .dataframe tbody tr th:only-of-type {\n",
       "        vertical-align: middle;\n",
       "    }\n",
       "\n",
       "    .dataframe tbody tr th {\n",
       "        vertical-align: top;\n",
       "    }\n",
       "\n",
       "    .dataframe thead th {\n",
       "        text-align: right;\n",
       "    }\n",
       "</style>\n",
       "<table border=\"1\" class=\"dataframe\">\n",
       "  <thead>\n",
       "    <tr style=\"text-align: right;\">\n",
       "      <th></th>\n",
       "      <th>date</th>\n",
       "      <th>final.output.concentrate_ag</th>\n",
       "      <th>final.output.concentrate_pb</th>\n",
       "      <th>final.output.concentrate_sol</th>\n",
       "      <th>final.output.concentrate_au</th>\n",
       "      <th>final.output.recovery</th>\n",
       "      <th>final.output.tail_ag</th>\n",
       "      <th>final.output.tail_pb</th>\n",
       "      <th>final.output.tail_sol</th>\n",
       "      <th>final.output.tail_au</th>\n",
       "      <th>primary_cleaner.input.sulfate</th>\n",
       "      <th>primary_cleaner.input.depressant</th>\n",
       "      <th>primary_cleaner.input.feed_size</th>\n",
       "      <th>primary_cleaner.input.xanthate</th>\n",
       "      <th>primary_cleaner.output.concentrate_ag</th>\n",
       "      <th>primary_cleaner.output.concentrate_pb</th>\n",
       "      <th>primary_cleaner.output.concentrate_sol</th>\n",
       "      <th>primary_cleaner.output.concentrate_au</th>\n",
       "      <th>primary_cleaner.output.tail_ag</th>\n",
       "      <th>primary_cleaner.output.tail_pb</th>\n",
       "      <th>primary_cleaner.output.tail_sol</th>\n",
       "      <th>primary_cleaner.output.tail_au</th>\n",
       "      <th>primary_cleaner.state.floatbank8_a_air</th>\n",
       "      <th>primary_cleaner.state.floatbank8_a_level</th>\n",
       "      <th>primary_cleaner.state.floatbank8_b_air</th>\n",
       "      <th>primary_cleaner.state.floatbank8_b_level</th>\n",
       "      <th>primary_cleaner.state.floatbank8_c_air</th>\n",
       "      <th>primary_cleaner.state.floatbank8_c_level</th>\n",
       "      <th>primary_cleaner.state.floatbank8_d_air</th>\n",
       "      <th>primary_cleaner.state.floatbank8_d_level</th>\n",
       "      <th>rougher.calculation.sulfate_to_au_concentrate</th>\n",
       "      <th>rougher.calculation.floatbank10_sulfate_to_au_feed</th>\n",
       "      <th>rougher.calculation.floatbank11_sulfate_to_au_feed</th>\n",
       "      <th>rougher.calculation.au_pb_ratio</th>\n",
       "      <th>rougher.input.feed_ag</th>\n",
       "      <th>rougher.input.feed_pb</th>\n",
       "      <th>rougher.input.feed_rate</th>\n",
       "      <th>rougher.input.feed_size</th>\n",
       "      <th>rougher.input.feed_sol</th>\n",
       "      <th>rougher.input.feed_au</th>\n",
       "      <th>rougher.input.floatbank10_sulfate</th>\n",
       "      <th>rougher.input.floatbank10_xanthate</th>\n",
       "      <th>rougher.input.floatbank11_sulfate</th>\n",
       "      <th>rougher.input.floatbank11_xanthate</th>\n",
       "      <th>rougher.output.concentrate_ag</th>\n",
       "      <th>rougher.output.concentrate_pb</th>\n",
       "      <th>rougher.output.concentrate_sol</th>\n",
       "      <th>rougher.output.concentrate_au</th>\n",
       "      <th>rougher.output.recovery</th>\n",
       "      <th>rougher.output.tail_ag</th>\n",
       "      <th>rougher.output.tail_pb</th>\n",
       "      <th>rougher.output.tail_sol</th>\n",
       "      <th>rougher.output.tail_au</th>\n",
       "      <th>rougher.state.floatbank10_a_air</th>\n",
       "      <th>rougher.state.floatbank10_a_level</th>\n",
       "      <th>rougher.state.floatbank10_b_air</th>\n",
       "      <th>rougher.state.floatbank10_b_level</th>\n",
       "      <th>rougher.state.floatbank10_c_air</th>\n",
       "      <th>rougher.state.floatbank10_c_level</th>\n",
       "      <th>rougher.state.floatbank10_d_air</th>\n",
       "      <th>rougher.state.floatbank10_d_level</th>\n",
       "      <th>rougher.state.floatbank10_e_air</th>\n",
       "      <th>rougher.state.floatbank10_e_level</th>\n",
       "      <th>rougher.state.floatbank10_f_air</th>\n",
       "      <th>rougher.state.floatbank10_f_level</th>\n",
       "      <th>secondary_cleaner.output.tail_ag</th>\n",
       "      <th>secondary_cleaner.output.tail_pb</th>\n",
       "      <th>secondary_cleaner.output.tail_sol</th>\n",
       "      <th>secondary_cleaner.output.tail_au</th>\n",
       "      <th>secondary_cleaner.state.floatbank2_a_air</th>\n",
       "      <th>secondary_cleaner.state.floatbank2_a_level</th>\n",
       "      <th>secondary_cleaner.state.floatbank2_b_air</th>\n",
       "      <th>secondary_cleaner.state.floatbank2_b_level</th>\n",
       "      <th>secondary_cleaner.state.floatbank3_a_air</th>\n",
       "      <th>secondary_cleaner.state.floatbank3_a_level</th>\n",
       "      <th>secondary_cleaner.state.floatbank3_b_air</th>\n",
       "      <th>secondary_cleaner.state.floatbank3_b_level</th>\n",
       "      <th>secondary_cleaner.state.floatbank4_a_air</th>\n",
       "      <th>secondary_cleaner.state.floatbank4_a_level</th>\n",
       "      <th>secondary_cleaner.state.floatbank4_b_air</th>\n",
       "      <th>secondary_cleaner.state.floatbank4_b_level</th>\n",
       "      <th>secondary_cleaner.state.floatbank5_a_air</th>\n",
       "      <th>secondary_cleaner.state.floatbank5_a_level</th>\n",
       "      <th>secondary_cleaner.state.floatbank5_b_air</th>\n",
       "      <th>secondary_cleaner.state.floatbank5_b_level</th>\n",
       "      <th>secondary_cleaner.state.floatbank6_a_air</th>\n",
       "      <th>secondary_cleaner.state.floatbank6_a_level</th>\n",
       "    </tr>\n",
       "  </thead>\n",
       "  <tbody>\n",
       "    <tr>\n",
       "      <th>0</th>\n",
       "      <td>2016-01-15 00:00:00</td>\n",
       "      <td>6.06</td>\n",
       "      <td>9.89</td>\n",
       "      <td>5.51</td>\n",
       "      <td>42.19</td>\n",
       "      <td>70.54</td>\n",
       "      <td>10.41</td>\n",
       "      <td>0.90</td>\n",
       "      <td>16.90</td>\n",
       "      <td>2.14</td>\n",
       "      <td>127.09</td>\n",
       "      <td>10.13</td>\n",
       "      <td>7.25</td>\n",
       "      <td>0.99</td>\n",
       "      <td>8.55</td>\n",
       "      <td>10.39</td>\n",
       "      <td>19.53</td>\n",
       "      <td>34.17</td>\n",
       "      <td>14.94</td>\n",
       "      <td>2.53</td>\n",
       "      <td>7.48</td>\n",
       "      <td>2.11</td>\n",
       "      <td>1,549.78</td>\n",
       "      <td>-498.91</td>\n",
       "      <td>1,551.43</td>\n",
       "      <td>-516.40</td>\n",
       "      <td>1,549.87</td>\n",
       "      <td>-498.67</td>\n",
       "      <td>1,554.37</td>\n",
       "      <td>-493.43</td>\n",
       "      <td>41,885.71</td>\n",
       "      <td>3,481.78</td>\n",
       "      <td>3,520.34</td>\n",
       "      <td>2.84</td>\n",
       "      <td>6.10</td>\n",
       "      <td>2.28</td>\n",
       "      <td>523.55</td>\n",
       "      <td>55.49</td>\n",
       "      <td>36.81</td>\n",
       "      <td>6.49</td>\n",
       "      <td>11.99</td>\n",
       "      <td>6.01</td>\n",
       "      <td>11.84</td>\n",
       "      <td>6.01</td>\n",
       "      <td>11.50</td>\n",
       "      <td>7.10</td>\n",
       "      <td>28.03</td>\n",
       "      <td>19.79</td>\n",
       "      <td>87.11</td>\n",
       "      <td>5.01</td>\n",
       "      <td>0.51</td>\n",
       "      <td>19.15</td>\n",
       "      <td>1.17</td>\n",
       "      <td>999.71</td>\n",
       "      <td>-404.07</td>\n",
       "      <td>1,603.01</td>\n",
       "      <td>-434.72</td>\n",
       "      <td>1,602.38</td>\n",
       "      <td>-442.20</td>\n",
       "      <td>1,598.94</td>\n",
       "      <td>-451.29</td>\n",
       "      <td>1,404.47</td>\n",
       "      <td>-455.46</td>\n",
       "      <td>1,416.35</td>\n",
       "      <td>-451.94</td>\n",
       "      <td>14.50</td>\n",
       "      <td>4.69</td>\n",
       "      <td>8.76</td>\n",
       "      <td>2.61</td>\n",
       "      <td>25.85</td>\n",
       "      <td>-498.53</td>\n",
       "      <td>23.89</td>\n",
       "      <td>-501.41</td>\n",
       "      <td>23.96</td>\n",
       "      <td>-495.26</td>\n",
       "      <td>21.94</td>\n",
       "      <td>-499.34</td>\n",
       "      <td>14.02</td>\n",
       "      <td>-502.49</td>\n",
       "      <td>12.10</td>\n",
       "      <td>-504.72</td>\n",
       "      <td>9.93</td>\n",
       "      <td>-498.31</td>\n",
       "      <td>8.08</td>\n",
       "      <td>-500.47</td>\n",
       "      <td>14.15</td>\n",
       "      <td>-605.84</td>\n",
       "    </tr>\n",
       "    <tr>\n",
       "      <th>1</th>\n",
       "      <td>2016-01-15 01:00:00</td>\n",
       "      <td>6.03</td>\n",
       "      <td>9.97</td>\n",
       "      <td>5.26</td>\n",
       "      <td>42.70</td>\n",
       "      <td>69.27</td>\n",
       "      <td>10.46</td>\n",
       "      <td>0.93</td>\n",
       "      <td>16.63</td>\n",
       "      <td>2.22</td>\n",
       "      <td>125.63</td>\n",
       "      <td>10.30</td>\n",
       "      <td>7.25</td>\n",
       "      <td>1.00</td>\n",
       "      <td>8.56</td>\n",
       "      <td>10.50</td>\n",
       "      <td>19.37</td>\n",
       "      <td>34.12</td>\n",
       "      <td>16.25</td>\n",
       "      <td>3.05</td>\n",
       "      <td>6.73</td>\n",
       "      <td>2.35</td>\n",
       "      <td>1,576.17</td>\n",
       "      <td>-500.90</td>\n",
       "      <td>1,575.95</td>\n",
       "      <td>-499.87</td>\n",
       "      <td>1,575.99</td>\n",
       "      <td>-499.32</td>\n",
       "      <td>1,574.48</td>\n",
       "      <td>-498.93</td>\n",
       "      <td>42,050.86</td>\n",
       "      <td>3,498.37</td>\n",
       "      <td>3,489.98</td>\n",
       "      <td>2.86</td>\n",
       "      <td>6.16</td>\n",
       "      <td>2.27</td>\n",
       "      <td>525.29</td>\n",
       "      <td>57.28</td>\n",
       "      <td>35.75</td>\n",
       "      <td>6.48</td>\n",
       "      <td>11.97</td>\n",
       "      <td>6.01</td>\n",
       "      <td>12.00</td>\n",
       "      <td>6.01</td>\n",
       "      <td>11.62</td>\n",
       "      <td>7.28</td>\n",
       "      <td>28.07</td>\n",
       "      <td>20.05</td>\n",
       "      <td>86.84</td>\n",
       "      <td>4.96</td>\n",
       "      <td>0.54</td>\n",
       "      <td>18.97</td>\n",
       "      <td>1.18</td>\n",
       "      <td>1,000.29</td>\n",
       "      <td>-400.07</td>\n",
       "      <td>1,600.75</td>\n",
       "      <td>-449.95</td>\n",
       "      <td>1,600.48</td>\n",
       "      <td>-449.83</td>\n",
       "      <td>1,600.53</td>\n",
       "      <td>-449.95</td>\n",
       "      <td>1,399.23</td>\n",
       "      <td>-450.87</td>\n",
       "      <td>1,399.72</td>\n",
       "      <td>-450.12</td>\n",
       "      <td>14.27</td>\n",
       "      <td>4.59</td>\n",
       "      <td>9.00</td>\n",
       "      <td>2.49</td>\n",
       "      <td>25.88</td>\n",
       "      <td>-499.99</td>\n",
       "      <td>23.89</td>\n",
       "      <td>-500.37</td>\n",
       "      <td>23.97</td>\n",
       "      <td>-500.09</td>\n",
       "      <td>22.09</td>\n",
       "      <td>-499.45</td>\n",
       "      <td>13.99</td>\n",
       "      <td>-505.50</td>\n",
       "      <td>11.95</td>\n",
       "      <td>-501.33</td>\n",
       "      <td>10.04</td>\n",
       "      <td>-500.17</td>\n",
       "      <td>7.98</td>\n",
       "      <td>-500.58</td>\n",
       "      <td>14.00</td>\n",
       "      <td>-599.79</td>\n",
       "    </tr>\n",
       "    <tr>\n",
       "      <th>2</th>\n",
       "      <td>2016-01-15 02:00:00</td>\n",
       "      <td>6.06</td>\n",
       "      <td>10.21</td>\n",
       "      <td>5.38</td>\n",
       "      <td>42.66</td>\n",
       "      <td>68.12</td>\n",
       "      <td>10.51</td>\n",
       "      <td>0.95</td>\n",
       "      <td>16.21</td>\n",
       "      <td>2.26</td>\n",
       "      <td>123.82</td>\n",
       "      <td>11.32</td>\n",
       "      <td>7.25</td>\n",
       "      <td>0.99</td>\n",
       "      <td>8.60</td>\n",
       "      <td>10.35</td>\n",
       "      <td>19.17</td>\n",
       "      <td>33.97</td>\n",
       "      <td>16.49</td>\n",
       "      <td>3.12</td>\n",
       "      <td>6.47</td>\n",
       "      <td>2.42</td>\n",
       "      <td>1,601.56</td>\n",
       "      <td>-500.00</td>\n",
       "      <td>1,600.39</td>\n",
       "      <td>-500.61</td>\n",
       "      <td>1,602.00</td>\n",
       "      <td>-500.87</td>\n",
       "      <td>1,599.54</td>\n",
       "      <td>-499.83</td>\n",
       "      <td>42,018.10</td>\n",
       "      <td>3,495.35</td>\n",
       "      <td>3,502.36</td>\n",
       "      <td>2.95</td>\n",
       "      <td>6.12</td>\n",
       "      <td>2.16</td>\n",
       "      <td>530.03</td>\n",
       "      <td>57.51</td>\n",
       "      <td>35.97</td>\n",
       "      <td>6.36</td>\n",
       "      <td>11.92</td>\n",
       "      <td>6.20</td>\n",
       "      <td>11.92</td>\n",
       "      <td>6.20</td>\n",
       "      <td>11.70</td>\n",
       "      <td>7.22</td>\n",
       "      <td>27.45</td>\n",
       "      <td>19.74</td>\n",
       "      <td>86.84</td>\n",
       "      <td>4.84</td>\n",
       "      <td>0.55</td>\n",
       "      <td>18.81</td>\n",
       "      <td>1.16</td>\n",
       "      <td>999.72</td>\n",
       "      <td>-400.07</td>\n",
       "      <td>1,599.34</td>\n",
       "      <td>-450.01</td>\n",
       "      <td>1,599.67</td>\n",
       "      <td>-449.95</td>\n",
       "      <td>1,599.85</td>\n",
       "      <td>-449.95</td>\n",
       "      <td>1,399.18</td>\n",
       "      <td>-449.94</td>\n",
       "      <td>1,400.32</td>\n",
       "      <td>-450.53</td>\n",
       "      <td>14.12</td>\n",
       "      <td>4.62</td>\n",
       "      <td>8.84</td>\n",
       "      <td>2.46</td>\n",
       "      <td>26.01</td>\n",
       "      <td>-499.93</td>\n",
       "      <td>23.89</td>\n",
       "      <td>-499.95</td>\n",
       "      <td>23.91</td>\n",
       "      <td>-499.44</td>\n",
       "      <td>23.96</td>\n",
       "      <td>-499.90</td>\n",
       "      <td>14.02</td>\n",
       "      <td>-502.52</td>\n",
       "      <td>11.91</td>\n",
       "      <td>-501.13</td>\n",
       "      <td>10.07</td>\n",
       "      <td>-500.13</td>\n",
       "      <td>8.01</td>\n",
       "      <td>-500.52</td>\n",
       "      <td>14.03</td>\n",
       "      <td>-601.43</td>\n",
       "    </tr>\n",
       "    <tr>\n",
       "      <th>3</th>\n",
       "      <td>2016-01-15 03:00:00</td>\n",
       "      <td>6.05</td>\n",
       "      <td>9.98</td>\n",
       "      <td>4.86</td>\n",
       "      <td>42.69</td>\n",
       "      <td>68.35</td>\n",
       "      <td>10.42</td>\n",
       "      <td>0.88</td>\n",
       "      <td>16.53</td>\n",
       "      <td>2.15</td>\n",
       "      <td>122.27</td>\n",
       "      <td>11.32</td>\n",
       "      <td>7.25</td>\n",
       "      <td>1.00</td>\n",
       "      <td>7.22</td>\n",
       "      <td>8.50</td>\n",
       "      <td>15.98</td>\n",
       "      <td>28.26</td>\n",
       "      <td>16.02</td>\n",
       "      <td>2.96</td>\n",
       "      <td>6.84</td>\n",
       "      <td>2.26</td>\n",
       "      <td>1,599.97</td>\n",
       "      <td>-500.95</td>\n",
       "      <td>1,600.66</td>\n",
       "      <td>-499.68</td>\n",
       "      <td>1,600.30</td>\n",
       "      <td>-500.73</td>\n",
       "      <td>1,600.45</td>\n",
       "      <td>-500.05</td>\n",
       "      <td>42,029.45</td>\n",
       "      <td>3,498.58</td>\n",
       "      <td>3,499.16</td>\n",
       "      <td>3.00</td>\n",
       "      <td>6.04</td>\n",
       "      <td>2.04</td>\n",
       "      <td>542.59</td>\n",
       "      <td>57.79</td>\n",
       "      <td>36.86</td>\n",
       "      <td>6.12</td>\n",
       "      <td>11.63</td>\n",
       "      <td>6.20</td>\n",
       "      <td>11.69</td>\n",
       "      <td>6.20</td>\n",
       "      <td>11.92</td>\n",
       "      <td>7.18</td>\n",
       "      <td>27.34</td>\n",
       "      <td>19.32</td>\n",
       "      <td>87.23</td>\n",
       "      <td>4.66</td>\n",
       "      <td>0.54</td>\n",
       "      <td>19.33</td>\n",
       "      <td>1.08</td>\n",
       "      <td>999.81</td>\n",
       "      <td>-400.20</td>\n",
       "      <td>1,600.06</td>\n",
       "      <td>-450.62</td>\n",
       "      <td>1,600.01</td>\n",
       "      <td>-449.91</td>\n",
       "      <td>1,597.73</td>\n",
       "      <td>-450.13</td>\n",
       "      <td>1,400.94</td>\n",
       "      <td>-450.03</td>\n",
       "      <td>1,400.23</td>\n",
       "      <td>-449.79</td>\n",
       "      <td>13.73</td>\n",
       "      <td>4.48</td>\n",
       "      <td>9.12</td>\n",
       "      <td>2.32</td>\n",
       "      <td>25.94</td>\n",
       "      <td>-499.18</td>\n",
       "      <td>23.96</td>\n",
       "      <td>-499.85</td>\n",
       "      <td>23.97</td>\n",
       "      <td>-500.01</td>\n",
       "      <td>23.95</td>\n",
       "      <td>-499.94</td>\n",
       "      <td>14.04</td>\n",
       "      <td>-500.86</td>\n",
       "      <td>12.00</td>\n",
       "      <td>-501.19</td>\n",
       "      <td>9.97</td>\n",
       "      <td>-499.20</td>\n",
       "      <td>7.98</td>\n",
       "      <td>-500.26</td>\n",
       "      <td>14.01</td>\n",
       "      <td>-600.00</td>\n",
       "    </tr>\n",
       "    <tr>\n",
       "      <th>4</th>\n",
       "      <td>2016-01-15 04:00:00</td>\n",
       "      <td>6.15</td>\n",
       "      <td>10.14</td>\n",
       "      <td>4.94</td>\n",
       "      <td>42.77</td>\n",
       "      <td>66.93</td>\n",
       "      <td>10.36</td>\n",
       "      <td>0.79</td>\n",
       "      <td>16.53</td>\n",
       "      <td>2.06</td>\n",
       "      <td>117.99</td>\n",
       "      <td>11.91</td>\n",
       "      <td>7.25</td>\n",
       "      <td>1.01</td>\n",
       "      <td>9.09</td>\n",
       "      <td>9.99</td>\n",
       "      <td>19.20</td>\n",
       "      <td>33.04</td>\n",
       "      <td>16.48</td>\n",
       "      <td>3.11</td>\n",
       "      <td>6.55</td>\n",
       "      <td>2.28</td>\n",
       "      <td>1,601.34</td>\n",
       "      <td>-498.98</td>\n",
       "      <td>1,601.44</td>\n",
       "      <td>-500.32</td>\n",
       "      <td>1,599.58</td>\n",
       "      <td>-500.89</td>\n",
       "      <td>1,602.65</td>\n",
       "      <td>-500.59</td>\n",
       "      <td>42,125.35</td>\n",
       "      <td>3,494.80</td>\n",
       "      <td>3,506.68</td>\n",
       "      <td>3.17</td>\n",
       "      <td>6.06</td>\n",
       "      <td>1.79</td>\n",
       "      <td>540.53</td>\n",
       "      <td>56.05</td>\n",
       "      <td>34.35</td>\n",
       "      <td>5.66</td>\n",
       "      <td>10.96</td>\n",
       "      <td>6.20</td>\n",
       "      <td>10.96</td>\n",
       "      <td>6.19</td>\n",
       "      <td>12.41</td>\n",
       "      <td>7.24</td>\n",
       "      <td>27.04</td>\n",
       "      <td>19.22</td>\n",
       "      <td>86.69</td>\n",
       "      <td>4.55</td>\n",
       "      <td>0.52</td>\n",
       "      <td>19.27</td>\n",
       "      <td>1.01</td>\n",
       "      <td>999.68</td>\n",
       "      <td>-399.75</td>\n",
       "      <td>1,600.21</td>\n",
       "      <td>-449.60</td>\n",
       "      <td>1,600.36</td>\n",
       "      <td>-450.03</td>\n",
       "      <td>1,599.76</td>\n",
       "      <td>-449.91</td>\n",
       "      <td>1,401.56</td>\n",
       "      <td>-448.88</td>\n",
       "      <td>1,401.16</td>\n",
       "      <td>-450.41</td>\n",
       "      <td>14.08</td>\n",
       "      <td>4.47</td>\n",
       "      <td>8.87</td>\n",
       "      <td>2.33</td>\n",
       "      <td>26.02</td>\n",
       "      <td>-500.28</td>\n",
       "      <td>23.96</td>\n",
       "      <td>-500.59</td>\n",
       "      <td>23.99</td>\n",
       "      <td>-500.08</td>\n",
       "      <td>23.96</td>\n",
       "      <td>-499.99</td>\n",
       "      <td>14.03</td>\n",
       "      <td>-499.84</td>\n",
       "      <td>11.95</td>\n",
       "      <td>-501.05</td>\n",
       "      <td>9.93</td>\n",
       "      <td>-501.69</td>\n",
       "      <td>7.89</td>\n",
       "      <td>-500.36</td>\n",
       "      <td>14.00</td>\n",
       "      <td>-601.50</td>\n",
       "    </tr>\n",
       "  </tbody>\n",
       "</table>\n",
       "</div>"
      ],
      "text/plain": [
       "                  date  final.output.concentrate_ag  \\\n",
       "0  2016-01-15 00:00:00                         6.06   \n",
       "1  2016-01-15 01:00:00                         6.03   \n",
       "2  2016-01-15 02:00:00                         6.06   \n",
       "3  2016-01-15 03:00:00                         6.05   \n",
       "4  2016-01-15 04:00:00                         6.15   \n",
       "\n",
       "   final.output.concentrate_pb  final.output.concentrate_sol  \\\n",
       "0                         9.89                          5.51   \n",
       "1                         9.97                          5.26   \n",
       "2                        10.21                          5.38   \n",
       "3                         9.98                          4.86   \n",
       "4                        10.14                          4.94   \n",
       "\n",
       "   final.output.concentrate_au  final.output.recovery  final.output.tail_ag  \\\n",
       "0                        42.19                  70.54                 10.41   \n",
       "1                        42.70                  69.27                 10.46   \n",
       "2                        42.66                  68.12                 10.51   \n",
       "3                        42.69                  68.35                 10.42   \n",
       "4                        42.77                  66.93                 10.36   \n",
       "\n",
       "   final.output.tail_pb  final.output.tail_sol  final.output.tail_au  \\\n",
       "0                  0.90                  16.90                  2.14   \n",
       "1                  0.93                  16.63                  2.22   \n",
       "2                  0.95                  16.21                  2.26   \n",
       "3                  0.88                  16.53                  2.15   \n",
       "4                  0.79                  16.53                  2.06   \n",
       "\n",
       "   primary_cleaner.input.sulfate  primary_cleaner.input.depressant  \\\n",
       "0                         127.09                             10.13   \n",
       "1                         125.63                             10.30   \n",
       "2                         123.82                             11.32   \n",
       "3                         122.27                             11.32   \n",
       "4                         117.99                             11.91   \n",
       "\n",
       "   primary_cleaner.input.feed_size  primary_cleaner.input.xanthate  \\\n",
       "0                             7.25                            0.99   \n",
       "1                             7.25                            1.00   \n",
       "2                             7.25                            0.99   \n",
       "3                             7.25                            1.00   \n",
       "4                             7.25                            1.01   \n",
       "\n",
       "   primary_cleaner.output.concentrate_ag  \\\n",
       "0                                   8.55   \n",
       "1                                   8.56   \n",
       "2                                   8.60   \n",
       "3                                   7.22   \n",
       "4                                   9.09   \n",
       "\n",
       "   primary_cleaner.output.concentrate_pb  \\\n",
       "0                                  10.39   \n",
       "1                                  10.50   \n",
       "2                                  10.35   \n",
       "3                                   8.50   \n",
       "4                                   9.99   \n",
       "\n",
       "   primary_cleaner.output.concentrate_sol  \\\n",
       "0                                   19.53   \n",
       "1                                   19.37   \n",
       "2                                   19.17   \n",
       "3                                   15.98   \n",
       "4                                   19.20   \n",
       "\n",
       "   primary_cleaner.output.concentrate_au  primary_cleaner.output.tail_ag  \\\n",
       "0                                  34.17                           14.94   \n",
       "1                                  34.12                           16.25   \n",
       "2                                  33.97                           16.49   \n",
       "3                                  28.26                           16.02   \n",
       "4                                  33.04                           16.48   \n",
       "\n",
       "   primary_cleaner.output.tail_pb  primary_cleaner.output.tail_sol  \\\n",
       "0                            2.53                             7.48   \n",
       "1                            3.05                             6.73   \n",
       "2                            3.12                             6.47   \n",
       "3                            2.96                             6.84   \n",
       "4                            3.11                             6.55   \n",
       "\n",
       "   primary_cleaner.output.tail_au  primary_cleaner.state.floatbank8_a_air  \\\n",
       "0                            2.11                                1,549.78   \n",
       "1                            2.35                                1,576.17   \n",
       "2                            2.42                                1,601.56   \n",
       "3                            2.26                                1,599.97   \n",
       "4                            2.28                                1,601.34   \n",
       "\n",
       "   primary_cleaner.state.floatbank8_a_level  \\\n",
       "0                                   -498.91   \n",
       "1                                   -500.90   \n",
       "2                                   -500.00   \n",
       "3                                   -500.95   \n",
       "4                                   -498.98   \n",
       "\n",
       "   primary_cleaner.state.floatbank8_b_air  \\\n",
       "0                                1,551.43   \n",
       "1                                1,575.95   \n",
       "2                                1,600.39   \n",
       "3                                1,600.66   \n",
       "4                                1,601.44   \n",
       "\n",
       "   primary_cleaner.state.floatbank8_b_level  \\\n",
       "0                                   -516.40   \n",
       "1                                   -499.87   \n",
       "2                                   -500.61   \n",
       "3                                   -499.68   \n",
       "4                                   -500.32   \n",
       "\n",
       "   primary_cleaner.state.floatbank8_c_air  \\\n",
       "0                                1,549.87   \n",
       "1                                1,575.99   \n",
       "2                                1,602.00   \n",
       "3                                1,600.30   \n",
       "4                                1,599.58   \n",
       "\n",
       "   primary_cleaner.state.floatbank8_c_level  \\\n",
       "0                                   -498.67   \n",
       "1                                   -499.32   \n",
       "2                                   -500.87   \n",
       "3                                   -500.73   \n",
       "4                                   -500.89   \n",
       "\n",
       "   primary_cleaner.state.floatbank8_d_air  \\\n",
       "0                                1,554.37   \n",
       "1                                1,574.48   \n",
       "2                                1,599.54   \n",
       "3                                1,600.45   \n",
       "4                                1,602.65   \n",
       "\n",
       "   primary_cleaner.state.floatbank8_d_level  \\\n",
       "0                                   -493.43   \n",
       "1                                   -498.93   \n",
       "2                                   -499.83   \n",
       "3                                   -500.05   \n",
       "4                                   -500.59   \n",
       "\n",
       "   rougher.calculation.sulfate_to_au_concentrate  \\\n",
       "0                                      41,885.71   \n",
       "1                                      42,050.86   \n",
       "2                                      42,018.10   \n",
       "3                                      42,029.45   \n",
       "4                                      42,125.35   \n",
       "\n",
       "   rougher.calculation.floatbank10_sulfate_to_au_feed  \\\n",
       "0                                           3,481.78    \n",
       "1                                           3,498.37    \n",
       "2                                           3,495.35    \n",
       "3                                           3,498.58    \n",
       "4                                           3,494.80    \n",
       "\n",
       "   rougher.calculation.floatbank11_sulfate_to_au_feed  \\\n",
       "0                                           3,520.34    \n",
       "1                                           3,489.98    \n",
       "2                                           3,502.36    \n",
       "3                                           3,499.16    \n",
       "4                                           3,506.68    \n",
       "\n",
       "   rougher.calculation.au_pb_ratio  rougher.input.feed_ag  \\\n",
       "0                             2.84                   6.10   \n",
       "1                             2.86                   6.16   \n",
       "2                             2.95                   6.12   \n",
       "3                             3.00                   6.04   \n",
       "4                             3.17                   6.06   \n",
       "\n",
       "   rougher.input.feed_pb  rougher.input.feed_rate  rougher.input.feed_size  \\\n",
       "0                   2.28                   523.55                    55.49   \n",
       "1                   2.27                   525.29                    57.28   \n",
       "2                   2.16                   530.03                    57.51   \n",
       "3                   2.04                   542.59                    57.79   \n",
       "4                   1.79                   540.53                    56.05   \n",
       "\n",
       "   rougher.input.feed_sol  rougher.input.feed_au  \\\n",
       "0                   36.81                   6.49   \n",
       "1                   35.75                   6.48   \n",
       "2                   35.97                   6.36   \n",
       "3                   36.86                   6.12   \n",
       "4                   34.35                   5.66   \n",
       "\n",
       "   rougher.input.floatbank10_sulfate  rougher.input.floatbank10_xanthate  \\\n",
       "0                              11.99                                6.01   \n",
       "1                              11.97                                6.01   \n",
       "2                              11.92                                6.20   \n",
       "3                              11.63                                6.20   \n",
       "4                              10.96                                6.20   \n",
       "\n",
       "   rougher.input.floatbank11_sulfate  rougher.input.floatbank11_xanthate  \\\n",
       "0                              11.84                                6.01   \n",
       "1                              12.00                                6.01   \n",
       "2                              11.92                                6.20   \n",
       "3                              11.69                                6.20   \n",
       "4                              10.96                                6.19   \n",
       "\n",
       "   rougher.output.concentrate_ag  rougher.output.concentrate_pb  \\\n",
       "0                          11.50                           7.10   \n",
       "1                          11.62                           7.28   \n",
       "2                          11.70                           7.22   \n",
       "3                          11.92                           7.18   \n",
       "4                          12.41                           7.24   \n",
       "\n",
       "   rougher.output.concentrate_sol  rougher.output.concentrate_au  \\\n",
       "0                           28.03                          19.79   \n",
       "1                           28.07                          20.05   \n",
       "2                           27.45                          19.74   \n",
       "3                           27.34                          19.32   \n",
       "4                           27.04                          19.22   \n",
       "\n",
       "   rougher.output.recovery  rougher.output.tail_ag  rougher.output.tail_pb  \\\n",
       "0                    87.11                    5.01                    0.51   \n",
       "1                    86.84                    4.96                    0.54   \n",
       "2                    86.84                    4.84                    0.55   \n",
       "3                    87.23                    4.66                    0.54   \n",
       "4                    86.69                    4.55                    0.52   \n",
       "\n",
       "   rougher.output.tail_sol  rougher.output.tail_au  \\\n",
       "0                    19.15                    1.17   \n",
       "1                    18.97                    1.18   \n",
       "2                    18.81                    1.16   \n",
       "3                    19.33                    1.08   \n",
       "4                    19.27                    1.01   \n",
       "\n",
       "   rougher.state.floatbank10_a_air  rougher.state.floatbank10_a_level  \\\n",
       "0                           999.71                            -404.07   \n",
       "1                         1,000.29                            -400.07   \n",
       "2                           999.72                            -400.07   \n",
       "3                           999.81                            -400.20   \n",
       "4                           999.68                            -399.75   \n",
       "\n",
       "   rougher.state.floatbank10_b_air  rougher.state.floatbank10_b_level  \\\n",
       "0                         1,603.01                            -434.72   \n",
       "1                         1,600.75                            -449.95   \n",
       "2                         1,599.34                            -450.01   \n",
       "3                         1,600.06                            -450.62   \n",
       "4                         1,600.21                            -449.60   \n",
       "\n",
       "   rougher.state.floatbank10_c_air  rougher.state.floatbank10_c_level  \\\n",
       "0                         1,602.38                            -442.20   \n",
       "1                         1,600.48                            -449.83   \n",
       "2                         1,599.67                            -449.95   \n",
       "3                         1,600.01                            -449.91   \n",
       "4                         1,600.36                            -450.03   \n",
       "\n",
       "   rougher.state.floatbank10_d_air  rougher.state.floatbank10_d_level  \\\n",
       "0                         1,598.94                            -451.29   \n",
       "1                         1,600.53                            -449.95   \n",
       "2                         1,599.85                            -449.95   \n",
       "3                         1,597.73                            -450.13   \n",
       "4                         1,599.76                            -449.91   \n",
       "\n",
       "   rougher.state.floatbank10_e_air  rougher.state.floatbank10_e_level  \\\n",
       "0                         1,404.47                            -455.46   \n",
       "1                         1,399.23                            -450.87   \n",
       "2                         1,399.18                            -449.94   \n",
       "3                         1,400.94                            -450.03   \n",
       "4                         1,401.56                            -448.88   \n",
       "\n",
       "   rougher.state.floatbank10_f_air  rougher.state.floatbank10_f_level  \\\n",
       "0                         1,416.35                            -451.94   \n",
       "1                         1,399.72                            -450.12   \n",
       "2                         1,400.32                            -450.53   \n",
       "3                         1,400.23                            -449.79   \n",
       "4                         1,401.16                            -450.41   \n",
       "\n",
       "   secondary_cleaner.output.tail_ag  secondary_cleaner.output.tail_pb  \\\n",
       "0                             14.50                              4.69   \n",
       "1                             14.27                              4.59   \n",
       "2                             14.12                              4.62   \n",
       "3                             13.73                              4.48   \n",
       "4                             14.08                              4.47   \n",
       "\n",
       "   secondary_cleaner.output.tail_sol  secondary_cleaner.output.tail_au  \\\n",
       "0                               8.76                              2.61   \n",
       "1                               9.00                              2.49   \n",
       "2                               8.84                              2.46   \n",
       "3                               9.12                              2.32   \n",
       "4                               8.87                              2.33   \n",
       "\n",
       "   secondary_cleaner.state.floatbank2_a_air  \\\n",
       "0                                     25.85   \n",
       "1                                     25.88   \n",
       "2                                     26.01   \n",
       "3                                     25.94   \n",
       "4                                     26.02   \n",
       "\n",
       "   secondary_cleaner.state.floatbank2_a_level  \\\n",
       "0                                     -498.53   \n",
       "1                                     -499.99   \n",
       "2                                     -499.93   \n",
       "3                                     -499.18   \n",
       "4                                     -500.28   \n",
       "\n",
       "   secondary_cleaner.state.floatbank2_b_air  \\\n",
       "0                                     23.89   \n",
       "1                                     23.89   \n",
       "2                                     23.89   \n",
       "3                                     23.96   \n",
       "4                                     23.96   \n",
       "\n",
       "   secondary_cleaner.state.floatbank2_b_level  \\\n",
       "0                                     -501.41   \n",
       "1                                     -500.37   \n",
       "2                                     -499.95   \n",
       "3                                     -499.85   \n",
       "4                                     -500.59   \n",
       "\n",
       "   secondary_cleaner.state.floatbank3_a_air  \\\n",
       "0                                     23.96   \n",
       "1                                     23.97   \n",
       "2                                     23.91   \n",
       "3                                     23.97   \n",
       "4                                     23.99   \n",
       "\n",
       "   secondary_cleaner.state.floatbank3_a_level  \\\n",
       "0                                     -495.26   \n",
       "1                                     -500.09   \n",
       "2                                     -499.44   \n",
       "3                                     -500.01   \n",
       "4                                     -500.08   \n",
       "\n",
       "   secondary_cleaner.state.floatbank3_b_air  \\\n",
       "0                                     21.94   \n",
       "1                                     22.09   \n",
       "2                                     23.96   \n",
       "3                                     23.95   \n",
       "4                                     23.96   \n",
       "\n",
       "   secondary_cleaner.state.floatbank3_b_level  \\\n",
       "0                                     -499.34   \n",
       "1                                     -499.45   \n",
       "2                                     -499.90   \n",
       "3                                     -499.94   \n",
       "4                                     -499.99   \n",
       "\n",
       "   secondary_cleaner.state.floatbank4_a_air  \\\n",
       "0                                     14.02   \n",
       "1                                     13.99   \n",
       "2                                     14.02   \n",
       "3                                     14.04   \n",
       "4                                     14.03   \n",
       "\n",
       "   secondary_cleaner.state.floatbank4_a_level  \\\n",
       "0                                     -502.49   \n",
       "1                                     -505.50   \n",
       "2                                     -502.52   \n",
       "3                                     -500.86   \n",
       "4                                     -499.84   \n",
       "\n",
       "   secondary_cleaner.state.floatbank4_b_air  \\\n",
       "0                                     12.10   \n",
       "1                                     11.95   \n",
       "2                                     11.91   \n",
       "3                                     12.00   \n",
       "4                                     11.95   \n",
       "\n",
       "   secondary_cleaner.state.floatbank4_b_level  \\\n",
       "0                                     -504.72   \n",
       "1                                     -501.33   \n",
       "2                                     -501.13   \n",
       "3                                     -501.19   \n",
       "4                                     -501.05   \n",
       "\n",
       "   secondary_cleaner.state.floatbank5_a_air  \\\n",
       "0                                      9.93   \n",
       "1                                     10.04   \n",
       "2                                     10.07   \n",
       "3                                      9.97   \n",
       "4                                      9.93   \n",
       "\n",
       "   secondary_cleaner.state.floatbank5_a_level  \\\n",
       "0                                     -498.31   \n",
       "1                                     -500.17   \n",
       "2                                     -500.13   \n",
       "3                                     -499.20   \n",
       "4                                     -501.69   \n",
       "\n",
       "   secondary_cleaner.state.floatbank5_b_air  \\\n",
       "0                                      8.08   \n",
       "1                                      7.98   \n",
       "2                                      8.01   \n",
       "3                                      7.98   \n",
       "4                                      7.89   \n",
       "\n",
       "   secondary_cleaner.state.floatbank5_b_level  \\\n",
       "0                                     -500.47   \n",
       "1                                     -500.58   \n",
       "2                                     -500.52   \n",
       "3                                     -500.26   \n",
       "4                                     -500.36   \n",
       "\n",
       "   secondary_cleaner.state.floatbank6_a_air  \\\n",
       "0                                     14.15   \n",
       "1                                     14.00   \n",
       "2                                     14.03   \n",
       "3                                     14.01   \n",
       "4                                     14.00   \n",
       "\n",
       "   secondary_cleaner.state.floatbank6_a_level  \n",
       "0                                     -605.84  \n",
       "1                                     -599.79  \n",
       "2                                     -601.43  \n",
       "3                                     -600.00  \n",
       "4                                     -601.50  "
      ]
     },
     "metadata": {},
     "output_type": "display_data"
    },
    {
     "name": "stdout",
     "output_type": "stream",
     "text": [
      "\n",
      "Описательная статистика датасэта:\n"
     ]
    },
    {
     "data": {
      "text/html": [
       "<div>\n",
       "<style scoped>\n",
       "    .dataframe tbody tr th:only-of-type {\n",
       "        vertical-align: middle;\n",
       "    }\n",
       "\n",
       "    .dataframe tbody tr th {\n",
       "        vertical-align: top;\n",
       "    }\n",
       "\n",
       "    .dataframe thead th {\n",
       "        text-align: right;\n",
       "    }\n",
       "</style>\n",
       "<table border=\"1\" class=\"dataframe\">\n",
       "  <thead>\n",
       "    <tr style=\"text-align: right;\">\n",
       "      <th></th>\n",
       "      <th>final.output.concentrate_ag</th>\n",
       "      <th>final.output.concentrate_pb</th>\n",
       "      <th>final.output.concentrate_sol</th>\n",
       "      <th>final.output.concentrate_au</th>\n",
       "      <th>final.output.recovery</th>\n",
       "      <th>final.output.tail_ag</th>\n",
       "      <th>final.output.tail_pb</th>\n",
       "      <th>final.output.tail_sol</th>\n",
       "      <th>final.output.tail_au</th>\n",
       "      <th>primary_cleaner.input.sulfate</th>\n",
       "      <th>primary_cleaner.input.depressant</th>\n",
       "      <th>primary_cleaner.input.feed_size</th>\n",
       "      <th>primary_cleaner.input.xanthate</th>\n",
       "      <th>primary_cleaner.output.concentrate_ag</th>\n",
       "      <th>primary_cleaner.output.concentrate_pb</th>\n",
       "      <th>primary_cleaner.output.concentrate_sol</th>\n",
       "      <th>primary_cleaner.output.concentrate_au</th>\n",
       "      <th>primary_cleaner.output.tail_ag</th>\n",
       "      <th>primary_cleaner.output.tail_pb</th>\n",
       "      <th>primary_cleaner.output.tail_sol</th>\n",
       "      <th>primary_cleaner.output.tail_au</th>\n",
       "      <th>primary_cleaner.state.floatbank8_a_air</th>\n",
       "      <th>primary_cleaner.state.floatbank8_a_level</th>\n",
       "      <th>primary_cleaner.state.floatbank8_b_air</th>\n",
       "      <th>primary_cleaner.state.floatbank8_b_level</th>\n",
       "      <th>primary_cleaner.state.floatbank8_c_air</th>\n",
       "      <th>primary_cleaner.state.floatbank8_c_level</th>\n",
       "      <th>primary_cleaner.state.floatbank8_d_air</th>\n",
       "      <th>primary_cleaner.state.floatbank8_d_level</th>\n",
       "      <th>rougher.calculation.sulfate_to_au_concentrate</th>\n",
       "      <th>rougher.calculation.floatbank10_sulfate_to_au_feed</th>\n",
       "      <th>rougher.calculation.floatbank11_sulfate_to_au_feed</th>\n",
       "      <th>rougher.calculation.au_pb_ratio</th>\n",
       "      <th>rougher.input.feed_ag</th>\n",
       "      <th>rougher.input.feed_pb</th>\n",
       "      <th>rougher.input.feed_rate</th>\n",
       "      <th>rougher.input.feed_size</th>\n",
       "      <th>rougher.input.feed_sol</th>\n",
       "      <th>rougher.input.feed_au</th>\n",
       "      <th>rougher.input.floatbank10_sulfate</th>\n",
       "      <th>rougher.input.floatbank10_xanthate</th>\n",
       "      <th>rougher.input.floatbank11_sulfate</th>\n",
       "      <th>rougher.input.floatbank11_xanthate</th>\n",
       "      <th>rougher.output.concentrate_ag</th>\n",
       "      <th>rougher.output.concentrate_pb</th>\n",
       "      <th>rougher.output.concentrate_sol</th>\n",
       "      <th>rougher.output.concentrate_au</th>\n",
       "      <th>rougher.output.recovery</th>\n",
       "      <th>rougher.output.tail_ag</th>\n",
       "      <th>rougher.output.tail_pb</th>\n",
       "      <th>rougher.output.tail_sol</th>\n",
       "      <th>rougher.output.tail_au</th>\n",
       "      <th>rougher.state.floatbank10_a_air</th>\n",
       "      <th>rougher.state.floatbank10_a_level</th>\n",
       "      <th>rougher.state.floatbank10_b_air</th>\n",
       "      <th>rougher.state.floatbank10_b_level</th>\n",
       "      <th>rougher.state.floatbank10_c_air</th>\n",
       "      <th>rougher.state.floatbank10_c_level</th>\n",
       "      <th>rougher.state.floatbank10_d_air</th>\n",
       "      <th>rougher.state.floatbank10_d_level</th>\n",
       "      <th>rougher.state.floatbank10_e_air</th>\n",
       "      <th>rougher.state.floatbank10_e_level</th>\n",
       "      <th>rougher.state.floatbank10_f_air</th>\n",
       "      <th>rougher.state.floatbank10_f_level</th>\n",
       "      <th>secondary_cleaner.output.tail_ag</th>\n",
       "      <th>secondary_cleaner.output.tail_pb</th>\n",
       "      <th>secondary_cleaner.output.tail_sol</th>\n",
       "      <th>secondary_cleaner.output.tail_au</th>\n",
       "      <th>secondary_cleaner.state.floatbank2_a_air</th>\n",
       "      <th>secondary_cleaner.state.floatbank2_a_level</th>\n",
       "      <th>secondary_cleaner.state.floatbank2_b_air</th>\n",
       "      <th>secondary_cleaner.state.floatbank2_b_level</th>\n",
       "      <th>secondary_cleaner.state.floatbank3_a_air</th>\n",
       "      <th>secondary_cleaner.state.floatbank3_a_level</th>\n",
       "      <th>secondary_cleaner.state.floatbank3_b_air</th>\n",
       "      <th>secondary_cleaner.state.floatbank3_b_level</th>\n",
       "      <th>secondary_cleaner.state.floatbank4_a_air</th>\n",
       "      <th>secondary_cleaner.state.floatbank4_a_level</th>\n",
       "      <th>secondary_cleaner.state.floatbank4_b_air</th>\n",
       "      <th>secondary_cleaner.state.floatbank4_b_level</th>\n",
       "      <th>secondary_cleaner.state.floatbank5_a_air</th>\n",
       "      <th>secondary_cleaner.state.floatbank5_a_level</th>\n",
       "      <th>secondary_cleaner.state.floatbank5_b_air</th>\n",
       "      <th>secondary_cleaner.state.floatbank5_b_level</th>\n",
       "      <th>secondary_cleaner.state.floatbank6_a_air</th>\n",
       "      <th>secondary_cleaner.state.floatbank6_a_level</th>\n",
       "    </tr>\n",
       "  </thead>\n",
       "  <tbody>\n",
       "    <tr>\n",
       "      <th>count</th>\n",
       "      <td>19,438.00</td>\n",
       "      <td>19,438.00</td>\n",
       "      <td>19,228.00</td>\n",
       "      <td>19,439.00</td>\n",
       "      <td>19,439.00</td>\n",
       "      <td>19,438.00</td>\n",
       "      <td>19,338.00</td>\n",
       "      <td>19,433.00</td>\n",
       "      <td>19,439.00</td>\n",
       "      <td>19,415.00</td>\n",
       "      <td>19,402.00</td>\n",
       "      <td>19,439.00</td>\n",
       "      <td>19,335.00</td>\n",
       "      <td>19,439.00</td>\n",
       "      <td>19,323.00</td>\n",
       "      <td>19,069.00</td>\n",
       "      <td>19,439.00</td>\n",
       "      <td>19,435.00</td>\n",
       "      <td>19,418.00</td>\n",
       "      <td>19,377.00</td>\n",
       "      <td>19,439.00</td>\n",
       "      <td>19,435.00</td>\n",
       "      <td>19,438.00</td>\n",
       "      <td>19,435.00</td>\n",
       "      <td>19,438.00</td>\n",
       "      <td>19,437.00</td>\n",
       "      <td>19,438.00</td>\n",
       "      <td>19,436.00</td>\n",
       "      <td>19,438.00</td>\n",
       "      <td>19,437.00</td>\n",
       "      <td>19,437.00</td>\n",
       "      <td>19,437.00</td>\n",
       "      <td>19,439.00</td>\n",
       "      <td>19,439.00</td>\n",
       "      <td>19,339.00</td>\n",
       "      <td>19,428.00</td>\n",
       "      <td>19,294.00</td>\n",
       "      <td>19,340.00</td>\n",
       "      <td>19,439.00</td>\n",
       "      <td>19,405.00</td>\n",
       "      <td>19,431.00</td>\n",
       "      <td>19,395.00</td>\n",
       "      <td>18,986.00</td>\n",
       "      <td>19,439.00</td>\n",
       "      <td>19,439.00</td>\n",
       "      <td>19,416.00</td>\n",
       "      <td>19,439.00</td>\n",
       "      <td>19,439.00</td>\n",
       "      <td>19,438.00</td>\n",
       "      <td>19,439.00</td>\n",
       "      <td>19,439.00</td>\n",
       "      <td>19,439.00</td>\n",
       "      <td>19,438.00</td>\n",
       "      <td>19,438.00</td>\n",
       "      <td>19,438.00</td>\n",
       "      <td>19,438.00</td>\n",
       "      <td>19,438.00</td>\n",
       "      <td>19,438.00</td>\n",
       "      <td>19,439.00</td>\n",
       "      <td>19,439.00</td>\n",
       "      <td>19,003.00</td>\n",
       "      <td>19,439.00</td>\n",
       "      <td>19,439.00</td>\n",
       "      <td>19,439.00</td>\n",
       "      <td>19,437.00</td>\n",
       "      <td>19,427.00</td>\n",
       "      <td>17,691.00</td>\n",
       "      <td>19,439.00</td>\n",
       "      <td>19,219.00</td>\n",
       "      <td>19,438.00</td>\n",
       "      <td>19,416.00</td>\n",
       "      <td>19,438.00</td>\n",
       "      <td>19,426.00</td>\n",
       "      <td>19,438.00</td>\n",
       "      <td>19,438.00</td>\n",
       "      <td>19,438.00</td>\n",
       "      <td>19,433.00</td>\n",
       "      <td>19,438.00</td>\n",
       "      <td>19,438.00</td>\n",
       "      <td>19,438.00</td>\n",
       "      <td>19,438.00</td>\n",
       "      <td>19,438.00</td>\n",
       "      <td>19,438.00</td>\n",
       "      <td>19,438.00</td>\n",
       "      <td>19,437.00</td>\n",
       "      <td>19,438.00</td>\n",
       "    </tr>\n",
       "    <tr>\n",
       "      <th>mean</th>\n",
       "      <td>5.17</td>\n",
       "      <td>9.98</td>\n",
       "      <td>9.50</td>\n",
       "      <td>44.08</td>\n",
       "      <td>67.05</td>\n",
       "      <td>9.69</td>\n",
       "      <td>2.71</td>\n",
       "      <td>10.58</td>\n",
       "      <td>3.04</td>\n",
       "      <td>144.62</td>\n",
       "      <td>8.82</td>\n",
       "      <td>7.31</td>\n",
       "      <td>1.02</td>\n",
       "      <td>8.44</td>\n",
       "      <td>9.83</td>\n",
       "      <td>10.49</td>\n",
       "      <td>32.12</td>\n",
       "      <td>16.15</td>\n",
       "      <td>3.44</td>\n",
       "      <td>7.97</td>\n",
       "      <td>3.91</td>\n",
       "      <td>1,589.35</td>\n",
       "      <td>-491.20</td>\n",
       "      <td>1,591.34</td>\n",
       "      <td>-492.19</td>\n",
       "      <td>1,586.67</td>\n",
       "      <td>-491.98</td>\n",
       "      <td>1,542.91</td>\n",
       "      <td>-488.02</td>\n",
       "      <td>42,171.19</td>\n",
       "      <td>3,393.05</td>\n",
       "      <td>3,256.85</td>\n",
       "      <td>2.42</td>\n",
       "      <td>8.79</td>\n",
       "      <td>3.60</td>\n",
       "      <td>478.32</td>\n",
       "      <td>58.97</td>\n",
       "      <td>36.70</td>\n",
       "      <td>8.27</td>\n",
       "      <td>12.33</td>\n",
       "      <td>6.02</td>\n",
       "      <td>12.06</td>\n",
       "      <td>6.07</td>\n",
       "      <td>11.99</td>\n",
       "      <td>7.61</td>\n",
       "      <td>28.81</td>\n",
       "      <td>19.77</td>\n",
       "      <td>83.33</td>\n",
       "      <td>5.59</td>\n",
       "      <td>0.65</td>\n",
       "      <td>18.06</td>\n",
       "      <td>1.82</td>\n",
       "      <td>1,105.32</td>\n",
       "      <td>-376.61</td>\n",
       "      <td>1,320.22</td>\n",
       "      <td>-467.25</td>\n",
       "      <td>1,299.97</td>\n",
       "      <td>-467.72</td>\n",
       "      <td>1,211.56</td>\n",
       "      <td>-468.24</td>\n",
       "      <td>1,080.87</td>\n",
       "      <td>-466.04</td>\n",
       "      <td>1,025.27</td>\n",
       "      <td>-466.27</td>\n",
       "      <td>14.59</td>\n",
       "      <td>5.78</td>\n",
       "      <td>7.17</td>\n",
       "      <td>4.34</td>\n",
       "      <td>28.71</td>\n",
       "      <td>-502.37</td>\n",
       "      <td>24.11</td>\n",
       "      <td>-503.23</td>\n",
       "      <td>28.20</td>\n",
       "      <td>-486.20</td>\n",
       "      <td>22.20</td>\n",
       "      <td>-493.74</td>\n",
       "      <td>18.99</td>\n",
       "      <td>-485.89</td>\n",
       "      <td>15.01</td>\n",
       "      <td>-461.08</td>\n",
       "      <td>15.69</td>\n",
       "      <td>-488.68</td>\n",
       "      <td>12.20</td>\n",
       "      <td>-487.15</td>\n",
       "      <td>18.96</td>\n",
       "      <td>-505.44</td>\n",
       "    </tr>\n",
       "    <tr>\n",
       "      <th>std</th>\n",
       "      <td>1.37</td>\n",
       "      <td>1.67</td>\n",
       "      <td>2.79</td>\n",
       "      <td>5.13</td>\n",
       "      <td>10.13</td>\n",
       "      <td>2.33</td>\n",
       "      <td>0.95</td>\n",
       "      <td>2.87</td>\n",
       "      <td>0.92</td>\n",
       "      <td>44.46</td>\n",
       "      <td>3.29</td>\n",
       "      <td>0.61</td>\n",
       "      <td>0.51</td>\n",
       "      <td>2.05</td>\n",
       "      <td>2.56</td>\n",
       "      <td>3.91</td>\n",
       "      <td>5.63</td>\n",
       "      <td>3.55</td>\n",
       "      <td>1.39</td>\n",
       "      <td>2.21</td>\n",
       "      <td>1.59</td>\n",
       "      <td>129.00</td>\n",
       "      <td>32.43</td>\n",
       "      <td>131.81</td>\n",
       "      <td>33.79</td>\n",
       "      <td>136.11</td>\n",
       "      <td>32.71</td>\n",
       "      <td>246.20</td>\n",
       "      <td>43.96</td>\n",
       "      <td>324,362.11</td>\n",
       "      <td>4,943.85</td>\n",
       "      <td>5,781.42</td>\n",
       "      <td>0.81</td>\n",
       "      <td>1.94</td>\n",
       "      <td>1.05</td>\n",
       "      <td>105.37</td>\n",
       "      <td>21.63</td>\n",
       "      <td>5.15</td>\n",
       "      <td>1.96</td>\n",
       "      <td>3.43</td>\n",
       "      <td>1.13</td>\n",
       "      <td>3.78</td>\n",
       "      <td>1.10</td>\n",
       "      <td>2.73</td>\n",
       "      <td>1.80</td>\n",
       "      <td>5.94</td>\n",
       "      <td>3.75</td>\n",
       "      <td>14.15</td>\n",
       "      <td>1.11</td>\n",
       "      <td>0.25</td>\n",
       "      <td>3.45</td>\n",
       "      <td>0.68</td>\n",
       "      <td>160.83</td>\n",
       "      <td>93.91</td>\n",
       "      <td>176.29</td>\n",
       "      <td>54.67</td>\n",
       "      <td>202.80</td>\n",
       "      <td>53.53</td>\n",
       "      <td>204.02</td>\n",
       "      <td>53.92</td>\n",
       "      <td>172.15</td>\n",
       "      <td>57.38</td>\n",
       "      <td>164.49</td>\n",
       "      <td>57.85</td>\n",
       "      <td>4.27</td>\n",
       "      <td>2.77</td>\n",
       "      <td>3.92</td>\n",
       "      <td>2.33</td>\n",
       "      <td>5.46</td>\n",
       "      <td>53.57</td>\n",
       "      <td>5.75</td>\n",
       "      <td>56.57</td>\n",
       "      <td>6.13</td>\n",
       "      <td>54.41</td>\n",
       "      <td>5.57</td>\n",
       "      <td>43.37</td>\n",
       "      <td>5.41</td>\n",
       "      <td>47.76</td>\n",
       "      <td>4.89</td>\n",
       "      <td>67.41</td>\n",
       "      <td>5.51</td>\n",
       "      <td>34.53</td>\n",
       "      <td>5.33</td>\n",
       "      <td>38.35</td>\n",
       "      <td>5.55</td>\n",
       "      <td>37.69</td>\n",
       "    </tr>\n",
       "    <tr>\n",
       "      <th>min</th>\n",
       "      <td>0.00</td>\n",
       "      <td>0.00</td>\n",
       "      <td>0.00</td>\n",
       "      <td>0.00</td>\n",
       "      <td>0.00</td>\n",
       "      <td>0.00</td>\n",
       "      <td>0.00</td>\n",
       "      <td>0.00</td>\n",
       "      <td>0.00</td>\n",
       "      <td>0.00</td>\n",
       "      <td>0.00</td>\n",
       "      <td>1.08</td>\n",
       "      <td>0.00</td>\n",
       "      <td>0.00</td>\n",
       "      <td>0.00</td>\n",
       "      <td>0.00</td>\n",
       "      <td>0.00</td>\n",
       "      <td>0.00</td>\n",
       "      <td>0.00</td>\n",
       "      <td>0.00</td>\n",
       "      <td>0.00</td>\n",
       "      <td>0.00</td>\n",
       "      <td>-798.64</td>\n",
       "      <td>0.00</td>\n",
       "      <td>-800.00</td>\n",
       "      <td>0.00</td>\n",
       "      <td>-799.96</td>\n",
       "      <td>0.00</td>\n",
       "      <td>-799.79</td>\n",
       "      <td>-42,235,197.37</td>\n",
       "      <td>-486.60</td>\n",
       "      <td>-264.98</td>\n",
       "      <td>-0.01</td>\n",
       "      <td>0.01</td>\n",
       "      <td>0.01</td>\n",
       "      <td>0.00</td>\n",
       "      <td>0.05</td>\n",
       "      <td>0.01</td>\n",
       "      <td>0.01</td>\n",
       "      <td>0.00</td>\n",
       "      <td>0.00</td>\n",
       "      <td>0.00</td>\n",
       "      <td>0.00</td>\n",
       "      <td>0.00</td>\n",
       "      <td>0.00</td>\n",
       "      <td>0.00</td>\n",
       "      <td>0.00</td>\n",
       "      <td>0.00</td>\n",
       "      <td>0.59</td>\n",
       "      <td>0.01</td>\n",
       "      <td>10.01</td>\n",
       "      <td>0.02</td>\n",
       "      <td>-0.04</td>\n",
       "      <td>-657.95</td>\n",
       "      <td>-0.72</td>\n",
       "      <td>-650.26</td>\n",
       "      <td>-0.06</td>\n",
       "      <td>-647.54</td>\n",
       "      <td>-0.99</td>\n",
       "      <td>-648.39</td>\n",
       "      <td>-1.98</td>\n",
       "      <td>-649.44</td>\n",
       "      <td>-2.59</td>\n",
       "      <td>-649.95</td>\n",
       "      <td>0.00</td>\n",
       "      <td>0.00</td>\n",
       "      <td>0.00</td>\n",
       "      <td>0.00</td>\n",
       "      <td>0.08</td>\n",
       "      <td>-799.61</td>\n",
       "      <td>0.00</td>\n",
       "      <td>-799.87</td>\n",
       "      <td>0.00</td>\n",
       "      <td>-799.76</td>\n",
       "      <td>0.00</td>\n",
       "      <td>-809.33</td>\n",
       "      <td>0.00</td>\n",
       "      <td>-799.80</td>\n",
       "      <td>0.00</td>\n",
       "      <td>-800.84</td>\n",
       "      <td>-0.37</td>\n",
       "      <td>-797.32</td>\n",
       "      <td>0.53</td>\n",
       "      <td>-800.22</td>\n",
       "      <td>-0.08</td>\n",
       "      <td>-809.74</td>\n",
       "    </tr>\n",
       "    <tr>\n",
       "      <th>25%</th>\n",
       "      <td>4.25</td>\n",
       "      <td>9.14</td>\n",
       "      <td>7.72</td>\n",
       "      <td>43.40</td>\n",
       "      <td>63.30</td>\n",
       "      <td>8.06</td>\n",
       "      <td>2.04</td>\n",
       "      <td>8.94</td>\n",
       "      <td>2.46</td>\n",
       "      <td>114.11</td>\n",
       "      <td>6.08</td>\n",
       "      <td>6.94</td>\n",
       "      <td>0.70</td>\n",
       "      <td>7.26</td>\n",
       "      <td>8.70</td>\n",
       "      <td>7.89</td>\n",
       "      <td>30.46</td>\n",
       "      <td>14.02</td>\n",
       "      <td>2.50</td>\n",
       "      <td>6.75</td>\n",
       "      <td>2.92</td>\n",
       "      <td>1,505.06</td>\n",
       "      <td>-500.31</td>\n",
       "      <td>1,503.63</td>\n",
       "      <td>-500.44</td>\n",
       "      <td>1,500.93</td>\n",
       "      <td>-500.70</td>\n",
       "      <td>1,494.22</td>\n",
       "      <td>-500.46</td>\n",
       "      <td>40,700.95</td>\n",
       "      <td>2,611.43</td>\n",
       "      <td>2,551.44</td>\n",
       "      <td>2.04</td>\n",
       "      <td>7.24</td>\n",
       "      <td>2.89</td>\n",
       "      <td>416.53</td>\n",
       "      <td>47.44</td>\n",
       "      <td>34.21</td>\n",
       "      <td>6.85</td>\n",
       "      <td>10.00</td>\n",
       "      <td>5.40</td>\n",
       "      <td>10.00</td>\n",
       "      <td>5.40</td>\n",
       "      <td>10.63</td>\n",
       "      <td>6.73</td>\n",
       "      <td>27.22</td>\n",
       "      <td>18.80</td>\n",
       "      <td>81.04</td>\n",
       "      <td>4.89</td>\n",
       "      <td>0.48</td>\n",
       "      <td>15.82</td>\n",
       "      <td>1.40</td>\n",
       "      <td>999.66</td>\n",
       "      <td>-499.84</td>\n",
       "      <td>1,199.63</td>\n",
       "      <td>-500.20</td>\n",
       "      <td>1,151.08</td>\n",
       "      <td>-500.22</td>\n",
       "      <td>1,061.05</td>\n",
       "      <td>-500.39</td>\n",
       "      <td>998.68</td>\n",
       "      <td>-500.23</td>\n",
       "      <td>901.00</td>\n",
       "      <td>-500.52</td>\n",
       "      <td>12.64</td>\n",
       "      <td>3.86</td>\n",
       "      <td>3.85</td>\n",
       "      <td>3.18</td>\n",
       "      <td>25.05</td>\n",
       "      <td>-500.23</td>\n",
       "      <td>20.92</td>\n",
       "      <td>-500.25</td>\n",
       "      <td>24.95</td>\n",
       "      <td>-500.21</td>\n",
       "      <td>19.00</td>\n",
       "      <td>-500.12</td>\n",
       "      <td>14.98</td>\n",
       "      <td>-500.70</td>\n",
       "      <td>11.94</td>\n",
       "      <td>-500.19</td>\n",
       "      <td>10.99</td>\n",
       "      <td>-500.46</td>\n",
       "      <td>8.97</td>\n",
       "      <td>-500.13</td>\n",
       "      <td>14.98</td>\n",
       "      <td>-500.73</td>\n",
       "    </tr>\n",
       "    <tr>\n",
       "      <th>50%</th>\n",
       "      <td>5.07</td>\n",
       "      <td>10.10</td>\n",
       "      <td>9.22</td>\n",
       "      <td>45.01</td>\n",
       "      <td>68.17</td>\n",
       "      <td>9.74</td>\n",
       "      <td>2.75</td>\n",
       "      <td>10.62</td>\n",
       "      <td>2.98</td>\n",
       "      <td>143.23</td>\n",
       "      <td>8.04</td>\n",
       "      <td>7.28</td>\n",
       "      <td>0.94</td>\n",
       "      <td>8.51</td>\n",
       "      <td>10.15</td>\n",
       "      <td>10.31</td>\n",
       "      <td>32.84</td>\n",
       "      <td>15.84</td>\n",
       "      <td>3.27</td>\n",
       "      <td>8.18</td>\n",
       "      <td>3.62</td>\n",
       "      <td>1,600.60</td>\n",
       "      <td>-499.93</td>\n",
       "      <td>1,600.52</td>\n",
       "      <td>-499.96</td>\n",
       "      <td>1,600.25</td>\n",
       "      <td>-499.91</td>\n",
       "      <td>1,599.45</td>\n",
       "      <td>-499.91</td>\n",
       "      <td>44,696.48</td>\n",
       "      <td>3,018.35</td>\n",
       "      <td>2,997.22</td>\n",
       "      <td>2.31</td>\n",
       "      <td>8.59</td>\n",
       "      <td>3.53</td>\n",
       "      <td>499.42</td>\n",
       "      <td>54.61</td>\n",
       "      <td>37.20</td>\n",
       "      <td>8.13</td>\n",
       "      <td>12.00</td>\n",
       "      <td>6.01</td>\n",
       "      <td>12.00</td>\n",
       "      <td>6.10</td>\n",
       "      <td>12.10</td>\n",
       "      <td>7.74</td>\n",
       "      <td>29.84</td>\n",
       "      <td>20.28</td>\n",
       "      <td>86.19</td>\n",
       "      <td>5.77</td>\n",
       "      <td>0.62</td>\n",
       "      <td>18.11</td>\n",
       "      <td>1.81</td>\n",
       "      <td>1,001.07</td>\n",
       "      <td>-300.26</td>\n",
       "      <td>1,301.58</td>\n",
       "      <td>-499.78</td>\n",
       "      <td>1,300.21</td>\n",
       "      <td>-499.71</td>\n",
       "      <td>1,201.57</td>\n",
       "      <td>-499.53</td>\n",
       "      <td>1,050.03</td>\n",
       "      <td>-499.66</td>\n",
       "      <td>999.92</td>\n",
       "      <td>-499.47</td>\n",
       "      <td>15.64</td>\n",
       "      <td>5.34</td>\n",
       "      <td>7.69</td>\n",
       "      <td>4.07</td>\n",
       "      <td>29.10</td>\n",
       "      <td>-499.97</td>\n",
       "      <td>25.04</td>\n",
       "      <td>-500.02</td>\n",
       "      <td>27.98</td>\n",
       "      <td>-499.93</td>\n",
       "      <td>22.01</td>\n",
       "      <td>-499.98</td>\n",
       "      <td>18.02</td>\n",
       "      <td>-499.84</td>\n",
       "      <td>14.97</td>\n",
       "      <td>-499.46</td>\n",
       "      <td>15.00</td>\n",
       "      <td>-499.80</td>\n",
       "      <td>11.02</td>\n",
       "      <td>-499.94</td>\n",
       "      <td>19.96</td>\n",
       "      <td>-500.05</td>\n",
       "    </tr>\n",
       "    <tr>\n",
       "      <th>75%</th>\n",
       "      <td>5.90</td>\n",
       "      <td>11.04</td>\n",
       "      <td>10.95</td>\n",
       "      <td>46.28</td>\n",
       "      <td>72.69</td>\n",
       "      <td>11.13</td>\n",
       "      <td>3.33</td>\n",
       "      <td>12.10</td>\n",
       "      <td>3.57</td>\n",
       "      <td>175.08</td>\n",
       "      <td>11.01</td>\n",
       "      <td>7.67</td>\n",
       "      <td>1.21</td>\n",
       "      <td>9.81</td>\n",
       "      <td>11.42</td>\n",
       "      <td>13.45</td>\n",
       "      <td>35.05</td>\n",
       "      <td>18.01</td>\n",
       "      <td>4.18</td>\n",
       "      <td>9.55</td>\n",
       "      <td>4.59</td>\n",
       "      <td>1,697.66</td>\n",
       "      <td>-499.43</td>\n",
       "      <td>1,699.22</td>\n",
       "      <td>-499.37</td>\n",
       "      <td>1,699.48</td>\n",
       "      <td>-498.86</td>\n",
       "      <td>1,698.52</td>\n",
       "      <td>-499.06</td>\n",
       "      <td>48,168.21</td>\n",
       "      <td>3,676.77</td>\n",
       "      <td>3,602.00</td>\n",
       "      <td>2.73</td>\n",
       "      <td>10.21</td>\n",
       "      <td>4.24</td>\n",
       "      <td>550.17</td>\n",
       "      <td>65.02</td>\n",
       "      <td>40.04</td>\n",
       "      <td>9.77</td>\n",
       "      <td>14.72</td>\n",
       "      <td>6.80</td>\n",
       "      <td>14.64</td>\n",
       "      <td>6.80</td>\n",
       "      <td>13.74</td>\n",
       "      <td>8.57</td>\n",
       "      <td>32.19</td>\n",
       "      <td>21.72</td>\n",
       "      <td>90.01</td>\n",
       "      <td>6.39</td>\n",
       "      <td>0.78</td>\n",
       "      <td>20.09</td>\n",
       "      <td>2.21</td>\n",
       "      <td>1,205.62</td>\n",
       "      <td>-299.98</td>\n",
       "      <td>1,448.63</td>\n",
       "      <td>-400.62</td>\n",
       "      <td>1,449.46</td>\n",
       "      <td>-400.99</td>\n",
       "      <td>1,352.88</td>\n",
       "      <td>-401.64</td>\n",
       "      <td>1,199.43</td>\n",
       "      <td>-401.16</td>\n",
       "      <td>1,099.72</td>\n",
       "      <td>-401.51</td>\n",
       "      <td>17.36</td>\n",
       "      <td>7.79</td>\n",
       "      <td>10.41</td>\n",
       "      <td>5.06</td>\n",
       "      <td>33.01</td>\n",
       "      <td>-499.67</td>\n",
       "      <td>28.01</td>\n",
       "      <td>-499.79</td>\n",
       "      <td>33.00</td>\n",
       "      <td>-499.33</td>\n",
       "      <td>26.00</td>\n",
       "      <td>-499.81</td>\n",
       "      <td>23.01</td>\n",
       "      <td>-498.25</td>\n",
       "      <td>19.03</td>\n",
       "      <td>-400.12</td>\n",
       "      <td>18.03</td>\n",
       "      <td>-498.38</td>\n",
       "      <td>14.02</td>\n",
       "      <td>-499.44</td>\n",
       "      <td>24.00</td>\n",
       "      <td>-499.50</td>\n",
       "    </tr>\n",
       "    <tr>\n",
       "      <th>max</th>\n",
       "      <td>16.00</td>\n",
       "      <td>17.03</td>\n",
       "      <td>19.62</td>\n",
       "      <td>52.76</td>\n",
       "      <td>100.00</td>\n",
       "      <td>19.55</td>\n",
       "      <td>5.80</td>\n",
       "      <td>22.32</td>\n",
       "      <td>8.25</td>\n",
       "      <td>265.98</td>\n",
       "      <td>40.00</td>\n",
       "      <td>15.50</td>\n",
       "      <td>4.10</td>\n",
       "      <td>16.08</td>\n",
       "      <td>17.08</td>\n",
       "      <td>22.46</td>\n",
       "      <td>45.93</td>\n",
       "      <td>29.46</td>\n",
       "      <td>9.63</td>\n",
       "      <td>22.28</td>\n",
       "      <td>17.79</td>\n",
       "      <td>2,103.10</td>\n",
       "      <td>-57.20</td>\n",
       "      <td>2,114.91</td>\n",
       "      <td>-142.53</td>\n",
       "      <td>2,013.16</td>\n",
       "      <td>-150.94</td>\n",
       "      <td>2,398.90</td>\n",
       "      <td>-30.60</td>\n",
       "      <td>3,428,098.94</td>\n",
       "      <td>629,638.98</td>\n",
       "      <td>718,684.96</td>\n",
       "      <td>39.38</td>\n",
       "      <td>14.60</td>\n",
       "      <td>7.14</td>\n",
       "      <td>717.51</td>\n",
       "      <td>484.97</td>\n",
       "      <td>53.48</td>\n",
       "      <td>13.73</td>\n",
       "      <td>36.12</td>\n",
       "      <td>9.70</td>\n",
       "      <td>37.98</td>\n",
       "      <td>9.70</td>\n",
       "      <td>24.48</td>\n",
       "      <td>13.62</td>\n",
       "      <td>38.35</td>\n",
       "      <td>28.82</td>\n",
       "      <td>100.00</td>\n",
       "      <td>12.72</td>\n",
       "      <td>3.78</td>\n",
       "      <td>66.12</td>\n",
       "      <td>9.69</td>\n",
       "      <td>1,521.98</td>\n",
       "      <td>-273.78</td>\n",
       "      <td>1,809.19</td>\n",
       "      <td>-296.38</td>\n",
       "      <td>2,499.13</td>\n",
       "      <td>-292.16</td>\n",
       "      <td>1,817.20</td>\n",
       "      <td>-76.40</td>\n",
       "      <td>1,922.64</td>\n",
       "      <td>-139.75</td>\n",
       "      <td>1,706.31</td>\n",
       "      <td>-191.72</td>\n",
       "      <td>23.26</td>\n",
       "      <td>17.04</td>\n",
       "      <td>26.00</td>\n",
       "      <td>26.81</td>\n",
       "      <td>52.65</td>\n",
       "      <td>-127.88</td>\n",
       "      <td>35.15</td>\n",
       "      <td>-212.00</td>\n",
       "      <td>44.26</td>\n",
       "      <td>-191.68</td>\n",
       "      <td>35.07</td>\n",
       "      <td>-159.74</td>\n",
       "      <td>30.12</td>\n",
       "      <td>-245.24</td>\n",
       "      <td>31.27</td>\n",
       "      <td>-6.51</td>\n",
       "      <td>43.71</td>\n",
       "      <td>-244.48</td>\n",
       "      <td>27.93</td>\n",
       "      <td>-137.74</td>\n",
       "      <td>32.19</td>\n",
       "      <td>-104.43</td>\n",
       "    </tr>\n",
       "  </tbody>\n",
       "</table>\n",
       "</div>"
      ],
      "text/plain": [
       "       final.output.concentrate_ag  final.output.concentrate_pb  \\\n",
       "count                    19,438.00                    19,438.00   \n",
       "mean                          5.17                         9.98   \n",
       "std                           1.37                         1.67   \n",
       "min                           0.00                         0.00   \n",
       "25%                           4.25                         9.14   \n",
       "50%                           5.07                        10.10   \n",
       "75%                           5.90                        11.04   \n",
       "max                          16.00                        17.03   \n",
       "\n",
       "       final.output.concentrate_sol  final.output.concentrate_au  \\\n",
       "count                     19,228.00                    19,439.00   \n",
       "mean                           9.50                        44.08   \n",
       "std                            2.79                         5.13   \n",
       "min                            0.00                         0.00   \n",
       "25%                            7.72                        43.40   \n",
       "50%                            9.22                        45.01   \n",
       "75%                           10.95                        46.28   \n",
       "max                           19.62                        52.76   \n",
       "\n",
       "       final.output.recovery  final.output.tail_ag  final.output.tail_pb  \\\n",
       "count              19,439.00             19,438.00             19,338.00   \n",
       "mean                   67.05                  9.69                  2.71   \n",
       "std                    10.13                  2.33                  0.95   \n",
       "min                     0.00                  0.00                  0.00   \n",
       "25%                    63.30                  8.06                  2.04   \n",
       "50%                    68.17                  9.74                  2.75   \n",
       "75%                    72.69                 11.13                  3.33   \n",
       "max                   100.00                 19.55                  5.80   \n",
       "\n",
       "       final.output.tail_sol  final.output.tail_au  \\\n",
       "count              19,433.00             19,439.00   \n",
       "mean                   10.58                  3.04   \n",
       "std                     2.87                  0.92   \n",
       "min                     0.00                  0.00   \n",
       "25%                     8.94                  2.46   \n",
       "50%                    10.62                  2.98   \n",
       "75%                    12.10                  3.57   \n",
       "max                    22.32                  8.25   \n",
       "\n",
       "       primary_cleaner.input.sulfate  primary_cleaner.input.depressant  \\\n",
       "count                      19,415.00                         19,402.00   \n",
       "mean                          144.62                              8.82   \n",
       "std                            44.46                              3.29   \n",
       "min                             0.00                              0.00   \n",
       "25%                           114.11                              6.08   \n",
       "50%                           143.23                              8.04   \n",
       "75%                           175.08                             11.01   \n",
       "max                           265.98                             40.00   \n",
       "\n",
       "       primary_cleaner.input.feed_size  primary_cleaner.input.xanthate  \\\n",
       "count                        19,439.00                       19,335.00   \n",
       "mean                              7.31                            1.02   \n",
       "std                               0.61                            0.51   \n",
       "min                               1.08                            0.00   \n",
       "25%                               6.94                            0.70   \n",
       "50%                               7.28                            0.94   \n",
       "75%                               7.67                            1.21   \n",
       "max                              15.50                            4.10   \n",
       "\n",
       "       primary_cleaner.output.concentrate_ag  \\\n",
       "count                              19,439.00   \n",
       "mean                                    8.44   \n",
       "std                                     2.05   \n",
       "min                                     0.00   \n",
       "25%                                     7.26   \n",
       "50%                                     8.51   \n",
       "75%                                     9.81   \n",
       "max                                    16.08   \n",
       "\n",
       "       primary_cleaner.output.concentrate_pb  \\\n",
       "count                              19,323.00   \n",
       "mean                                    9.83   \n",
       "std                                     2.56   \n",
       "min                                     0.00   \n",
       "25%                                     8.70   \n",
       "50%                                    10.15   \n",
       "75%                                    11.42   \n",
       "max                                    17.08   \n",
       "\n",
       "       primary_cleaner.output.concentrate_sol  \\\n",
       "count                               19,069.00   \n",
       "mean                                    10.49   \n",
       "std                                      3.91   \n",
       "min                                      0.00   \n",
       "25%                                      7.89   \n",
       "50%                                     10.31   \n",
       "75%                                     13.45   \n",
       "max                                     22.46   \n",
       "\n",
       "       primary_cleaner.output.concentrate_au  primary_cleaner.output.tail_ag  \\\n",
       "count                              19,439.00                       19,435.00   \n",
       "mean                                   32.12                           16.15   \n",
       "std                                     5.63                            3.55   \n",
       "min                                     0.00                            0.00   \n",
       "25%                                    30.46                           14.02   \n",
       "50%                                    32.84                           15.84   \n",
       "75%                                    35.05                           18.01   \n",
       "max                                    45.93                           29.46   \n",
       "\n",
       "       primary_cleaner.output.tail_pb  primary_cleaner.output.tail_sol  \\\n",
       "count                       19,418.00                        19,377.00   \n",
       "mean                             3.44                             7.97   \n",
       "std                              1.39                             2.21   \n",
       "min                              0.00                             0.00   \n",
       "25%                              2.50                             6.75   \n",
       "50%                              3.27                             8.18   \n",
       "75%                              4.18                             9.55   \n",
       "max                              9.63                            22.28   \n",
       "\n",
       "       primary_cleaner.output.tail_au  primary_cleaner.state.floatbank8_a_air  \\\n",
       "count                       19,439.00                               19,435.00   \n",
       "mean                             3.91                                1,589.35   \n",
       "std                              1.59                                  129.00   \n",
       "min                              0.00                                    0.00   \n",
       "25%                              2.92                                1,505.06   \n",
       "50%                              3.62                                1,600.60   \n",
       "75%                              4.59                                1,697.66   \n",
       "max                             17.79                                2,103.10   \n",
       "\n",
       "       primary_cleaner.state.floatbank8_a_level  \\\n",
       "count                                 19,438.00   \n",
       "mean                                    -491.20   \n",
       "std                                       32.43   \n",
       "min                                     -798.64   \n",
       "25%                                     -500.31   \n",
       "50%                                     -499.93   \n",
       "75%                                     -499.43   \n",
       "max                                      -57.20   \n",
       "\n",
       "       primary_cleaner.state.floatbank8_b_air  \\\n",
       "count                               19,435.00   \n",
       "mean                                 1,591.34   \n",
       "std                                    131.81   \n",
       "min                                      0.00   \n",
       "25%                                  1,503.63   \n",
       "50%                                  1,600.52   \n",
       "75%                                  1,699.22   \n",
       "max                                  2,114.91   \n",
       "\n",
       "       primary_cleaner.state.floatbank8_b_level  \\\n",
       "count                                 19,438.00   \n",
       "mean                                    -492.19   \n",
       "std                                       33.79   \n",
       "min                                     -800.00   \n",
       "25%                                     -500.44   \n",
       "50%                                     -499.96   \n",
       "75%                                     -499.37   \n",
       "max                                     -142.53   \n",
       "\n",
       "       primary_cleaner.state.floatbank8_c_air  \\\n",
       "count                               19,437.00   \n",
       "mean                                 1,586.67   \n",
       "std                                    136.11   \n",
       "min                                      0.00   \n",
       "25%                                  1,500.93   \n",
       "50%                                  1,600.25   \n",
       "75%                                  1,699.48   \n",
       "max                                  2,013.16   \n",
       "\n",
       "       primary_cleaner.state.floatbank8_c_level  \\\n",
       "count                                 19,438.00   \n",
       "mean                                    -491.98   \n",
       "std                                       32.71   \n",
       "min                                     -799.96   \n",
       "25%                                     -500.70   \n",
       "50%                                     -499.91   \n",
       "75%                                     -498.86   \n",
       "max                                     -150.94   \n",
       "\n",
       "       primary_cleaner.state.floatbank8_d_air  \\\n",
       "count                               19,436.00   \n",
       "mean                                 1,542.91   \n",
       "std                                    246.20   \n",
       "min                                      0.00   \n",
       "25%                                  1,494.22   \n",
       "50%                                  1,599.45   \n",
       "75%                                  1,698.52   \n",
       "max                                  2,398.90   \n",
       "\n",
       "       primary_cleaner.state.floatbank8_d_level  \\\n",
       "count                                 19,438.00   \n",
       "mean                                    -488.02   \n",
       "std                                       43.96   \n",
       "min                                     -799.79   \n",
       "25%                                     -500.46   \n",
       "50%                                     -499.91   \n",
       "75%                                     -499.06   \n",
       "max                                      -30.60   \n",
       "\n",
       "       rougher.calculation.sulfate_to_au_concentrate  \\\n",
       "count                                      19,437.00   \n",
       "mean                                       42,171.19   \n",
       "std                                       324,362.11   \n",
       "min                                   -42,235,197.37   \n",
       "25%                                        40,700.95   \n",
       "50%                                        44,696.48   \n",
       "75%                                        48,168.21   \n",
       "max                                     3,428,098.94   \n",
       "\n",
       "       rougher.calculation.floatbank10_sulfate_to_au_feed  \\\n",
       "count                                          19,437.00    \n",
       "mean                                            3,393.05    \n",
       "std                                             4,943.85    \n",
       "min                                              -486.60    \n",
       "25%                                             2,611.43    \n",
       "50%                                             3,018.35    \n",
       "75%                                             3,676.77    \n",
       "max                                           629,638.98    \n",
       "\n",
       "       rougher.calculation.floatbank11_sulfate_to_au_feed  \\\n",
       "count                                          19,437.00    \n",
       "mean                                            3,256.85    \n",
       "std                                             5,781.42    \n",
       "min                                              -264.98    \n",
       "25%                                             2,551.44    \n",
       "50%                                             2,997.22    \n",
       "75%                                             3,602.00    \n",
       "max                                           718,684.96    \n",
       "\n",
       "       rougher.calculation.au_pb_ratio  rougher.input.feed_ag  \\\n",
       "count                        19,439.00              19,439.00   \n",
       "mean                              2.42                   8.79   \n",
       "std                               0.81                   1.94   \n",
       "min                              -0.01                   0.01   \n",
       "25%                               2.04                   7.24   \n",
       "50%                               2.31                   8.59   \n",
       "75%                               2.73                  10.21   \n",
       "max                              39.38                  14.60   \n",
       "\n",
       "       rougher.input.feed_pb  rougher.input.feed_rate  \\\n",
       "count              19,339.00                19,428.00   \n",
       "mean                    3.60                   478.32   \n",
       "std                     1.05                   105.37   \n",
       "min                     0.01                     0.00   \n",
       "25%                     2.89                   416.53   \n",
       "50%                     3.53                   499.42   \n",
       "75%                     4.24                   550.17   \n",
       "max                     7.14                   717.51   \n",
       "\n",
       "       rougher.input.feed_size  rougher.input.feed_sol  rougher.input.feed_au  \\\n",
       "count                19,294.00               19,340.00              19,439.00   \n",
       "mean                     58.97                   36.70                   8.27   \n",
       "std                      21.63                    5.15                   1.96   \n",
       "min                       0.05                    0.01                   0.01   \n",
       "25%                      47.44                   34.21                   6.85   \n",
       "50%                      54.61                   37.20                   8.13   \n",
       "75%                      65.02                   40.04                   9.77   \n",
       "max                     484.97                   53.48                  13.73   \n",
       "\n",
       "       rougher.input.floatbank10_sulfate  rougher.input.floatbank10_xanthate  \\\n",
       "count                          19,405.00                           19,431.00   \n",
       "mean                               12.33                                6.02   \n",
       "std                                 3.43                                1.13   \n",
       "min                                 0.00                                0.00   \n",
       "25%                                10.00                                5.40   \n",
       "50%                                12.00                                6.01   \n",
       "75%                                14.72                                6.80   \n",
       "max                                36.12                                9.70   \n",
       "\n",
       "       rougher.input.floatbank11_sulfate  rougher.input.floatbank11_xanthate  \\\n",
       "count                          19,395.00                           18,986.00   \n",
       "mean                               12.06                                6.07   \n",
       "std                                 3.78                                1.10   \n",
       "min                                 0.00                                0.00   \n",
       "25%                                10.00                                5.40   \n",
       "50%                                12.00                                6.10   \n",
       "75%                                14.64                                6.80   \n",
       "max                                37.98                                9.70   \n",
       "\n",
       "       rougher.output.concentrate_ag  rougher.output.concentrate_pb  \\\n",
       "count                      19,439.00                      19,439.00   \n",
       "mean                           11.99                           7.61   \n",
       "std                             2.73                           1.80   \n",
       "min                             0.00                           0.00   \n",
       "25%                            10.63                           6.73   \n",
       "50%                            12.10                           7.74   \n",
       "75%                            13.74                           8.57   \n",
       "max                            24.48                          13.62   \n",
       "\n",
       "       rougher.output.concentrate_sol  rougher.output.concentrate_au  \\\n",
       "count                       19,416.00                      19,439.00   \n",
       "mean                            28.81                          19.77   \n",
       "std                              5.94                           3.75   \n",
       "min                              0.00                           0.00   \n",
       "25%                             27.22                          18.80   \n",
       "50%                             29.84                          20.28   \n",
       "75%                             32.19                          21.72   \n",
       "max                             38.35                          28.82   \n",
       "\n",
       "       rougher.output.recovery  rougher.output.tail_ag  \\\n",
       "count                19,439.00               19,438.00   \n",
       "mean                     83.33                    5.59   \n",
       "std                      14.15                    1.11   \n",
       "min                       0.00                    0.59   \n",
       "25%                      81.04                    4.89   \n",
       "50%                      86.19                    5.77   \n",
       "75%                      90.01                    6.39   \n",
       "max                     100.00                   12.72   \n",
       "\n",
       "       rougher.output.tail_pb  rougher.output.tail_sol  \\\n",
       "count               19,439.00                19,439.00   \n",
       "mean                     0.65                    18.06   \n",
       "std                      0.25                     3.45   \n",
       "min                      0.01                    10.01   \n",
       "25%                      0.48                    15.82   \n",
       "50%                      0.62                    18.11   \n",
       "75%                      0.78                    20.09   \n",
       "max                      3.78                    66.12   \n",
       "\n",
       "       rougher.output.tail_au  rougher.state.floatbank10_a_air  \\\n",
       "count               19,439.00                        19,438.00   \n",
       "mean                     1.82                         1,105.32   \n",
       "std                      0.68                           160.83   \n",
       "min                      0.02                            -0.04   \n",
       "25%                      1.40                           999.66   \n",
       "50%                      1.81                         1,001.07   \n",
       "75%                      2.21                         1,205.62   \n",
       "max                      9.69                         1,521.98   \n",
       "\n",
       "       rougher.state.floatbank10_a_level  rougher.state.floatbank10_b_air  \\\n",
       "count                          19,438.00                        19,438.00   \n",
       "mean                             -376.61                         1,320.22   \n",
       "std                                93.91                           176.29   \n",
       "min                              -657.95                            -0.72   \n",
       "25%                              -499.84                         1,199.63   \n",
       "50%                              -300.26                         1,301.58   \n",
       "75%                              -299.98                         1,448.63   \n",
       "max                              -273.78                         1,809.19   \n",
       "\n",
       "       rougher.state.floatbank10_b_level  rougher.state.floatbank10_c_air  \\\n",
       "count                          19,438.00                        19,438.00   \n",
       "mean                             -467.25                         1,299.97   \n",
       "std                                54.67                           202.80   \n",
       "min                              -650.26                            -0.06   \n",
       "25%                              -500.20                         1,151.08   \n",
       "50%                              -499.78                         1,300.21   \n",
       "75%                              -400.62                         1,449.46   \n",
       "max                              -296.38                         2,499.13   \n",
       "\n",
       "       rougher.state.floatbank10_c_level  rougher.state.floatbank10_d_air  \\\n",
       "count                          19,438.00                        19,439.00   \n",
       "mean                             -467.72                         1,211.56   \n",
       "std                                53.53                           204.02   \n",
       "min                              -647.54                            -0.99   \n",
       "25%                              -500.22                         1,061.05   \n",
       "50%                              -499.71                         1,201.57   \n",
       "75%                              -400.99                         1,352.88   \n",
       "max                              -292.16                         1,817.20   \n",
       "\n",
       "       rougher.state.floatbank10_d_level  rougher.state.floatbank10_e_air  \\\n",
       "count                          19,439.00                        19,003.00   \n",
       "mean                             -468.24                         1,080.87   \n",
       "std                                53.92                           172.15   \n",
       "min                              -648.39                            -1.98   \n",
       "25%                              -500.39                           998.68   \n",
       "50%                              -499.53                         1,050.03   \n",
       "75%                              -401.64                         1,199.43   \n",
       "max                               -76.40                         1,922.64   \n",
       "\n",
       "       rougher.state.floatbank10_e_level  rougher.state.floatbank10_f_air  \\\n",
       "count                          19,439.00                        19,439.00   \n",
       "mean                             -466.04                         1,025.27   \n",
       "std                                57.38                           164.49   \n",
       "min                              -649.44                            -2.59   \n",
       "25%                              -500.23                           901.00   \n",
       "50%                              -499.66                           999.92   \n",
       "75%                              -401.16                         1,099.72   \n",
       "max                              -139.75                         1,706.31   \n",
       "\n",
       "       rougher.state.floatbank10_f_level  secondary_cleaner.output.tail_ag  \\\n",
       "count                          19,439.00                         19,437.00   \n",
       "mean                             -466.27                             14.59   \n",
       "std                                57.85                              4.27   \n",
       "min                              -649.95                              0.00   \n",
       "25%                              -500.52                             12.64   \n",
       "50%                              -499.47                             15.64   \n",
       "75%                              -401.51                             17.36   \n",
       "max                              -191.72                             23.26   \n",
       "\n",
       "       secondary_cleaner.output.tail_pb  secondary_cleaner.output.tail_sol  \\\n",
       "count                         19,427.00                          17,691.00   \n",
       "mean                               5.78                               7.17   \n",
       "std                                2.77                               3.92   \n",
       "min                                0.00                               0.00   \n",
       "25%                                3.86                               3.85   \n",
       "50%                                5.34                               7.69   \n",
       "75%                                7.79                              10.41   \n",
       "max                               17.04                              26.00   \n",
       "\n",
       "       secondary_cleaner.output.tail_au  \\\n",
       "count                         19,439.00   \n",
       "mean                               4.34   \n",
       "std                                2.33   \n",
       "min                                0.00   \n",
       "25%                                3.18   \n",
       "50%                                4.07   \n",
       "75%                                5.06   \n",
       "max                               26.81   \n",
       "\n",
       "       secondary_cleaner.state.floatbank2_a_air  \\\n",
       "count                                 19,219.00   \n",
       "mean                                      28.71   \n",
       "std                                        5.46   \n",
       "min                                        0.08   \n",
       "25%                                       25.05   \n",
       "50%                                       29.10   \n",
       "75%                                       33.01   \n",
       "max                                       52.65   \n",
       "\n",
       "       secondary_cleaner.state.floatbank2_a_level  \\\n",
       "count                                   19,438.00   \n",
       "mean                                      -502.37   \n",
       "std                                         53.57   \n",
       "min                                       -799.61   \n",
       "25%                                       -500.23   \n",
       "50%                                       -499.97   \n",
       "75%                                       -499.67   \n",
       "max                                       -127.88   \n",
       "\n",
       "       secondary_cleaner.state.floatbank2_b_air  \\\n",
       "count                                 19,416.00   \n",
       "mean                                      24.11   \n",
       "std                                        5.75   \n",
       "min                                        0.00   \n",
       "25%                                       20.92   \n",
       "50%                                       25.04   \n",
       "75%                                       28.01   \n",
       "max                                       35.15   \n",
       "\n",
       "       secondary_cleaner.state.floatbank2_b_level  \\\n",
       "count                                   19,438.00   \n",
       "mean                                      -503.23   \n",
       "std                                         56.57   \n",
       "min                                       -799.87   \n",
       "25%                                       -500.25   \n",
       "50%                                       -500.02   \n",
       "75%                                       -499.79   \n",
       "max                                       -212.00   \n",
       "\n",
       "       secondary_cleaner.state.floatbank3_a_air  \\\n",
       "count                                 19,426.00   \n",
       "mean                                      28.20   \n",
       "std                                        6.13   \n",
       "min                                        0.00   \n",
       "25%                                       24.95   \n",
       "50%                                       27.98   \n",
       "75%                                       33.00   \n",
       "max                                       44.26   \n",
       "\n",
       "       secondary_cleaner.state.floatbank3_a_level  \\\n",
       "count                                   19,438.00   \n",
       "mean                                      -486.20   \n",
       "std                                         54.41   \n",
       "min                                       -799.76   \n",
       "25%                                       -500.21   \n",
       "50%                                       -499.93   \n",
       "75%                                       -499.33   \n",
       "max                                       -191.68   \n",
       "\n",
       "       secondary_cleaner.state.floatbank3_b_air  \\\n",
       "count                                 19,438.00   \n",
       "mean                                      22.20   \n",
       "std                                        5.57   \n",
       "min                                        0.00   \n",
       "25%                                       19.00   \n",
       "50%                                       22.01   \n",
       "75%                                       26.00   \n",
       "max                                       35.07   \n",
       "\n",
       "       secondary_cleaner.state.floatbank3_b_level  \\\n",
       "count                                   19,438.00   \n",
       "mean                                      -493.74   \n",
       "std                                         43.37   \n",
       "min                                       -809.33   \n",
       "25%                                       -500.12   \n",
       "50%                                       -499.98   \n",
       "75%                                       -499.81   \n",
       "max                                       -159.74   \n",
       "\n",
       "       secondary_cleaner.state.floatbank4_a_air  \\\n",
       "count                                 19,433.00   \n",
       "mean                                      18.99   \n",
       "std                                        5.41   \n",
       "min                                        0.00   \n",
       "25%                                       14.98   \n",
       "50%                                       18.02   \n",
       "75%                                       23.01   \n",
       "max                                       30.12   \n",
       "\n",
       "       secondary_cleaner.state.floatbank4_a_level  \\\n",
       "count                                   19,438.00   \n",
       "mean                                      -485.89   \n",
       "std                                         47.76   \n",
       "min                                       -799.80   \n",
       "25%                                       -500.70   \n",
       "50%                                       -499.84   \n",
       "75%                                       -498.25   \n",
       "max                                       -245.24   \n",
       "\n",
       "       secondary_cleaner.state.floatbank4_b_air  \\\n",
       "count                                 19,438.00   \n",
       "mean                                      15.01   \n",
       "std                                        4.89   \n",
       "min                                        0.00   \n",
       "25%                                       11.94   \n",
       "50%                                       14.97   \n",
       "75%                                       19.03   \n",
       "max                                       31.27   \n",
       "\n",
       "       secondary_cleaner.state.floatbank4_b_level  \\\n",
       "count                                   19,438.00   \n",
       "mean                                      -461.08   \n",
       "std                                         67.41   \n",
       "min                                       -800.84   \n",
       "25%                                       -500.19   \n",
       "50%                                       -499.46   \n",
       "75%                                       -400.12   \n",
       "max                                         -6.51   \n",
       "\n",
       "       secondary_cleaner.state.floatbank5_a_air  \\\n",
       "count                                 19,438.00   \n",
       "mean                                      15.69   \n",
       "std                                        5.51   \n",
       "min                                       -0.37   \n",
       "25%                                       10.99   \n",
       "50%                                       15.00   \n",
       "75%                                       18.03   \n",
       "max                                       43.71   \n",
       "\n",
       "       secondary_cleaner.state.floatbank5_a_level  \\\n",
       "count                                   19,438.00   \n",
       "mean                                      -488.68   \n",
       "std                                         34.53   \n",
       "min                                       -797.32   \n",
       "25%                                       -500.46   \n",
       "50%                                       -499.80   \n",
       "75%                                       -498.38   \n",
       "max                                       -244.48   \n",
       "\n",
       "       secondary_cleaner.state.floatbank5_b_air  \\\n",
       "count                                 19,438.00   \n",
       "mean                                      12.20   \n",
       "std                                        5.33   \n",
       "min                                        0.53   \n",
       "25%                                        8.97   \n",
       "50%                                       11.02   \n",
       "75%                                       14.02   \n",
       "max                                       27.93   \n",
       "\n",
       "       secondary_cleaner.state.floatbank5_b_level  \\\n",
       "count                                   19,438.00   \n",
       "mean                                      -487.15   \n",
       "std                                         38.35   \n",
       "min                                       -800.22   \n",
       "25%                                       -500.13   \n",
       "50%                                       -499.94   \n",
       "75%                                       -499.44   \n",
       "max                                       -137.74   \n",
       "\n",
       "       secondary_cleaner.state.floatbank6_a_air  \\\n",
       "count                                 19,437.00   \n",
       "mean                                      18.96   \n",
       "std                                        5.55   \n",
       "min                                       -0.08   \n",
       "25%                                       14.98   \n",
       "50%                                       19.96   \n",
       "75%                                       24.00   \n",
       "max                                       32.19   \n",
       "\n",
       "       secondary_cleaner.state.floatbank6_a_level  \n",
       "count                                   19,438.00  \n",
       "mean                                      -505.44  \n",
       "std                                         37.69  \n",
       "min                                       -809.74  \n",
       "25%                                       -500.73  \n",
       "50%                                       -500.05  \n",
       "75%                                       -499.50  \n",
       "max                                       -104.43  "
      ]
     },
     "metadata": {},
     "output_type": "display_data"
    },
    {
     "name": "stdout",
     "output_type": "stream",
     "text": [
      "\n",
      "Количество дубликатов: 0\n"
     ]
    }
   ],
   "source": [
    "data_check(data, '\"исходные данные\"')"
   ]
  },
  {
   "cell_type": "code",
   "execution_count": 7,
   "metadata": {
    "scrolled": false
   },
   "outputs": [
    {
     "name": "stdout",
     "output_type": "stream",
     "text": [
      "--------------- Общая информация датасэта \"обучающая выборка\" ---------------\n",
      "\n",
      "<class 'pandas.core.frame.DataFrame'>\n",
      "RangeIndex: 14149 entries, 0 to 14148\n",
      "Data columns (total 87 columns):\n",
      " #   Column                                              Non-Null Count  Dtype  \n",
      "---  ------                                              --------------  -----  \n",
      " 0   date                                                14149 non-null  object \n",
      " 1   final.output.concentrate_ag                         14148 non-null  float64\n",
      " 2   final.output.concentrate_pb                         14148 non-null  float64\n",
      " 3   final.output.concentrate_sol                        13938 non-null  float64\n",
      " 4   final.output.concentrate_au                         14149 non-null  float64\n",
      " 5   final.output.recovery                               14149 non-null  float64\n",
      " 6   final.output.tail_ag                                14149 non-null  float64\n",
      " 7   final.output.tail_pb                                14049 non-null  float64\n",
      " 8   final.output.tail_sol                               14144 non-null  float64\n",
      " 9   final.output.tail_au                                14149 non-null  float64\n",
      " 10  primary_cleaner.input.sulfate                       14129 non-null  float64\n",
      " 11  primary_cleaner.input.depressant                    14117 non-null  float64\n",
      " 12  primary_cleaner.input.feed_size                     14149 non-null  float64\n",
      " 13  primary_cleaner.input.xanthate                      14049 non-null  float64\n",
      " 14  primary_cleaner.output.concentrate_ag               14149 non-null  float64\n",
      " 15  primary_cleaner.output.concentrate_pb               14063 non-null  float64\n",
      " 16  primary_cleaner.output.concentrate_sol              13863 non-null  float64\n",
      " 17  primary_cleaner.output.concentrate_au               14149 non-null  float64\n",
      " 18  primary_cleaner.output.tail_ag                      14148 non-null  float64\n",
      " 19  primary_cleaner.output.tail_pb                      14134 non-null  float64\n",
      " 20  primary_cleaner.output.tail_sol                     14103 non-null  float64\n",
      " 21  primary_cleaner.output.tail_au                      14149 non-null  float64\n",
      " 22  primary_cleaner.state.floatbank8_a_air              14145 non-null  float64\n",
      " 23  primary_cleaner.state.floatbank8_a_level            14148 non-null  float64\n",
      " 24  primary_cleaner.state.floatbank8_b_air              14145 non-null  float64\n",
      " 25  primary_cleaner.state.floatbank8_b_level            14148 non-null  float64\n",
      " 26  primary_cleaner.state.floatbank8_c_air              14147 non-null  float64\n",
      " 27  primary_cleaner.state.floatbank8_c_level            14148 non-null  float64\n",
      " 28  primary_cleaner.state.floatbank8_d_air              14146 non-null  float64\n",
      " 29  primary_cleaner.state.floatbank8_d_level            14148 non-null  float64\n",
      " 30  rougher.calculation.sulfate_to_au_concentrate       14148 non-null  float64\n",
      " 31  rougher.calculation.floatbank10_sulfate_to_au_feed  14148 non-null  float64\n",
      " 32  rougher.calculation.floatbank11_sulfate_to_au_feed  14148 non-null  float64\n",
      " 33  rougher.calculation.au_pb_ratio                     14149 non-null  float64\n",
      " 34  rougher.input.feed_ag                               14149 non-null  float64\n",
      " 35  rougher.input.feed_pb                               14049 non-null  float64\n",
      " 36  rougher.input.feed_rate                             14141 non-null  float64\n",
      " 37  rougher.input.feed_size                             14005 non-null  float64\n",
      " 38  rougher.input.feed_sol                              14071 non-null  float64\n",
      " 39  rougher.input.feed_au                               14149 non-null  float64\n",
      " 40  rougher.input.floatbank10_sulfate                   14120 non-null  float64\n",
      " 41  rougher.input.floatbank10_xanthate                  14141 non-null  float64\n",
      " 42  rougher.input.floatbank11_sulfate                   14113 non-null  float64\n",
      " 43  rougher.input.floatbank11_xanthate                  13721 non-null  float64\n",
      " 44  rougher.output.concentrate_ag                       14149 non-null  float64\n",
      " 45  rougher.output.concentrate_pb                       14149 non-null  float64\n",
      " 46  rougher.output.concentrate_sol                      14127 non-null  float64\n",
      " 47  rougher.output.concentrate_au                       14149 non-null  float64\n",
      " 48  rougher.output.recovery                             14149 non-null  float64\n",
      " 49  rougher.output.tail_ag                              14148 non-null  float64\n",
      " 50  rougher.output.tail_pb                              14149 non-null  float64\n",
      " 51  rougher.output.tail_sol                             14149 non-null  float64\n",
      " 52  rougher.output.tail_au                              14149 non-null  float64\n",
      " 53  rougher.state.floatbank10_a_air                     14148 non-null  float64\n",
      " 54  rougher.state.floatbank10_a_level                   14148 non-null  float64\n",
      " 55  rougher.state.floatbank10_b_air                     14148 non-null  float64\n",
      " 56  rougher.state.floatbank10_b_level                   14148 non-null  float64\n",
      " 57  rougher.state.floatbank10_c_air                     14148 non-null  float64\n",
      " 58  rougher.state.floatbank10_c_level                   14148 non-null  float64\n",
      " 59  rougher.state.floatbank10_d_air                     14149 non-null  float64\n",
      " 60  rougher.state.floatbank10_d_level                   14149 non-null  float64\n",
      " 61  rougher.state.floatbank10_e_air                     13713 non-null  float64\n",
      " 62  rougher.state.floatbank10_e_level                   14149 non-null  float64\n",
      " 63  rougher.state.floatbank10_f_air                     14149 non-null  float64\n",
      " 64  rougher.state.floatbank10_f_level                   14149 non-null  float64\n",
      " 65  secondary_cleaner.output.tail_ag                    14147 non-null  float64\n",
      " 66  secondary_cleaner.output.tail_pb                    14139 non-null  float64\n",
      " 67  secondary_cleaner.output.tail_sol                   12544 non-null  float64\n",
      " 68  secondary_cleaner.output.tail_au                    14149 non-null  float64\n",
      " 69  secondary_cleaner.state.floatbank2_a_air            13932 non-null  float64\n",
      " 70  secondary_cleaner.state.floatbank2_a_level          14148 non-null  float64\n",
      " 71  secondary_cleaner.state.floatbank2_b_air            14128 non-null  float64\n",
      " 72  secondary_cleaner.state.floatbank2_b_level          14148 non-null  float64\n",
      " 73  secondary_cleaner.state.floatbank3_a_air            14145 non-null  float64\n",
      " 74  secondary_cleaner.state.floatbank3_a_level          14148 non-null  float64\n",
      " 75  secondary_cleaner.state.floatbank3_b_air            14148 non-null  float64\n",
      " 76  secondary_cleaner.state.floatbank3_b_level          14148 non-null  float64\n",
      " 77  secondary_cleaner.state.floatbank4_a_air            14143 non-null  float64\n",
      " 78  secondary_cleaner.state.floatbank4_a_level          14148 non-null  float64\n",
      " 79  secondary_cleaner.state.floatbank4_b_air            14148 non-null  float64\n",
      " 80  secondary_cleaner.state.floatbank4_b_level          14148 non-null  float64\n",
      " 81  secondary_cleaner.state.floatbank5_a_air            14148 non-null  float64\n",
      " 82  secondary_cleaner.state.floatbank5_a_level          14148 non-null  float64\n",
      " 83  secondary_cleaner.state.floatbank5_b_air            14148 non-null  float64\n",
      " 84  secondary_cleaner.state.floatbank5_b_level          14148 non-null  float64\n",
      " 85  secondary_cleaner.state.floatbank6_a_air            14147 non-null  float64\n",
      " 86  secondary_cleaner.state.floatbank6_a_level          14148 non-null  float64\n",
      "dtypes: float64(86), object(1)\n",
      "memory usage: 9.4+ MB\n"
     ]
    },
    {
     "data": {
      "text/plain": [
       "None"
      ]
     },
     "metadata": {},
     "output_type": "display_data"
    },
    {
     "name": "stdout",
     "output_type": "stream",
     "text": [
      "Первые 5 строк датасэта:\n"
     ]
    },
    {
     "data": {
      "text/html": [
       "<div>\n",
       "<style scoped>\n",
       "    .dataframe tbody tr th:only-of-type {\n",
       "        vertical-align: middle;\n",
       "    }\n",
       "\n",
       "    .dataframe tbody tr th {\n",
       "        vertical-align: top;\n",
       "    }\n",
       "\n",
       "    .dataframe thead th {\n",
       "        text-align: right;\n",
       "    }\n",
       "</style>\n",
       "<table border=\"1\" class=\"dataframe\">\n",
       "  <thead>\n",
       "    <tr style=\"text-align: right;\">\n",
       "      <th></th>\n",
       "      <th>date</th>\n",
       "      <th>final.output.concentrate_ag</th>\n",
       "      <th>final.output.concentrate_pb</th>\n",
       "      <th>final.output.concentrate_sol</th>\n",
       "      <th>final.output.concentrate_au</th>\n",
       "      <th>final.output.recovery</th>\n",
       "      <th>final.output.tail_ag</th>\n",
       "      <th>final.output.tail_pb</th>\n",
       "      <th>final.output.tail_sol</th>\n",
       "      <th>final.output.tail_au</th>\n",
       "      <th>primary_cleaner.input.sulfate</th>\n",
       "      <th>primary_cleaner.input.depressant</th>\n",
       "      <th>primary_cleaner.input.feed_size</th>\n",
       "      <th>primary_cleaner.input.xanthate</th>\n",
       "      <th>primary_cleaner.output.concentrate_ag</th>\n",
       "      <th>primary_cleaner.output.concentrate_pb</th>\n",
       "      <th>primary_cleaner.output.concentrate_sol</th>\n",
       "      <th>primary_cleaner.output.concentrate_au</th>\n",
       "      <th>primary_cleaner.output.tail_ag</th>\n",
       "      <th>primary_cleaner.output.tail_pb</th>\n",
       "      <th>primary_cleaner.output.tail_sol</th>\n",
       "      <th>primary_cleaner.output.tail_au</th>\n",
       "      <th>primary_cleaner.state.floatbank8_a_air</th>\n",
       "      <th>primary_cleaner.state.floatbank8_a_level</th>\n",
       "      <th>primary_cleaner.state.floatbank8_b_air</th>\n",
       "      <th>primary_cleaner.state.floatbank8_b_level</th>\n",
       "      <th>primary_cleaner.state.floatbank8_c_air</th>\n",
       "      <th>primary_cleaner.state.floatbank8_c_level</th>\n",
       "      <th>primary_cleaner.state.floatbank8_d_air</th>\n",
       "      <th>primary_cleaner.state.floatbank8_d_level</th>\n",
       "      <th>rougher.calculation.sulfate_to_au_concentrate</th>\n",
       "      <th>rougher.calculation.floatbank10_sulfate_to_au_feed</th>\n",
       "      <th>rougher.calculation.floatbank11_sulfate_to_au_feed</th>\n",
       "      <th>rougher.calculation.au_pb_ratio</th>\n",
       "      <th>rougher.input.feed_ag</th>\n",
       "      <th>rougher.input.feed_pb</th>\n",
       "      <th>rougher.input.feed_rate</th>\n",
       "      <th>rougher.input.feed_size</th>\n",
       "      <th>rougher.input.feed_sol</th>\n",
       "      <th>rougher.input.feed_au</th>\n",
       "      <th>rougher.input.floatbank10_sulfate</th>\n",
       "      <th>rougher.input.floatbank10_xanthate</th>\n",
       "      <th>rougher.input.floatbank11_sulfate</th>\n",
       "      <th>rougher.input.floatbank11_xanthate</th>\n",
       "      <th>rougher.output.concentrate_ag</th>\n",
       "      <th>rougher.output.concentrate_pb</th>\n",
       "      <th>rougher.output.concentrate_sol</th>\n",
       "      <th>rougher.output.concentrate_au</th>\n",
       "      <th>rougher.output.recovery</th>\n",
       "      <th>rougher.output.tail_ag</th>\n",
       "      <th>rougher.output.tail_pb</th>\n",
       "      <th>rougher.output.tail_sol</th>\n",
       "      <th>rougher.output.tail_au</th>\n",
       "      <th>rougher.state.floatbank10_a_air</th>\n",
       "      <th>rougher.state.floatbank10_a_level</th>\n",
       "      <th>rougher.state.floatbank10_b_air</th>\n",
       "      <th>rougher.state.floatbank10_b_level</th>\n",
       "      <th>rougher.state.floatbank10_c_air</th>\n",
       "      <th>rougher.state.floatbank10_c_level</th>\n",
       "      <th>rougher.state.floatbank10_d_air</th>\n",
       "      <th>rougher.state.floatbank10_d_level</th>\n",
       "      <th>rougher.state.floatbank10_e_air</th>\n",
       "      <th>rougher.state.floatbank10_e_level</th>\n",
       "      <th>rougher.state.floatbank10_f_air</th>\n",
       "      <th>rougher.state.floatbank10_f_level</th>\n",
       "      <th>secondary_cleaner.output.tail_ag</th>\n",
       "      <th>secondary_cleaner.output.tail_pb</th>\n",
       "      <th>secondary_cleaner.output.tail_sol</th>\n",
       "      <th>secondary_cleaner.output.tail_au</th>\n",
       "      <th>secondary_cleaner.state.floatbank2_a_air</th>\n",
       "      <th>secondary_cleaner.state.floatbank2_a_level</th>\n",
       "      <th>secondary_cleaner.state.floatbank2_b_air</th>\n",
       "      <th>secondary_cleaner.state.floatbank2_b_level</th>\n",
       "      <th>secondary_cleaner.state.floatbank3_a_air</th>\n",
       "      <th>secondary_cleaner.state.floatbank3_a_level</th>\n",
       "      <th>secondary_cleaner.state.floatbank3_b_air</th>\n",
       "      <th>secondary_cleaner.state.floatbank3_b_level</th>\n",
       "      <th>secondary_cleaner.state.floatbank4_a_air</th>\n",
       "      <th>secondary_cleaner.state.floatbank4_a_level</th>\n",
       "      <th>secondary_cleaner.state.floatbank4_b_air</th>\n",
       "      <th>secondary_cleaner.state.floatbank4_b_level</th>\n",
       "      <th>secondary_cleaner.state.floatbank5_a_air</th>\n",
       "      <th>secondary_cleaner.state.floatbank5_a_level</th>\n",
       "      <th>secondary_cleaner.state.floatbank5_b_air</th>\n",
       "      <th>secondary_cleaner.state.floatbank5_b_level</th>\n",
       "      <th>secondary_cleaner.state.floatbank6_a_air</th>\n",
       "      <th>secondary_cleaner.state.floatbank6_a_level</th>\n",
       "    </tr>\n",
       "  </thead>\n",
       "  <tbody>\n",
       "    <tr>\n",
       "      <th>0</th>\n",
       "      <td>2016-01-15 00:00:00</td>\n",
       "      <td>6.06</td>\n",
       "      <td>9.89</td>\n",
       "      <td>5.51</td>\n",
       "      <td>42.19</td>\n",
       "      <td>70.54</td>\n",
       "      <td>10.41</td>\n",
       "      <td>0.90</td>\n",
       "      <td>16.90</td>\n",
       "      <td>2.14</td>\n",
       "      <td>127.09</td>\n",
       "      <td>10.13</td>\n",
       "      <td>7.25</td>\n",
       "      <td>0.99</td>\n",
       "      <td>8.55</td>\n",
       "      <td>10.39</td>\n",
       "      <td>19.53</td>\n",
       "      <td>34.17</td>\n",
       "      <td>14.94</td>\n",
       "      <td>2.53</td>\n",
       "      <td>7.48</td>\n",
       "      <td>2.11</td>\n",
       "      <td>1,549.78</td>\n",
       "      <td>-498.91</td>\n",
       "      <td>1,551.43</td>\n",
       "      <td>-516.40</td>\n",
       "      <td>1,549.87</td>\n",
       "      <td>-498.67</td>\n",
       "      <td>1,554.37</td>\n",
       "      <td>-493.43</td>\n",
       "      <td>41,885.71</td>\n",
       "      <td>3,481.78</td>\n",
       "      <td>3,520.34</td>\n",
       "      <td>2.84</td>\n",
       "      <td>6.10</td>\n",
       "      <td>2.28</td>\n",
       "      <td>523.55</td>\n",
       "      <td>55.49</td>\n",
       "      <td>36.81</td>\n",
       "      <td>6.49</td>\n",
       "      <td>11.99</td>\n",
       "      <td>6.01</td>\n",
       "      <td>11.84</td>\n",
       "      <td>6.01</td>\n",
       "      <td>11.50</td>\n",
       "      <td>7.10</td>\n",
       "      <td>28.03</td>\n",
       "      <td>19.79</td>\n",
       "      <td>87.11</td>\n",
       "      <td>5.01</td>\n",
       "      <td>0.51</td>\n",
       "      <td>19.15</td>\n",
       "      <td>1.17</td>\n",
       "      <td>999.71</td>\n",
       "      <td>-404.07</td>\n",
       "      <td>1,603.01</td>\n",
       "      <td>-434.72</td>\n",
       "      <td>1,602.38</td>\n",
       "      <td>-442.20</td>\n",
       "      <td>1,598.94</td>\n",
       "      <td>-451.29</td>\n",
       "      <td>1,404.47</td>\n",
       "      <td>-455.46</td>\n",
       "      <td>1,416.35</td>\n",
       "      <td>-451.94</td>\n",
       "      <td>14.50</td>\n",
       "      <td>4.69</td>\n",
       "      <td>8.76</td>\n",
       "      <td>2.61</td>\n",
       "      <td>25.85</td>\n",
       "      <td>-498.53</td>\n",
       "      <td>23.89</td>\n",
       "      <td>-501.41</td>\n",
       "      <td>23.96</td>\n",
       "      <td>-495.26</td>\n",
       "      <td>21.94</td>\n",
       "      <td>-499.34</td>\n",
       "      <td>14.02</td>\n",
       "      <td>-502.49</td>\n",
       "      <td>12.10</td>\n",
       "      <td>-504.72</td>\n",
       "      <td>9.93</td>\n",
       "      <td>-498.31</td>\n",
       "      <td>8.08</td>\n",
       "      <td>-500.47</td>\n",
       "      <td>14.15</td>\n",
       "      <td>-605.84</td>\n",
       "    </tr>\n",
       "    <tr>\n",
       "      <th>1</th>\n",
       "      <td>2016-01-15 01:00:00</td>\n",
       "      <td>6.03</td>\n",
       "      <td>9.97</td>\n",
       "      <td>5.26</td>\n",
       "      <td>42.70</td>\n",
       "      <td>69.27</td>\n",
       "      <td>10.46</td>\n",
       "      <td>0.93</td>\n",
       "      <td>16.63</td>\n",
       "      <td>2.22</td>\n",
       "      <td>125.63</td>\n",
       "      <td>10.30</td>\n",
       "      <td>7.25</td>\n",
       "      <td>1.00</td>\n",
       "      <td>8.56</td>\n",
       "      <td>10.50</td>\n",
       "      <td>19.37</td>\n",
       "      <td>34.12</td>\n",
       "      <td>16.25</td>\n",
       "      <td>3.05</td>\n",
       "      <td>6.73</td>\n",
       "      <td>2.35</td>\n",
       "      <td>1,576.17</td>\n",
       "      <td>-500.90</td>\n",
       "      <td>1,575.95</td>\n",
       "      <td>-499.87</td>\n",
       "      <td>1,575.99</td>\n",
       "      <td>-499.32</td>\n",
       "      <td>1,574.48</td>\n",
       "      <td>-498.93</td>\n",
       "      <td>42,050.86</td>\n",
       "      <td>3,498.37</td>\n",
       "      <td>3,489.98</td>\n",
       "      <td>2.86</td>\n",
       "      <td>6.16</td>\n",
       "      <td>2.27</td>\n",
       "      <td>525.29</td>\n",
       "      <td>57.28</td>\n",
       "      <td>35.75</td>\n",
       "      <td>6.48</td>\n",
       "      <td>11.97</td>\n",
       "      <td>6.01</td>\n",
       "      <td>12.00</td>\n",
       "      <td>6.01</td>\n",
       "      <td>11.62</td>\n",
       "      <td>7.28</td>\n",
       "      <td>28.07</td>\n",
       "      <td>20.05</td>\n",
       "      <td>86.84</td>\n",
       "      <td>4.96</td>\n",
       "      <td>0.54</td>\n",
       "      <td>18.97</td>\n",
       "      <td>1.18</td>\n",
       "      <td>1,000.29</td>\n",
       "      <td>-400.07</td>\n",
       "      <td>1,600.75</td>\n",
       "      <td>-449.95</td>\n",
       "      <td>1,600.48</td>\n",
       "      <td>-449.83</td>\n",
       "      <td>1,600.53</td>\n",
       "      <td>-449.95</td>\n",
       "      <td>1,399.23</td>\n",
       "      <td>-450.87</td>\n",
       "      <td>1,399.72</td>\n",
       "      <td>-450.12</td>\n",
       "      <td>14.27</td>\n",
       "      <td>4.59</td>\n",
       "      <td>9.00</td>\n",
       "      <td>2.49</td>\n",
       "      <td>25.88</td>\n",
       "      <td>-499.99</td>\n",
       "      <td>23.89</td>\n",
       "      <td>-500.37</td>\n",
       "      <td>23.97</td>\n",
       "      <td>-500.09</td>\n",
       "      <td>22.09</td>\n",
       "      <td>-499.45</td>\n",
       "      <td>13.99</td>\n",
       "      <td>-505.50</td>\n",
       "      <td>11.95</td>\n",
       "      <td>-501.33</td>\n",
       "      <td>10.04</td>\n",
       "      <td>-500.17</td>\n",
       "      <td>7.98</td>\n",
       "      <td>-500.58</td>\n",
       "      <td>14.00</td>\n",
       "      <td>-599.79</td>\n",
       "    </tr>\n",
       "    <tr>\n",
       "      <th>2</th>\n",
       "      <td>2016-01-15 02:00:00</td>\n",
       "      <td>6.06</td>\n",
       "      <td>10.21</td>\n",
       "      <td>5.38</td>\n",
       "      <td>42.66</td>\n",
       "      <td>68.12</td>\n",
       "      <td>10.51</td>\n",
       "      <td>0.95</td>\n",
       "      <td>16.21</td>\n",
       "      <td>2.26</td>\n",
       "      <td>123.82</td>\n",
       "      <td>11.32</td>\n",
       "      <td>7.25</td>\n",
       "      <td>0.99</td>\n",
       "      <td>8.60</td>\n",
       "      <td>10.35</td>\n",
       "      <td>19.17</td>\n",
       "      <td>33.97</td>\n",
       "      <td>16.49</td>\n",
       "      <td>3.12</td>\n",
       "      <td>6.47</td>\n",
       "      <td>2.42</td>\n",
       "      <td>1,601.56</td>\n",
       "      <td>-500.00</td>\n",
       "      <td>1,600.39</td>\n",
       "      <td>-500.61</td>\n",
       "      <td>1,602.00</td>\n",
       "      <td>-500.87</td>\n",
       "      <td>1,599.54</td>\n",
       "      <td>-499.83</td>\n",
       "      <td>42,018.10</td>\n",
       "      <td>3,495.35</td>\n",
       "      <td>3,502.36</td>\n",
       "      <td>2.95</td>\n",
       "      <td>6.12</td>\n",
       "      <td>2.16</td>\n",
       "      <td>530.03</td>\n",
       "      <td>57.51</td>\n",
       "      <td>35.97</td>\n",
       "      <td>6.36</td>\n",
       "      <td>11.92</td>\n",
       "      <td>6.20</td>\n",
       "      <td>11.92</td>\n",
       "      <td>6.20</td>\n",
       "      <td>11.70</td>\n",
       "      <td>7.22</td>\n",
       "      <td>27.45</td>\n",
       "      <td>19.74</td>\n",
       "      <td>86.84</td>\n",
       "      <td>4.84</td>\n",
       "      <td>0.55</td>\n",
       "      <td>18.81</td>\n",
       "      <td>1.16</td>\n",
       "      <td>999.72</td>\n",
       "      <td>-400.07</td>\n",
       "      <td>1,599.34</td>\n",
       "      <td>-450.01</td>\n",
       "      <td>1,599.67</td>\n",
       "      <td>-449.95</td>\n",
       "      <td>1,599.85</td>\n",
       "      <td>-449.95</td>\n",
       "      <td>1,399.18</td>\n",
       "      <td>-449.94</td>\n",
       "      <td>1,400.32</td>\n",
       "      <td>-450.53</td>\n",
       "      <td>14.12</td>\n",
       "      <td>4.62</td>\n",
       "      <td>8.84</td>\n",
       "      <td>2.46</td>\n",
       "      <td>26.01</td>\n",
       "      <td>-499.93</td>\n",
       "      <td>23.89</td>\n",
       "      <td>-499.95</td>\n",
       "      <td>23.91</td>\n",
       "      <td>-499.44</td>\n",
       "      <td>23.96</td>\n",
       "      <td>-499.90</td>\n",
       "      <td>14.02</td>\n",
       "      <td>-502.52</td>\n",
       "      <td>11.91</td>\n",
       "      <td>-501.13</td>\n",
       "      <td>10.07</td>\n",
       "      <td>-500.13</td>\n",
       "      <td>8.01</td>\n",
       "      <td>-500.52</td>\n",
       "      <td>14.03</td>\n",
       "      <td>-601.43</td>\n",
       "    </tr>\n",
       "    <tr>\n",
       "      <th>3</th>\n",
       "      <td>2016-01-15 03:00:00</td>\n",
       "      <td>6.05</td>\n",
       "      <td>9.98</td>\n",
       "      <td>4.86</td>\n",
       "      <td>42.69</td>\n",
       "      <td>68.35</td>\n",
       "      <td>10.42</td>\n",
       "      <td>0.88</td>\n",
       "      <td>16.53</td>\n",
       "      <td>2.15</td>\n",
       "      <td>122.27</td>\n",
       "      <td>11.32</td>\n",
       "      <td>7.25</td>\n",
       "      <td>1.00</td>\n",
       "      <td>7.22</td>\n",
       "      <td>8.50</td>\n",
       "      <td>15.98</td>\n",
       "      <td>28.26</td>\n",
       "      <td>16.02</td>\n",
       "      <td>2.96</td>\n",
       "      <td>6.84</td>\n",
       "      <td>2.26</td>\n",
       "      <td>1,599.97</td>\n",
       "      <td>-500.95</td>\n",
       "      <td>1,600.66</td>\n",
       "      <td>-499.68</td>\n",
       "      <td>1,600.30</td>\n",
       "      <td>-500.73</td>\n",
       "      <td>1,600.45</td>\n",
       "      <td>-500.05</td>\n",
       "      <td>42,029.45</td>\n",
       "      <td>3,498.58</td>\n",
       "      <td>3,499.16</td>\n",
       "      <td>3.00</td>\n",
       "      <td>6.04</td>\n",
       "      <td>2.04</td>\n",
       "      <td>542.59</td>\n",
       "      <td>57.79</td>\n",
       "      <td>36.86</td>\n",
       "      <td>6.12</td>\n",
       "      <td>11.63</td>\n",
       "      <td>6.20</td>\n",
       "      <td>11.69</td>\n",
       "      <td>6.20</td>\n",
       "      <td>11.92</td>\n",
       "      <td>7.18</td>\n",
       "      <td>27.34</td>\n",
       "      <td>19.32</td>\n",
       "      <td>87.23</td>\n",
       "      <td>4.66</td>\n",
       "      <td>0.54</td>\n",
       "      <td>19.33</td>\n",
       "      <td>1.08</td>\n",
       "      <td>999.81</td>\n",
       "      <td>-400.20</td>\n",
       "      <td>1,600.06</td>\n",
       "      <td>-450.62</td>\n",
       "      <td>1,600.01</td>\n",
       "      <td>-449.91</td>\n",
       "      <td>1,597.73</td>\n",
       "      <td>-450.13</td>\n",
       "      <td>1,400.94</td>\n",
       "      <td>-450.03</td>\n",
       "      <td>1,400.23</td>\n",
       "      <td>-449.79</td>\n",
       "      <td>13.73</td>\n",
       "      <td>4.48</td>\n",
       "      <td>9.12</td>\n",
       "      <td>2.32</td>\n",
       "      <td>25.94</td>\n",
       "      <td>-499.18</td>\n",
       "      <td>23.96</td>\n",
       "      <td>-499.85</td>\n",
       "      <td>23.97</td>\n",
       "      <td>-500.01</td>\n",
       "      <td>23.95</td>\n",
       "      <td>-499.94</td>\n",
       "      <td>14.04</td>\n",
       "      <td>-500.86</td>\n",
       "      <td>12.00</td>\n",
       "      <td>-501.19</td>\n",
       "      <td>9.97</td>\n",
       "      <td>-499.20</td>\n",
       "      <td>7.98</td>\n",
       "      <td>-500.26</td>\n",
       "      <td>14.01</td>\n",
       "      <td>-600.00</td>\n",
       "    </tr>\n",
       "    <tr>\n",
       "      <th>4</th>\n",
       "      <td>2016-01-15 04:00:00</td>\n",
       "      <td>6.15</td>\n",
       "      <td>10.14</td>\n",
       "      <td>4.94</td>\n",
       "      <td>42.77</td>\n",
       "      <td>66.93</td>\n",
       "      <td>10.36</td>\n",
       "      <td>0.79</td>\n",
       "      <td>16.53</td>\n",
       "      <td>2.06</td>\n",
       "      <td>117.99</td>\n",
       "      <td>11.91</td>\n",
       "      <td>7.25</td>\n",
       "      <td>1.01</td>\n",
       "      <td>9.09</td>\n",
       "      <td>9.99</td>\n",
       "      <td>19.20</td>\n",
       "      <td>33.04</td>\n",
       "      <td>16.48</td>\n",
       "      <td>3.11</td>\n",
       "      <td>6.55</td>\n",
       "      <td>2.28</td>\n",
       "      <td>1,601.34</td>\n",
       "      <td>-498.98</td>\n",
       "      <td>1,601.44</td>\n",
       "      <td>-500.32</td>\n",
       "      <td>1,599.58</td>\n",
       "      <td>-500.89</td>\n",
       "      <td>1,602.65</td>\n",
       "      <td>-500.59</td>\n",
       "      <td>42,125.35</td>\n",
       "      <td>3,494.80</td>\n",
       "      <td>3,506.68</td>\n",
       "      <td>3.17</td>\n",
       "      <td>6.06</td>\n",
       "      <td>1.79</td>\n",
       "      <td>540.53</td>\n",
       "      <td>56.05</td>\n",
       "      <td>34.35</td>\n",
       "      <td>5.66</td>\n",
       "      <td>10.96</td>\n",
       "      <td>6.20</td>\n",
       "      <td>10.96</td>\n",
       "      <td>6.19</td>\n",
       "      <td>12.41</td>\n",
       "      <td>7.24</td>\n",
       "      <td>27.04</td>\n",
       "      <td>19.22</td>\n",
       "      <td>86.69</td>\n",
       "      <td>4.55</td>\n",
       "      <td>0.52</td>\n",
       "      <td>19.27</td>\n",
       "      <td>1.01</td>\n",
       "      <td>999.68</td>\n",
       "      <td>-399.75</td>\n",
       "      <td>1,600.21</td>\n",
       "      <td>-449.60</td>\n",
       "      <td>1,600.36</td>\n",
       "      <td>-450.03</td>\n",
       "      <td>1,599.76</td>\n",
       "      <td>-449.91</td>\n",
       "      <td>1,401.56</td>\n",
       "      <td>-448.88</td>\n",
       "      <td>1,401.16</td>\n",
       "      <td>-450.41</td>\n",
       "      <td>14.08</td>\n",
       "      <td>4.47</td>\n",
       "      <td>8.87</td>\n",
       "      <td>2.33</td>\n",
       "      <td>26.02</td>\n",
       "      <td>-500.28</td>\n",
       "      <td>23.96</td>\n",
       "      <td>-500.59</td>\n",
       "      <td>23.99</td>\n",
       "      <td>-500.08</td>\n",
       "      <td>23.96</td>\n",
       "      <td>-499.99</td>\n",
       "      <td>14.03</td>\n",
       "      <td>-499.84</td>\n",
       "      <td>11.95</td>\n",
       "      <td>-501.05</td>\n",
       "      <td>9.93</td>\n",
       "      <td>-501.69</td>\n",
       "      <td>7.89</td>\n",
       "      <td>-500.36</td>\n",
       "      <td>14.00</td>\n",
       "      <td>-601.50</td>\n",
       "    </tr>\n",
       "  </tbody>\n",
       "</table>\n",
       "</div>"
      ],
      "text/plain": [
       "                  date  final.output.concentrate_ag  \\\n",
       "0  2016-01-15 00:00:00                         6.06   \n",
       "1  2016-01-15 01:00:00                         6.03   \n",
       "2  2016-01-15 02:00:00                         6.06   \n",
       "3  2016-01-15 03:00:00                         6.05   \n",
       "4  2016-01-15 04:00:00                         6.15   \n",
       "\n",
       "   final.output.concentrate_pb  final.output.concentrate_sol  \\\n",
       "0                         9.89                          5.51   \n",
       "1                         9.97                          5.26   \n",
       "2                        10.21                          5.38   \n",
       "3                         9.98                          4.86   \n",
       "4                        10.14                          4.94   \n",
       "\n",
       "   final.output.concentrate_au  final.output.recovery  final.output.tail_ag  \\\n",
       "0                        42.19                  70.54                 10.41   \n",
       "1                        42.70                  69.27                 10.46   \n",
       "2                        42.66                  68.12                 10.51   \n",
       "3                        42.69                  68.35                 10.42   \n",
       "4                        42.77                  66.93                 10.36   \n",
       "\n",
       "   final.output.tail_pb  final.output.tail_sol  final.output.tail_au  \\\n",
       "0                  0.90                  16.90                  2.14   \n",
       "1                  0.93                  16.63                  2.22   \n",
       "2                  0.95                  16.21                  2.26   \n",
       "3                  0.88                  16.53                  2.15   \n",
       "4                  0.79                  16.53                  2.06   \n",
       "\n",
       "   primary_cleaner.input.sulfate  primary_cleaner.input.depressant  \\\n",
       "0                         127.09                             10.13   \n",
       "1                         125.63                             10.30   \n",
       "2                         123.82                             11.32   \n",
       "3                         122.27                             11.32   \n",
       "4                         117.99                             11.91   \n",
       "\n",
       "   primary_cleaner.input.feed_size  primary_cleaner.input.xanthate  \\\n",
       "0                             7.25                            0.99   \n",
       "1                             7.25                            1.00   \n",
       "2                             7.25                            0.99   \n",
       "3                             7.25                            1.00   \n",
       "4                             7.25                            1.01   \n",
       "\n",
       "   primary_cleaner.output.concentrate_ag  \\\n",
       "0                                   8.55   \n",
       "1                                   8.56   \n",
       "2                                   8.60   \n",
       "3                                   7.22   \n",
       "4                                   9.09   \n",
       "\n",
       "   primary_cleaner.output.concentrate_pb  \\\n",
       "0                                  10.39   \n",
       "1                                  10.50   \n",
       "2                                  10.35   \n",
       "3                                   8.50   \n",
       "4                                   9.99   \n",
       "\n",
       "   primary_cleaner.output.concentrate_sol  \\\n",
       "0                                   19.53   \n",
       "1                                   19.37   \n",
       "2                                   19.17   \n",
       "3                                   15.98   \n",
       "4                                   19.20   \n",
       "\n",
       "   primary_cleaner.output.concentrate_au  primary_cleaner.output.tail_ag  \\\n",
       "0                                  34.17                           14.94   \n",
       "1                                  34.12                           16.25   \n",
       "2                                  33.97                           16.49   \n",
       "3                                  28.26                           16.02   \n",
       "4                                  33.04                           16.48   \n",
       "\n",
       "   primary_cleaner.output.tail_pb  primary_cleaner.output.tail_sol  \\\n",
       "0                            2.53                             7.48   \n",
       "1                            3.05                             6.73   \n",
       "2                            3.12                             6.47   \n",
       "3                            2.96                             6.84   \n",
       "4                            3.11                             6.55   \n",
       "\n",
       "   primary_cleaner.output.tail_au  primary_cleaner.state.floatbank8_a_air  \\\n",
       "0                            2.11                                1,549.78   \n",
       "1                            2.35                                1,576.17   \n",
       "2                            2.42                                1,601.56   \n",
       "3                            2.26                                1,599.97   \n",
       "4                            2.28                                1,601.34   \n",
       "\n",
       "   primary_cleaner.state.floatbank8_a_level  \\\n",
       "0                                   -498.91   \n",
       "1                                   -500.90   \n",
       "2                                   -500.00   \n",
       "3                                   -500.95   \n",
       "4                                   -498.98   \n",
       "\n",
       "   primary_cleaner.state.floatbank8_b_air  \\\n",
       "0                                1,551.43   \n",
       "1                                1,575.95   \n",
       "2                                1,600.39   \n",
       "3                                1,600.66   \n",
       "4                                1,601.44   \n",
       "\n",
       "   primary_cleaner.state.floatbank8_b_level  \\\n",
       "0                                   -516.40   \n",
       "1                                   -499.87   \n",
       "2                                   -500.61   \n",
       "3                                   -499.68   \n",
       "4                                   -500.32   \n",
       "\n",
       "   primary_cleaner.state.floatbank8_c_air  \\\n",
       "0                                1,549.87   \n",
       "1                                1,575.99   \n",
       "2                                1,602.00   \n",
       "3                                1,600.30   \n",
       "4                                1,599.58   \n",
       "\n",
       "   primary_cleaner.state.floatbank8_c_level  \\\n",
       "0                                   -498.67   \n",
       "1                                   -499.32   \n",
       "2                                   -500.87   \n",
       "3                                   -500.73   \n",
       "4                                   -500.89   \n",
       "\n",
       "   primary_cleaner.state.floatbank8_d_air  \\\n",
       "0                                1,554.37   \n",
       "1                                1,574.48   \n",
       "2                                1,599.54   \n",
       "3                                1,600.45   \n",
       "4                                1,602.65   \n",
       "\n",
       "   primary_cleaner.state.floatbank8_d_level  \\\n",
       "0                                   -493.43   \n",
       "1                                   -498.93   \n",
       "2                                   -499.83   \n",
       "3                                   -500.05   \n",
       "4                                   -500.59   \n",
       "\n",
       "   rougher.calculation.sulfate_to_au_concentrate  \\\n",
       "0                                      41,885.71   \n",
       "1                                      42,050.86   \n",
       "2                                      42,018.10   \n",
       "3                                      42,029.45   \n",
       "4                                      42,125.35   \n",
       "\n",
       "   rougher.calculation.floatbank10_sulfate_to_au_feed  \\\n",
       "0                                           3,481.78    \n",
       "1                                           3,498.37    \n",
       "2                                           3,495.35    \n",
       "3                                           3,498.58    \n",
       "4                                           3,494.80    \n",
       "\n",
       "   rougher.calculation.floatbank11_sulfate_to_au_feed  \\\n",
       "0                                           3,520.34    \n",
       "1                                           3,489.98    \n",
       "2                                           3,502.36    \n",
       "3                                           3,499.16    \n",
       "4                                           3,506.68    \n",
       "\n",
       "   rougher.calculation.au_pb_ratio  rougher.input.feed_ag  \\\n",
       "0                             2.84                   6.10   \n",
       "1                             2.86                   6.16   \n",
       "2                             2.95                   6.12   \n",
       "3                             3.00                   6.04   \n",
       "4                             3.17                   6.06   \n",
       "\n",
       "   rougher.input.feed_pb  rougher.input.feed_rate  rougher.input.feed_size  \\\n",
       "0                   2.28                   523.55                    55.49   \n",
       "1                   2.27                   525.29                    57.28   \n",
       "2                   2.16                   530.03                    57.51   \n",
       "3                   2.04                   542.59                    57.79   \n",
       "4                   1.79                   540.53                    56.05   \n",
       "\n",
       "   rougher.input.feed_sol  rougher.input.feed_au  \\\n",
       "0                   36.81                   6.49   \n",
       "1                   35.75                   6.48   \n",
       "2                   35.97                   6.36   \n",
       "3                   36.86                   6.12   \n",
       "4                   34.35                   5.66   \n",
       "\n",
       "   rougher.input.floatbank10_sulfate  rougher.input.floatbank10_xanthate  \\\n",
       "0                              11.99                                6.01   \n",
       "1                              11.97                                6.01   \n",
       "2                              11.92                                6.20   \n",
       "3                              11.63                                6.20   \n",
       "4                              10.96                                6.20   \n",
       "\n",
       "   rougher.input.floatbank11_sulfate  rougher.input.floatbank11_xanthate  \\\n",
       "0                              11.84                                6.01   \n",
       "1                              12.00                                6.01   \n",
       "2                              11.92                                6.20   \n",
       "3                              11.69                                6.20   \n",
       "4                              10.96                                6.19   \n",
       "\n",
       "   rougher.output.concentrate_ag  rougher.output.concentrate_pb  \\\n",
       "0                          11.50                           7.10   \n",
       "1                          11.62                           7.28   \n",
       "2                          11.70                           7.22   \n",
       "3                          11.92                           7.18   \n",
       "4                          12.41                           7.24   \n",
       "\n",
       "   rougher.output.concentrate_sol  rougher.output.concentrate_au  \\\n",
       "0                           28.03                          19.79   \n",
       "1                           28.07                          20.05   \n",
       "2                           27.45                          19.74   \n",
       "3                           27.34                          19.32   \n",
       "4                           27.04                          19.22   \n",
       "\n",
       "   rougher.output.recovery  rougher.output.tail_ag  rougher.output.tail_pb  \\\n",
       "0                    87.11                    5.01                    0.51   \n",
       "1                    86.84                    4.96                    0.54   \n",
       "2                    86.84                    4.84                    0.55   \n",
       "3                    87.23                    4.66                    0.54   \n",
       "4                    86.69                    4.55                    0.52   \n",
       "\n",
       "   rougher.output.tail_sol  rougher.output.tail_au  \\\n",
       "0                    19.15                    1.17   \n",
       "1                    18.97                    1.18   \n",
       "2                    18.81                    1.16   \n",
       "3                    19.33                    1.08   \n",
       "4                    19.27                    1.01   \n",
       "\n",
       "   rougher.state.floatbank10_a_air  rougher.state.floatbank10_a_level  \\\n",
       "0                           999.71                            -404.07   \n",
       "1                         1,000.29                            -400.07   \n",
       "2                           999.72                            -400.07   \n",
       "3                           999.81                            -400.20   \n",
       "4                           999.68                            -399.75   \n",
       "\n",
       "   rougher.state.floatbank10_b_air  rougher.state.floatbank10_b_level  \\\n",
       "0                         1,603.01                            -434.72   \n",
       "1                         1,600.75                            -449.95   \n",
       "2                         1,599.34                            -450.01   \n",
       "3                         1,600.06                            -450.62   \n",
       "4                         1,600.21                            -449.60   \n",
       "\n",
       "   rougher.state.floatbank10_c_air  rougher.state.floatbank10_c_level  \\\n",
       "0                         1,602.38                            -442.20   \n",
       "1                         1,600.48                            -449.83   \n",
       "2                         1,599.67                            -449.95   \n",
       "3                         1,600.01                            -449.91   \n",
       "4                         1,600.36                            -450.03   \n",
       "\n",
       "   rougher.state.floatbank10_d_air  rougher.state.floatbank10_d_level  \\\n",
       "0                         1,598.94                            -451.29   \n",
       "1                         1,600.53                            -449.95   \n",
       "2                         1,599.85                            -449.95   \n",
       "3                         1,597.73                            -450.13   \n",
       "4                         1,599.76                            -449.91   \n",
       "\n",
       "   rougher.state.floatbank10_e_air  rougher.state.floatbank10_e_level  \\\n",
       "0                         1,404.47                            -455.46   \n",
       "1                         1,399.23                            -450.87   \n",
       "2                         1,399.18                            -449.94   \n",
       "3                         1,400.94                            -450.03   \n",
       "4                         1,401.56                            -448.88   \n",
       "\n",
       "   rougher.state.floatbank10_f_air  rougher.state.floatbank10_f_level  \\\n",
       "0                         1,416.35                            -451.94   \n",
       "1                         1,399.72                            -450.12   \n",
       "2                         1,400.32                            -450.53   \n",
       "3                         1,400.23                            -449.79   \n",
       "4                         1,401.16                            -450.41   \n",
       "\n",
       "   secondary_cleaner.output.tail_ag  secondary_cleaner.output.tail_pb  \\\n",
       "0                             14.50                              4.69   \n",
       "1                             14.27                              4.59   \n",
       "2                             14.12                              4.62   \n",
       "3                             13.73                              4.48   \n",
       "4                             14.08                              4.47   \n",
       "\n",
       "   secondary_cleaner.output.tail_sol  secondary_cleaner.output.tail_au  \\\n",
       "0                               8.76                              2.61   \n",
       "1                               9.00                              2.49   \n",
       "2                               8.84                              2.46   \n",
       "3                               9.12                              2.32   \n",
       "4                               8.87                              2.33   \n",
       "\n",
       "   secondary_cleaner.state.floatbank2_a_air  \\\n",
       "0                                     25.85   \n",
       "1                                     25.88   \n",
       "2                                     26.01   \n",
       "3                                     25.94   \n",
       "4                                     26.02   \n",
       "\n",
       "   secondary_cleaner.state.floatbank2_a_level  \\\n",
       "0                                     -498.53   \n",
       "1                                     -499.99   \n",
       "2                                     -499.93   \n",
       "3                                     -499.18   \n",
       "4                                     -500.28   \n",
       "\n",
       "   secondary_cleaner.state.floatbank2_b_air  \\\n",
       "0                                     23.89   \n",
       "1                                     23.89   \n",
       "2                                     23.89   \n",
       "3                                     23.96   \n",
       "4                                     23.96   \n",
       "\n",
       "   secondary_cleaner.state.floatbank2_b_level  \\\n",
       "0                                     -501.41   \n",
       "1                                     -500.37   \n",
       "2                                     -499.95   \n",
       "3                                     -499.85   \n",
       "4                                     -500.59   \n",
       "\n",
       "   secondary_cleaner.state.floatbank3_a_air  \\\n",
       "0                                     23.96   \n",
       "1                                     23.97   \n",
       "2                                     23.91   \n",
       "3                                     23.97   \n",
       "4                                     23.99   \n",
       "\n",
       "   secondary_cleaner.state.floatbank3_a_level  \\\n",
       "0                                     -495.26   \n",
       "1                                     -500.09   \n",
       "2                                     -499.44   \n",
       "3                                     -500.01   \n",
       "4                                     -500.08   \n",
       "\n",
       "   secondary_cleaner.state.floatbank3_b_air  \\\n",
       "0                                     21.94   \n",
       "1                                     22.09   \n",
       "2                                     23.96   \n",
       "3                                     23.95   \n",
       "4                                     23.96   \n",
       "\n",
       "   secondary_cleaner.state.floatbank3_b_level  \\\n",
       "0                                     -499.34   \n",
       "1                                     -499.45   \n",
       "2                                     -499.90   \n",
       "3                                     -499.94   \n",
       "4                                     -499.99   \n",
       "\n",
       "   secondary_cleaner.state.floatbank4_a_air  \\\n",
       "0                                     14.02   \n",
       "1                                     13.99   \n",
       "2                                     14.02   \n",
       "3                                     14.04   \n",
       "4                                     14.03   \n",
       "\n",
       "   secondary_cleaner.state.floatbank4_a_level  \\\n",
       "0                                     -502.49   \n",
       "1                                     -505.50   \n",
       "2                                     -502.52   \n",
       "3                                     -500.86   \n",
       "4                                     -499.84   \n",
       "\n",
       "   secondary_cleaner.state.floatbank4_b_air  \\\n",
       "0                                     12.10   \n",
       "1                                     11.95   \n",
       "2                                     11.91   \n",
       "3                                     12.00   \n",
       "4                                     11.95   \n",
       "\n",
       "   secondary_cleaner.state.floatbank4_b_level  \\\n",
       "0                                     -504.72   \n",
       "1                                     -501.33   \n",
       "2                                     -501.13   \n",
       "3                                     -501.19   \n",
       "4                                     -501.05   \n",
       "\n",
       "   secondary_cleaner.state.floatbank5_a_air  \\\n",
       "0                                      9.93   \n",
       "1                                     10.04   \n",
       "2                                     10.07   \n",
       "3                                      9.97   \n",
       "4                                      9.93   \n",
       "\n",
       "   secondary_cleaner.state.floatbank5_a_level  \\\n",
       "0                                     -498.31   \n",
       "1                                     -500.17   \n",
       "2                                     -500.13   \n",
       "3                                     -499.20   \n",
       "4                                     -501.69   \n",
       "\n",
       "   secondary_cleaner.state.floatbank5_b_air  \\\n",
       "0                                      8.08   \n",
       "1                                      7.98   \n",
       "2                                      8.01   \n",
       "3                                      7.98   \n",
       "4                                      7.89   \n",
       "\n",
       "   secondary_cleaner.state.floatbank5_b_level  \\\n",
       "0                                     -500.47   \n",
       "1                                     -500.58   \n",
       "2                                     -500.52   \n",
       "3                                     -500.26   \n",
       "4                                     -500.36   \n",
       "\n",
       "   secondary_cleaner.state.floatbank6_a_air  \\\n",
       "0                                     14.15   \n",
       "1                                     14.00   \n",
       "2                                     14.03   \n",
       "3                                     14.01   \n",
       "4                                     14.00   \n",
       "\n",
       "   secondary_cleaner.state.floatbank6_a_level  \n",
       "0                                     -605.84  \n",
       "1                                     -599.79  \n",
       "2                                     -601.43  \n",
       "3                                     -600.00  \n",
       "4                                     -601.50  "
      ]
     },
     "metadata": {},
     "output_type": "display_data"
    },
    {
     "name": "stdout",
     "output_type": "stream",
     "text": [
      "\n",
      "Описательная статистика датасэта:\n"
     ]
    },
    {
     "data": {
      "text/html": [
       "<div>\n",
       "<style scoped>\n",
       "    .dataframe tbody tr th:only-of-type {\n",
       "        vertical-align: middle;\n",
       "    }\n",
       "\n",
       "    .dataframe tbody tr th {\n",
       "        vertical-align: top;\n",
       "    }\n",
       "\n",
       "    .dataframe thead th {\n",
       "        text-align: right;\n",
       "    }\n",
       "</style>\n",
       "<table border=\"1\" class=\"dataframe\">\n",
       "  <thead>\n",
       "    <tr style=\"text-align: right;\">\n",
       "      <th></th>\n",
       "      <th>final.output.concentrate_ag</th>\n",
       "      <th>final.output.concentrate_pb</th>\n",
       "      <th>final.output.concentrate_sol</th>\n",
       "      <th>final.output.concentrate_au</th>\n",
       "      <th>final.output.recovery</th>\n",
       "      <th>final.output.tail_ag</th>\n",
       "      <th>final.output.tail_pb</th>\n",
       "      <th>final.output.tail_sol</th>\n",
       "      <th>final.output.tail_au</th>\n",
       "      <th>primary_cleaner.input.sulfate</th>\n",
       "      <th>primary_cleaner.input.depressant</th>\n",
       "      <th>primary_cleaner.input.feed_size</th>\n",
       "      <th>primary_cleaner.input.xanthate</th>\n",
       "      <th>primary_cleaner.output.concentrate_ag</th>\n",
       "      <th>primary_cleaner.output.concentrate_pb</th>\n",
       "      <th>primary_cleaner.output.concentrate_sol</th>\n",
       "      <th>primary_cleaner.output.concentrate_au</th>\n",
       "      <th>primary_cleaner.output.tail_ag</th>\n",
       "      <th>primary_cleaner.output.tail_pb</th>\n",
       "      <th>primary_cleaner.output.tail_sol</th>\n",
       "      <th>primary_cleaner.output.tail_au</th>\n",
       "      <th>primary_cleaner.state.floatbank8_a_air</th>\n",
       "      <th>primary_cleaner.state.floatbank8_a_level</th>\n",
       "      <th>primary_cleaner.state.floatbank8_b_air</th>\n",
       "      <th>primary_cleaner.state.floatbank8_b_level</th>\n",
       "      <th>primary_cleaner.state.floatbank8_c_air</th>\n",
       "      <th>primary_cleaner.state.floatbank8_c_level</th>\n",
       "      <th>primary_cleaner.state.floatbank8_d_air</th>\n",
       "      <th>primary_cleaner.state.floatbank8_d_level</th>\n",
       "      <th>rougher.calculation.sulfate_to_au_concentrate</th>\n",
       "      <th>rougher.calculation.floatbank10_sulfate_to_au_feed</th>\n",
       "      <th>rougher.calculation.floatbank11_sulfate_to_au_feed</th>\n",
       "      <th>rougher.calculation.au_pb_ratio</th>\n",
       "      <th>rougher.input.feed_ag</th>\n",
       "      <th>rougher.input.feed_pb</th>\n",
       "      <th>rougher.input.feed_rate</th>\n",
       "      <th>rougher.input.feed_size</th>\n",
       "      <th>rougher.input.feed_sol</th>\n",
       "      <th>rougher.input.feed_au</th>\n",
       "      <th>rougher.input.floatbank10_sulfate</th>\n",
       "      <th>rougher.input.floatbank10_xanthate</th>\n",
       "      <th>rougher.input.floatbank11_sulfate</th>\n",
       "      <th>rougher.input.floatbank11_xanthate</th>\n",
       "      <th>rougher.output.concentrate_ag</th>\n",
       "      <th>rougher.output.concentrate_pb</th>\n",
       "      <th>rougher.output.concentrate_sol</th>\n",
       "      <th>rougher.output.concentrate_au</th>\n",
       "      <th>rougher.output.recovery</th>\n",
       "      <th>rougher.output.tail_ag</th>\n",
       "      <th>rougher.output.tail_pb</th>\n",
       "      <th>rougher.output.tail_sol</th>\n",
       "      <th>rougher.output.tail_au</th>\n",
       "      <th>rougher.state.floatbank10_a_air</th>\n",
       "      <th>rougher.state.floatbank10_a_level</th>\n",
       "      <th>rougher.state.floatbank10_b_air</th>\n",
       "      <th>rougher.state.floatbank10_b_level</th>\n",
       "      <th>rougher.state.floatbank10_c_air</th>\n",
       "      <th>rougher.state.floatbank10_c_level</th>\n",
       "      <th>rougher.state.floatbank10_d_air</th>\n",
       "      <th>rougher.state.floatbank10_d_level</th>\n",
       "      <th>rougher.state.floatbank10_e_air</th>\n",
       "      <th>rougher.state.floatbank10_e_level</th>\n",
       "      <th>rougher.state.floatbank10_f_air</th>\n",
       "      <th>rougher.state.floatbank10_f_level</th>\n",
       "      <th>secondary_cleaner.output.tail_ag</th>\n",
       "      <th>secondary_cleaner.output.tail_pb</th>\n",
       "      <th>secondary_cleaner.output.tail_sol</th>\n",
       "      <th>secondary_cleaner.output.tail_au</th>\n",
       "      <th>secondary_cleaner.state.floatbank2_a_air</th>\n",
       "      <th>secondary_cleaner.state.floatbank2_a_level</th>\n",
       "      <th>secondary_cleaner.state.floatbank2_b_air</th>\n",
       "      <th>secondary_cleaner.state.floatbank2_b_level</th>\n",
       "      <th>secondary_cleaner.state.floatbank3_a_air</th>\n",
       "      <th>secondary_cleaner.state.floatbank3_a_level</th>\n",
       "      <th>secondary_cleaner.state.floatbank3_b_air</th>\n",
       "      <th>secondary_cleaner.state.floatbank3_b_level</th>\n",
       "      <th>secondary_cleaner.state.floatbank4_a_air</th>\n",
       "      <th>secondary_cleaner.state.floatbank4_a_level</th>\n",
       "      <th>secondary_cleaner.state.floatbank4_b_air</th>\n",
       "      <th>secondary_cleaner.state.floatbank4_b_level</th>\n",
       "      <th>secondary_cleaner.state.floatbank5_a_air</th>\n",
       "      <th>secondary_cleaner.state.floatbank5_a_level</th>\n",
       "      <th>secondary_cleaner.state.floatbank5_b_air</th>\n",
       "      <th>secondary_cleaner.state.floatbank5_b_level</th>\n",
       "      <th>secondary_cleaner.state.floatbank6_a_air</th>\n",
       "      <th>secondary_cleaner.state.floatbank6_a_level</th>\n",
       "    </tr>\n",
       "  </thead>\n",
       "  <tbody>\n",
       "    <tr>\n",
       "      <th>count</th>\n",
       "      <td>14,148.00</td>\n",
       "      <td>14,148.00</td>\n",
       "      <td>13,938.00</td>\n",
       "      <td>14,149.00</td>\n",
       "      <td>14,149.00</td>\n",
       "      <td>14,149.00</td>\n",
       "      <td>14,049.00</td>\n",
       "      <td>14,144.00</td>\n",
       "      <td>14,149.00</td>\n",
       "      <td>14,129.00</td>\n",
       "      <td>14,117.00</td>\n",
       "      <td>14,149.00</td>\n",
       "      <td>14,049.00</td>\n",
       "      <td>14,149.00</td>\n",
       "      <td>14,063.00</td>\n",
       "      <td>13,863.00</td>\n",
       "      <td>14,149.00</td>\n",
       "      <td>14,148.00</td>\n",
       "      <td>14,134.00</td>\n",
       "      <td>14,103.00</td>\n",
       "      <td>14,149.00</td>\n",
       "      <td>14,145.00</td>\n",
       "      <td>14,148.00</td>\n",
       "      <td>14,145.00</td>\n",
       "      <td>14,148.00</td>\n",
       "      <td>14,147.00</td>\n",
       "      <td>14,148.00</td>\n",
       "      <td>14,146.00</td>\n",
       "      <td>14,148.00</td>\n",
       "      <td>14,148.00</td>\n",
       "      <td>14,148.00</td>\n",
       "      <td>14,148.00</td>\n",
       "      <td>14,149.00</td>\n",
       "      <td>14,149.00</td>\n",
       "      <td>14,049.00</td>\n",
       "      <td>14,141.00</td>\n",
       "      <td>14,005.00</td>\n",
       "      <td>14,071.00</td>\n",
       "      <td>14,149.00</td>\n",
       "      <td>14,120.00</td>\n",
       "      <td>14,141.00</td>\n",
       "      <td>14,113.00</td>\n",
       "      <td>13,721.00</td>\n",
       "      <td>14,149.00</td>\n",
       "      <td>14,149.00</td>\n",
       "      <td>14,127.00</td>\n",
       "      <td>14,149.00</td>\n",
       "      <td>14,149.00</td>\n",
       "      <td>14,148.00</td>\n",
       "      <td>14,149.00</td>\n",
       "      <td>14,149.00</td>\n",
       "      <td>14,149.00</td>\n",
       "      <td>14,148.00</td>\n",
       "      <td>14,148.00</td>\n",
       "      <td>14,148.00</td>\n",
       "      <td>14,148.00</td>\n",
       "      <td>14,148.00</td>\n",
       "      <td>14,148.00</td>\n",
       "      <td>14,149.00</td>\n",
       "      <td>14,149.00</td>\n",
       "      <td>13,713.00</td>\n",
       "      <td>14,149.00</td>\n",
       "      <td>14,149.00</td>\n",
       "      <td>14,149.00</td>\n",
       "      <td>14,147.00</td>\n",
       "      <td>14,139.00</td>\n",
       "      <td>12,544.00</td>\n",
       "      <td>14,149.00</td>\n",
       "      <td>13,932.00</td>\n",
       "      <td>14,148.00</td>\n",
       "      <td>14,128.00</td>\n",
       "      <td>14,148.00</td>\n",
       "      <td>14,145.00</td>\n",
       "      <td>14,148.00</td>\n",
       "      <td>14,148.00</td>\n",
       "      <td>14,148.00</td>\n",
       "      <td>14,143.00</td>\n",
       "      <td>14,148.00</td>\n",
       "      <td>14,148.00</td>\n",
       "      <td>14,148.00</td>\n",
       "      <td>14,148.00</td>\n",
       "      <td>14,148.00</td>\n",
       "      <td>14,148.00</td>\n",
       "      <td>14,148.00</td>\n",
       "      <td>14,147.00</td>\n",
       "      <td>14,148.00</td>\n",
       "    </tr>\n",
       "    <tr>\n",
       "      <th>mean</th>\n",
       "      <td>5.14</td>\n",
       "      <td>10.13</td>\n",
       "      <td>9.20</td>\n",
       "      <td>44.00</td>\n",
       "      <td>66.52</td>\n",
       "      <td>9.61</td>\n",
       "      <td>2.60</td>\n",
       "      <td>10.51</td>\n",
       "      <td>2.92</td>\n",
       "      <td>133.32</td>\n",
       "      <td>8.87</td>\n",
       "      <td>7.32</td>\n",
       "      <td>0.89</td>\n",
       "      <td>8.20</td>\n",
       "      <td>9.59</td>\n",
       "      <td>10.11</td>\n",
       "      <td>32.39</td>\n",
       "      <td>16.30</td>\n",
       "      <td>3.44</td>\n",
       "      <td>7.53</td>\n",
       "      <td>3.84</td>\n",
       "      <td>1,608.00</td>\n",
       "      <td>-488.78</td>\n",
       "      <td>1,608.61</td>\n",
       "      <td>-489.17</td>\n",
       "      <td>1,608.88</td>\n",
       "      <td>-489.61</td>\n",
       "      <td>1,542.19</td>\n",
       "      <td>-483.46</td>\n",
       "      <td>40,382.65</td>\n",
       "      <td>3,456.61</td>\n",
       "      <td>3,253.36</td>\n",
       "      <td>2.37</td>\n",
       "      <td>8.58</td>\n",
       "      <td>3.52</td>\n",
       "      <td>474.03</td>\n",
       "      <td>60.11</td>\n",
       "      <td>36.31</td>\n",
       "      <td>7.87</td>\n",
       "      <td>11.76</td>\n",
       "      <td>5.85</td>\n",
       "      <td>11.37</td>\n",
       "      <td>5.89</td>\n",
       "      <td>11.78</td>\n",
       "      <td>7.66</td>\n",
       "      <td>28.30</td>\n",
       "      <td>19.44</td>\n",
       "      <td>82.70</td>\n",
       "      <td>5.57</td>\n",
       "      <td>0.65</td>\n",
       "      <td>17.88</td>\n",
       "      <td>1.76</td>\n",
       "      <td>1,124.73</td>\n",
       "      <td>-369.46</td>\n",
       "      <td>1,320.71</td>\n",
       "      <td>-464.26</td>\n",
       "      <td>1,299.36</td>\n",
       "      <td>-465.05</td>\n",
       "      <td>1,210.34</td>\n",
       "      <td>-465.46</td>\n",
       "      <td>1,090.21</td>\n",
       "      <td>-464.92</td>\n",
       "      <td>1,035.49</td>\n",
       "      <td>-464.69</td>\n",
       "      <td>14.28</td>\n",
       "      <td>5.85</td>\n",
       "      <td>6.94</td>\n",
       "      <td>4.25</td>\n",
       "      <td>29.61</td>\n",
       "      <td>-502.22</td>\n",
       "      <td>24.91</td>\n",
       "      <td>-503.70</td>\n",
       "      <td>29.24</td>\n",
       "      <td>-478.24</td>\n",
       "      <td>22.66</td>\n",
       "      <td>-488.92</td>\n",
       "      <td>19.99</td>\n",
       "      <td>-478.70</td>\n",
       "      <td>15.49</td>\n",
       "      <td>-460.23</td>\n",
       "      <td>16.78</td>\n",
       "      <td>-483.96</td>\n",
       "      <td>13.06</td>\n",
       "      <td>-483.97</td>\n",
       "      <td>19.58</td>\n",
       "      <td>-506.80</td>\n",
       "    </tr>\n",
       "    <tr>\n",
       "      <th>std</th>\n",
       "      <td>1.37</td>\n",
       "      <td>1.65</td>\n",
       "      <td>2.79</td>\n",
       "      <td>4.91</td>\n",
       "      <td>10.30</td>\n",
       "      <td>2.32</td>\n",
       "      <td>0.97</td>\n",
       "      <td>3.00</td>\n",
       "      <td>0.90</td>\n",
       "      <td>39.43</td>\n",
       "      <td>3.36</td>\n",
       "      <td>0.61</td>\n",
       "      <td>0.37</td>\n",
       "      <td>2.01</td>\n",
       "      <td>2.69</td>\n",
       "      <td>4.06</td>\n",
       "      <td>5.80</td>\n",
       "      <td>3.74</td>\n",
       "      <td>1.49</td>\n",
       "      <td>2.13</td>\n",
       "      <td>1.60</td>\n",
       "      <td>128.39</td>\n",
       "      <td>35.70</td>\n",
       "      <td>131.11</td>\n",
       "      <td>33.60</td>\n",
       "      <td>134.27</td>\n",
       "      <td>35.62</td>\n",
       "      <td>278.32</td>\n",
       "      <td>47.10</td>\n",
       "      <td>380,143.62</td>\n",
       "      <td>5,772.51</td>\n",
       "      <td>6,753.29</td>\n",
       "      <td>0.87</td>\n",
       "      <td>1.90</td>\n",
       "      <td>1.07</td>\n",
       "      <td>104.04</td>\n",
       "      <td>22.42</td>\n",
       "      <td>4.96</td>\n",
       "      <td>1.92</td>\n",
       "      <td>3.28</td>\n",
       "      <td>1.10</td>\n",
       "      <td>3.74</td>\n",
       "      <td>1.12</td>\n",
       "      <td>2.73</td>\n",
       "      <td>1.86</td>\n",
       "      <td>6.10</td>\n",
       "      <td>3.77</td>\n",
       "      <td>14.48</td>\n",
       "      <td>1.04</td>\n",
       "      <td>0.26</td>\n",
       "      <td>3.43</td>\n",
       "      <td>0.71</td>\n",
       "      <td>169.31</td>\n",
       "      <td>93.95</td>\n",
       "      <td>183.16</td>\n",
       "      <td>57.40</td>\n",
       "      <td>213.40</td>\n",
       "      <td>55.90</td>\n",
       "      <td>210.43</td>\n",
       "      <td>55.77</td>\n",
       "      <td>184.61</td>\n",
       "      <td>56.60</td>\n",
       "      <td>175.05</td>\n",
       "      <td>56.65</td>\n",
       "      <td>4.48</td>\n",
       "      <td>2.86</td>\n",
       "      <td>4.16</td>\n",
       "      <td>2.39</td>\n",
       "      <td>5.80</td>\n",
       "      <td>60.28</td>\n",
       "      <td>5.99</td>\n",
       "      <td>62.84</td>\n",
       "      <td>5.64</td>\n",
       "      <td>54.66</td>\n",
       "      <td>5.00</td>\n",
       "      <td>41.93</td>\n",
       "      <td>5.66</td>\n",
       "      <td>50.74</td>\n",
       "      <td>5.26</td>\n",
       "      <td>58.84</td>\n",
       "      <td>5.83</td>\n",
       "      <td>37.89</td>\n",
       "      <td>5.77</td>\n",
       "      <td>39.21</td>\n",
       "      <td>5.76</td>\n",
       "      <td>37.08</td>\n",
       "    </tr>\n",
       "    <tr>\n",
       "      <th>min</th>\n",
       "      <td>0.00</td>\n",
       "      <td>0.00</td>\n",
       "      <td>0.00</td>\n",
       "      <td>0.00</td>\n",
       "      <td>0.00</td>\n",
       "      <td>0.00</td>\n",
       "      <td>0.00</td>\n",
       "      <td>0.00</td>\n",
       "      <td>0.00</td>\n",
       "      <td>0.00</td>\n",
       "      <td>0.00</td>\n",
       "      <td>1.08</td>\n",
       "      <td>0.00</td>\n",
       "      <td>0.00</td>\n",
       "      <td>0.00</td>\n",
       "      <td>0.00</td>\n",
       "      <td>0.00</td>\n",
       "      <td>0.00</td>\n",
       "      <td>0.00</td>\n",
       "      <td>0.00</td>\n",
       "      <td>0.00</td>\n",
       "      <td>0.01</td>\n",
       "      <td>-798.64</td>\n",
       "      <td>0.01</td>\n",
       "      <td>-740.12</td>\n",
       "      <td>0.02</td>\n",
       "      <td>-799.80</td>\n",
       "      <td>0.01</td>\n",
       "      <td>-799.79</td>\n",
       "      <td>-42,235,197.37</td>\n",
       "      <td>-486.60</td>\n",
       "      <td>-264.98</td>\n",
       "      <td>-0.01</td>\n",
       "      <td>0.01</td>\n",
       "      <td>0.01</td>\n",
       "      <td>0.01</td>\n",
       "      <td>9.66</td>\n",
       "      <td>0.01</td>\n",
       "      <td>0.01</td>\n",
       "      <td>0.00</td>\n",
       "      <td>0.00</td>\n",
       "      <td>0.00</td>\n",
       "      <td>0.00</td>\n",
       "      <td>0.00</td>\n",
       "      <td>0.00</td>\n",
       "      <td>0.00</td>\n",
       "      <td>0.00</td>\n",
       "      <td>0.00</td>\n",
       "      <td>0.59</td>\n",
       "      <td>0.01</td>\n",
       "      <td>10.01</td>\n",
       "      <td>0.02</td>\n",
       "      <td>-0.04</td>\n",
       "      <td>-650.20</td>\n",
       "      <td>-0.65</td>\n",
       "      <td>-650.26</td>\n",
       "      <td>-0.04</td>\n",
       "      <td>-641.00</td>\n",
       "      <td>-0.55</td>\n",
       "      <td>-640.52</td>\n",
       "      <td>-1.97</td>\n",
       "      <td>-649.44</td>\n",
       "      <td>-2.43</td>\n",
       "      <td>-649.88</td>\n",
       "      <td>0.00</td>\n",
       "      <td>0.00</td>\n",
       "      <td>0.00</td>\n",
       "      <td>0.00</td>\n",
       "      <td>0.08</td>\n",
       "      <td>-799.61</td>\n",
       "      <td>0.00</td>\n",
       "      <td>-799.87</td>\n",
       "      <td>0.00</td>\n",
       "      <td>-799.61</td>\n",
       "      <td>0.00</td>\n",
       "      <td>-759.18</td>\n",
       "      <td>0.00</td>\n",
       "      <td>-799.71</td>\n",
       "      <td>0.00</td>\n",
       "      <td>-799.89</td>\n",
       "      <td>-0.37</td>\n",
       "      <td>-797.14</td>\n",
       "      <td>0.65</td>\n",
       "      <td>-800.01</td>\n",
       "      <td>0.20</td>\n",
       "      <td>-809.40</td>\n",
       "    </tr>\n",
       "    <tr>\n",
       "      <th>25%</th>\n",
       "      <td>4.21</td>\n",
       "      <td>9.30</td>\n",
       "      <td>7.48</td>\n",
       "      <td>43.28</td>\n",
       "      <td>62.55</td>\n",
       "      <td>8.00</td>\n",
       "      <td>1.91</td>\n",
       "      <td>8.81</td>\n",
       "      <td>2.37</td>\n",
       "      <td>107.01</td>\n",
       "      <td>6.04</td>\n",
       "      <td>6.96</td>\n",
       "      <td>0.61</td>\n",
       "      <td>7.11</td>\n",
       "      <td>8.33</td>\n",
       "      <td>7.49</td>\n",
       "      <td>30.86</td>\n",
       "      <td>13.87</td>\n",
       "      <td>2.42</td>\n",
       "      <td>6.33</td>\n",
       "      <td>2.87</td>\n",
       "      <td>1,595.70</td>\n",
       "      <td>-500.29</td>\n",
       "      <td>1,558.96</td>\n",
       "      <td>-500.38</td>\n",
       "      <td>1,549.87</td>\n",
       "      <td>-500.60</td>\n",
       "      <td>1,452.68</td>\n",
       "      <td>-500.46</td>\n",
       "      <td>39,994.30</td>\n",
       "      <td>2,527.09</td>\n",
       "      <td>2,512.20</td>\n",
       "      <td>2.00</td>\n",
       "      <td>7.13</td>\n",
       "      <td>2.78</td>\n",
       "      <td>420.78</td>\n",
       "      <td>48.97</td>\n",
       "      <td>34.12</td>\n",
       "      <td>6.60</td>\n",
       "      <td>9.86</td>\n",
       "      <td>5.12</td>\n",
       "      <td>9.51</td>\n",
       "      <td>5.20</td>\n",
       "      <td>10.49</td>\n",
       "      <td>6.85</td>\n",
       "      <td>26.70</td>\n",
       "      <td>18.43</td>\n",
       "      <td>79.99</td>\n",
       "      <td>4.92</td>\n",
       "      <td>0.47</td>\n",
       "      <td>15.69</td>\n",
       "      <td>1.31</td>\n",
       "      <td>999.80</td>\n",
       "      <td>-499.79</td>\n",
       "      <td>1,199.37</td>\n",
       "      <td>-500.18</td>\n",
       "      <td>1,103.10</td>\n",
       "      <td>-500.21</td>\n",
       "      <td>1,059.71</td>\n",
       "      <td>-500.36</td>\n",
       "      <td>997.18</td>\n",
       "      <td>-500.25</td>\n",
       "      <td>900.97</td>\n",
       "      <td>-500.48</td>\n",
       "      <td>12.18</td>\n",
       "      <td>3.98</td>\n",
       "      <td>3.23</td>\n",
       "      <td>3.15</td>\n",
       "      <td>25.10</td>\n",
       "      <td>-500.25</td>\n",
       "      <td>22.05</td>\n",
       "      <td>-500.27</td>\n",
       "      <td>24.99</td>\n",
       "      <td>-500.18</td>\n",
       "      <td>19.95</td>\n",
       "      <td>-500.11</td>\n",
       "      <td>14.99</td>\n",
       "      <td>-500.63</td>\n",
       "      <td>11.89</td>\n",
       "      <td>-500.15</td>\n",
       "      <td>11.08</td>\n",
       "      <td>-500.36</td>\n",
       "      <td>8.99</td>\n",
       "      <td>-500.11</td>\n",
       "      <td>14.99</td>\n",
       "      <td>-500.75</td>\n",
       "    </tr>\n",
       "    <tr>\n",
       "      <th>50%</th>\n",
       "      <td>4.99</td>\n",
       "      <td>10.30</td>\n",
       "      <td>8.85</td>\n",
       "      <td>44.87</td>\n",
       "      <td>67.43</td>\n",
       "      <td>9.48</td>\n",
       "      <td>2.59</td>\n",
       "      <td>10.51</td>\n",
       "      <td>2.85</td>\n",
       "      <td>133.02</td>\n",
       "      <td>8.04</td>\n",
       "      <td>7.29</td>\n",
       "      <td>0.89</td>\n",
       "      <td>8.23</td>\n",
       "      <td>9.93</td>\n",
       "      <td>9.73</td>\n",
       "      <td>33.23</td>\n",
       "      <td>15.80</td>\n",
       "      <td>3.22</td>\n",
       "      <td>7.71</td>\n",
       "      <td>3.51</td>\n",
       "      <td>1,601.82</td>\n",
       "      <td>-499.91</td>\n",
       "      <td>1,601.82</td>\n",
       "      <td>-499.94</td>\n",
       "      <td>1,601.57</td>\n",
       "      <td>-499.87</td>\n",
       "      <td>1,600.17</td>\n",
       "      <td>-499.83</td>\n",
       "      <td>43,684.31</td>\n",
       "      <td>2,975.89</td>\n",
       "      <td>2,899.81</td>\n",
       "      <td>2.25</td>\n",
       "      <td>8.16</td>\n",
       "      <td>3.42</td>\n",
       "      <td>499.45</td>\n",
       "      <td>55.37</td>\n",
       "      <td>37.02</td>\n",
       "      <td>7.65</td>\n",
       "      <td>11.69</td>\n",
       "      <td>5.95</td>\n",
       "      <td>11.38</td>\n",
       "      <td>6.00</td>\n",
       "      <td>11.75</td>\n",
       "      <td>7.76</td>\n",
       "      <td>29.26</td>\n",
       "      <td>19.95</td>\n",
       "      <td>85.30</td>\n",
       "      <td>5.72</td>\n",
       "      <td>0.63</td>\n",
       "      <td>18.02</td>\n",
       "      <td>1.75</td>\n",
       "      <td>1,001.69</td>\n",
       "      <td>-300.18</td>\n",
       "      <td>1,301.37</td>\n",
       "      <td>-499.76</td>\n",
       "      <td>1,300.21</td>\n",
       "      <td>-499.68</td>\n",
       "      <td>1,200.74</td>\n",
       "      <td>-499.47</td>\n",
       "      <td>1,050.50</td>\n",
       "      <td>-499.61</td>\n",
       "      <td>1,000.05</td>\n",
       "      <td>-499.36</td>\n",
       "      <td>15.36</td>\n",
       "      <td>5.44</td>\n",
       "      <td>7.30</td>\n",
       "      <td>3.98</td>\n",
       "      <td>30.03</td>\n",
       "      <td>-499.96</td>\n",
       "      <td>27.02</td>\n",
       "      <td>-500.01</td>\n",
       "      <td>28.02</td>\n",
       "      <td>-499.88</td>\n",
       "      <td>22.04</td>\n",
       "      <td>-499.97</td>\n",
       "      <td>20.00</td>\n",
       "      <td>-499.68</td>\n",
       "      <td>14.98</td>\n",
       "      <td>-499.39</td>\n",
       "      <td>17.93</td>\n",
       "      <td>-499.70</td>\n",
       "      <td>12.00</td>\n",
       "      <td>-499.91</td>\n",
       "      <td>19.98</td>\n",
       "      <td>-500.06</td>\n",
       "    </tr>\n",
       "    <tr>\n",
       "      <th>75%</th>\n",
       "      <td>5.86</td>\n",
       "      <td>11.17</td>\n",
       "      <td>10.49</td>\n",
       "      <td>46.17</td>\n",
       "      <td>72.35</td>\n",
       "      <td>11.00</td>\n",
       "      <td>3.24</td>\n",
       "      <td>11.93</td>\n",
       "      <td>3.43</td>\n",
       "      <td>159.83</td>\n",
       "      <td>11.52</td>\n",
       "      <td>7.70</td>\n",
       "      <td>1.10</td>\n",
       "      <td>9.50</td>\n",
       "      <td>11.31</td>\n",
       "      <td>13.05</td>\n",
       "      <td>35.33</td>\n",
       "      <td>18.45</td>\n",
       "      <td>4.25</td>\n",
       "      <td>8.91</td>\n",
       "      <td>4.49</td>\n",
       "      <td>1,699.72</td>\n",
       "      <td>-499.38</td>\n",
       "      <td>1,700.22</td>\n",
       "      <td>-499.39</td>\n",
       "      <td>1,700.46</td>\n",
       "      <td>-498.80</td>\n",
       "      <td>1,699.36</td>\n",
       "      <td>-498.48</td>\n",
       "      <td>47,760.41</td>\n",
       "      <td>3,716.36</td>\n",
       "      <td>3,596.53</td>\n",
       "      <td>2.66</td>\n",
       "      <td>9.92</td>\n",
       "      <td>4.23</td>\n",
       "      <td>547.33</td>\n",
       "      <td>66.08</td>\n",
       "      <td>39.42</td>\n",
       "      <td>9.07</td>\n",
       "      <td>13.61</td>\n",
       "      <td>6.60</td>\n",
       "      <td>13.50</td>\n",
       "      <td>6.70</td>\n",
       "      <td>13.43</td>\n",
       "      <td>8.60</td>\n",
       "      <td>31.74</td>\n",
       "      <td>21.39</td>\n",
       "      <td>90.17</td>\n",
       "      <td>6.31</td>\n",
       "      <td>0.79</td>\n",
       "      <td>19.94</td>\n",
       "      <td>2.19</td>\n",
       "      <td>1,299.51</td>\n",
       "      <td>-299.96</td>\n",
       "      <td>1,449.55</td>\n",
       "      <td>-400.43</td>\n",
       "      <td>1,450.35</td>\n",
       "      <td>-400.66</td>\n",
       "      <td>1,344.38</td>\n",
       "      <td>-401.05</td>\n",
       "      <td>1,200.05</td>\n",
       "      <td>-400.60</td>\n",
       "      <td>1,100.17</td>\n",
       "      <td>-401.01</td>\n",
       "      <td>17.23</td>\n",
       "      <td>7.80</td>\n",
       "      <td>10.55</td>\n",
       "      <td>4.88</td>\n",
       "      <td>34.89</td>\n",
       "      <td>-499.59</td>\n",
       "      <td>28.94</td>\n",
       "      <td>-499.76</td>\n",
       "      <td>34.99</td>\n",
       "      <td>-436.92</td>\n",
       "      <td>25.97</td>\n",
       "      <td>-499.76</td>\n",
       "      <td>24.99</td>\n",
       "      <td>-477.47</td>\n",
       "      <td>20.06</td>\n",
       "      <td>-400.04</td>\n",
       "      <td>21.35</td>\n",
       "      <td>-487.71</td>\n",
       "      <td>17.98</td>\n",
       "      <td>-453.19</td>\n",
       "      <td>24.99</td>\n",
       "      <td>-499.54</td>\n",
       "    </tr>\n",
       "    <tr>\n",
       "      <th>max</th>\n",
       "      <td>16.00</td>\n",
       "      <td>17.03</td>\n",
       "      <td>18.12</td>\n",
       "      <td>52.76</td>\n",
       "      <td>100.00</td>\n",
       "      <td>19.55</td>\n",
       "      <td>5.64</td>\n",
       "      <td>22.32</td>\n",
       "      <td>8.20</td>\n",
       "      <td>250.13</td>\n",
       "      <td>20.05</td>\n",
       "      <td>10.47</td>\n",
       "      <td>2.51</td>\n",
       "      <td>16.08</td>\n",
       "      <td>17.08</td>\n",
       "      <td>22.28</td>\n",
       "      <td>45.93</td>\n",
       "      <td>29.46</td>\n",
       "      <td>9.63</td>\n",
       "      <td>20.62</td>\n",
       "      <td>17.79</td>\n",
       "      <td>2,079.53</td>\n",
       "      <td>-330.13</td>\n",
       "      <td>2,114.91</td>\n",
       "      <td>-347.35</td>\n",
       "      <td>2,013.16</td>\n",
       "      <td>-346.65</td>\n",
       "      <td>2,398.90</td>\n",
       "      <td>-30.60</td>\n",
       "      <td>3,428,098.94</td>\n",
       "      <td>629,638.98</td>\n",
       "      <td>718,684.96</td>\n",
       "      <td>39.38</td>\n",
       "      <td>14.60</td>\n",
       "      <td>7.14</td>\n",
       "      <td>717.51</td>\n",
       "      <td>484.97</td>\n",
       "      <td>48.36</td>\n",
       "      <td>13.13</td>\n",
       "      <td>36.12</td>\n",
       "      <td>9.70</td>\n",
       "      <td>37.98</td>\n",
       "      <td>9.70</td>\n",
       "      <td>24.48</td>\n",
       "      <td>13.62</td>\n",
       "      <td>38.35</td>\n",
       "      <td>28.15</td>\n",
       "      <td>100.00</td>\n",
       "      <td>12.72</td>\n",
       "      <td>3.78</td>\n",
       "      <td>66.12</td>\n",
       "      <td>9.69</td>\n",
       "      <td>1,521.98</td>\n",
       "      <td>-281.04</td>\n",
       "      <td>1,809.19</td>\n",
       "      <td>-296.38</td>\n",
       "      <td>2,499.13</td>\n",
       "      <td>-292.16</td>\n",
       "      <td>1,817.20</td>\n",
       "      <td>-208.33</td>\n",
       "      <td>1,922.64</td>\n",
       "      <td>-272.20</td>\n",
       "      <td>1,706.31</td>\n",
       "      <td>-191.72</td>\n",
       "      <td>23.26</td>\n",
       "      <td>17.04</td>\n",
       "      <td>17.98</td>\n",
       "      <td>26.81</td>\n",
       "      <td>52.65</td>\n",
       "      <td>-127.88</td>\n",
       "      <td>35.15</td>\n",
       "      <td>-212.06</td>\n",
       "      <td>44.26</td>\n",
       "      <td>-191.68</td>\n",
       "      <td>35.07</td>\n",
       "      <td>-159.74</td>\n",
       "      <td>30.12</td>\n",
       "      <td>-245.24</td>\n",
       "      <td>24.01</td>\n",
       "      <td>-145.07</td>\n",
       "      <td>43.71</td>\n",
       "      <td>-275.07</td>\n",
       "      <td>27.93</td>\n",
       "      <td>-157.40</td>\n",
       "      <td>32.19</td>\n",
       "      <td>-104.43</td>\n",
       "    </tr>\n",
       "  </tbody>\n",
       "</table>\n",
       "</div>"
      ],
      "text/plain": [
       "       final.output.concentrate_ag  final.output.concentrate_pb  \\\n",
       "count                    14,148.00                    14,148.00   \n",
       "mean                          5.14                        10.13   \n",
       "std                           1.37                         1.65   \n",
       "min                           0.00                         0.00   \n",
       "25%                           4.21                         9.30   \n",
       "50%                           4.99                        10.30   \n",
       "75%                           5.86                        11.17   \n",
       "max                          16.00                        17.03   \n",
       "\n",
       "       final.output.concentrate_sol  final.output.concentrate_au  \\\n",
       "count                     13,938.00                    14,149.00   \n",
       "mean                           9.20                        44.00   \n",
       "std                            2.79                         4.91   \n",
       "min                            0.00                         0.00   \n",
       "25%                            7.48                        43.28   \n",
       "50%                            8.85                        44.87   \n",
       "75%                           10.49                        46.17   \n",
       "max                           18.12                        52.76   \n",
       "\n",
       "       final.output.recovery  final.output.tail_ag  final.output.tail_pb  \\\n",
       "count              14,149.00             14,149.00             14,049.00   \n",
       "mean                   66.52                  9.61                  2.60   \n",
       "std                    10.30                  2.32                  0.97   \n",
       "min                     0.00                  0.00                  0.00   \n",
       "25%                    62.55                  8.00                  1.91   \n",
       "50%                    67.43                  9.48                  2.59   \n",
       "75%                    72.35                 11.00                  3.24   \n",
       "max                   100.00                 19.55                  5.64   \n",
       "\n",
       "       final.output.tail_sol  final.output.tail_au  \\\n",
       "count              14,144.00             14,149.00   \n",
       "mean                   10.51                  2.92   \n",
       "std                     3.00                  0.90   \n",
       "min                     0.00                  0.00   \n",
       "25%                     8.81                  2.37   \n",
       "50%                    10.51                  2.85   \n",
       "75%                    11.93                  3.43   \n",
       "max                    22.32                  8.20   \n",
       "\n",
       "       primary_cleaner.input.sulfate  primary_cleaner.input.depressant  \\\n",
       "count                      14,129.00                         14,117.00   \n",
       "mean                          133.32                              8.87   \n",
       "std                            39.43                              3.36   \n",
       "min                             0.00                              0.00   \n",
       "25%                           107.01                              6.04   \n",
       "50%                           133.02                              8.04   \n",
       "75%                           159.83                             11.52   \n",
       "max                           250.13                             20.05   \n",
       "\n",
       "       primary_cleaner.input.feed_size  primary_cleaner.input.xanthate  \\\n",
       "count                        14,149.00                       14,049.00   \n",
       "mean                              7.32                            0.89   \n",
       "std                               0.61                            0.37   \n",
       "min                               1.08                            0.00   \n",
       "25%                               6.96                            0.61   \n",
       "50%                               7.29                            0.89   \n",
       "75%                               7.70                            1.10   \n",
       "max                              10.47                            2.51   \n",
       "\n",
       "       primary_cleaner.output.concentrate_ag  \\\n",
       "count                              14,149.00   \n",
       "mean                                    8.20   \n",
       "std                                     2.01   \n",
       "min                                     0.00   \n",
       "25%                                     7.11   \n",
       "50%                                     8.23   \n",
       "75%                                     9.50   \n",
       "max                                    16.08   \n",
       "\n",
       "       primary_cleaner.output.concentrate_pb  \\\n",
       "count                              14,063.00   \n",
       "mean                                    9.59   \n",
       "std                                     2.69   \n",
       "min                                     0.00   \n",
       "25%                                     8.33   \n",
       "50%                                     9.93   \n",
       "75%                                    11.31   \n",
       "max                                    17.08   \n",
       "\n",
       "       primary_cleaner.output.concentrate_sol  \\\n",
       "count                               13,863.00   \n",
       "mean                                    10.11   \n",
       "std                                      4.06   \n",
       "min                                      0.00   \n",
       "25%                                      7.49   \n",
       "50%                                      9.73   \n",
       "75%                                     13.05   \n",
       "max                                     22.28   \n",
       "\n",
       "       primary_cleaner.output.concentrate_au  primary_cleaner.output.tail_ag  \\\n",
       "count                              14,149.00                       14,148.00   \n",
       "mean                                   32.39                           16.30   \n",
       "std                                     5.80                            3.74   \n",
       "min                                     0.00                            0.00   \n",
       "25%                                    30.86                           13.87   \n",
       "50%                                    33.23                           15.80   \n",
       "75%                                    35.33                           18.45   \n",
       "max                                    45.93                           29.46   \n",
       "\n",
       "       primary_cleaner.output.tail_pb  primary_cleaner.output.tail_sol  \\\n",
       "count                       14,134.00                        14,103.00   \n",
       "mean                             3.44                             7.53   \n",
       "std                              1.49                             2.13   \n",
       "min                              0.00                             0.00   \n",
       "25%                              2.42                             6.33   \n",
       "50%                              3.22                             7.71   \n",
       "75%                              4.25                             8.91   \n",
       "max                              9.63                            20.62   \n",
       "\n",
       "       primary_cleaner.output.tail_au  primary_cleaner.state.floatbank8_a_air  \\\n",
       "count                       14,149.00                               14,145.00   \n",
       "mean                             3.84                                1,608.00   \n",
       "std                              1.60                                  128.39   \n",
       "min                              0.00                                    0.01   \n",
       "25%                              2.87                                1,595.70   \n",
       "50%                              3.51                                1,601.82   \n",
       "75%                              4.49                                1,699.72   \n",
       "max                             17.79                                2,079.53   \n",
       "\n",
       "       primary_cleaner.state.floatbank8_a_level  \\\n",
       "count                                 14,148.00   \n",
       "mean                                    -488.78   \n",
       "std                                       35.70   \n",
       "min                                     -798.64   \n",
       "25%                                     -500.29   \n",
       "50%                                     -499.91   \n",
       "75%                                     -499.38   \n",
       "max                                     -330.13   \n",
       "\n",
       "       primary_cleaner.state.floatbank8_b_air  \\\n",
       "count                               14,145.00   \n",
       "mean                                 1,608.61   \n",
       "std                                    131.11   \n",
       "min                                      0.01   \n",
       "25%                                  1,558.96   \n",
       "50%                                  1,601.82   \n",
       "75%                                  1,700.22   \n",
       "max                                  2,114.91   \n",
       "\n",
       "       primary_cleaner.state.floatbank8_b_level  \\\n",
       "count                                 14,148.00   \n",
       "mean                                    -489.17   \n",
       "std                                       33.60   \n",
       "min                                     -740.12   \n",
       "25%                                     -500.38   \n",
       "50%                                     -499.94   \n",
       "75%                                     -499.39   \n",
       "max                                     -347.35   \n",
       "\n",
       "       primary_cleaner.state.floatbank8_c_air  \\\n",
       "count                               14,147.00   \n",
       "mean                                 1,608.88   \n",
       "std                                    134.27   \n",
       "min                                      0.02   \n",
       "25%                                  1,549.87   \n",
       "50%                                  1,601.57   \n",
       "75%                                  1,700.46   \n",
       "max                                  2,013.16   \n",
       "\n",
       "       primary_cleaner.state.floatbank8_c_level  \\\n",
       "count                                 14,148.00   \n",
       "mean                                    -489.61   \n",
       "std                                       35.62   \n",
       "min                                     -799.80   \n",
       "25%                                     -500.60   \n",
       "50%                                     -499.87   \n",
       "75%                                     -498.80   \n",
       "max                                     -346.65   \n",
       "\n",
       "       primary_cleaner.state.floatbank8_d_air  \\\n",
       "count                               14,146.00   \n",
       "mean                                 1,542.19   \n",
       "std                                    278.32   \n",
       "min                                      0.01   \n",
       "25%                                  1,452.68   \n",
       "50%                                  1,600.17   \n",
       "75%                                  1,699.36   \n",
       "max                                  2,398.90   \n",
       "\n",
       "       primary_cleaner.state.floatbank8_d_level  \\\n",
       "count                                 14,148.00   \n",
       "mean                                    -483.46   \n",
       "std                                       47.10   \n",
       "min                                     -799.79   \n",
       "25%                                     -500.46   \n",
       "50%                                     -499.83   \n",
       "75%                                     -498.48   \n",
       "max                                      -30.60   \n",
       "\n",
       "       rougher.calculation.sulfate_to_au_concentrate  \\\n",
       "count                                      14,148.00   \n",
       "mean                                       40,382.65   \n",
       "std                                       380,143.62   \n",
       "min                                   -42,235,197.37   \n",
       "25%                                        39,994.30   \n",
       "50%                                        43,684.31   \n",
       "75%                                        47,760.41   \n",
       "max                                     3,428,098.94   \n",
       "\n",
       "       rougher.calculation.floatbank10_sulfate_to_au_feed  \\\n",
       "count                                          14,148.00    \n",
       "mean                                            3,456.61    \n",
       "std                                             5,772.51    \n",
       "min                                              -486.60    \n",
       "25%                                             2,527.09    \n",
       "50%                                             2,975.89    \n",
       "75%                                             3,716.36    \n",
       "max                                           629,638.98    \n",
       "\n",
       "       rougher.calculation.floatbank11_sulfate_to_au_feed  \\\n",
       "count                                          14,148.00    \n",
       "mean                                            3,253.36    \n",
       "std                                             6,753.29    \n",
       "min                                              -264.98    \n",
       "25%                                             2,512.20    \n",
       "50%                                             2,899.81    \n",
       "75%                                             3,596.53    \n",
       "max                                           718,684.96    \n",
       "\n",
       "       rougher.calculation.au_pb_ratio  rougher.input.feed_ag  \\\n",
       "count                        14,149.00              14,149.00   \n",
       "mean                              2.37                   8.58   \n",
       "std                               0.87                   1.90   \n",
       "min                              -0.01                   0.01   \n",
       "25%                               2.00                   7.13   \n",
       "50%                               2.25                   8.16   \n",
       "75%                               2.66                   9.92   \n",
       "max                              39.38                  14.60   \n",
       "\n",
       "       rougher.input.feed_pb  rougher.input.feed_rate  \\\n",
       "count              14,049.00                14,141.00   \n",
       "mean                    3.52                   474.03   \n",
       "std                     1.07                   104.04   \n",
       "min                     0.01                     0.01   \n",
       "25%                     2.78                   420.78   \n",
       "50%                     3.42                   499.45   \n",
       "75%                     4.23                   547.33   \n",
       "max                     7.14                   717.51   \n",
       "\n",
       "       rougher.input.feed_size  rougher.input.feed_sol  rougher.input.feed_au  \\\n",
       "count                14,005.00               14,071.00              14,149.00   \n",
       "mean                     60.11                   36.31                   7.87   \n",
       "std                      22.42                    4.96                   1.92   \n",
       "min                       9.66                    0.01                   0.01   \n",
       "25%                      48.97                   34.12                   6.60   \n",
       "50%                      55.37                   37.02                   7.65   \n",
       "75%                      66.08                   39.42                   9.07   \n",
       "max                     484.97                   48.36                  13.13   \n",
       "\n",
       "       rougher.input.floatbank10_sulfate  rougher.input.floatbank10_xanthate  \\\n",
       "count                          14,120.00                           14,141.00   \n",
       "mean                               11.76                                5.85   \n",
       "std                                 3.28                                1.10   \n",
       "min                                 0.00                                0.00   \n",
       "25%                                 9.86                                5.12   \n",
       "50%                                11.69                                5.95   \n",
       "75%                                13.61                                6.60   \n",
       "max                                36.12                                9.70   \n",
       "\n",
       "       rougher.input.floatbank11_sulfate  rougher.input.floatbank11_xanthate  \\\n",
       "count                          14,113.00                           13,721.00   \n",
       "mean                               11.37                                5.89   \n",
       "std                                 3.74                                1.12   \n",
       "min                                 0.00                                0.00   \n",
       "25%                                 9.51                                5.20   \n",
       "50%                                11.38                                6.00   \n",
       "75%                                13.50                                6.70   \n",
       "max                                37.98                                9.70   \n",
       "\n",
       "       rougher.output.concentrate_ag  rougher.output.concentrate_pb  \\\n",
       "count                      14,149.00                      14,149.00   \n",
       "mean                           11.78                           7.66   \n",
       "std                             2.73                           1.86   \n",
       "min                             0.00                           0.00   \n",
       "25%                            10.49                           6.85   \n",
       "50%                            11.75                           7.76   \n",
       "75%                            13.43                           8.60   \n",
       "max                            24.48                          13.62   \n",
       "\n",
       "       rougher.output.concentrate_sol  rougher.output.concentrate_au  \\\n",
       "count                       14,127.00                      14,149.00   \n",
       "mean                            28.30                          19.44   \n",
       "std                              6.10                           3.77   \n",
       "min                              0.00                           0.00   \n",
       "25%                             26.70                          18.43   \n",
       "50%                             29.26                          19.95   \n",
       "75%                             31.74                          21.39   \n",
       "max                             38.35                          28.15   \n",
       "\n",
       "       rougher.output.recovery  rougher.output.tail_ag  \\\n",
       "count                14,149.00               14,148.00   \n",
       "mean                     82.70                    5.57   \n",
       "std                      14.48                    1.04   \n",
       "min                       0.00                    0.59   \n",
       "25%                      79.99                    4.92   \n",
       "50%                      85.30                    5.72   \n",
       "75%                      90.17                    6.31   \n",
       "max                     100.00                   12.72   \n",
       "\n",
       "       rougher.output.tail_pb  rougher.output.tail_sol  \\\n",
       "count               14,149.00                14,149.00   \n",
       "mean                     0.65                    17.88   \n",
       "std                      0.26                     3.43   \n",
       "min                      0.01                    10.01   \n",
       "25%                      0.47                    15.69   \n",
       "50%                      0.63                    18.02   \n",
       "75%                      0.79                    19.94   \n",
       "max                      3.78                    66.12   \n",
       "\n",
       "       rougher.output.tail_au  rougher.state.floatbank10_a_air  \\\n",
       "count               14,149.00                        14,148.00   \n",
       "mean                     1.76                         1,124.73   \n",
       "std                      0.71                           169.31   \n",
       "min                      0.02                            -0.04   \n",
       "25%                      1.31                           999.80   \n",
       "50%                      1.75                         1,001.69   \n",
       "75%                      2.19                         1,299.51   \n",
       "max                      9.69                         1,521.98   \n",
       "\n",
       "       rougher.state.floatbank10_a_level  rougher.state.floatbank10_b_air  \\\n",
       "count                          14,148.00                        14,148.00   \n",
       "mean                             -369.46                         1,320.71   \n",
       "std                                93.95                           183.16   \n",
       "min                              -650.20                            -0.65   \n",
       "25%                              -499.79                         1,199.37   \n",
       "50%                              -300.18                         1,301.37   \n",
       "75%                              -299.96                         1,449.55   \n",
       "max                              -281.04                         1,809.19   \n",
       "\n",
       "       rougher.state.floatbank10_b_level  rougher.state.floatbank10_c_air  \\\n",
       "count                          14,148.00                        14,148.00   \n",
       "mean                             -464.26                         1,299.36   \n",
       "std                                57.40                           213.40   \n",
       "min                              -650.26                            -0.04   \n",
       "25%                              -500.18                         1,103.10   \n",
       "50%                              -499.76                         1,300.21   \n",
       "75%                              -400.43                         1,450.35   \n",
       "max                              -296.38                         2,499.13   \n",
       "\n",
       "       rougher.state.floatbank10_c_level  rougher.state.floatbank10_d_air  \\\n",
       "count                          14,148.00                        14,149.00   \n",
       "mean                             -465.05                         1,210.34   \n",
       "std                                55.90                           210.43   \n",
       "min                              -641.00                            -0.55   \n",
       "25%                              -500.21                         1,059.71   \n",
       "50%                              -499.68                         1,200.74   \n",
       "75%                              -400.66                         1,344.38   \n",
       "max                              -292.16                         1,817.20   \n",
       "\n",
       "       rougher.state.floatbank10_d_level  rougher.state.floatbank10_e_air  \\\n",
       "count                          14,149.00                        13,713.00   \n",
       "mean                             -465.46                         1,090.21   \n",
       "std                                55.77                           184.61   \n",
       "min                              -640.52                            -1.97   \n",
       "25%                              -500.36                           997.18   \n",
       "50%                              -499.47                         1,050.50   \n",
       "75%                              -401.05                         1,200.05   \n",
       "max                              -208.33                         1,922.64   \n",
       "\n",
       "       rougher.state.floatbank10_e_level  rougher.state.floatbank10_f_air  \\\n",
       "count                          14,149.00                        14,149.00   \n",
       "mean                             -464.92                         1,035.49   \n",
       "std                                56.60                           175.05   \n",
       "min                              -649.44                            -2.43   \n",
       "25%                              -500.25                           900.97   \n",
       "50%                              -499.61                         1,000.05   \n",
       "75%                              -400.60                         1,100.17   \n",
       "max                              -272.20                         1,706.31   \n",
       "\n",
       "       rougher.state.floatbank10_f_level  secondary_cleaner.output.tail_ag  \\\n",
       "count                          14,149.00                         14,147.00   \n",
       "mean                             -464.69                             14.28   \n",
       "std                                56.65                              4.48   \n",
       "min                              -649.88                              0.00   \n",
       "25%                              -500.48                             12.18   \n",
       "50%                              -499.36                             15.36   \n",
       "75%                              -401.01                             17.23   \n",
       "max                              -191.72                             23.26   \n",
       "\n",
       "       secondary_cleaner.output.tail_pb  secondary_cleaner.output.tail_sol  \\\n",
       "count                         14,139.00                          12,544.00   \n",
       "mean                               5.85                               6.94   \n",
       "std                                2.86                               4.16   \n",
       "min                                0.00                               0.00   \n",
       "25%                                3.98                               3.23   \n",
       "50%                                5.44                               7.30   \n",
       "75%                                7.80                              10.55   \n",
       "max                               17.04                              17.98   \n",
       "\n",
       "       secondary_cleaner.output.tail_au  \\\n",
       "count                         14,149.00   \n",
       "mean                               4.25   \n",
       "std                                2.39   \n",
       "min                                0.00   \n",
       "25%                                3.15   \n",
       "50%                                3.98   \n",
       "75%                                4.88   \n",
       "max                               26.81   \n",
       "\n",
       "       secondary_cleaner.state.floatbank2_a_air  \\\n",
       "count                                 13,932.00   \n",
       "mean                                      29.61   \n",
       "std                                        5.80   \n",
       "min                                        0.08   \n",
       "25%                                       25.10   \n",
       "50%                                       30.03   \n",
       "75%                                       34.89   \n",
       "max                                       52.65   \n",
       "\n",
       "       secondary_cleaner.state.floatbank2_a_level  \\\n",
       "count                                   14,148.00   \n",
       "mean                                      -502.22   \n",
       "std                                         60.28   \n",
       "min                                       -799.61   \n",
       "25%                                       -500.25   \n",
       "50%                                       -499.96   \n",
       "75%                                       -499.59   \n",
       "max                                       -127.88   \n",
       "\n",
       "       secondary_cleaner.state.floatbank2_b_air  \\\n",
       "count                                 14,128.00   \n",
       "mean                                      24.91   \n",
       "std                                        5.99   \n",
       "min                                        0.00   \n",
       "25%                                       22.05   \n",
       "50%                                       27.02   \n",
       "75%                                       28.94   \n",
       "max                                       35.15   \n",
       "\n",
       "       secondary_cleaner.state.floatbank2_b_level  \\\n",
       "count                                   14,148.00   \n",
       "mean                                      -503.70   \n",
       "std                                         62.84   \n",
       "min                                       -799.87   \n",
       "25%                                       -500.27   \n",
       "50%                                       -500.01   \n",
       "75%                                       -499.76   \n",
       "max                                       -212.06   \n",
       "\n",
       "       secondary_cleaner.state.floatbank3_a_air  \\\n",
       "count                                 14,145.00   \n",
       "mean                                      29.24   \n",
       "std                                        5.64   \n",
       "min                                        0.00   \n",
       "25%                                       24.99   \n",
       "50%                                       28.02   \n",
       "75%                                       34.99   \n",
       "max                                       44.26   \n",
       "\n",
       "       secondary_cleaner.state.floatbank3_a_level  \\\n",
       "count                                   14,148.00   \n",
       "mean                                      -478.24   \n",
       "std                                         54.66   \n",
       "min                                       -799.61   \n",
       "25%                                       -500.18   \n",
       "50%                                       -499.88   \n",
       "75%                                       -436.92   \n",
       "max                                       -191.68   \n",
       "\n",
       "       secondary_cleaner.state.floatbank3_b_air  \\\n",
       "count                                 14,148.00   \n",
       "mean                                      22.66   \n",
       "std                                        5.00   \n",
       "min                                        0.00   \n",
       "25%                                       19.95   \n",
       "50%                                       22.04   \n",
       "75%                                       25.97   \n",
       "max                                       35.07   \n",
       "\n",
       "       secondary_cleaner.state.floatbank3_b_level  \\\n",
       "count                                   14,148.00   \n",
       "mean                                      -488.92   \n",
       "std                                         41.93   \n",
       "min                                       -759.18   \n",
       "25%                                       -500.11   \n",
       "50%                                       -499.97   \n",
       "75%                                       -499.76   \n",
       "max                                       -159.74   \n",
       "\n",
       "       secondary_cleaner.state.floatbank4_a_air  \\\n",
       "count                                 14,143.00   \n",
       "mean                                      19.99   \n",
       "std                                        5.66   \n",
       "min                                        0.00   \n",
       "25%                                       14.99   \n",
       "50%                                       20.00   \n",
       "75%                                       24.99   \n",
       "max                                       30.12   \n",
       "\n",
       "       secondary_cleaner.state.floatbank4_a_level  \\\n",
       "count                                   14,148.00   \n",
       "mean                                      -478.70   \n",
       "std                                         50.74   \n",
       "min                                       -799.71   \n",
       "25%                                       -500.63   \n",
       "50%                                       -499.68   \n",
       "75%                                       -477.47   \n",
       "max                                       -245.24   \n",
       "\n",
       "       secondary_cleaner.state.floatbank4_b_air  \\\n",
       "count                                 14,148.00   \n",
       "mean                                      15.49   \n",
       "std                                        5.26   \n",
       "min                                        0.00   \n",
       "25%                                       11.89   \n",
       "50%                                       14.98   \n",
       "75%                                       20.06   \n",
       "max                                       24.01   \n",
       "\n",
       "       secondary_cleaner.state.floatbank4_b_level  \\\n",
       "count                                   14,148.00   \n",
       "mean                                      -460.23   \n",
       "std                                         58.84   \n",
       "min                                       -799.89   \n",
       "25%                                       -500.15   \n",
       "50%                                       -499.39   \n",
       "75%                                       -400.04   \n",
       "max                                       -145.07   \n",
       "\n",
       "       secondary_cleaner.state.floatbank5_a_air  \\\n",
       "count                                 14,148.00   \n",
       "mean                                      16.78   \n",
       "std                                        5.83   \n",
       "min                                       -0.37   \n",
       "25%                                       11.08   \n",
       "50%                                       17.93   \n",
       "75%                                       21.35   \n",
       "max                                       43.71   \n",
       "\n",
       "       secondary_cleaner.state.floatbank5_a_level  \\\n",
       "count                                   14,148.00   \n",
       "mean                                      -483.96   \n",
       "std                                         37.89   \n",
       "min                                       -797.14   \n",
       "25%                                       -500.36   \n",
       "50%                                       -499.70   \n",
       "75%                                       -487.71   \n",
       "max                                       -275.07   \n",
       "\n",
       "       secondary_cleaner.state.floatbank5_b_air  \\\n",
       "count                                 14,148.00   \n",
       "mean                                      13.06   \n",
       "std                                        5.77   \n",
       "min                                        0.65   \n",
       "25%                                        8.99   \n",
       "50%                                       12.00   \n",
       "75%                                       17.98   \n",
       "max                                       27.93   \n",
       "\n",
       "       secondary_cleaner.state.floatbank5_b_level  \\\n",
       "count                                   14,148.00   \n",
       "mean                                      -483.97   \n",
       "std                                         39.21   \n",
       "min                                       -800.01   \n",
       "25%                                       -500.11   \n",
       "50%                                       -499.91   \n",
       "75%                                       -453.19   \n",
       "max                                       -157.40   \n",
       "\n",
       "       secondary_cleaner.state.floatbank6_a_air  \\\n",
       "count                                 14,147.00   \n",
       "mean                                      19.58   \n",
       "std                                        5.76   \n",
       "min                                        0.20   \n",
       "25%                                       14.99   \n",
       "50%                                       19.98   \n",
       "75%                                       24.99   \n",
       "max                                       32.19   \n",
       "\n",
       "       secondary_cleaner.state.floatbank6_a_level  \n",
       "count                                   14,148.00  \n",
       "mean                                      -506.80  \n",
       "std                                         37.08  \n",
       "min                                       -809.40  \n",
       "25%                                       -500.75  \n",
       "50%                                       -500.06  \n",
       "75%                                       -499.54  \n",
       "max                                       -104.43  "
      ]
     },
     "metadata": {},
     "output_type": "display_data"
    },
    {
     "name": "stdout",
     "output_type": "stream",
     "text": [
      "\n",
      "Количество дубликатов: 0\n"
     ]
    }
   ],
   "source": [
    "data_check(data_train, '\"обучающая выборка\"')"
   ]
  },
  {
   "cell_type": "code",
   "execution_count": 8,
   "metadata": {
    "scrolled": false
   },
   "outputs": [
    {
     "name": "stdout",
     "output_type": "stream",
     "text": [
      "--------------- Общая информация датасэта \"тестовая выборка\" ---------------\n",
      "\n",
      "<class 'pandas.core.frame.DataFrame'>\n",
      "RangeIndex: 5290 entries, 0 to 5289\n",
      "Data columns (total 53 columns):\n",
      " #   Column                                      Non-Null Count  Dtype  \n",
      "---  ------                                      --------------  -----  \n",
      " 0   date                                        5290 non-null   object \n",
      " 1   primary_cleaner.input.sulfate               5286 non-null   float64\n",
      " 2   primary_cleaner.input.depressant            5285 non-null   float64\n",
      " 3   primary_cleaner.input.feed_size             5290 non-null   float64\n",
      " 4   primary_cleaner.input.xanthate              5286 non-null   float64\n",
      " 5   primary_cleaner.state.floatbank8_a_air      5290 non-null   float64\n",
      " 6   primary_cleaner.state.floatbank8_a_level    5290 non-null   float64\n",
      " 7   primary_cleaner.state.floatbank8_b_air      5290 non-null   float64\n",
      " 8   primary_cleaner.state.floatbank8_b_level    5290 non-null   float64\n",
      " 9   primary_cleaner.state.floatbank8_c_air      5290 non-null   float64\n",
      " 10  primary_cleaner.state.floatbank8_c_level    5290 non-null   float64\n",
      " 11  primary_cleaner.state.floatbank8_d_air      5290 non-null   float64\n",
      " 12  primary_cleaner.state.floatbank8_d_level    5290 non-null   float64\n",
      " 13  rougher.input.feed_ag                       5290 non-null   float64\n",
      " 14  rougher.input.feed_pb                       5290 non-null   float64\n",
      " 15  rougher.input.feed_rate                     5287 non-null   float64\n",
      " 16  rougher.input.feed_size                     5289 non-null   float64\n",
      " 17  rougher.input.feed_sol                      5269 non-null   float64\n",
      " 18  rougher.input.feed_au                       5290 non-null   float64\n",
      " 19  rougher.input.floatbank10_sulfate           5285 non-null   float64\n",
      " 20  rougher.input.floatbank10_xanthate          5290 non-null   float64\n",
      " 21  rougher.input.floatbank11_sulfate           5282 non-null   float64\n",
      " 22  rougher.input.floatbank11_xanthate          5265 non-null   float64\n",
      " 23  rougher.state.floatbank10_a_air             5290 non-null   float64\n",
      " 24  rougher.state.floatbank10_a_level           5290 non-null   float64\n",
      " 25  rougher.state.floatbank10_b_air             5290 non-null   float64\n",
      " 26  rougher.state.floatbank10_b_level           5290 non-null   float64\n",
      " 27  rougher.state.floatbank10_c_air             5290 non-null   float64\n",
      " 28  rougher.state.floatbank10_c_level           5290 non-null   float64\n",
      " 29  rougher.state.floatbank10_d_air             5290 non-null   float64\n",
      " 30  rougher.state.floatbank10_d_level           5290 non-null   float64\n",
      " 31  rougher.state.floatbank10_e_air             5290 non-null   float64\n",
      " 32  rougher.state.floatbank10_e_level           5290 non-null   float64\n",
      " 33  rougher.state.floatbank10_f_air             5290 non-null   float64\n",
      " 34  rougher.state.floatbank10_f_level           5290 non-null   float64\n",
      " 35  secondary_cleaner.state.floatbank2_a_air    5287 non-null   float64\n",
      " 36  secondary_cleaner.state.floatbank2_a_level  5290 non-null   float64\n",
      " 37  secondary_cleaner.state.floatbank2_b_air    5288 non-null   float64\n",
      " 38  secondary_cleaner.state.floatbank2_b_level  5290 non-null   float64\n",
      " 39  secondary_cleaner.state.floatbank3_a_air    5281 non-null   float64\n",
      " 40  secondary_cleaner.state.floatbank3_a_level  5290 non-null   float64\n",
      " 41  secondary_cleaner.state.floatbank3_b_air    5290 non-null   float64\n",
      " 42  secondary_cleaner.state.floatbank3_b_level  5290 non-null   float64\n",
      " 43  secondary_cleaner.state.floatbank4_a_air    5290 non-null   float64\n",
      " 44  secondary_cleaner.state.floatbank4_a_level  5290 non-null   float64\n",
      " 45  secondary_cleaner.state.floatbank4_b_air    5290 non-null   float64\n",
      " 46  secondary_cleaner.state.floatbank4_b_level  5290 non-null   float64\n",
      " 47  secondary_cleaner.state.floatbank5_a_air    5290 non-null   float64\n",
      " 48  secondary_cleaner.state.floatbank5_a_level  5290 non-null   float64\n",
      " 49  secondary_cleaner.state.floatbank5_b_air    5290 non-null   float64\n",
      " 50  secondary_cleaner.state.floatbank5_b_level  5290 non-null   float64\n",
      " 51  secondary_cleaner.state.floatbank6_a_air    5290 non-null   float64\n",
      " 52  secondary_cleaner.state.floatbank6_a_level  5290 non-null   float64\n",
      "dtypes: float64(52), object(1)\n",
      "memory usage: 2.1+ MB\n"
     ]
    },
    {
     "data": {
      "text/plain": [
       "None"
      ]
     },
     "metadata": {},
     "output_type": "display_data"
    },
    {
     "name": "stdout",
     "output_type": "stream",
     "text": [
      "Первые 5 строк датасэта:\n"
     ]
    },
    {
     "data": {
      "text/html": [
       "<div>\n",
       "<style scoped>\n",
       "    .dataframe tbody tr th:only-of-type {\n",
       "        vertical-align: middle;\n",
       "    }\n",
       "\n",
       "    .dataframe tbody tr th {\n",
       "        vertical-align: top;\n",
       "    }\n",
       "\n",
       "    .dataframe thead th {\n",
       "        text-align: right;\n",
       "    }\n",
       "</style>\n",
       "<table border=\"1\" class=\"dataframe\">\n",
       "  <thead>\n",
       "    <tr style=\"text-align: right;\">\n",
       "      <th></th>\n",
       "      <th>date</th>\n",
       "      <th>primary_cleaner.input.sulfate</th>\n",
       "      <th>primary_cleaner.input.depressant</th>\n",
       "      <th>primary_cleaner.input.feed_size</th>\n",
       "      <th>primary_cleaner.input.xanthate</th>\n",
       "      <th>primary_cleaner.state.floatbank8_a_air</th>\n",
       "      <th>primary_cleaner.state.floatbank8_a_level</th>\n",
       "      <th>primary_cleaner.state.floatbank8_b_air</th>\n",
       "      <th>primary_cleaner.state.floatbank8_b_level</th>\n",
       "      <th>primary_cleaner.state.floatbank8_c_air</th>\n",
       "      <th>primary_cleaner.state.floatbank8_c_level</th>\n",
       "      <th>primary_cleaner.state.floatbank8_d_air</th>\n",
       "      <th>primary_cleaner.state.floatbank8_d_level</th>\n",
       "      <th>rougher.input.feed_ag</th>\n",
       "      <th>rougher.input.feed_pb</th>\n",
       "      <th>rougher.input.feed_rate</th>\n",
       "      <th>rougher.input.feed_size</th>\n",
       "      <th>rougher.input.feed_sol</th>\n",
       "      <th>rougher.input.feed_au</th>\n",
       "      <th>rougher.input.floatbank10_sulfate</th>\n",
       "      <th>rougher.input.floatbank10_xanthate</th>\n",
       "      <th>rougher.input.floatbank11_sulfate</th>\n",
       "      <th>rougher.input.floatbank11_xanthate</th>\n",
       "      <th>rougher.state.floatbank10_a_air</th>\n",
       "      <th>rougher.state.floatbank10_a_level</th>\n",
       "      <th>rougher.state.floatbank10_b_air</th>\n",
       "      <th>rougher.state.floatbank10_b_level</th>\n",
       "      <th>rougher.state.floatbank10_c_air</th>\n",
       "      <th>rougher.state.floatbank10_c_level</th>\n",
       "      <th>rougher.state.floatbank10_d_air</th>\n",
       "      <th>rougher.state.floatbank10_d_level</th>\n",
       "      <th>rougher.state.floatbank10_e_air</th>\n",
       "      <th>rougher.state.floatbank10_e_level</th>\n",
       "      <th>rougher.state.floatbank10_f_air</th>\n",
       "      <th>rougher.state.floatbank10_f_level</th>\n",
       "      <th>secondary_cleaner.state.floatbank2_a_air</th>\n",
       "      <th>secondary_cleaner.state.floatbank2_a_level</th>\n",
       "      <th>secondary_cleaner.state.floatbank2_b_air</th>\n",
       "      <th>secondary_cleaner.state.floatbank2_b_level</th>\n",
       "      <th>secondary_cleaner.state.floatbank3_a_air</th>\n",
       "      <th>secondary_cleaner.state.floatbank3_a_level</th>\n",
       "      <th>secondary_cleaner.state.floatbank3_b_air</th>\n",
       "      <th>secondary_cleaner.state.floatbank3_b_level</th>\n",
       "      <th>secondary_cleaner.state.floatbank4_a_air</th>\n",
       "      <th>secondary_cleaner.state.floatbank4_a_level</th>\n",
       "      <th>secondary_cleaner.state.floatbank4_b_air</th>\n",
       "      <th>secondary_cleaner.state.floatbank4_b_level</th>\n",
       "      <th>secondary_cleaner.state.floatbank5_a_air</th>\n",
       "      <th>secondary_cleaner.state.floatbank5_a_level</th>\n",
       "      <th>secondary_cleaner.state.floatbank5_b_air</th>\n",
       "      <th>secondary_cleaner.state.floatbank5_b_level</th>\n",
       "      <th>secondary_cleaner.state.floatbank6_a_air</th>\n",
       "      <th>secondary_cleaner.state.floatbank6_a_level</th>\n",
       "    </tr>\n",
       "  </thead>\n",
       "  <tbody>\n",
       "    <tr>\n",
       "      <th>0</th>\n",
       "      <td>2016-09-01 00:59:59</td>\n",
       "      <td>210.80</td>\n",
       "      <td>14.99</td>\n",
       "      <td>8.08</td>\n",
       "      <td>1.01</td>\n",
       "      <td>1,398.98</td>\n",
       "      <td>-500.23</td>\n",
       "      <td>1,399.14</td>\n",
       "      <td>-499.92</td>\n",
       "      <td>1,400.10</td>\n",
       "      <td>-500.70</td>\n",
       "      <td>1,399.00</td>\n",
       "      <td>-499.49</td>\n",
       "      <td>13.13</td>\n",
       "      <td>5.64</td>\n",
       "      <td>489.79</td>\n",
       "      <td>62.71</td>\n",
       "      <td>42.02</td>\n",
       "      <td>12.08</td>\n",
       "      <td>16.92</td>\n",
       "      <td>6.15</td>\n",
       "      <td>16.87</td>\n",
       "      <td>6.15</td>\n",
       "      <td>1,001.85</td>\n",
       "      <td>-350.30</td>\n",
       "      <td>1,249.74</td>\n",
       "      <td>-399.11</td>\n",
       "      <td>1,249.75</td>\n",
       "      <td>-399.40</td>\n",
       "      <td>1,198.29</td>\n",
       "      <td>-399.49</td>\n",
       "      <td>999.47</td>\n",
       "      <td>-399.53</td>\n",
       "      <td>949.57</td>\n",
       "      <td>-398.18</td>\n",
       "      <td>24.94</td>\n",
       "      <td>-500.49</td>\n",
       "      <td>14.95</td>\n",
       "      <td>-500.01</td>\n",
       "      <td>20.02</td>\n",
       "      <td>-450.40</td>\n",
       "      <td>13.99</td>\n",
       "      <td>-449.83</td>\n",
       "      <td>12.02</td>\n",
       "      <td>-497.80</td>\n",
       "      <td>8.02</td>\n",
       "      <td>-501.29</td>\n",
       "      <td>7.95</td>\n",
       "      <td>-432.32</td>\n",
       "      <td>4.87</td>\n",
       "      <td>-500.04</td>\n",
       "      <td>26.71</td>\n",
       "      <td>-499.71</td>\n",
       "    </tr>\n",
       "    <tr>\n",
       "      <th>1</th>\n",
       "      <td>2016-09-01 01:59:59</td>\n",
       "      <td>215.39</td>\n",
       "      <td>14.99</td>\n",
       "      <td>8.08</td>\n",
       "      <td>0.99</td>\n",
       "      <td>1,398.78</td>\n",
       "      <td>-500.06</td>\n",
       "      <td>1,398.06</td>\n",
       "      <td>-499.78</td>\n",
       "      <td>1,396.15</td>\n",
       "      <td>-499.24</td>\n",
       "      <td>1,399.51</td>\n",
       "      <td>-500.42</td>\n",
       "      <td>13.04</td>\n",
       "      <td>5.53</td>\n",
       "      <td>490.10</td>\n",
       "      <td>61.96</td>\n",
       "      <td>41.19</td>\n",
       "      <td>11.92</td>\n",
       "      <td>17.00</td>\n",
       "      <td>6.00</td>\n",
       "      <td>17.00</td>\n",
       "      <td>6.00</td>\n",
       "      <td>998.69</td>\n",
       "      <td>-350.43</td>\n",
       "      <td>1,248.40</td>\n",
       "      <td>-399.95</td>\n",
       "      <td>1,249.51</td>\n",
       "      <td>-399.63</td>\n",
       "      <td>1,200.51</td>\n",
       "      <td>-399.94</td>\n",
       "      <td>1,000.00</td>\n",
       "      <td>-399.49</td>\n",
       "      <td>950.20</td>\n",
       "      <td>-405.79</td>\n",
       "      <td>24.92</td>\n",
       "      <td>-499.81</td>\n",
       "      <td>14.93</td>\n",
       "      <td>-500.76</td>\n",
       "      <td>19.99</td>\n",
       "      <td>-450.11</td>\n",
       "      <td>14.09</td>\n",
       "      <td>-450.06</td>\n",
       "      <td>12.06</td>\n",
       "      <td>-498.70</td>\n",
       "      <td>8.13</td>\n",
       "      <td>-499.63</td>\n",
       "      <td>7.96</td>\n",
       "      <td>-525.84</td>\n",
       "      <td>4.88</td>\n",
       "      <td>-500.16</td>\n",
       "      <td>25.02</td>\n",
       "      <td>-499.82</td>\n",
       "    </tr>\n",
       "    <tr>\n",
       "      <th>2</th>\n",
       "      <td>2016-09-01 02:59:59</td>\n",
       "      <td>215.26</td>\n",
       "      <td>12.88</td>\n",
       "      <td>7.79</td>\n",
       "      <td>1.00</td>\n",
       "      <td>1,398.49</td>\n",
       "      <td>-500.87</td>\n",
       "      <td>1,398.86</td>\n",
       "      <td>-499.76</td>\n",
       "      <td>1,398.08</td>\n",
       "      <td>-502.15</td>\n",
       "      <td>1,399.50</td>\n",
       "      <td>-499.72</td>\n",
       "      <td>13.14</td>\n",
       "      <td>5.43</td>\n",
       "      <td>489.62</td>\n",
       "      <td>66.90</td>\n",
       "      <td>42.55</td>\n",
       "      <td>12.09</td>\n",
       "      <td>16.99</td>\n",
       "      <td>5.85</td>\n",
       "      <td>16.98</td>\n",
       "      <td>5.85</td>\n",
       "      <td>998.52</td>\n",
       "      <td>-349.78</td>\n",
       "      <td>1,247.44</td>\n",
       "      <td>-400.26</td>\n",
       "      <td>1,248.21</td>\n",
       "      <td>-401.07</td>\n",
       "      <td>1,199.77</td>\n",
       "      <td>-400.79</td>\n",
       "      <td>999.93</td>\n",
       "      <td>-399.24</td>\n",
       "      <td>950.32</td>\n",
       "      <td>-400.86</td>\n",
       "      <td>24.91</td>\n",
       "      <td>-500.30</td>\n",
       "      <td>15.00</td>\n",
       "      <td>-500.99</td>\n",
       "      <td>20.04</td>\n",
       "      <td>-450.26</td>\n",
       "      <td>14.08</td>\n",
       "      <td>-449.66</td>\n",
       "      <td>11.96</td>\n",
       "      <td>-498.77</td>\n",
       "      <td>8.10</td>\n",
       "      <td>-500.83</td>\n",
       "      <td>8.07</td>\n",
       "      <td>-500.80</td>\n",
       "      <td>4.91</td>\n",
       "      <td>-499.83</td>\n",
       "      <td>24.99</td>\n",
       "      <td>-500.62</td>\n",
       "    </tr>\n",
       "    <tr>\n",
       "      <th>3</th>\n",
       "      <td>2016-09-01 03:59:59</td>\n",
       "      <td>215.34</td>\n",
       "      <td>12.01</td>\n",
       "      <td>7.64</td>\n",
       "      <td>0.86</td>\n",
       "      <td>1,399.62</td>\n",
       "      <td>-498.86</td>\n",
       "      <td>1,397.44</td>\n",
       "      <td>-499.21</td>\n",
       "      <td>1,400.13</td>\n",
       "      <td>-498.36</td>\n",
       "      <td>1,401.07</td>\n",
       "      <td>-501.04</td>\n",
       "      <td>12.40</td>\n",
       "      <td>5.11</td>\n",
       "      <td>476.62</td>\n",
       "      <td>59.87</td>\n",
       "      <td>41.06</td>\n",
       "      <td>12.18</td>\n",
       "      <td>16.53</td>\n",
       "      <td>5.80</td>\n",
       "      <td>16.52</td>\n",
       "      <td>5.80</td>\n",
       "      <td>1,000.28</td>\n",
       "      <td>-350.17</td>\n",
       "      <td>1,251.32</td>\n",
       "      <td>-398.66</td>\n",
       "      <td>1,250.49</td>\n",
       "      <td>-399.75</td>\n",
       "      <td>1,199.40</td>\n",
       "      <td>-397.50</td>\n",
       "      <td>1,001.93</td>\n",
       "      <td>-400.44</td>\n",
       "      <td>950.74</td>\n",
       "      <td>-399.80</td>\n",
       "      <td>24.89</td>\n",
       "      <td>-499.38</td>\n",
       "      <td>14.92</td>\n",
       "      <td>-499.86</td>\n",
       "      <td>20.03</td>\n",
       "      <td>-449.37</td>\n",
       "      <td>14.01</td>\n",
       "      <td>-449.53</td>\n",
       "      <td>12.03</td>\n",
       "      <td>-498.35</td>\n",
       "      <td>8.07</td>\n",
       "      <td>-499.47</td>\n",
       "      <td>7.90</td>\n",
       "      <td>-500.87</td>\n",
       "      <td>4.93</td>\n",
       "      <td>-499.96</td>\n",
       "      <td>24.95</td>\n",
       "      <td>-498.71</td>\n",
       "    </tr>\n",
       "    <tr>\n",
       "      <th>4</th>\n",
       "      <td>2016-09-01 04:59:59</td>\n",
       "      <td>199.10</td>\n",
       "      <td>10.68</td>\n",
       "      <td>7.53</td>\n",
       "      <td>0.81</td>\n",
       "      <td>1,401.27</td>\n",
       "      <td>-500.81</td>\n",
       "      <td>1,398.13</td>\n",
       "      <td>-499.50</td>\n",
       "      <td>1,402.17</td>\n",
       "      <td>-500.81</td>\n",
       "      <td>1,399.48</td>\n",
       "      <td>-499.37</td>\n",
       "      <td>11.33</td>\n",
       "      <td>4.77</td>\n",
       "      <td>488.25</td>\n",
       "      <td>63.32</td>\n",
       "      <td>41.27</td>\n",
       "      <td>11.29</td>\n",
       "      <td>13.61</td>\n",
       "      <td>5.74</td>\n",
       "      <td>13.65</td>\n",
       "      <td>5.74</td>\n",
       "      <td>996.54</td>\n",
       "      <td>-350.56</td>\n",
       "      <td>1,304.66</td>\n",
       "      <td>-399.51</td>\n",
       "      <td>1,306.46</td>\n",
       "      <td>-399.05</td>\n",
       "      <td>1,248.70</td>\n",
       "      <td>-400.88</td>\n",
       "      <td>1,058.84</td>\n",
       "      <td>-398.99</td>\n",
       "      <td>949.65</td>\n",
       "      <td>-399.28</td>\n",
       "      <td>24.89</td>\n",
       "      <td>-499.36</td>\n",
       "      <td>14.98</td>\n",
       "      <td>-500.19</td>\n",
       "      <td>19.96</td>\n",
       "      <td>-450.64</td>\n",
       "      <td>14.01</td>\n",
       "      <td>-450.02</td>\n",
       "      <td>12.03</td>\n",
       "      <td>-500.79</td>\n",
       "      <td>8.05</td>\n",
       "      <td>-500.40</td>\n",
       "      <td>8.11</td>\n",
       "      <td>-509.53</td>\n",
       "      <td>4.96</td>\n",
       "      <td>-500.36</td>\n",
       "      <td>25.00</td>\n",
       "      <td>-500.86</td>\n",
       "    </tr>\n",
       "  </tbody>\n",
       "</table>\n",
       "</div>"
      ],
      "text/plain": [
       "                  date  primary_cleaner.input.sulfate  \\\n",
       "0  2016-09-01 00:59:59                         210.80   \n",
       "1  2016-09-01 01:59:59                         215.39   \n",
       "2  2016-09-01 02:59:59                         215.26   \n",
       "3  2016-09-01 03:59:59                         215.34   \n",
       "4  2016-09-01 04:59:59                         199.10   \n",
       "\n",
       "   primary_cleaner.input.depressant  primary_cleaner.input.feed_size  \\\n",
       "0                             14.99                             8.08   \n",
       "1                             14.99                             8.08   \n",
       "2                             12.88                             7.79   \n",
       "3                             12.01                             7.64   \n",
       "4                             10.68                             7.53   \n",
       "\n",
       "   primary_cleaner.input.xanthate  primary_cleaner.state.floatbank8_a_air  \\\n",
       "0                            1.01                                1,398.98   \n",
       "1                            0.99                                1,398.78   \n",
       "2                            1.00                                1,398.49   \n",
       "3                            0.86                                1,399.62   \n",
       "4                            0.81                                1,401.27   \n",
       "\n",
       "   primary_cleaner.state.floatbank8_a_level  \\\n",
       "0                                   -500.23   \n",
       "1                                   -500.06   \n",
       "2                                   -500.87   \n",
       "3                                   -498.86   \n",
       "4                                   -500.81   \n",
       "\n",
       "   primary_cleaner.state.floatbank8_b_air  \\\n",
       "0                                1,399.14   \n",
       "1                                1,398.06   \n",
       "2                                1,398.86   \n",
       "3                                1,397.44   \n",
       "4                                1,398.13   \n",
       "\n",
       "   primary_cleaner.state.floatbank8_b_level  \\\n",
       "0                                   -499.92   \n",
       "1                                   -499.78   \n",
       "2                                   -499.76   \n",
       "3                                   -499.21   \n",
       "4                                   -499.50   \n",
       "\n",
       "   primary_cleaner.state.floatbank8_c_air  \\\n",
       "0                                1,400.10   \n",
       "1                                1,396.15   \n",
       "2                                1,398.08   \n",
       "3                                1,400.13   \n",
       "4                                1,402.17   \n",
       "\n",
       "   primary_cleaner.state.floatbank8_c_level  \\\n",
       "0                                   -500.70   \n",
       "1                                   -499.24   \n",
       "2                                   -502.15   \n",
       "3                                   -498.36   \n",
       "4                                   -500.81   \n",
       "\n",
       "   primary_cleaner.state.floatbank8_d_air  \\\n",
       "0                                1,399.00   \n",
       "1                                1,399.51   \n",
       "2                                1,399.50   \n",
       "3                                1,401.07   \n",
       "4                                1,399.48   \n",
       "\n",
       "   primary_cleaner.state.floatbank8_d_level  rougher.input.feed_ag  \\\n",
       "0                                   -499.49                  13.13   \n",
       "1                                   -500.42                  13.04   \n",
       "2                                   -499.72                  13.14   \n",
       "3                                   -501.04                  12.40   \n",
       "4                                   -499.37                  11.33   \n",
       "\n",
       "   rougher.input.feed_pb  rougher.input.feed_rate  rougher.input.feed_size  \\\n",
       "0                   5.64                   489.79                    62.71   \n",
       "1                   5.53                   490.10                    61.96   \n",
       "2                   5.43                   489.62                    66.90   \n",
       "3                   5.11                   476.62                    59.87   \n",
       "4                   4.77                   488.25                    63.32   \n",
       "\n",
       "   rougher.input.feed_sol  rougher.input.feed_au  \\\n",
       "0                   42.02                  12.08   \n",
       "1                   41.19                  11.92   \n",
       "2                   42.55                  12.09   \n",
       "3                   41.06                  12.18   \n",
       "4                   41.27                  11.29   \n",
       "\n",
       "   rougher.input.floatbank10_sulfate  rougher.input.floatbank10_xanthate  \\\n",
       "0                              16.92                                6.15   \n",
       "1                              17.00                                6.00   \n",
       "2                              16.99                                5.85   \n",
       "3                              16.53                                5.80   \n",
       "4                              13.61                                5.74   \n",
       "\n",
       "   rougher.input.floatbank11_sulfate  rougher.input.floatbank11_xanthate  \\\n",
       "0                              16.87                                6.15   \n",
       "1                              17.00                                6.00   \n",
       "2                              16.98                                5.85   \n",
       "3                              16.52                                5.80   \n",
       "4                              13.65                                5.74   \n",
       "\n",
       "   rougher.state.floatbank10_a_air  rougher.state.floatbank10_a_level  \\\n",
       "0                         1,001.85                            -350.30   \n",
       "1                           998.69                            -350.43   \n",
       "2                           998.52                            -349.78   \n",
       "3                         1,000.28                            -350.17   \n",
       "4                           996.54                            -350.56   \n",
       "\n",
       "   rougher.state.floatbank10_b_air  rougher.state.floatbank10_b_level  \\\n",
       "0                         1,249.74                            -399.11   \n",
       "1                         1,248.40                            -399.95   \n",
       "2                         1,247.44                            -400.26   \n",
       "3                         1,251.32                            -398.66   \n",
       "4                         1,304.66                            -399.51   \n",
       "\n",
       "   rougher.state.floatbank10_c_air  rougher.state.floatbank10_c_level  \\\n",
       "0                         1,249.75                            -399.40   \n",
       "1                         1,249.51                            -399.63   \n",
       "2                         1,248.21                            -401.07   \n",
       "3                         1,250.49                            -399.75   \n",
       "4                         1,306.46                            -399.05   \n",
       "\n",
       "   rougher.state.floatbank10_d_air  rougher.state.floatbank10_d_level  \\\n",
       "0                         1,198.29                            -399.49   \n",
       "1                         1,200.51                            -399.94   \n",
       "2                         1,199.77                            -400.79   \n",
       "3                         1,199.40                            -397.50   \n",
       "4                         1,248.70                            -400.88   \n",
       "\n",
       "   rougher.state.floatbank10_e_air  rougher.state.floatbank10_e_level  \\\n",
       "0                           999.47                            -399.53   \n",
       "1                         1,000.00                            -399.49   \n",
       "2                           999.93                            -399.24   \n",
       "3                         1,001.93                            -400.44   \n",
       "4                         1,058.84                            -398.99   \n",
       "\n",
       "   rougher.state.floatbank10_f_air  rougher.state.floatbank10_f_level  \\\n",
       "0                           949.57                            -398.18   \n",
       "1                           950.20                            -405.79   \n",
       "2                           950.32                            -400.86   \n",
       "3                           950.74                            -399.80   \n",
       "4                           949.65                            -399.28   \n",
       "\n",
       "   secondary_cleaner.state.floatbank2_a_air  \\\n",
       "0                                     24.94   \n",
       "1                                     24.92   \n",
       "2                                     24.91   \n",
       "3                                     24.89   \n",
       "4                                     24.89   \n",
       "\n",
       "   secondary_cleaner.state.floatbank2_a_level  \\\n",
       "0                                     -500.49   \n",
       "1                                     -499.81   \n",
       "2                                     -500.30   \n",
       "3                                     -499.38   \n",
       "4                                     -499.36   \n",
       "\n",
       "   secondary_cleaner.state.floatbank2_b_air  \\\n",
       "0                                     14.95   \n",
       "1                                     14.93   \n",
       "2                                     15.00   \n",
       "3                                     14.92   \n",
       "4                                     14.98   \n",
       "\n",
       "   secondary_cleaner.state.floatbank2_b_level  \\\n",
       "0                                     -500.01   \n",
       "1                                     -500.76   \n",
       "2                                     -500.99   \n",
       "3                                     -499.86   \n",
       "4                                     -500.19   \n",
       "\n",
       "   secondary_cleaner.state.floatbank3_a_air  \\\n",
       "0                                     20.02   \n",
       "1                                     19.99   \n",
       "2                                     20.04   \n",
       "3                                     20.03   \n",
       "4                                     19.96   \n",
       "\n",
       "   secondary_cleaner.state.floatbank3_a_level  \\\n",
       "0                                     -450.40   \n",
       "1                                     -450.11   \n",
       "2                                     -450.26   \n",
       "3                                     -449.37   \n",
       "4                                     -450.64   \n",
       "\n",
       "   secondary_cleaner.state.floatbank3_b_air  \\\n",
       "0                                     13.99   \n",
       "1                                     14.09   \n",
       "2                                     14.08   \n",
       "3                                     14.01   \n",
       "4                                     14.01   \n",
       "\n",
       "   secondary_cleaner.state.floatbank3_b_level  \\\n",
       "0                                     -449.83   \n",
       "1                                     -450.06   \n",
       "2                                     -449.66   \n",
       "3                                     -449.53   \n",
       "4                                     -450.02   \n",
       "\n",
       "   secondary_cleaner.state.floatbank4_a_air  \\\n",
       "0                                     12.02   \n",
       "1                                     12.06   \n",
       "2                                     11.96   \n",
       "3                                     12.03   \n",
       "4                                     12.03   \n",
       "\n",
       "   secondary_cleaner.state.floatbank4_a_level  \\\n",
       "0                                     -497.80   \n",
       "1                                     -498.70   \n",
       "2                                     -498.77   \n",
       "3                                     -498.35   \n",
       "4                                     -500.79   \n",
       "\n",
       "   secondary_cleaner.state.floatbank4_b_air  \\\n",
       "0                                      8.02   \n",
       "1                                      8.13   \n",
       "2                                      8.10   \n",
       "3                                      8.07   \n",
       "4                                      8.05   \n",
       "\n",
       "   secondary_cleaner.state.floatbank4_b_level  \\\n",
       "0                                     -501.29   \n",
       "1                                     -499.63   \n",
       "2                                     -500.83   \n",
       "3                                     -499.47   \n",
       "4                                     -500.40   \n",
       "\n",
       "   secondary_cleaner.state.floatbank5_a_air  \\\n",
       "0                                      7.95   \n",
       "1                                      7.96   \n",
       "2                                      8.07   \n",
       "3                                      7.90   \n",
       "4                                      8.11   \n",
       "\n",
       "   secondary_cleaner.state.floatbank5_a_level  \\\n",
       "0                                     -432.32   \n",
       "1                                     -525.84   \n",
       "2                                     -500.80   \n",
       "3                                     -500.87   \n",
       "4                                     -509.53   \n",
       "\n",
       "   secondary_cleaner.state.floatbank5_b_air  \\\n",
       "0                                      4.87   \n",
       "1                                      4.88   \n",
       "2                                      4.91   \n",
       "3                                      4.93   \n",
       "4                                      4.96   \n",
       "\n",
       "   secondary_cleaner.state.floatbank5_b_level  \\\n",
       "0                                     -500.04   \n",
       "1                                     -500.16   \n",
       "2                                     -499.83   \n",
       "3                                     -499.96   \n",
       "4                                     -500.36   \n",
       "\n",
       "   secondary_cleaner.state.floatbank6_a_air  \\\n",
       "0                                     26.71   \n",
       "1                                     25.02   \n",
       "2                                     24.99   \n",
       "3                                     24.95   \n",
       "4                                     25.00   \n",
       "\n",
       "   secondary_cleaner.state.floatbank6_a_level  \n",
       "0                                     -499.71  \n",
       "1                                     -499.82  \n",
       "2                                     -500.62  \n",
       "3                                     -498.71  \n",
       "4                                     -500.86  "
      ]
     },
     "metadata": {},
     "output_type": "display_data"
    },
    {
     "name": "stdout",
     "output_type": "stream",
     "text": [
      "\n",
      "Описательная статистика датасэта:\n"
     ]
    },
    {
     "data": {
      "text/html": [
       "<div>\n",
       "<style scoped>\n",
       "    .dataframe tbody tr th:only-of-type {\n",
       "        vertical-align: middle;\n",
       "    }\n",
       "\n",
       "    .dataframe tbody tr th {\n",
       "        vertical-align: top;\n",
       "    }\n",
       "\n",
       "    .dataframe thead th {\n",
       "        text-align: right;\n",
       "    }\n",
       "</style>\n",
       "<table border=\"1\" class=\"dataframe\">\n",
       "  <thead>\n",
       "    <tr style=\"text-align: right;\">\n",
       "      <th></th>\n",
       "      <th>primary_cleaner.input.sulfate</th>\n",
       "      <th>primary_cleaner.input.depressant</th>\n",
       "      <th>primary_cleaner.input.feed_size</th>\n",
       "      <th>primary_cleaner.input.xanthate</th>\n",
       "      <th>primary_cleaner.state.floatbank8_a_air</th>\n",
       "      <th>primary_cleaner.state.floatbank8_a_level</th>\n",
       "      <th>primary_cleaner.state.floatbank8_b_air</th>\n",
       "      <th>primary_cleaner.state.floatbank8_b_level</th>\n",
       "      <th>primary_cleaner.state.floatbank8_c_air</th>\n",
       "      <th>primary_cleaner.state.floatbank8_c_level</th>\n",
       "      <th>primary_cleaner.state.floatbank8_d_air</th>\n",
       "      <th>primary_cleaner.state.floatbank8_d_level</th>\n",
       "      <th>rougher.input.feed_ag</th>\n",
       "      <th>rougher.input.feed_pb</th>\n",
       "      <th>rougher.input.feed_rate</th>\n",
       "      <th>rougher.input.feed_size</th>\n",
       "      <th>rougher.input.feed_sol</th>\n",
       "      <th>rougher.input.feed_au</th>\n",
       "      <th>rougher.input.floatbank10_sulfate</th>\n",
       "      <th>rougher.input.floatbank10_xanthate</th>\n",
       "      <th>rougher.input.floatbank11_sulfate</th>\n",
       "      <th>rougher.input.floatbank11_xanthate</th>\n",
       "      <th>rougher.state.floatbank10_a_air</th>\n",
       "      <th>rougher.state.floatbank10_a_level</th>\n",
       "      <th>rougher.state.floatbank10_b_air</th>\n",
       "      <th>rougher.state.floatbank10_b_level</th>\n",
       "      <th>rougher.state.floatbank10_c_air</th>\n",
       "      <th>rougher.state.floatbank10_c_level</th>\n",
       "      <th>rougher.state.floatbank10_d_air</th>\n",
       "      <th>rougher.state.floatbank10_d_level</th>\n",
       "      <th>rougher.state.floatbank10_e_air</th>\n",
       "      <th>rougher.state.floatbank10_e_level</th>\n",
       "      <th>rougher.state.floatbank10_f_air</th>\n",
       "      <th>rougher.state.floatbank10_f_level</th>\n",
       "      <th>secondary_cleaner.state.floatbank2_a_air</th>\n",
       "      <th>secondary_cleaner.state.floatbank2_a_level</th>\n",
       "      <th>secondary_cleaner.state.floatbank2_b_air</th>\n",
       "      <th>secondary_cleaner.state.floatbank2_b_level</th>\n",
       "      <th>secondary_cleaner.state.floatbank3_a_air</th>\n",
       "      <th>secondary_cleaner.state.floatbank3_a_level</th>\n",
       "      <th>secondary_cleaner.state.floatbank3_b_air</th>\n",
       "      <th>secondary_cleaner.state.floatbank3_b_level</th>\n",
       "      <th>secondary_cleaner.state.floatbank4_a_air</th>\n",
       "      <th>secondary_cleaner.state.floatbank4_a_level</th>\n",
       "      <th>secondary_cleaner.state.floatbank4_b_air</th>\n",
       "      <th>secondary_cleaner.state.floatbank4_b_level</th>\n",
       "      <th>secondary_cleaner.state.floatbank5_a_air</th>\n",
       "      <th>secondary_cleaner.state.floatbank5_a_level</th>\n",
       "      <th>secondary_cleaner.state.floatbank5_b_air</th>\n",
       "      <th>secondary_cleaner.state.floatbank5_b_level</th>\n",
       "      <th>secondary_cleaner.state.floatbank6_a_air</th>\n",
       "      <th>secondary_cleaner.state.floatbank6_a_level</th>\n",
       "    </tr>\n",
       "  </thead>\n",
       "  <tbody>\n",
       "    <tr>\n",
       "      <th>count</th>\n",
       "      <td>5,286.00</td>\n",
       "      <td>5,285.00</td>\n",
       "      <td>5,290.00</td>\n",
       "      <td>5,286.00</td>\n",
       "      <td>5,290.00</td>\n",
       "      <td>5,290.00</td>\n",
       "      <td>5,290.00</td>\n",
       "      <td>5,290.00</td>\n",
       "      <td>5,290.00</td>\n",
       "      <td>5,290.00</td>\n",
       "      <td>5,290.00</td>\n",
       "      <td>5,290.00</td>\n",
       "      <td>5,290.00</td>\n",
       "      <td>5,290.00</td>\n",
       "      <td>5,287.00</td>\n",
       "      <td>5,289.00</td>\n",
       "      <td>5,269.00</td>\n",
       "      <td>5,290.00</td>\n",
       "      <td>5,285.00</td>\n",
       "      <td>5,290.00</td>\n",
       "      <td>5,282.00</td>\n",
       "      <td>5,265.00</td>\n",
       "      <td>5,290.00</td>\n",
       "      <td>5,290.00</td>\n",
       "      <td>5,290.00</td>\n",
       "      <td>5,290.00</td>\n",
       "      <td>5,290.00</td>\n",
       "      <td>5,290.00</td>\n",
       "      <td>5,290.00</td>\n",
       "      <td>5,290.00</td>\n",
       "      <td>5,290.00</td>\n",
       "      <td>5,290.00</td>\n",
       "      <td>5,290.00</td>\n",
       "      <td>5,290.00</td>\n",
       "      <td>5,287.00</td>\n",
       "      <td>5,290.00</td>\n",
       "      <td>5,288.00</td>\n",
       "      <td>5,290.00</td>\n",
       "      <td>5,281.00</td>\n",
       "      <td>5,290.00</td>\n",
       "      <td>5,290.00</td>\n",
       "      <td>5,290.00</td>\n",
       "      <td>5,290.00</td>\n",
       "      <td>5,290.00</td>\n",
       "      <td>5,290.00</td>\n",
       "      <td>5,290.00</td>\n",
       "      <td>5,290.00</td>\n",
       "      <td>5,290.00</td>\n",
       "      <td>5,290.00</td>\n",
       "      <td>5,290.00</td>\n",
       "      <td>5,290.00</td>\n",
       "      <td>5,290.00</td>\n",
       "    </tr>\n",
       "    <tr>\n",
       "      <th>mean</th>\n",
       "      <td>174.84</td>\n",
       "      <td>8.68</td>\n",
       "      <td>7.27</td>\n",
       "      <td>1.38</td>\n",
       "      <td>1,539.49</td>\n",
       "      <td>-497.67</td>\n",
       "      <td>1,545.17</td>\n",
       "      <td>-500.27</td>\n",
       "      <td>1,527.27</td>\n",
       "      <td>-498.33</td>\n",
       "      <td>1,544.84</td>\n",
       "      <td>-500.20</td>\n",
       "      <td>9.37</td>\n",
       "      <td>3.80</td>\n",
       "      <td>489.80</td>\n",
       "      <td>55.95</td>\n",
       "      <td>37.72</td>\n",
       "      <td>9.33</td>\n",
       "      <td>13.86</td>\n",
       "      <td>6.47</td>\n",
       "      <td>13.92</td>\n",
       "      <td>6.51</td>\n",
       "      <td>1,053.40</td>\n",
       "      <td>-395.73</td>\n",
       "      <td>1,318.93</td>\n",
       "      <td>-475.24</td>\n",
       "      <td>1,301.60</td>\n",
       "      <td>-474.84</td>\n",
       "      <td>1,214.85</td>\n",
       "      <td>-475.68</td>\n",
       "      <td>1,056.65</td>\n",
       "      <td>-469.03</td>\n",
       "      <td>997.95</td>\n",
       "      <td>-470.48</td>\n",
       "      <td>26.31</td>\n",
       "      <td>-502.75</td>\n",
       "      <td>21.95</td>\n",
       "      <td>-501.99</td>\n",
       "      <td>25.40</td>\n",
       "      <td>-507.49</td>\n",
       "      <td>20.98</td>\n",
       "      <td>-506.63</td>\n",
       "      <td>16.32</td>\n",
       "      <td>-505.14</td>\n",
       "      <td>13.74</td>\n",
       "      <td>-463.35</td>\n",
       "      <td>12.80</td>\n",
       "      <td>-501.33</td>\n",
       "      <td>9.88</td>\n",
       "      <td>-495.66</td>\n",
       "      <td>17.30</td>\n",
       "      <td>-501.79</td>\n",
       "    </tr>\n",
       "    <tr>\n",
       "      <th>std</th>\n",
       "      <td>43.03</td>\n",
       "      <td>3.07</td>\n",
       "      <td>0.61</td>\n",
       "      <td>0.64</td>\n",
       "      <td>116.80</td>\n",
       "      <td>19.95</td>\n",
       "      <td>122.22</td>\n",
       "      <td>32.97</td>\n",
       "      <td>122.54</td>\n",
       "      <td>21.96</td>\n",
       "      <td>124.77</td>\n",
       "      <td>31.05</td>\n",
       "      <td>1.93</td>\n",
       "      <td>0.95</td>\n",
       "      <td>108.04</td>\n",
       "      <td>19.08</td>\n",
       "      <td>5.49</td>\n",
       "      <td>1.62</td>\n",
       "      <td>3.35</td>\n",
       "      <td>1.07</td>\n",
       "      <td>3.22</td>\n",
       "      <td>0.89</td>\n",
       "      <td>121.14</td>\n",
       "      <td>91.09</td>\n",
       "      <td>156.45</td>\n",
       "      <td>45.65</td>\n",
       "      <td>171.27</td>\n",
       "      <td>45.86</td>\n",
       "      <td>185.76</td>\n",
       "      <td>47.84</td>\n",
       "      <td>131.54</td>\n",
       "      <td>59.33</td>\n",
       "      <td>128.22</td>\n",
       "      <td>60.76</td>\n",
       "      <td>3.43</td>\n",
       "      <td>28.76</td>\n",
       "      <td>4.35</td>\n",
       "      <td>34.58</td>\n",
       "      <td>6.53</td>\n",
       "      <td>47.62</td>\n",
       "      <td>6.74</td>\n",
       "      <td>44.53</td>\n",
       "      <td>3.49</td>\n",
       "      <td>31.43</td>\n",
       "      <td>3.43</td>\n",
       "      <td>86.19</td>\n",
       "      <td>3.03</td>\n",
       "      <td>17.95</td>\n",
       "      <td>2.87</td>\n",
       "      <td>34.54</td>\n",
       "      <td>4.54</td>\n",
       "      <td>39.04</td>\n",
       "    </tr>\n",
       "    <tr>\n",
       "      <th>min</th>\n",
       "      <td>2.57</td>\n",
       "      <td>0.00</td>\n",
       "      <td>5.65</td>\n",
       "      <td>0.00</td>\n",
       "      <td>0.00</td>\n",
       "      <td>-795.32</td>\n",
       "      <td>0.00</td>\n",
       "      <td>-800.00</td>\n",
       "      <td>0.00</td>\n",
       "      <td>-799.96</td>\n",
       "      <td>0.00</td>\n",
       "      <td>-799.79</td>\n",
       "      <td>0.57</td>\n",
       "      <td>0.27</td>\n",
       "      <td>0.00</td>\n",
       "      <td>0.05</td>\n",
       "      <td>1.39</td>\n",
       "      <td>0.57</td>\n",
       "      <td>0.00</td>\n",
       "      <td>0.00</td>\n",
       "      <td>0.00</td>\n",
       "      <td>0.01</td>\n",
       "      <td>-0.04</td>\n",
       "      <td>-657.95</td>\n",
       "      <td>-0.72</td>\n",
       "      <td>-650.25</td>\n",
       "      <td>-0.06</td>\n",
       "      <td>-647.54</td>\n",
       "      <td>-0.99</td>\n",
       "      <td>-648.39</td>\n",
       "      <td>-1.98</td>\n",
       "      <td>-649.27</td>\n",
       "      <td>-2.59</td>\n",
       "      <td>-649.95</td>\n",
       "      <td>0.21</td>\n",
       "      <td>-784.09</td>\n",
       "      <td>0.01</td>\n",
       "      <td>-797.78</td>\n",
       "      <td>0.00</td>\n",
       "      <td>-799.76</td>\n",
       "      <td>0.00</td>\n",
       "      <td>-809.33</td>\n",
       "      <td>0.00</td>\n",
       "      <td>-799.80</td>\n",
       "      <td>0.00</td>\n",
       "      <td>-800.84</td>\n",
       "      <td>0.07</td>\n",
       "      <td>-797.32</td>\n",
       "      <td>0.53</td>\n",
       "      <td>-800.22</td>\n",
       "      <td>-0.08</td>\n",
       "      <td>-809.74</td>\n",
       "    </tr>\n",
       "    <tr>\n",
       "      <th>25%</th>\n",
       "      <td>147.12</td>\n",
       "      <td>6.49</td>\n",
       "      <td>6.89</td>\n",
       "      <td>0.91</td>\n",
       "      <td>1,498.94</td>\n",
       "      <td>-500.36</td>\n",
       "      <td>1,498.97</td>\n",
       "      <td>-500.70</td>\n",
       "      <td>1,473.23</td>\n",
       "      <td>-501.02</td>\n",
       "      <td>1,499.48</td>\n",
       "      <td>-500.45</td>\n",
       "      <td>8.11</td>\n",
       "      <td>3.24</td>\n",
       "      <td>407.02</td>\n",
       "      <td>43.91</td>\n",
       "      <td>34.51</td>\n",
       "      <td>8.21</td>\n",
       "      <td>12.00</td>\n",
       "      <td>6.00</td>\n",
       "      <td>12.00</td>\n",
       "      <td>6.00</td>\n",
       "      <td>999.21</td>\n",
       "      <td>-499.92</td>\n",
       "      <td>1,200.87</td>\n",
       "      <td>-500.26</td>\n",
       "      <td>1,199.65</td>\n",
       "      <td>-500.23</td>\n",
       "      <td>1,093.37</td>\n",
       "      <td>-500.44</td>\n",
       "      <td>999.36</td>\n",
       "      <td>-500.19</td>\n",
       "      <td>901.02</td>\n",
       "      <td>-500.62</td>\n",
       "      <td>24.94</td>\n",
       "      <td>-500.21</td>\n",
       "      <td>20.00</td>\n",
       "      <td>-500.22</td>\n",
       "      <td>22.98</td>\n",
       "      <td>-500.30</td>\n",
       "      <td>17.97</td>\n",
       "      <td>-500.15</td>\n",
       "      <td>14.04</td>\n",
       "      <td>-500.87</td>\n",
       "      <td>12.03</td>\n",
       "      <td>-500.32</td>\n",
       "      <td>10.91</td>\n",
       "      <td>-500.73</td>\n",
       "      <td>8.04</td>\n",
       "      <td>-500.19</td>\n",
       "      <td>14.00</td>\n",
       "      <td>-500.69</td>\n",
       "    </tr>\n",
       "    <tr>\n",
       "      <th>50%</th>\n",
       "      <td>177.83</td>\n",
       "      <td>8.05</td>\n",
       "      <td>7.25</td>\n",
       "      <td>1.20</td>\n",
       "      <td>1,585.13</td>\n",
       "      <td>-499.97</td>\n",
       "      <td>1,595.62</td>\n",
       "      <td>-500.03</td>\n",
       "      <td>1,549.59</td>\n",
       "      <td>-500.02</td>\n",
       "      <td>1,594.58</td>\n",
       "      <td>-500.02</td>\n",
       "      <td>9.76</td>\n",
       "      <td>3.74</td>\n",
       "      <td>499.05</td>\n",
       "      <td>50.84</td>\n",
       "      <td>37.98</td>\n",
       "      <td>9.59</td>\n",
       "      <td>14.00</td>\n",
       "      <td>6.50</td>\n",
       "      <td>14.00</td>\n",
       "      <td>6.50</td>\n",
       "      <td>1,000.47</td>\n",
       "      <td>-399.69</td>\n",
       "      <td>1,302.25</td>\n",
       "      <td>-499.84</td>\n",
       "      <td>1,300.20</td>\n",
       "      <td>-499.78</td>\n",
       "      <td>1,207.01</td>\n",
       "      <td>-499.69</td>\n",
       "      <td>1,047.50</td>\n",
       "      <td>-499.77</td>\n",
       "      <td>999.44</td>\n",
       "      <td>-499.68</td>\n",
       "      <td>26.91</td>\n",
       "      <td>-500.00</td>\n",
       "      <td>22.94</td>\n",
       "      <td>-500.02</td>\n",
       "      <td>25.01</td>\n",
       "      <td>-500.03</td>\n",
       "      <td>21.00</td>\n",
       "      <td>-500.01</td>\n",
       "      <td>17.01</td>\n",
       "      <td>-500.12</td>\n",
       "      <td>14.96</td>\n",
       "      <td>-499.58</td>\n",
       "      <td>12.95</td>\n",
       "      <td>-499.99</td>\n",
       "      <td>10.00</td>\n",
       "      <td>-499.99</td>\n",
       "      <td>16.01</td>\n",
       "      <td>-500.01</td>\n",
       "    </tr>\n",
       "    <tr>\n",
       "      <th>75%</th>\n",
       "      <td>208.13</td>\n",
       "      <td>10.03</td>\n",
       "      <td>7.60</td>\n",
       "      <td>1.80</td>\n",
       "      <td>1,602.08</td>\n",
       "      <td>-499.57</td>\n",
       "      <td>1,602.32</td>\n",
       "      <td>-499.29</td>\n",
       "      <td>1,601.14</td>\n",
       "      <td>-498.99</td>\n",
       "      <td>1,600.96</td>\n",
       "      <td>-499.61</td>\n",
       "      <td>10.65</td>\n",
       "      <td>4.28</td>\n",
       "      <td>575.31</td>\n",
       "      <td>62.43</td>\n",
       "      <td>41.64</td>\n",
       "      <td>10.46</td>\n",
       "      <td>16.97</td>\n",
       "      <td>7.09</td>\n",
       "      <td>16.96</td>\n",
       "      <td>7.09</td>\n",
       "      <td>1,006.25</td>\n",
       "      <td>-300.06</td>\n",
       "      <td>1,433.96</td>\n",
       "      <td>-450.75</td>\n",
       "      <td>1,406.59</td>\n",
       "      <td>-451.15</td>\n",
       "      <td>1,391.50</td>\n",
       "      <td>-452.48</td>\n",
       "      <td>1,101.37</td>\n",
       "      <td>-450.96</td>\n",
       "      <td>1,050.43</td>\n",
       "      <td>-451.99</td>\n",
       "      <td>28.09</td>\n",
       "      <td>-499.79</td>\n",
       "      <td>24.99</td>\n",
       "      <td>-499.83</td>\n",
       "      <td>30.00</td>\n",
       "      <td>-499.78</td>\n",
       "      <td>26.98</td>\n",
       "      <td>-499.89</td>\n",
       "      <td>18.04</td>\n",
       "      <td>-499.40</td>\n",
       "      <td>15.96</td>\n",
       "      <td>-400.93</td>\n",
       "      <td>15.10</td>\n",
       "      <td>-499.28</td>\n",
       "      <td>12.00</td>\n",
       "      <td>-499.72</td>\n",
       "      <td>21.02</td>\n",
       "      <td>-499.37</td>\n",
       "    </tr>\n",
       "    <tr>\n",
       "      <th>max</th>\n",
       "      <td>265.98</td>\n",
       "      <td>40.00</td>\n",
       "      <td>15.50</td>\n",
       "      <td>4.10</td>\n",
       "      <td>2,103.10</td>\n",
       "      <td>-57.20</td>\n",
       "      <td>1,813.08</td>\n",
       "      <td>-142.53</td>\n",
       "      <td>1,715.05</td>\n",
       "      <td>-150.94</td>\n",
       "      <td>1,913.26</td>\n",
       "      <td>-158.95</td>\n",
       "      <td>14.41</td>\n",
       "      <td>6.91</td>\n",
       "      <td>707.36</td>\n",
       "      <td>392.49</td>\n",
       "      <td>53.48</td>\n",
       "      <td>13.73</td>\n",
       "      <td>24.28</td>\n",
       "      <td>8.91</td>\n",
       "      <td>24.28</td>\n",
       "      <td>8.62</td>\n",
       "      <td>1,423.27</td>\n",
       "      <td>-273.78</td>\n",
       "      <td>1,706.64</td>\n",
       "      <td>-298.20</td>\n",
       "      <td>1,731.02</td>\n",
       "      <td>-298.04</td>\n",
       "      <td>1,775.22</td>\n",
       "      <td>-76.40</td>\n",
       "      <td>1,467.18</td>\n",
       "      <td>-139.75</td>\n",
       "      <td>1,476.59</td>\n",
       "      <td>-249.80</td>\n",
       "      <td>32.14</td>\n",
       "      <td>-300.34</td>\n",
       "      <td>28.17</td>\n",
       "      <td>-212.00</td>\n",
       "      <td>40.04</td>\n",
       "      <td>-313.87</td>\n",
       "      <td>32.04</td>\n",
       "      <td>-202.28</td>\n",
       "      <td>30.05</td>\n",
       "      <td>-401.57</td>\n",
       "      <td>31.27</td>\n",
       "      <td>-6.51</td>\n",
       "      <td>25.26</td>\n",
       "      <td>-244.48</td>\n",
       "      <td>14.09</td>\n",
       "      <td>-137.74</td>\n",
       "      <td>26.71</td>\n",
       "      <td>-123.31</td>\n",
       "    </tr>\n",
       "  </tbody>\n",
       "</table>\n",
       "</div>"
      ],
      "text/plain": [
       "       primary_cleaner.input.sulfate  primary_cleaner.input.depressant  \\\n",
       "count                       5,286.00                          5,285.00   \n",
       "mean                          174.84                              8.68   \n",
       "std                            43.03                              3.07   \n",
       "min                             2.57                              0.00   \n",
       "25%                           147.12                              6.49   \n",
       "50%                           177.83                              8.05   \n",
       "75%                           208.13                             10.03   \n",
       "max                           265.98                             40.00   \n",
       "\n",
       "       primary_cleaner.input.feed_size  primary_cleaner.input.xanthate  \\\n",
       "count                         5,290.00                        5,286.00   \n",
       "mean                              7.27                            1.38   \n",
       "std                               0.61                            0.64   \n",
       "min                               5.65                            0.00   \n",
       "25%                               6.89                            0.91   \n",
       "50%                               7.25                            1.20   \n",
       "75%                               7.60                            1.80   \n",
       "max                              15.50                            4.10   \n",
       "\n",
       "       primary_cleaner.state.floatbank8_a_air  \\\n",
       "count                                5,290.00   \n",
       "mean                                 1,539.49   \n",
       "std                                    116.80   \n",
       "min                                      0.00   \n",
       "25%                                  1,498.94   \n",
       "50%                                  1,585.13   \n",
       "75%                                  1,602.08   \n",
       "max                                  2,103.10   \n",
       "\n",
       "       primary_cleaner.state.floatbank8_a_level  \\\n",
       "count                                  5,290.00   \n",
       "mean                                    -497.67   \n",
       "std                                       19.95   \n",
       "min                                     -795.32   \n",
       "25%                                     -500.36   \n",
       "50%                                     -499.97   \n",
       "75%                                     -499.57   \n",
       "max                                      -57.20   \n",
       "\n",
       "       primary_cleaner.state.floatbank8_b_air  \\\n",
       "count                                5,290.00   \n",
       "mean                                 1,545.17   \n",
       "std                                    122.22   \n",
       "min                                      0.00   \n",
       "25%                                  1,498.97   \n",
       "50%                                  1,595.62   \n",
       "75%                                  1,602.32   \n",
       "max                                  1,813.08   \n",
       "\n",
       "       primary_cleaner.state.floatbank8_b_level  \\\n",
       "count                                  5,290.00   \n",
       "mean                                    -500.27   \n",
       "std                                       32.97   \n",
       "min                                     -800.00   \n",
       "25%                                     -500.70   \n",
       "50%                                     -500.03   \n",
       "75%                                     -499.29   \n",
       "max                                     -142.53   \n",
       "\n",
       "       primary_cleaner.state.floatbank8_c_air  \\\n",
       "count                                5,290.00   \n",
       "mean                                 1,527.27   \n",
       "std                                    122.54   \n",
       "min                                      0.00   \n",
       "25%                                  1,473.23   \n",
       "50%                                  1,549.59   \n",
       "75%                                  1,601.14   \n",
       "max                                  1,715.05   \n",
       "\n",
       "       primary_cleaner.state.floatbank8_c_level  \\\n",
       "count                                  5,290.00   \n",
       "mean                                    -498.33   \n",
       "std                                       21.96   \n",
       "min                                     -799.96   \n",
       "25%                                     -501.02   \n",
       "50%                                     -500.02   \n",
       "75%                                     -498.99   \n",
       "max                                     -150.94   \n",
       "\n",
       "       primary_cleaner.state.floatbank8_d_air  \\\n",
       "count                                5,290.00   \n",
       "mean                                 1,544.84   \n",
       "std                                    124.77   \n",
       "min                                      0.00   \n",
       "25%                                  1,499.48   \n",
       "50%                                  1,594.58   \n",
       "75%                                  1,600.96   \n",
       "max                                  1,913.26   \n",
       "\n",
       "       primary_cleaner.state.floatbank8_d_level  rougher.input.feed_ag  \\\n",
       "count                                  5,290.00               5,290.00   \n",
       "mean                                    -500.20                   9.37   \n",
       "std                                       31.05                   1.93   \n",
       "min                                     -799.79                   0.57   \n",
       "25%                                     -500.45                   8.11   \n",
       "50%                                     -500.02                   9.76   \n",
       "75%                                     -499.61                  10.65   \n",
       "max                                     -158.95                  14.41   \n",
       "\n",
       "       rougher.input.feed_pb  rougher.input.feed_rate  \\\n",
       "count               5,290.00                 5,287.00   \n",
       "mean                    3.80                   489.80   \n",
       "std                     0.95                   108.04   \n",
       "min                     0.27                     0.00   \n",
       "25%                     3.24                   407.02   \n",
       "50%                     3.74                   499.05   \n",
       "75%                     4.28                   575.31   \n",
       "max                     6.91                   707.36   \n",
       "\n",
       "       rougher.input.feed_size  rougher.input.feed_sol  rougher.input.feed_au  \\\n",
       "count                 5,289.00                5,269.00               5,290.00   \n",
       "mean                     55.95                   37.72                   9.33   \n",
       "std                      19.08                    5.49                   1.62   \n",
       "min                       0.05                    1.39                   0.57   \n",
       "25%                      43.91                   34.51                   8.21   \n",
       "50%                      50.84                   37.98                   9.59   \n",
       "75%                      62.43                   41.64                  10.46   \n",
       "max                     392.49                   53.48                  13.73   \n",
       "\n",
       "       rougher.input.floatbank10_sulfate  rougher.input.floatbank10_xanthate  \\\n",
       "count                           5,285.00                            5,290.00   \n",
       "mean                               13.86                                6.47   \n",
       "std                                 3.35                                1.07   \n",
       "min                                 0.00                                0.00   \n",
       "25%                                12.00                                6.00   \n",
       "50%                                14.00                                6.50   \n",
       "75%                                16.97                                7.09   \n",
       "max                                24.28                                8.91   \n",
       "\n",
       "       rougher.input.floatbank11_sulfate  rougher.input.floatbank11_xanthate  \\\n",
       "count                           5,282.00                            5,265.00   \n",
       "mean                               13.92                                6.51   \n",
       "std                                 3.22                                0.89   \n",
       "min                                 0.00                                0.01   \n",
       "25%                                12.00                                6.00   \n",
       "50%                                14.00                                6.50   \n",
       "75%                                16.96                                7.09   \n",
       "max                                24.28                                8.62   \n",
       "\n",
       "       rougher.state.floatbank10_a_air  rougher.state.floatbank10_a_level  \\\n",
       "count                         5,290.00                           5,290.00   \n",
       "mean                          1,053.40                            -395.73   \n",
       "std                             121.14                              91.09   \n",
       "min                              -0.04                            -657.95   \n",
       "25%                             999.21                            -499.92   \n",
       "50%                           1,000.47                            -399.69   \n",
       "75%                           1,006.25                            -300.06   \n",
       "max                           1,423.27                            -273.78   \n",
       "\n",
       "       rougher.state.floatbank10_b_air  rougher.state.floatbank10_b_level  \\\n",
       "count                         5,290.00                           5,290.00   \n",
       "mean                          1,318.93                            -475.24   \n",
       "std                             156.45                              45.65   \n",
       "min                              -0.72                            -650.25   \n",
       "25%                           1,200.87                            -500.26   \n",
       "50%                           1,302.25                            -499.84   \n",
       "75%                           1,433.96                            -450.75   \n",
       "max                           1,706.64                            -298.20   \n",
       "\n",
       "       rougher.state.floatbank10_c_air  rougher.state.floatbank10_c_level  \\\n",
       "count                         5,290.00                           5,290.00   \n",
       "mean                          1,301.60                            -474.84   \n",
       "std                             171.27                              45.86   \n",
       "min                              -0.06                            -647.54   \n",
       "25%                           1,199.65                            -500.23   \n",
       "50%                           1,300.20                            -499.78   \n",
       "75%                           1,406.59                            -451.15   \n",
       "max                           1,731.02                            -298.04   \n",
       "\n",
       "       rougher.state.floatbank10_d_air  rougher.state.floatbank10_d_level  \\\n",
       "count                         5,290.00                           5,290.00   \n",
       "mean                          1,214.85                            -475.68   \n",
       "std                             185.76                              47.84   \n",
       "min                              -0.99                            -648.39   \n",
       "25%                           1,093.37                            -500.44   \n",
       "50%                           1,207.01                            -499.69   \n",
       "75%                           1,391.50                            -452.48   \n",
       "max                           1,775.22                             -76.40   \n",
       "\n",
       "       rougher.state.floatbank10_e_air  rougher.state.floatbank10_e_level  \\\n",
       "count                         5,290.00                           5,290.00   \n",
       "mean                          1,056.65                            -469.03   \n",
       "std                             131.54                              59.33   \n",
       "min                              -1.98                            -649.27   \n",
       "25%                             999.36                            -500.19   \n",
       "50%                           1,047.50                            -499.77   \n",
       "75%                           1,101.37                            -450.96   \n",
       "max                           1,467.18                            -139.75   \n",
       "\n",
       "       rougher.state.floatbank10_f_air  rougher.state.floatbank10_f_level  \\\n",
       "count                         5,290.00                           5,290.00   \n",
       "mean                            997.95                            -470.48   \n",
       "std                             128.22                              60.76   \n",
       "min                              -2.59                            -649.95   \n",
       "25%                             901.02                            -500.62   \n",
       "50%                             999.44                            -499.68   \n",
       "75%                           1,050.43                            -451.99   \n",
       "max                           1,476.59                            -249.80   \n",
       "\n",
       "       secondary_cleaner.state.floatbank2_a_air  \\\n",
       "count                                  5,287.00   \n",
       "mean                                      26.31   \n",
       "std                                        3.43   \n",
       "min                                        0.21   \n",
       "25%                                       24.94   \n",
       "50%                                       26.91   \n",
       "75%                                       28.09   \n",
       "max                                       32.14   \n",
       "\n",
       "       secondary_cleaner.state.floatbank2_a_level  \\\n",
       "count                                    5,290.00   \n",
       "mean                                      -502.75   \n",
       "std                                         28.76   \n",
       "min                                       -784.09   \n",
       "25%                                       -500.21   \n",
       "50%                                       -500.00   \n",
       "75%                                       -499.79   \n",
       "max                                       -300.34   \n",
       "\n",
       "       secondary_cleaner.state.floatbank2_b_air  \\\n",
       "count                                  5,288.00   \n",
       "mean                                      21.95   \n",
       "std                                        4.35   \n",
       "min                                        0.01   \n",
       "25%                                       20.00   \n",
       "50%                                       22.94   \n",
       "75%                                       24.99   \n",
       "max                                       28.17   \n",
       "\n",
       "       secondary_cleaner.state.floatbank2_b_level  \\\n",
       "count                                    5,290.00   \n",
       "mean                                      -501.99   \n",
       "std                                         34.58   \n",
       "min                                       -797.78   \n",
       "25%                                       -500.22   \n",
       "50%                                       -500.02   \n",
       "75%                                       -499.83   \n",
       "max                                       -212.00   \n",
       "\n",
       "       secondary_cleaner.state.floatbank3_a_air  \\\n",
       "count                                  5,281.00   \n",
       "mean                                      25.40   \n",
       "std                                        6.53   \n",
       "min                                        0.00   \n",
       "25%                                       22.98   \n",
       "50%                                       25.01   \n",
       "75%                                       30.00   \n",
       "max                                       40.04   \n",
       "\n",
       "       secondary_cleaner.state.floatbank3_a_level  \\\n",
       "count                                    5,290.00   \n",
       "mean                                      -507.49   \n",
       "std                                         47.62   \n",
       "min                                       -799.76   \n",
       "25%                                       -500.30   \n",
       "50%                                       -500.03   \n",
       "75%                                       -499.78   \n",
       "max                                       -313.87   \n",
       "\n",
       "       secondary_cleaner.state.floatbank3_b_air  \\\n",
       "count                                  5,290.00   \n",
       "mean                                      20.98   \n",
       "std                                        6.74   \n",
       "min                                        0.00   \n",
       "25%                                       17.97   \n",
       "50%                                       21.00   \n",
       "75%                                       26.98   \n",
       "max                                       32.04   \n",
       "\n",
       "       secondary_cleaner.state.floatbank3_b_level  \\\n",
       "count                                    5,290.00   \n",
       "mean                                      -506.63   \n",
       "std                                         44.53   \n",
       "min                                       -809.33   \n",
       "25%                                       -500.15   \n",
       "50%                                       -500.01   \n",
       "75%                                       -499.89   \n",
       "max                                       -202.28   \n",
       "\n",
       "       secondary_cleaner.state.floatbank4_a_air  \\\n",
       "count                                  5,290.00   \n",
       "mean                                      16.32   \n",
       "std                                        3.49   \n",
       "min                                        0.00   \n",
       "25%                                       14.04   \n",
       "50%                                       17.01   \n",
       "75%                                       18.04   \n",
       "max                                       30.05   \n",
       "\n",
       "       secondary_cleaner.state.floatbank4_a_level  \\\n",
       "count                                    5,290.00   \n",
       "mean                                      -505.14   \n",
       "std                                         31.43   \n",
       "min                                       -799.80   \n",
       "25%                                       -500.87   \n",
       "50%                                       -500.12   \n",
       "75%                                       -499.40   \n",
       "max                                       -401.57   \n",
       "\n",
       "       secondary_cleaner.state.floatbank4_b_air  \\\n",
       "count                                  5,290.00   \n",
       "mean                                      13.74   \n",
       "std                                        3.43   \n",
       "min                                        0.00   \n",
       "25%                                       12.03   \n",
       "50%                                       14.96   \n",
       "75%                                       15.96   \n",
       "max                                       31.27   \n",
       "\n",
       "       secondary_cleaner.state.floatbank4_b_level  \\\n",
       "count                                    5,290.00   \n",
       "mean                                      -463.35   \n",
       "std                                         86.19   \n",
       "min                                       -800.84   \n",
       "25%                                       -500.32   \n",
       "50%                                       -499.58   \n",
       "75%                                       -400.93   \n",
       "max                                         -6.51   \n",
       "\n",
       "       secondary_cleaner.state.floatbank5_a_air  \\\n",
       "count                                  5,290.00   \n",
       "mean                                      12.80   \n",
       "std                                        3.03   \n",
       "min                                        0.07   \n",
       "25%                                       10.91   \n",
       "50%                                       12.95   \n",
       "75%                                       15.10   \n",
       "max                                       25.26   \n",
       "\n",
       "       secondary_cleaner.state.floatbank5_a_level  \\\n",
       "count                                    5,290.00   \n",
       "mean                                      -501.33   \n",
       "std                                         17.95   \n",
       "min                                       -797.32   \n",
       "25%                                       -500.73   \n",
       "50%                                       -499.99   \n",
       "75%                                       -499.28   \n",
       "max                                       -244.48   \n",
       "\n",
       "       secondary_cleaner.state.floatbank5_b_air  \\\n",
       "count                                  5,290.00   \n",
       "mean                                       9.88   \n",
       "std                                        2.87   \n",
       "min                                        0.53   \n",
       "25%                                        8.04   \n",
       "50%                                       10.00   \n",
       "75%                                       12.00   \n",
       "max                                       14.09   \n",
       "\n",
       "       secondary_cleaner.state.floatbank5_b_level  \\\n",
       "count                                    5,290.00   \n",
       "mean                                      -495.66   \n",
       "std                                         34.54   \n",
       "min                                       -800.22   \n",
       "25%                                       -500.19   \n",
       "50%                                       -499.99   \n",
       "75%                                       -499.72   \n",
       "max                                       -137.74   \n",
       "\n",
       "       secondary_cleaner.state.floatbank6_a_air  \\\n",
       "count                                  5,290.00   \n",
       "mean                                      17.30   \n",
       "std                                        4.54   \n",
       "min                                       -0.08   \n",
       "25%                                       14.00   \n",
       "50%                                       16.01   \n",
       "75%                                       21.02   \n",
       "max                                       26.71   \n",
       "\n",
       "       secondary_cleaner.state.floatbank6_a_level  \n",
       "count                                    5,290.00  \n",
       "mean                                      -501.79  \n",
       "std                                         39.04  \n",
       "min                                       -809.74  \n",
       "25%                                       -500.69  \n",
       "50%                                       -500.01  \n",
       "75%                                       -499.37  \n",
       "max                                       -123.31  "
      ]
     },
     "metadata": {},
     "output_type": "display_data"
    },
    {
     "name": "stdout",
     "output_type": "stream",
     "text": [
      "\n",
      "Количество дубликатов: 0\n"
     ]
    }
   ],
   "source": [
    "data_check(data_test, '\"тестовая выборка\"')"
   ]
  },
  {
   "cell_type": "markdown",
   "metadata": {},
   "source": [
    "В данных есть пропуски. Дубликаты во всех датасетах отсутствуют. В тестовой выборке нехватает столбцов с признаками."
   ]
  },
  {
   "cell_type": "markdown",
   "metadata": {},
   "source": [
    "### Проверка расчета эффективности обогащения"
   ]
  },
  {
   "cell_type": "code",
   "execution_count": 9,
   "metadata": {},
   "outputs": [],
   "source": [
    "calculation_recovery = (\n",
    "    data_train['rougher.output.concentrate_au'] * (\n",
    "        data_train['rougher.input.feed_au'] - data_train['rougher.output.tail_au']\n",
    "    )\n",
    ") / (\n",
    "    data_train['rougher.input.feed_au'] * (\n",
    "        data_train['rougher.output.concentrate_au'] - data_train['rougher.output.tail_au']\n",
    "    )\n",
    ") * 100"
   ]
  },
  {
   "cell_type": "code",
   "execution_count": 10,
   "metadata": {},
   "outputs": [],
   "source": [
    "mae_difference = (\n",
    "    data_train['rougher.output.recovery'] - calculation_recovery\n",
    ").abs().mean()"
   ]
  },
  {
   "cell_type": "code",
   "execution_count": 11,
   "metadata": {},
   "outputs": [
    {
     "name": "stdout",
     "output_type": "stream",
     "text": [
      "MAE: 0.00000000000000973512\n"
     ]
    }
   ],
   "source": [
    "print('MAE: {:.20f}'.format(mae_difference))"
   ]
  },
  {
   "cell_type": "markdown",
   "metadata": {},
   "source": [
    "Значение MAE вышло очень низкое, показатель эффективности обогащения расчитан корректно."
   ]
  },
  {
   "cell_type": "markdown",
   "metadata": {},
   "source": [
    "### Анализ признаков, недоступных в тестовой выборке"
   ]
  },
  {
   "cell_type": "code",
   "execution_count": 12,
   "metadata": {
    "scrolled": false
   },
   "outputs": [
    {
     "name": "stdout",
     "output_type": "stream",
     "text": [
      "В тестовой выборке отсутствует 34 столбца, а именно:\n",
      "Index(['final.output.concentrate_ag', 'final.output.concentrate_au',\n",
      "       'final.output.concentrate_pb', 'final.output.concentrate_sol',\n",
      "       'final.output.recovery', 'final.output.tail_ag', 'final.output.tail_au',\n",
      "       'final.output.tail_pb', 'final.output.tail_sol',\n",
      "       'primary_cleaner.output.concentrate_ag',\n",
      "       'primary_cleaner.output.concentrate_au',\n",
      "       'primary_cleaner.output.concentrate_pb',\n",
      "       'primary_cleaner.output.concentrate_sol',\n",
      "       'primary_cleaner.output.tail_ag', 'primary_cleaner.output.tail_au',\n",
      "       'primary_cleaner.output.tail_pb', 'primary_cleaner.output.tail_sol',\n",
      "       'rougher.calculation.au_pb_ratio',\n",
      "       'rougher.calculation.floatbank10_sulfate_to_au_feed',\n",
      "       'rougher.calculation.floatbank11_sulfate_to_au_feed',\n",
      "       'rougher.calculation.sulfate_to_au_concentrate',\n",
      "       'rougher.output.concentrate_ag', 'rougher.output.concentrate_au',\n",
      "       'rougher.output.concentrate_pb', 'rougher.output.concentrate_sol',\n",
      "       'rougher.output.recovery', 'rougher.output.tail_ag',\n",
      "       'rougher.output.tail_au', 'rougher.output.tail_pb',\n",
      "       'rougher.output.tail_sol', 'secondary_cleaner.output.tail_ag',\n",
      "       'secondary_cleaner.output.tail_au', 'secondary_cleaner.output.tail_pb',\n",
      "       'secondary_cleaner.output.tail_sol'],\n",
      "      dtype='object')\n"
     ]
    }
   ],
   "source": [
    "def column_difference(df1, df2):\n",
    "    return df1.columns.difference(df2.columns)\n",
    "\n",
    "columns_test = column_difference(data, data_test)\n",
    "\n",
    "print('В тестовой выборке отсутствует', columns_test.shape[0], 'столбца, а именно:')\n",
    "print(columns_test)"
   ]
  },
  {
   "cell_type": "markdown",
   "metadata": {},
   "source": [
    "Всего нехватает 34 столбца. Среди них большое кол-во расчетных характеристик этапов флотации и целевые признаки:\n",
    "- final.output.recovery\n",
    "- rougher.output.recovery\n",
    "\n",
    "Попробуем получить их из исходных данных по ключевому полю \"date\"."
   ]
  },
  {
   "cell_type": "markdown",
   "metadata": {},
   "source": [
    "### Предобработка данных"
   ]
  },
  {
   "cell_type": "markdown",
   "metadata": {},
   "source": [
    "Добавим к тестовой выборке целевые признаки из исходных данных по ключу date"
   ]
  },
  {
   "cell_type": "code",
   "execution_count": 13,
   "metadata": {},
   "outputs": [],
   "source": [
    "data_test = data_test.merge(\n",
    "    data[['date', 'rougher.output.recovery', 'final.output.recovery']],\n",
    "    on='date',\n",
    "    how='left'\n",
    ")"
   ]
  },
  {
   "cell_type": "markdown",
   "metadata": {},
   "source": [
    "С помощью ffill() заполним пропуски ближайшими значениями так как в условиях задачи есть пометка \"Соседние по времени параметры часто похожи\"."
   ]
  },
  {
   "cell_type": "code",
   "execution_count": 14,
   "metadata": {},
   "outputs": [],
   "source": [
    "data.ffill(axis=0, inplace=True)\n",
    "data_test.ffill(axis=0, inplace=True)\n",
    "data_train.ffill(axis=0, inplace=True)"
   ]
  },
  {
   "cell_type": "markdown",
   "metadata": {},
   "source": [
    "Удалим признаки из обучающей выборки, которые отсутствуют в тестовой."
   ]
  },
  {
   "cell_type": "code",
   "execution_count": 15,
   "metadata": {},
   "outputs": [
    {
     "name": "stdout",
     "output_type": "stream",
     "text": [
      "Кол-во столбцов в исходных данных: 87\n",
      "Кол-во столбцов в тестовой выборке: 55\n",
      "Кол-во столбцов в обучающей выборке: 55\n"
     ]
    }
   ],
   "source": [
    "data_train.drop(\n",
    "    columns=column_difference(data_train, data_test),\n",
    "    inplace=True\n",
    ")\n",
    "\n",
    "print('Кол-во столбцов в исходных данных:', data.shape[1])\n",
    "print('Кол-во столбцов в тестовой выборке:', data_test.shape[1])\n",
    "print('Кол-во столбцов в обучающей выборке:', data_train.shape[1])"
   ]
  },
  {
   "cell_type": "markdown",
   "metadata": {},
   "source": [
    "**Вывод**"
   ]
  },
  {
   "cell_type": "markdown",
   "metadata": {},
   "source": [
    "Краткая выжимка по подготовке данных:\n",
    "- тип данных у всех признаково определен корректно;\n",
    "- в датасэтах отсутствуют дубликаты;\n",
    "- показатель эффективности обогащения расчитан правильно;\n",
    "- к тестовой выборке добавлены целевые признаки \"final.output.recovery\", \"rougher.output.recovery\";\n",
    "- Nan значения заменены методом ffill();\n",
    "- из обучающей выборки удалили признаки, которых нет в тестовой."
   ]
  },
  {
   "cell_type": "markdown",
   "metadata": {},
   "source": [
    "## Анализ данных"
   ]
  },
  {
   "cell_type": "markdown",
   "metadata": {},
   "source": [
    "### Изменение концентрации металлов (Au, Ag, Pb) на различных этапах очистки"
   ]
  },
  {
   "cell_type": "markdown",
   "metadata": {},
   "source": [
    "Функция вывода графиков для определения концентрации металлов"
   ]
  },
  {
   "cell_type": "code",
   "execution_count": 16,
   "metadata": {},
   "outputs": [],
   "source": [
    "def metal_conc_plot(metal, title):\n",
    "    union_metal_conc = data[\n",
    "        [\n",
    "            'rougher.input.feed_' + metal,\n",
    "            'rougher.output.concentrate_' + metal,\n",
    "            'primary_cleaner.output.concentrate_' + metal,\n",
    "            'final.output.concentrate_' + metal\n",
    "        ]\n",
    "    ].rename(\n",
    "        columns={\n",
    "            'rougher.input.feed_' + metal: 'Начальный',\n",
    "            'rougher.output.concentrate_' + metal: 'Флотация',\n",
    "            'primary_cleaner.output.concentrate_' + metal: 'Первичная_очистка',\n",
    "            'final.output.concentrate_' + metal: 'Финальные_характеристики',\n",
    "        }\n",
    "    )\n",
    "    \n",
    "    \n",
    "    # график распределения\n",
    "    fig = plt.subplots(figsize=(17, 10))\n",
    "    for column in union_metal_conc.columns:\n",
    "        union_metal_plot = sns.distplot(\n",
    "            union_metal_conc[column],\n",
    "            kde=False,\n",
    "            label=column\n",
    "        )\n",
    "        \n",
    "    union_metal_plot.set(\n",
    "        title='Концентрация ' + title + ' на различных этапах очистки',\n",
    "        yticklabels=[],\n",
    "        ylabel=None,\n",
    "        xlabel=None\n",
    "    )\n",
    "        \n",
    "    plt.legend()\n",
    "\n",
    "    # ящик с усами\n",
    "    fig = plt.subplots(figsize=(17, 5))\n",
    "    sns.boxplot(\n",
    "        x='value', \n",
    "        y='variable', \n",
    "        data=pd.melt(union_metal_conc),\n",
    "        width=.4\n",
    "    ).set(\n",
    "        yticklabels=[],\n",
    "        ylabel=None,\n",
    "        xlabel=None\n",
    "    )\n",
    "    plt.show()"
   ]
  },
  {
   "cell_type": "code",
   "execution_count": 17,
   "metadata": {
    "scrolled": false
   },
   "outputs": [
    {
     "data": {
      "image/png": "[encoded data removed]",
      "text/plain": [
       "<Figure size 1224x720 with 1 Axes>"
      ]
     },
     "metadata": {},
     "output_type": "display_data"
    },
    {
     "data": {
      "image/png": "[encoded data removed]",
      "text/plain": [
       "<Figure size 1224x360 with 1 Axes>"
      ]
     },
     "metadata": {},
     "output_type": "display_data"
    }
   ],
   "source": [
    "metal_conc_plot('au', 'золота')"
   ]
  },
  {
   "cell_type": "code",
   "execution_count": 18,
   "metadata": {},
   "outputs": [
    {
     "data": {
      "image/png": "[encoded data removed]",
      "text/plain": [
       "<Figure size 1224x720 with 1 Axes>"
      ]
     },
     "metadata": {},
     "output_type": "display_data"
    },
    {
     "data": {
      "image/png": "[encoded data removed]",
      "text/plain": [
       "<Figure size 1224x360 with 1 Axes>"
      ]
     },
     "metadata": {},
     "output_type": "display_data"
    }
   ],
   "source": [
    "metal_conc_plot('ag', 'серебра')"
   ]
  },
  {
   "cell_type": "code",
   "execution_count": 19,
   "metadata": {},
   "outputs": [
    {
     "data": {
      "image/png": "[encoded data removed]",
      "text/plain": [
       "<Figure size 1224x720 with 1 Axes>"
      ]
     },
     "metadata": {},
     "output_type": "display_data"
    },
    {
     "data": {
      "image/png": "[encoded data removed]",
      "text/plain": [
       "<Figure size 1224x360 with 1 Axes>"
      ]
     },
     "metadata": {},
     "output_type": "display_data"
    }
   ],
   "source": [
    "metal_conc_plot('pb', 'свинца')"
   ]
  },
  {
   "cell_type": "markdown",
   "metadata": {},
   "source": [
    "По графикам можно сделать следующие выводы:\n",
    "- концентрация золота растет на каждом этапе;\n",
    "- максимальное значение у серебра наблюдается после флотации;\n",
    "- концентрация свинца возрастает на последних двух этапах, при чем по концентрации они очень похожи."
   ]
  },
  {
   "cell_type": "markdown",
   "metadata": {},
   "source": [
    "### Распределение размеров гранул сырья на обучающей и тестовой выборках"
   ]
  },
  {
   "cell_type": "code",
   "execution_count": 20,
   "metadata": {},
   "outputs": [
    {
     "data": {
      "image/png": "[encoded data removed]",
      "text/plain": [
       "<Figure size 1224x720 with 1 Axes>"
      ]
     },
     "metadata": {},
     "output_type": "display_data"
    }
   ],
   "source": [
    "data_granule_size = pd.concat(\n",
    "    [\n",
    "        data_train['rougher.input.feed_size'],\n",
    "        data_test['rougher.input.feed_size'],\n",
    "    ], \n",
    "    axis=1,\n",
    "    keys=[\n",
    "        'Train',\n",
    "        'Test'\n",
    "    ]\n",
    ")\n",
    "\n",
    "fig = plt.subplots(figsize=(17, 10))\n",
    "for column in data_granule_size.columns:\n",
    "    sns.distplot(\n",
    "        data_granule_size[column],\n",
    "        kde=True,\n",
    "        label=column\n",
    "    ).set(\n",
    "        title='Распределение размеров гранул сырья'\n",
    "    )\n",
    "    \n",
    "plt.legend()\n",
    "plt.show()"
   ]
  },
  {
   "cell_type": "markdown",
   "metadata": {},
   "source": [
    "Распределения имеют небольшие отличия, но в целом картина давольно однородная."
   ]
  },
  {
   "cell_type": "markdown",
   "metadata": {},
   "source": [
    "### Суммарная концентрация всех веществ на разных стадиях"
   ]
  },
  {
   "cell_type": "code",
   "execution_count": 21,
   "metadata": {},
   "outputs": [],
   "source": [
    "rougher_input_feed = (\n",
    "    data['rougher.input.feed_au'] \n",
    "    + data['rougher.input.feed_ag'] \n",
    "    + data['rougher.input.feed_pb']\n",
    ")\n",
    "\n",
    "rougher_output_concentrate = (\n",
    "    data['rougher.output.concentrate_au'] \n",
    "    + data['rougher.output.concentrate_ag'] \n",
    "    + data['rougher.output.concentrate_pb']\n",
    ")\n",
    "\n",
    "primary_cleaner_output_concentrate = (\n",
    "    data['primary_cleaner.output.concentrate_au'] \n",
    "    + data['primary_cleaner.output.concentrate_ag'] \n",
    "    + data['primary_cleaner.output.concentrate_pb']\n",
    ")\n",
    "\n",
    "final_output_concentrate = (\n",
    "    data['final.output.concentrate_au'] \n",
    "    + data['final.output.concentrate_ag'] \n",
    "    + data['final.output.concentrate_pb']\n",
    ")"
   ]
  },
  {
   "cell_type": "code",
   "execution_count": 22,
   "metadata": {},
   "outputs": [],
   "source": [
    "union_all_metal_conc = pd.concat(\n",
    "    [\n",
    "        rougher_input_feed, \n",
    "        rougher_output_concentrate, \n",
    "        primary_cleaner_output_concentrate, \n",
    "        final_output_concentrate\n",
    "    ], \n",
    "    axis=1,\n",
    "    keys=[\n",
    "        'Начальный',\n",
    "        'Флотация',\n",
    "        'Первичная_очистка',\n",
    "        'Финальные_характеристики'        \n",
    "    ]\n",
    ")"
   ]
  },
  {
   "cell_type": "code",
   "execution_count": 23,
   "metadata": {},
   "outputs": [],
   "source": [
    "def union_metal_conc_plot(df):\n",
    "    fig = plt.subplots(figsize=(17, 10))\n",
    "    \n",
    "    for column in df.columns:\n",
    "        union_all_metal_plot = sns.distplot(\n",
    "            df[column],\n",
    "            kde=False,\n",
    "            label=column\n",
    "        )\n",
    "\n",
    "    union_all_metal_plot.set(\n",
    "        title='Совокупная концентрация всех драг.металлов на различных этапах очистки',\n",
    "        yticklabels=[],\n",
    "        ylabel=None,\n",
    "        xlabel=None\n",
    "    )\n",
    "    plt.legend()\n",
    "\n",
    "    fig = plt.subplots(figsize=(17, 5))\n",
    "    \n",
    "    sns.boxplot(\n",
    "        x='value', \n",
    "        y='variable', \n",
    "        data=pd.melt(df),\n",
    "        width=.4\n",
    "    ).set(\n",
    "        yticklabels=[],\n",
    "        ylabel=None,\n",
    "        xlabel=None\n",
    "    )\n",
    "\n",
    "    plt.show()"
   ]
  },
  {
   "cell_type": "code",
   "execution_count": 24,
   "metadata": {},
   "outputs": [
    {
     "data": {
      "image/png": "[encoded data removed]",
      "text/plain": [
       "<Figure size 1224x720 with 1 Axes>"
      ]
     },
     "metadata": {},
     "output_type": "display_data"
    },
    {
     "data": {
      "image/png": "[encoded data removed]",
      "text/plain": [
       "<Figure size 1224x360 with 1 Axes>"
      ]
     },
     "metadata": {},
     "output_type": "display_data"
    }
   ],
   "source": [
    "union_metal_conc_plot(union_all_metal_conc)"
   ]
  },
  {
   "cell_type": "markdown",
   "metadata": {},
   "source": [
    "Ящик с усами наглядно отображает большое кол-во выбросов на всех этапах очистки, попробуем избавиться от них."
   ]
  },
  {
   "cell_type": "code",
   "execution_count": 25,
   "metadata": {},
   "outputs": [],
   "source": [
    "rougher_input_down = union_all_metal_conc['Начальный'].quantile(.025)\n",
    "rougher_input_up = union_all_metal_conc['Начальный'].quantile(.975)\n",
    "\n",
    "rougher_output_down = union_all_metal_conc['Флотация'].quantile(.025)\n",
    "rougher_output_up =union_all_metal_conc['Флотация'].quantile(.975)\n",
    "\n",
    "primary_cleaner_output_down = union_all_metal_conc['Первичная_очистка'].quantile(.025)\n",
    "primary_cleaner_output_up = union_all_metal_conc['Первичная_очистка'].quantile(.975)\n",
    "\n",
    "final_output_down = union_all_metal_conc['Финальные_характеристики'].quantile(.025)\n",
    "final_output_up = union_all_metal_conc['Финальные_характеристики'].quantile(.975)\n",
    "\n",
    "clear_all_metal_conc = union_all_metal_conc.query(\n",
    "    '@rougher_input_down < Начальный < @rougher_input_up & @rougher_output_down < Флотация < @rougher_output_up & @primary_cleaner_output_down < Первичная_очистка < @primary_cleaner_output_up & @final_output_down < Финальные_характеристики < @final_output_up'\n",
    ")"
   ]
  },
  {
   "cell_type": "code",
   "execution_count": 26,
   "metadata": {},
   "outputs": [
    {
     "data": {
      "image/png": "[encoded data removed]",
      "text/plain": [
       "<Figure size 1224x720 with 1 Axes>"
      ]
     },
     "metadata": {},
     "output_type": "display_data"
    },
    {
     "data": {
      "image/png": "[encoded data removed]",
      "text/plain": [
       "<Figure size 1224x360 with 1 Axes>"
      ]
     },
     "metadata": {},
     "output_type": "display_data"
    }
   ],
   "source": [
    "union_metal_conc_plot(clear_all_metal_conc)"
   ]
  },
  {
   "cell_type": "markdown",
   "metadata": {},
   "source": [
    "Поскольку мы избавились от выбросов только в группированной таблице основанной на исходных данных, дополнительно нудно удалить эти же строки по индексу из исходной выборки, тествой и обучающей."
   ]
  },
  {
   "cell_type": "code",
   "execution_count": 27,
   "metadata": {},
   "outputs": [],
   "source": [
    "def set_delete(more_df, less_df):\n",
    "    result = set(more_df.index.values) - set(less_df.index.values)    \n",
    "    \n",
    "    return result\n",
    "\n",
    "data = data.drop(\n",
    "    labels=list(\n",
    "        set_delete(data, clear_all_metal_conc).intersection(set(data.index.values))\n",
    "    ),\n",
    "    axis = 0\n",
    ")\n",
    "\n",
    "data_test = data_test.drop(\n",
    "    labels=list(\n",
    "        set_delete(data, data_test).intersection(set(data_test.index.values))\n",
    "    ),\n",
    "    axis = 0\n",
    ")\n",
    "\n",
    "data_train = data_train.drop(\n",
    "    labels=list(\n",
    "        set_delete(data, data_train).intersection(set(data_train.index.values))\n",
    "    ),\n",
    "    axis = 0\n",
    ")"
   ]
  },
  {
   "cell_type": "markdown",
   "metadata": {},
   "source": [
    "**Вывод**"
   ]
  },
  {
   "cell_type": "markdown",
   "metadata": {},
   "source": [
    "Если рассматривать по отдельности каждый металл, то концентрация на всех этапах сильно разнится. В совокупности же, видно общее повышение содержания металлов в руде после каждого этапа очистки."
   ]
  },
  {
   "cell_type": "markdown",
   "metadata": {},
   "source": [
    "## Модель"
   ]
  },
  {
   "cell_type": "markdown",
   "metadata": {},
   "source": [
    "### Вычисление итогового sMAPE"
   ]
  },
  {
   "cell_type": "code",
   "execution_count": 28,
   "metadata": {},
   "outputs": [],
   "source": [
    "def smape_calculate(target, predict):\n",
    "    return abs(\n",
    "        1 / len(target) * (\n",
    "            (\n",
    "                ( abs(target - predict) ) / ( (abs(target) + abs(predict)) / 2 )\n",
    "            ).sum()\n",
    "        ) * 100\n",
    "    )"
   ]
  },
  {
   "cell_type": "markdown",
   "metadata": {},
   "source": [
    "### Обучение моделей"
   ]
  },
  {
   "cell_type": "markdown",
   "metadata": {},
   "source": [
    "Из обучающей и тестовой выборках удалим столбцы с датами. Так же отделим наши признаки от целевых значений."
   ]
  },
  {
   "cell_type": "code",
   "execution_count": 29,
   "metadata": {
    "scrolled": true
   },
   "outputs": [],
   "source": [
    "data_test.drop(['date'], axis=1, inplace=True)\n",
    "data_train.drop(['date'], axis=1, inplace=True)\n",
    "\n",
    "features_train = data_train.drop(['rougher.output.recovery', 'final.output.recovery'], axis=1)\n",
    "target_train = data_train[['rougher.output.recovery', 'final.output.recovery']]\n",
    "\n",
    "features_test = data_test.drop(['rougher.output.recovery', 'final.output.recovery'], axis=1)\n",
    "target_test = data_test[['rougher.output.recovery', 'final.output.recovery']]"
   ]
  },
  {
   "cell_type": "markdown",
   "metadata": {},
   "source": [
    "Определим глобальные переменные для обучения моделей"
   ]
  },
  {
   "cell_type": "code",
   "execution_count": 64,
   "metadata": {},
   "outputs": [],
   "source": [
    "RND_ST = RandomState(12345)\n",
    "\n",
    "# Кросс валидация с помощью kFold\n",
    "CV = KFold(\n",
    "    n_splits=10,\n",
    "    shuffle=False\n",
    ")\n",
    "\n",
    "SMAPE_SCORE = make_scorer(\n",
    "    smape_calculate,\n",
    "    greater_is_better=False\n",
    ")"
   ]
  },
  {
   "cell_type": "code",
   "execution_count": 65,
   "metadata": {},
   "outputs": [],
   "source": [
    "def grid_search(model, param):\n",
    "    model_grid_rougher = GridSearchCV(\n",
    "        model,\n",
    "        param_grid=param,\n",
    "        scoring=SMAPE_SCORE,\n",
    "        cv=CV\n",
    "    )\n",
    "    \n",
    "    model_grid_final = GridSearchCV(\n",
    "        model,\n",
    "        param_grid=param,\n",
    "        scoring=SMAPE_SCORE,\n",
    "        cv=CV\n",
    "    )\n",
    "    \n",
    "    gscv_rougher = model_grid_rougher.fit(\n",
    "        features_train,\n",
    "        target_train['rougher.output.recovery']\n",
    "    )\n",
    "\n",
    "    gscv_final = model_grid_final.fit(\n",
    "        features_train,\n",
    "        target_train['final.output.recovery']\n",
    "    )\n",
    "    \n",
    "    print('Лучшие параметры rougher:', gscv_rougher.best_params_)\n",
    "    print('sMAPE для rougher:', abs(gscv_rougher.best_score_))\n",
    "    print()\n",
    "    \n",
    "    print('Лучшие параметры final:', gscv_final.best_params_)\n",
    "    print('sMAPE для final:', abs(gscv_final.best_score_))\n",
    "    print()\n",
    "    \n",
    "    smape_result = .25 * gscv_rougher.best_score_ + .75 * gscv_final.best_score_\n",
    "    print('Итоговое sMAPE:', abs(smape_result))\n",
    "    \n",
    "    return model_grid_rougher, model_grid_final"
   ]
  },
  {
   "cell_type": "markdown",
   "metadata": {},
   "source": [
    "#### DecisionTreeRegressor"
   ]
  },
  {
   "cell_type": "code",
   "execution_count": 66,
   "metadata": {},
   "outputs": [
    {
     "name": "stdout",
     "output_type": "stream",
     "text": [
      "Лучшие параметры rougher: {'max_depth': 4}\n",
      "sMAPE для rougher: 11.192739996832518\n",
      "\n",
      "Лучшие параметры final: {'max_depth': 2}\n",
      "sMAPE для final: 10.370705867430251\n",
      "\n",
      "Итоговое sMAPE: 10.576214399780817\n"
     ]
    }
   ],
   "source": [
    "model_dtr = DecisionTreeRegressor(random_state=RND_ST)\n",
    "\n",
    "parameters_dtr = {\n",
    "    'max_depth': range(1, 5)\n",
    "}\n",
    "\n",
    "grid_rougher_dtr, grid_final_dtr = grid_search(model_dtr, parameters_dtr)"
   ]
  },
  {
   "cell_type": "markdown",
   "metadata": {},
   "source": [
    "#### RandomForestRegressor"
   ]
  },
  {
   "cell_type": "code",
   "execution_count": 68,
   "metadata": {},
   "outputs": [
    {
     "name": "stdout",
     "output_type": "stream",
     "text": [
      "Лучшие параметры rougher: {'max_depth': 4, 'n_estimators': 2}\n",
      "sMAPE для rougher: 11.03803021748895\n",
      "\n",
      "Лучшие параметры final: {'max_depth': 2, 'n_estimators': 4}\n",
      "sMAPE для final: 10.289228993961592\n",
      "\n",
      "Итоговое sMAPE: 10.476429299843431\n"
     ]
    }
   ],
   "source": [
    "model_rfr = RandomForestRegressor(random_state=RND_ST)\n",
    "\n",
    "parameters_rfr = {\n",
    "    'max_depth': range(1, 5),\n",
    "    'n_estimators': range(1, 5)\n",
    "}\n",
    "\n",
    "grid_rougher_rfr, grid_final_rfr = grid_search(model_rfr, parameters_rfr)"
   ]
  },
  {
   "cell_type": "markdown",
   "metadata": {},
   "source": [
    "#### CatBoostRegressor"
   ]
  },
  {
   "cell_type": "code",
   "execution_count": 69,
   "metadata": {},
   "outputs": [
    {
     "name": "stdout",
     "output_type": "stream",
     "text": [
      "Лучшие параметры rougher: {'depth': 3, 'l2_leaf_reg': 1, 'n_estimators': 4, 'verbose': False}\n",
      "sMAPE для rougher: 12.020430044437145\n",
      "\n",
      "Лучшие параметры final: {'depth': 4, 'l2_leaf_reg': 2, 'n_estimators': 4, 'verbose': False}\n",
      "sMAPE для final: 11.095662180626581\n",
      "\n",
      "Итоговое sMAPE: 11.326854146579223\n"
     ]
    }
   ],
   "source": [
    "model_cbr = CatBoostRegressor(random_state=12345)\n",
    "\n",
    "parameters_cbr = {\n",
    "    'depth': range(1, 5),\n",
    "    'n_estimators': range(1, 5),\n",
    "    'l2_leaf_reg': range(1, 5),\n",
    "    'verbose': [False]\n",
    "}\n",
    "\n",
    "grid_rougher_cbr, grid_final_cbr = grid_search(model_cbr, parameters_cbr)"
   ]
  },
  {
   "cell_type": "markdown",
   "metadata": {},
   "source": [
    "### Предсказания на тестовой выборке"
   ]
  },
  {
   "cell_type": "code",
   "execution_count": 70,
   "metadata": {},
   "outputs": [],
   "source": [
    "def best_grid_search(column, model):\n",
    "    model.fit(\n",
    "        features_train,\n",
    "        target_train[column]\n",
    "    )\n",
    "    grid_predict = model.predict(features_test)\n",
    "\n",
    "    smape = smape_calculate(target_test[column], grid_predict)\n",
    "    print('sMAPE для ' + column + ':', smape)\n",
    "    \n",
    "    return smape"
   ]
  },
  {
   "cell_type": "code",
   "execution_count": 71,
   "metadata": {},
   "outputs": [
    {
     "name": "stdout",
     "output_type": "stream",
     "text": [
      "sMAPE для rougher.output.recovery: 10.484713532281507\n",
      "sMAPE для final.output.recovery: 9.161347502777605\n",
      "\n",
      "Итоговое sMAPE: 9.49218901015358\n"
     ]
    }
   ],
   "source": [
    "smape_rougher = best_grid_search('rougher.output.recovery', grid_rougher_rfr.best_estimator_)\n",
    "smape_final = best_grid_search('final.output.recovery', grid_final_rfr.best_estimator_)\n",
    "\n",
    "best_smape = .25 * smape_rougher + .75 * smape_final\n",
    "\n",
    "print()\n",
    "print('Итоговое sMAPE:', best_smape)"
   ]
  },
  {
   "cell_type": "markdown",
   "metadata": {},
   "source": [
    "### Проверка на DummyRegressor"
   ]
  },
  {
   "cell_type": "code",
   "execution_count": 73,
   "metadata": {},
   "outputs": [
    {
     "name": "stdout",
     "output_type": "stream",
     "text": [
      "sMAPE для rougher.output.recovery: 10.379799283438494\n",
      "sMAPE для final.output.recovery: 10.25957407354855\n",
      "\n",
      "Итоговое sMAPE: 10.289630376021035\n"
     ]
    }
   ],
   "source": [
    "model_dr = DummyRegressor(strategy='mean')\n",
    "\n",
    "smape_rougher_dr = best_grid_search('rougher.output.recovery', model_dr)\n",
    "smape_final_dr = best_grid_search('final.output.recovery', model_dr)\n",
    "\n",
    "best_smape_dr = .25 * smape_rougher_dr + .75 * smape_final_dr\n",
    "\n",
    "print()\n",
    "print('Итоговое sMAPE:', best_smape_dr)"
   ]
  },
  {
   "cell_type": "markdown",
   "metadata": {},
   "source": [
    "## Общий вывод"
   ]
  },
  {
   "cell_type": "markdown",
   "metadata": {},
   "source": [
    "После обработки данных и поиска оптимальной модели, нам удалось получить коэффициент восстановления золота из руды. В проекте мы протестировали 3 модели и с помощью GridSearchCV подобрали лучшие гиперпараметры, а именно:\n",
    "- **DecisionTreeRegressor**:\n",
    "    - Лучшие параметры rougher: {'max_depth': 4}. sMAPE: 11.1927\n",
    "    - Лучшие параметры final: {'max_depth': 2}. sMAPE: 10.3707\n",
    "    - Итоговое sMAPE: 10.5762\n",
    "\n",
    "\n",
    "- **RandomForestRegressor**:\n",
    "    - Лучшие параметры rougher: {'max_depth': 4, 'n_estimators': 2}. sMAPE: 11.0380\n",
    "    - Лучшие параметры final: {'max_depth': 2, 'n_estimators': 4}. sMAPE: 10.2892\n",
    "    - Итоговое sMAPE: 10.4764\n",
    "    \n",
    "\n",
    "- **CatBoostRegressor**:\n",
    "    - Лучшие параметры rougher: {'depth': 3, 'l2_leaf_reg': 1, 'n_estimators': 4, 'verbose': False}. sMAPE: 12.0204\n",
    "    - Лучшие параметры final: {'depth': 4, 'l2_leaf_reg': 2, 'n_estimators': 4, 'verbose': False}. sMAPE: 11.0956\n",
    "    - Итоговое sMAPE: 11.326854146579223\n",
    "\n",
    "Для предсказаний на тестовой выборке была выбрана модель RandomForestRegressor с наименьшей симметричной средней абсолютной ошибкой. Наша модель ошибается в 9.4921% случаев. При сравнение к константной моделью, она показывает самый лучший результат"
   ]
  }
 ],
 "metadata": {
  "ExecuteTimeLog": [
   {
    "duration": 495,
    "start_time": "2022-04-04T07:10:16.182Z"
   },
   {
    "duration": 184,
    "start_time": "2022-04-04T07:10:16.742Z"
   },
   {
    "duration": 70,
    "start_time": "2022-04-04T07:10:39.280Z"
   },
   {
    "duration": 108,
    "start_time": "2022-04-04T07:11:02.142Z"
   },
   {
    "duration": 360,
    "start_time": "2022-04-04T07:11:20.257Z"
   },
   {
    "duration": 515,
    "start_time": "2022-04-04T07:11:40.114Z"
   },
   {
    "duration": 816,
    "start_time": "2022-04-04T07:13:25.737Z"
   },
   {
    "duration": 866,
    "start_time": "2022-04-04T07:13:49.878Z"
   },
   {
    "duration": 387,
    "start_time": "2022-04-13T08:21:35.430Z"
   },
   {
    "duration": 631,
    "start_time": "2022-04-13T08:21:36.452Z"
   },
   {
    "duration": 4,
    "start_time": "2022-04-13T08:23:00.711Z"
   },
   {
    "duration": 387,
    "start_time": "2022-04-13T08:24:05.472Z"
   },
   {
    "duration": 387,
    "start_time": "2022-04-13T08:24:17.789Z"
   },
   {
    "duration": 4,
    "start_time": "2022-04-13T08:24:53.174Z"
   },
   {
    "duration": 358,
    "start_time": "2022-04-13T08:24:53.481Z"
   },
   {
    "duration": 3,
    "start_time": "2022-04-13T08:25:12.921Z"
   },
   {
    "duration": 365,
    "start_time": "2022-04-13T08:25:15.443Z"
   },
   {
    "duration": 4,
    "start_time": "2022-04-13T08:25:36.225Z"
   },
   {
    "duration": 399,
    "start_time": "2022-04-13T08:25:36.596Z"
   },
   {
    "duration": 4,
    "start_time": "2022-04-13T08:25:48.102Z"
   },
   {
    "duration": 359,
    "start_time": "2022-04-13T08:25:48.570Z"
   },
   {
    "duration": 4,
    "start_time": "2022-04-13T08:25:59.525Z"
   },
   {
    "duration": 354,
    "start_time": "2022-04-13T08:25:59.979Z"
   },
   {
    "duration": 3,
    "start_time": "2022-04-13T08:27:25.552Z"
   },
   {
    "duration": 355,
    "start_time": "2022-04-13T08:27:25.902Z"
   },
   {
    "duration": 363,
    "start_time": "2022-04-13T08:28:05.296Z"
   },
   {
    "duration": 159,
    "start_time": "2022-04-13T08:28:35.868Z"
   },
   {
    "duration": 365,
    "start_time": "2022-04-13T08:29:57.766Z"
   },
   {
    "duration": 683,
    "start_time": "2022-04-13T08:29:58.133Z"
   },
   {
    "duration": 4,
    "start_time": "2022-04-13T08:29:58.818Z"
   },
   {
    "duration": 417,
    "start_time": "2022-04-13T08:29:58.824Z"
   },
   {
    "duration": 455,
    "start_time": "2022-04-13T08:29:59.243Z"
   },
   {
    "duration": 194,
    "start_time": "2022-04-13T08:29:59.701Z"
   },
   {
    "duration": 480,
    "start_time": "2022-04-13T08:30:32.499Z"
   },
   {
    "duration": 0,
    "start_time": "2022-04-13T08:30:32.981Z"
   },
   {
    "duration": 0,
    "start_time": "2022-04-13T08:30:32.982Z"
   },
   {
    "duration": 0,
    "start_time": "2022-04-13T08:30:32.983Z"
   },
   {
    "duration": 0,
    "start_time": "2022-04-13T08:30:32.984Z"
   },
   {
    "duration": 0,
    "start_time": "2022-04-13T08:30:32.986Z"
   },
   {
    "duration": 369,
    "start_time": "2022-04-13T08:30:51.552Z"
   },
   {
    "duration": 636,
    "start_time": "2022-04-13T08:30:51.923Z"
   },
   {
    "duration": 4,
    "start_time": "2022-04-13T08:30:52.560Z"
   },
   {
    "duration": 434,
    "start_time": "2022-04-13T08:30:52.566Z"
   },
   {
    "duration": 459,
    "start_time": "2022-04-13T08:30:53.007Z"
   },
   {
    "duration": 198,
    "start_time": "2022-04-13T08:30:53.469Z"
   },
   {
    "duration": 3,
    "start_time": "2022-04-13T08:31:04.542Z"
   },
   {
    "duration": 628,
    "start_time": "2022-04-13T08:31:06.844Z"
   },
   {
    "duration": 5,
    "start_time": "2022-04-13T08:31:07.473Z"
   },
   {
    "duration": 405,
    "start_time": "2022-04-13T08:31:07.807Z"
   },
   {
    "duration": 858,
    "start_time": "2022-04-13T08:36:33.737Z"
   },
   {
    "duration": 617,
    "start_time": "2022-04-13T08:36:34.597Z"
   },
   {
    "duration": 5,
    "start_time": "2022-04-13T08:36:35.216Z"
   },
   {
    "duration": 485,
    "start_time": "2022-04-13T08:36:36.578Z"
   },
   {
    "duration": 4,
    "start_time": "2022-04-13T08:36:56.432Z"
   },
   {
    "duration": 593,
    "start_time": "2022-04-13T08:36:56.849Z"
   },
   {
    "duration": 6,
    "start_time": "2022-04-13T08:36:57.444Z"
   },
   {
    "duration": 2528,
    "start_time": "2022-04-13T08:36:57.727Z"
   },
   {
    "duration": 5,
    "start_time": "2022-04-13T08:37:25.404Z"
   },
   {
    "duration": 403,
    "start_time": "2022-04-13T08:37:26.460Z"
   },
   {
    "duration": 5,
    "start_time": "2022-04-13T08:37:33.945Z"
   },
   {
    "duration": 2532,
    "start_time": "2022-04-13T08:37:34.451Z"
   },
   {
    "duration": 4,
    "start_time": "2022-04-13T08:39:23.524Z"
   },
   {
    "duration": 613,
    "start_time": "2022-04-13T08:39:24.006Z"
   },
   {
    "duration": 4,
    "start_time": "2022-04-13T08:39:24.621Z"
   },
   {
    "duration": 403,
    "start_time": "2022-04-13T08:39:25.467Z"
   },
   {
    "duration": 396,
    "start_time": "2022-04-13T08:39:31.483Z"
   },
   {
    "duration": 177,
    "start_time": "2022-04-13T08:39:31.948Z"
   },
   {
    "duration": 4,
    "start_time": "2022-04-13T09:14:49.435Z"
   },
   {
    "duration": 7,
    "start_time": "2022-04-13T09:14:49.969Z"
   },
   {
    "duration": 7,
    "start_time": "2022-04-13T09:16:47.353Z"
   },
   {
    "duration": 6,
    "start_time": "2022-04-13T09:16:54.592Z"
   },
   {
    "duration": 6,
    "start_time": "2022-04-13T09:16:59.793Z"
   },
   {
    "duration": 6,
    "start_time": "2022-04-13T09:17:48.661Z"
   },
   {
    "duration": 10,
    "start_time": "2022-04-13T09:19:31.588Z"
   },
   {
    "duration": 10,
    "start_time": "2022-04-13T09:19:43.061Z"
   },
   {
    "duration": 5,
    "start_time": "2022-04-13T09:19:58.453Z"
   },
   {
    "duration": 8,
    "start_time": "2022-04-13T09:20:12.964Z"
   },
   {
    "duration": 8,
    "start_time": "2022-04-13T09:20:37.819Z"
   },
   {
    "duration": 4,
    "start_time": "2022-04-13T09:29:52.499Z"
   },
   {
    "duration": 3,
    "start_time": "2022-04-13T09:30:30.827Z"
   },
   {
    "duration": 3,
    "start_time": "2022-04-13T09:31:34.991Z"
   },
   {
    "duration": 8,
    "start_time": "2022-04-13T09:33:20.983Z"
   },
   {
    "duration": 6,
    "start_time": "2022-04-13T09:33:35.246Z"
   },
   {
    "duration": 4,
    "start_time": "2022-04-13T09:33:35.933Z"
   },
   {
    "duration": 3,
    "start_time": "2022-04-13T09:33:36.565Z"
   },
   {
    "duration": 3,
    "start_time": "2022-04-13T09:34:41.992Z"
   },
   {
    "duration": 4,
    "start_time": "2022-04-13T09:34:50.514Z"
   },
   {
    "duration": 1166,
    "start_time": "2022-04-13T09:38:25.011Z"
   },
   {
    "duration": 695,
    "start_time": "2022-04-13T09:38:26.179Z"
   },
   {
    "duration": 4,
    "start_time": "2022-04-13T09:38:26.876Z"
   },
   {
    "duration": 441,
    "start_time": "2022-04-13T09:38:26.881Z"
   },
   {
    "duration": 437,
    "start_time": "2022-04-13T09:38:27.324Z"
   },
   {
    "duration": 198,
    "start_time": "2022-04-13T09:38:27.763Z"
   },
   {
    "duration": 7,
    "start_time": "2022-04-13T09:38:27.962Z"
   },
   {
    "duration": 5,
    "start_time": "2022-04-13T09:38:27.971Z"
   },
   {
    "duration": 6,
    "start_time": "2022-04-13T09:38:27.977Z"
   },
   {
    "duration": 9,
    "start_time": "2022-04-13T09:38:28.007Z"
   },
   {
    "duration": 5,
    "start_time": "2022-04-13T09:40:20.887Z"
   },
   {
    "duration": 4,
    "start_time": "2022-04-13T09:40:30.901Z"
   },
   {
    "duration": 4,
    "start_time": "2022-04-13T09:40:35.643Z"
   },
   {
    "duration": 5,
    "start_time": "2022-04-13T09:40:39.378Z"
   },
   {
    "duration": 1573,
    "start_time": "2022-04-13T09:49:37.017Z"
   },
   {
    "duration": 12,
    "start_time": "2022-04-13T09:49:54.197Z"
   },
   {
    "duration": 14,
    "start_time": "2022-04-13T10:04:26.374Z"
   },
   {
    "duration": 19,
    "start_time": "2022-04-13T10:04:35.716Z"
   },
   {
    "duration": 13,
    "start_time": "2022-04-13T10:04:51.327Z"
   },
   {
    "duration": 16,
    "start_time": "2022-04-13T10:05:06.005Z"
   },
   {
    "duration": 11,
    "start_time": "2022-04-13T10:12:07.142Z"
   },
   {
    "duration": 14,
    "start_time": "2022-04-13T10:12:22.199Z"
   },
   {
    "duration": 5,
    "start_time": "2022-04-13T10:13:47.492Z"
   },
   {
    "duration": 4,
    "start_time": "2022-04-13T10:14:16.367Z"
   },
   {
    "duration": 1158,
    "start_time": "2022-04-13T10:14:22.659Z"
   },
   {
    "duration": 632,
    "start_time": "2022-04-13T10:14:23.819Z"
   },
   {
    "duration": 3,
    "start_time": "2022-04-13T10:14:24.453Z"
   },
   {
    "duration": 439,
    "start_time": "2022-04-13T10:14:24.459Z"
   },
   {
    "duration": 426,
    "start_time": "2022-04-13T10:14:24.900Z"
   },
   {
    "duration": 204,
    "start_time": "2022-04-13T10:14:25.328Z"
   },
   {
    "duration": 6,
    "start_time": "2022-04-13T10:14:25.534Z"
   },
   {
    "duration": 10,
    "start_time": "2022-04-13T10:14:25.542Z"
   },
   {
    "duration": 9,
    "start_time": "2022-04-13T10:14:25.553Z"
   },
   {
    "duration": 8,
    "start_time": "2022-04-13T10:14:25.564Z"
   },
   {
    "duration": 15,
    "start_time": "2022-04-13T10:14:25.573Z"
   },
   {
    "duration": 14,
    "start_time": "2022-04-13T10:14:25.608Z"
   },
   {
    "duration": 16,
    "start_time": "2022-04-13T10:14:25.624Z"
   },
   {
    "duration": 99,
    "start_time": "2022-04-13T10:15:33.755Z"
   },
   {
    "duration": 6,
    "start_time": "2022-04-13T10:15:46.463Z"
   },
   {
    "duration": 5,
    "start_time": "2022-04-13T10:15:58.744Z"
   },
   {
    "duration": 14,
    "start_time": "2022-04-13T10:17:14.986Z"
   },
   {
    "duration": 4,
    "start_time": "2022-04-13T10:18:06.626Z"
   },
   {
    "duration": 5,
    "start_time": "2022-04-13T10:18:18.217Z"
   },
   {
    "duration": 1188,
    "start_time": "2022-04-13T10:19:16.719Z"
   },
   {
    "duration": 637,
    "start_time": "2022-04-13T10:19:17.908Z"
   },
   {
    "duration": 3,
    "start_time": "2022-04-13T10:19:18.547Z"
   },
   {
    "duration": 431,
    "start_time": "2022-04-13T10:19:18.552Z"
   },
   {
    "duration": 451,
    "start_time": "2022-04-13T10:19:18.985Z"
   },
   {
    "duration": 221,
    "start_time": "2022-04-13T10:19:19.438Z"
   },
   {
    "duration": 6,
    "start_time": "2022-04-13T10:19:19.660Z"
   },
   {
    "duration": 4,
    "start_time": "2022-04-13T10:19:19.667Z"
   },
   {
    "duration": 5,
    "start_time": "2022-04-13T10:19:19.673Z"
   },
   {
    "duration": 5,
    "start_time": "2022-04-13T10:19:26.393Z"
   },
   {
    "duration": 14,
    "start_time": "2022-04-13T10:20:25.206Z"
   },
   {
    "duration": 14,
    "start_time": "2022-04-13T10:20:26.671Z"
   },
   {
    "duration": 6,
    "start_time": "2022-04-13T10:20:27.745Z"
   },
   {
    "duration": 22,
    "start_time": "2022-04-13T10:23:32.719Z"
   },
   {
    "duration": 23,
    "start_time": "2022-04-13T10:23:56.705Z"
   },
   {
    "duration": 23,
    "start_time": "2022-04-13T10:24:14.350Z"
   },
   {
    "duration": 98,
    "start_time": "2022-04-13T10:26:07.430Z"
   },
   {
    "duration": 1128,
    "start_time": "2022-04-13T10:26:20.179Z"
   },
   {
    "duration": 623,
    "start_time": "2022-04-13T10:26:21.309Z"
   },
   {
    "duration": 4,
    "start_time": "2022-04-13T10:26:21.934Z"
   },
   {
    "duration": 422,
    "start_time": "2022-04-13T10:26:21.940Z"
   },
   {
    "duration": 412,
    "start_time": "2022-04-13T10:26:22.364Z"
   },
   {
    "duration": 198,
    "start_time": "2022-04-13T10:26:22.778Z"
   },
   {
    "duration": 5,
    "start_time": "2022-04-13T10:26:22.978Z"
   },
   {
    "duration": 7,
    "start_time": "2022-04-13T10:26:22.985Z"
   },
   {
    "duration": 14,
    "start_time": "2022-04-13T10:26:22.993Z"
   },
   {
    "duration": 6,
    "start_time": "2022-04-13T10:26:23.010Z"
   },
   {
    "duration": 18,
    "start_time": "2022-04-13T10:26:23.017Z"
   },
   {
    "duration": 13,
    "start_time": "2022-04-13T10:26:23.037Z"
   },
   {
    "duration": 4,
    "start_time": "2022-04-13T10:26:23.052Z"
   },
   {
    "duration": 128,
    "start_time": "2022-04-13T10:26:23.057Z"
   },
   {
    "duration": 18,
    "start_time": "2022-04-13T10:28:57.797Z"
   },
   {
    "duration": 7,
    "start_time": "2022-04-13T10:31:26.830Z"
   },
   {
    "duration": 7,
    "start_time": "2022-04-13T10:31:47.861Z"
   },
   {
    "duration": 6,
    "start_time": "2022-04-13T10:31:50.745Z"
   },
   {
    "duration": 8,
    "start_time": "2022-04-13T10:32:06.842Z"
   },
   {
    "duration": 14,
    "start_time": "2022-04-13T10:33:01.364Z"
   },
   {
    "duration": 7,
    "start_time": "2022-04-13T10:33:13.754Z"
   },
   {
    "duration": 6,
    "start_time": "2022-04-13T10:33:21.596Z"
   },
   {
    "duration": 115,
    "start_time": "2022-04-13T11:13:09.694Z"
   },
   {
    "duration": 115,
    "start_time": "2022-04-13T11:13:24.397Z"
   },
   {
    "duration": 1176,
    "start_time": "2022-04-13T11:15:58.241Z"
   },
   {
    "duration": 679,
    "start_time": "2022-04-13T11:15:59.419Z"
   },
   {
    "duration": 4,
    "start_time": "2022-04-13T11:16:00.102Z"
   },
   {
    "duration": 442,
    "start_time": "2022-04-13T11:16:00.108Z"
   },
   {
    "duration": 438,
    "start_time": "2022-04-13T11:16:00.551Z"
   },
   {
    "duration": 205,
    "start_time": "2022-04-13T11:16:00.990Z"
   },
   {
    "duration": 10,
    "start_time": "2022-04-13T11:16:01.197Z"
   },
   {
    "duration": 4,
    "start_time": "2022-04-13T11:16:01.209Z"
   },
   {
    "duration": 7,
    "start_time": "2022-04-13T11:16:01.215Z"
   },
   {
    "duration": 6,
    "start_time": "2022-04-13T11:16:01.224Z"
   },
   {
    "duration": 17,
    "start_time": "2022-04-13T11:16:01.231Z"
   },
   {
    "duration": 14,
    "start_time": "2022-04-13T11:16:01.250Z"
   },
   {
    "duration": 8,
    "start_time": "2022-04-13T11:16:01.266Z"
   },
   {
    "duration": 233,
    "start_time": "2022-04-13T11:16:01.310Z"
   },
   {
    "duration": 12,
    "start_time": "2022-04-13T11:18:10.008Z"
   },
   {
    "duration": 1778,
    "start_time": "2022-04-13T11:18:29.019Z"
   },
   {
    "duration": 204,
    "start_time": "2022-04-13T11:20:15.263Z"
   },
   {
    "duration": 217,
    "start_time": "2022-04-13T11:20:25.700Z"
   },
   {
    "duration": 218,
    "start_time": "2022-04-13T11:20:38.912Z"
   },
   {
    "duration": 214,
    "start_time": "2022-04-13T11:20:50.770Z"
   },
   {
    "duration": 230,
    "start_time": "2022-04-13T11:20:59.507Z"
   },
   {
    "duration": 235,
    "start_time": "2022-04-13T11:22:43.203Z"
   },
   {
    "duration": 326,
    "start_time": "2022-04-13T11:22:49.704Z"
   },
   {
    "duration": 222,
    "start_time": "2022-04-13T11:22:55.149Z"
   },
   {
    "duration": 244,
    "start_time": "2022-04-13T11:23:03.180Z"
   },
   {
    "duration": 230,
    "start_time": "2022-04-13T11:23:08.435Z"
   },
   {
    "duration": 247,
    "start_time": "2022-04-13T11:23:14.141Z"
   },
   {
    "duration": 191,
    "start_time": "2022-04-13T12:15:30.087Z"
   },
   {
    "duration": 231,
    "start_time": "2022-04-13T12:15:36.886Z"
   },
   {
    "duration": 234,
    "start_time": "2022-04-13T12:29:10.539Z"
   },
   {
    "duration": 246,
    "start_time": "2022-04-13T12:29:32.790Z"
   },
   {
    "duration": 231,
    "start_time": "2022-04-13T12:29:58.370Z"
   },
   {
    "duration": 145,
    "start_time": "2022-04-13T12:30:26.091Z"
   },
   {
    "duration": 245,
    "start_time": "2022-04-13T12:30:32.830Z"
   },
   {
    "duration": 137,
    "start_time": "2022-04-13T12:30:40.372Z"
   },
   {
    "duration": 229,
    "start_time": "2022-04-13T12:31:07.821Z"
   },
   {
    "duration": 4,
    "start_time": "2022-04-13T12:31:36.376Z"
   },
   {
    "duration": 261,
    "start_time": "2022-04-13T12:31:43.003Z"
   },
   {
    "duration": 254,
    "start_time": "2022-04-13T12:31:52.956Z"
   },
   {
    "duration": 258,
    "start_time": "2022-04-13T12:32:19.225Z"
   },
   {
    "duration": 5,
    "start_time": "2022-04-13T12:34:17.290Z"
   },
   {
    "duration": 4,
    "start_time": "2022-04-13T12:34:47.782Z"
   },
   {
    "duration": 277,
    "start_time": "2022-04-13T12:34:48.181Z"
   },
   {
    "duration": 270,
    "start_time": "2022-04-13T12:34:55.319Z"
   },
   {
    "duration": 257,
    "start_time": "2022-04-13T12:35:18.784Z"
   },
   {
    "duration": 4,
    "start_time": "2022-04-13T12:37:08.849Z"
   },
   {
    "duration": 267,
    "start_time": "2022-04-13T12:37:09.198Z"
   },
   {
    "duration": 5,
    "start_time": "2022-04-13T12:37:15.654Z"
   },
   {
    "duration": 288,
    "start_time": "2022-04-13T12:37:19.004Z"
   },
   {
    "duration": 4,
    "start_time": "2022-04-13T12:38:40.062Z"
   },
   {
    "duration": 254,
    "start_time": "2022-04-13T12:38:40.466Z"
   },
   {
    "duration": 4,
    "start_time": "2022-04-13T12:38:56.744Z"
   },
   {
    "duration": 361,
    "start_time": "2022-04-13T12:39:01.260Z"
   },
   {
    "duration": 5,
    "start_time": "2022-04-13T12:44:01.201Z"
   },
   {
    "duration": 753,
    "start_time": "2022-04-13T12:44:01.931Z"
   },
   {
    "duration": 5,
    "start_time": "2022-04-13T12:44:11.052Z"
   },
   {
    "duration": 823,
    "start_time": "2022-04-13T12:44:21.606Z"
   },
   {
    "duration": 5,
    "start_time": "2022-04-13T12:44:51.934Z"
   },
   {
    "duration": 652,
    "start_time": "2022-04-13T12:44:52.249Z"
   },
   {
    "duration": 5,
    "start_time": "2022-04-13T12:45:33.144Z"
   },
   {
    "duration": 945,
    "start_time": "2022-04-13T12:45:33.530Z"
   },
   {
    "duration": 5,
    "start_time": "2022-04-13T12:48:19.166Z"
   },
   {
    "duration": 2299,
    "start_time": "2022-04-13T12:48:20.200Z"
   },
   {
    "duration": 4,
    "start_time": "2022-04-13T12:49:04.234Z"
   },
   {
    "duration": 632,
    "start_time": "2022-04-13T12:49:04.864Z"
   },
   {
    "duration": 5,
    "start_time": "2022-04-13T12:49:17.336Z"
   },
   {
    "duration": 282,
    "start_time": "2022-04-13T12:49:18.324Z"
   },
   {
    "duration": 5,
    "start_time": "2022-04-13T12:50:54.428Z"
   },
   {
    "duration": 438,
    "start_time": "2022-04-13T12:50:55.078Z"
   },
   {
    "duration": 6,
    "start_time": "2022-04-13T12:51:32.819Z"
   },
   {
    "duration": 417,
    "start_time": "2022-04-13T12:51:33.792Z"
   },
   {
    "duration": 5,
    "start_time": "2022-04-13T12:51:58.788Z"
   },
   {
    "duration": 1463,
    "start_time": "2022-04-13T12:51:59.277Z"
   },
   {
    "duration": 5,
    "start_time": "2022-04-13T13:01:12.474Z"
   },
   {
    "duration": 1930,
    "start_time": "2022-04-13T13:01:12.770Z"
   },
   {
    "duration": 5,
    "start_time": "2022-04-13T13:01:23.631Z"
   },
   {
    "duration": 1465,
    "start_time": "2022-04-13T13:01:24.081Z"
   },
   {
    "duration": 5,
    "start_time": "2022-04-13T13:01:41.658Z"
   },
   {
    "duration": 1550,
    "start_time": "2022-04-13T13:01:42.328Z"
   },
   {
    "duration": 6,
    "start_time": "2022-04-13T13:02:35.936Z"
   },
   {
    "duration": 1558,
    "start_time": "2022-04-13T13:02:36.300Z"
   },
   {
    "duration": 5,
    "start_time": "2022-04-13T13:02:57.616Z"
   },
   {
    "duration": 1507,
    "start_time": "2022-04-13T13:02:58.366Z"
   },
   {
    "duration": 5,
    "start_time": "2022-04-13T13:04:02.445Z"
   },
   {
    "duration": 1434,
    "start_time": "2022-04-13T13:04:02.947Z"
   },
   {
    "duration": 5,
    "start_time": "2022-04-13T13:04:10.434Z"
   },
   {
    "duration": 1462,
    "start_time": "2022-04-13T13:04:10.919Z"
   },
   {
    "duration": 6,
    "start_time": "2022-04-13T13:06:09.613Z"
   },
   {
    "duration": 1454,
    "start_time": "2022-04-13T13:06:10.032Z"
   },
   {
    "duration": 5,
    "start_time": "2022-04-13T13:06:29.887Z"
   },
   {
    "duration": 1354,
    "start_time": "2022-04-13T13:06:31.987Z"
   },
   {
    "duration": 5,
    "start_time": "2022-04-13T13:06:46.659Z"
   },
   {
    "duration": 1283,
    "start_time": "2022-04-13T13:06:48.165Z"
   },
   {
    "duration": 5,
    "start_time": "2022-04-13T13:07:29.030Z"
   },
   {
    "duration": 1331,
    "start_time": "2022-04-13T13:07:29.509Z"
   },
   {
    "duration": 6,
    "start_time": "2022-04-13T13:08:53.908Z"
   },
   {
    "duration": 1299,
    "start_time": "2022-04-13T13:08:54.497Z"
   },
   {
    "duration": 5,
    "start_time": "2022-04-13T13:10:56.643Z"
   },
   {
    "duration": 1350,
    "start_time": "2022-04-13T13:10:58.310Z"
   },
   {
    "duration": 6,
    "start_time": "2022-04-13T13:11:06.316Z"
   },
   {
    "duration": 1198,
    "start_time": "2022-04-13T13:11:06.761Z"
   },
   {
    "duration": 5,
    "start_time": "2022-04-13T13:11:30.768Z"
   },
   {
    "duration": 1216,
    "start_time": "2022-04-13T13:11:31.370Z"
   },
   {
    "duration": 6,
    "start_time": "2022-04-13T13:11:50.700Z"
   },
   {
    "duration": 1408,
    "start_time": "2022-04-13T13:11:51.015Z"
   },
   {
    "duration": 6,
    "start_time": "2022-04-13T13:12:05.677Z"
   },
   {
    "duration": 1543,
    "start_time": "2022-04-13T13:12:06.161Z"
   },
   {
    "duration": 6,
    "start_time": "2022-04-13T13:13:00.684Z"
   },
   {
    "duration": 1459,
    "start_time": "2022-04-13T13:13:01.047Z"
   },
   {
    "duration": 5,
    "start_time": "2022-04-13T13:13:34.773Z"
   },
   {
    "duration": 1492,
    "start_time": "2022-04-13T13:13:35.191Z"
   },
   {
    "duration": 6,
    "start_time": "2022-04-13T13:14:14.703Z"
   },
   {
    "duration": 1501,
    "start_time": "2022-04-13T13:14:15.099Z"
   },
   {
    "duration": 6,
    "start_time": "2022-04-13T13:17:12.149Z"
   },
   {
    "duration": 1503,
    "start_time": "2022-04-13T13:17:12.782Z"
   },
   {
    "duration": 6,
    "start_time": "2022-04-13T13:20:39.262Z"
   },
   {
    "duration": 1251,
    "start_time": "2022-04-13T13:20:39.522Z"
   },
   {
    "duration": 8,
    "start_time": "2022-04-13T13:21:01.094Z"
   },
   {
    "duration": 1511,
    "start_time": "2022-04-13T13:21:01.678Z"
   },
   {
    "duration": 6,
    "start_time": "2022-04-13T13:21:17.405Z"
   },
   {
    "duration": 1566,
    "start_time": "2022-04-13T13:21:17.853Z"
   },
   {
    "duration": 1345,
    "start_time": "2022-04-13T13:22:33.212Z"
   },
   {
    "duration": 1432,
    "start_time": "2022-04-13T13:22:35.463Z"
   },
   {
    "duration": 6,
    "start_time": "2022-04-13T13:24:36.836Z"
   },
   {
    "duration": 1499,
    "start_time": "2022-04-13T13:24:37.378Z"
   },
   {
    "duration": 1344,
    "start_time": "2022-04-13T13:24:41.526Z"
   },
   {
    "duration": 1327,
    "start_time": "2022-04-13T13:24:43.977Z"
   },
   {
    "duration": 6,
    "start_time": "2022-04-13T13:27:02.192Z"
   },
   {
    "duration": 1490,
    "start_time": "2022-04-13T13:27:03.192Z"
   },
   {
    "duration": 1388,
    "start_time": "2022-04-13T13:27:13.297Z"
   },
   {
    "duration": 1510,
    "start_time": "2022-04-13T13:27:18.100Z"
   },
   {
    "duration": 8,
    "start_time": "2022-04-13T13:43:02.996Z"
   },
   {
    "duration": 188,
    "start_time": "2022-04-13T13:43:03.226Z"
   },
   {
    "duration": 6,
    "start_time": "2022-04-13T13:43:53.456Z"
   },
   {
    "duration": 180,
    "start_time": "2022-04-13T13:43:53.661Z"
   },
   {
    "duration": 10,
    "start_time": "2022-04-13T13:44:15.305Z"
   },
   {
    "duration": 509,
    "start_time": "2022-04-13T13:44:15.497Z"
   },
   {
    "duration": 6,
    "start_time": "2022-04-13T13:44:23.672Z"
   },
   {
    "duration": 3111,
    "start_time": "2022-04-13T13:44:23.920Z"
   },
   {
    "duration": 6,
    "start_time": "2022-04-13T13:44:49.592Z"
   },
   {
    "duration": 3041,
    "start_time": "2022-04-13T13:44:55.814Z"
   },
   {
    "duration": 6,
    "start_time": "2022-04-13T13:47:40.352Z"
   },
   {
    "duration": 215,
    "start_time": "2022-04-13T13:47:40.905Z"
   },
   {
    "duration": 6,
    "start_time": "2022-04-13T13:47:51.673Z"
   },
   {
    "duration": 209,
    "start_time": "2022-04-13T13:47:52.206Z"
   },
   {
    "duration": 6,
    "start_time": "2022-04-13T13:48:43.074Z"
   },
   {
    "duration": 6982,
    "start_time": "2022-04-13T13:48:43.745Z"
   },
   {
    "duration": 6,
    "start_time": "2022-04-13T13:49:56.864Z"
   },
   {
    "duration": 207,
    "start_time": "2022-04-13T13:49:57.467Z"
   },
   {
    "duration": 5,
    "start_time": "2022-04-13T13:50:26.498Z"
   },
   {
    "duration": 198,
    "start_time": "2022-04-13T13:50:27.148Z"
   },
   {
    "duration": 5,
    "start_time": "2022-04-13T13:50:55.673Z"
   },
   {
    "duration": 2845,
    "start_time": "2022-04-13T13:50:56.273Z"
   },
   {
    "duration": 11,
    "start_time": "2022-04-13T13:51:05.514Z"
   },
   {
    "duration": 6,
    "start_time": "2022-04-13T13:53:21.529Z"
   },
   {
    "duration": 1156,
    "start_time": "2022-04-13T13:54:19.641Z"
   },
   {
    "duration": 768,
    "start_time": "2022-04-13T13:54:20.800Z"
   },
   {
    "duration": 3,
    "start_time": "2022-04-13T13:54:21.570Z"
   },
   {
    "duration": 451,
    "start_time": "2022-04-13T13:54:21.575Z"
   },
   {
    "duration": 440,
    "start_time": "2022-04-13T13:54:22.028Z"
   },
   {
    "duration": 212,
    "start_time": "2022-04-13T13:54:22.470Z"
   },
   {
    "duration": 6,
    "start_time": "2022-04-13T13:54:22.684Z"
   },
   {
    "duration": 18,
    "start_time": "2022-04-13T13:54:22.691Z"
   },
   {
    "duration": 4,
    "start_time": "2022-04-13T13:54:22.712Z"
   },
   {
    "duration": 7,
    "start_time": "2022-04-13T13:54:22.718Z"
   },
   {
    "duration": 19,
    "start_time": "2022-04-13T13:54:22.727Z"
   },
   {
    "duration": 13,
    "start_time": "2022-04-13T13:54:22.747Z"
   },
   {
    "duration": 8,
    "start_time": "2022-04-13T13:54:22.762Z"
   },
   {
    "duration": 9,
    "start_time": "2022-04-13T13:54:22.807Z"
   },
   {
    "duration": 1616,
    "start_time": "2022-04-13T13:54:22.819Z"
   },
   {
    "duration": 1656,
    "start_time": "2022-04-13T13:54:24.437Z"
   },
   {
    "duration": 1488,
    "start_time": "2022-04-13T13:54:26.095Z"
   },
   {
    "duration": 116,
    "start_time": "2022-04-13T14:16:09.539Z"
   },
   {
    "duration": 19,
    "start_time": "2022-04-13T14:20:05.181Z"
   },
   {
    "duration": 6,
    "start_time": "2022-04-13T14:20:19.578Z"
   },
   {
    "duration": 8,
    "start_time": "2022-04-13T14:20:27.409Z"
   },
   {
    "duration": 9,
    "start_time": "2022-04-13T14:22:22.581Z"
   },
   {
    "duration": 20,
    "start_time": "2022-04-13T14:22:28.604Z"
   },
   {
    "duration": 13,
    "start_time": "2022-04-13T14:23:38.372Z"
   },
   {
    "duration": 303,
    "start_time": "2022-04-13T14:24:57.644Z"
   },
   {
    "duration": 1585,
    "start_time": "2022-04-13T14:25:15.327Z"
   },
   {
    "duration": 831,
    "start_time": "2022-04-13T14:26:44.251Z"
   },
   {
    "duration": 671,
    "start_time": "2022-04-13T14:27:03.767Z"
   },
   {
    "duration": 2147,
    "start_time": "2022-04-13T14:27:12.204Z"
   },
   {
    "duration": 1971,
    "start_time": "2022-04-13T14:27:32.585Z"
   },
   {
    "duration": 1883,
    "start_time": "2022-04-13T14:27:46.413Z"
   },
   {
    "duration": 2087,
    "start_time": "2022-04-13T14:28:08.329Z"
   },
   {
    "duration": 1973,
    "start_time": "2022-04-13T14:28:31.038Z"
   },
   {
    "duration": 1877,
    "start_time": "2022-04-13T14:29:25.234Z"
   },
   {
    "duration": 620,
    "start_time": "2022-04-13T14:30:08.616Z"
   },
   {
    "duration": 190,
    "start_time": "2022-04-13T14:31:19.999Z"
   },
   {
    "duration": 383,
    "start_time": "2022-04-13T14:31:31.863Z"
   },
   {
    "duration": 187,
    "start_time": "2022-04-13T14:32:14.273Z"
   },
   {
    "duration": 456,
    "start_time": "2022-04-13T14:32:29.302Z"
   },
   {
    "duration": 528,
    "start_time": "2022-04-13T14:32:35.424Z"
   },
   {
    "duration": 337,
    "start_time": "2022-04-13T14:34:05.490Z"
   },
   {
    "duration": 393,
    "start_time": "2022-04-13T14:34:22.448Z"
   },
   {
    "duration": 378,
    "start_time": "2022-04-13T14:36:18.248Z"
   },
   {
    "duration": 212,
    "start_time": "2022-04-13T14:36:25.207Z"
   },
   {
    "duration": 360,
    "start_time": "2022-04-13T14:36:46.667Z"
   },
   {
    "duration": 514,
    "start_time": "2022-04-13T14:36:57.446Z"
   },
   {
    "duration": 370,
    "start_time": "2022-04-13T14:37:05.902Z"
   },
   {
    "duration": 345,
    "start_time": "2022-04-13T14:38:38.969Z"
   },
   {
    "duration": 410,
    "start_time": "2022-04-13T14:38:54.046Z"
   },
   {
    "duration": 296,
    "start_time": "2022-04-13T14:39:24.885Z"
   },
   {
    "duration": 265,
    "start_time": "2022-04-13T14:39:31.649Z"
   },
   {
    "duration": 261,
    "start_time": "2022-04-13T14:39:36.674Z"
   },
   {
    "duration": 468,
    "start_time": "2022-04-13T14:39:43.196Z"
   },
   {
    "duration": 339,
    "start_time": "2022-04-13T14:39:48.314Z"
   },
   {
    "duration": 426,
    "start_time": "2022-04-13T14:40:29.731Z"
   },
   {
    "duration": 429,
    "start_time": "2022-04-13T14:40:41.421Z"
   },
   {
    "duration": 409,
    "start_time": "2022-04-13T14:40:47.651Z"
   },
   {
    "duration": 478,
    "start_time": "2022-04-13T14:40:55.683Z"
   },
   {
    "duration": 572,
    "start_time": "2022-04-13T14:41:49.390Z"
   },
   {
    "duration": 436,
    "start_time": "2022-04-13T14:42:09.855Z"
   },
   {
    "duration": 397,
    "start_time": "2022-04-13T14:42:22.074Z"
   },
   {
    "duration": 6,
    "start_time": "2022-04-13T14:43:19.054Z"
   },
   {
    "duration": 717,
    "start_time": "2022-04-13T14:43:19.869Z"
   },
   {
    "duration": 827,
    "start_time": "2022-04-13T14:43:41.848Z"
   },
   {
    "duration": 6,
    "start_time": "2022-04-13T14:44:25.652Z"
   },
   {
    "duration": 181,
    "start_time": "2022-04-13T14:44:25.969Z"
   },
   {
    "duration": 6,
    "start_time": "2022-04-13T14:44:49.469Z"
   },
   {
    "duration": 168,
    "start_time": "2022-04-13T14:44:50.119Z"
   },
   {
    "duration": 7,
    "start_time": "2022-04-13T14:45:02.744Z"
   },
   {
    "duration": 759,
    "start_time": "2022-04-13T14:45:03.429Z"
   },
   {
    "duration": 900,
    "start_time": "2022-04-13T14:45:09.715Z"
   },
   {
    "duration": 789,
    "start_time": "2022-04-13T14:45:10.618Z"
   },
   {
    "duration": 389,
    "start_time": "2022-04-13T14:47:09.649Z"
   },
   {
    "duration": 8,
    "start_time": "2022-04-13T14:58:06.056Z"
   },
   {
    "duration": 94,
    "start_time": "2022-04-13T15:03:16.830Z"
   },
   {
    "duration": 1381,
    "start_time": "2022-04-13T15:04:15.638Z"
   },
   {
    "duration": 1514,
    "start_time": "2022-04-13T15:06:17.976Z"
   },
   {
    "duration": 23,
    "start_time": "2022-04-13T15:07:06.129Z"
   },
   {
    "duration": 1578,
    "start_time": "2022-04-13T15:26:48.252Z"
   },
   {
    "duration": 1079,
    "start_time": "2022-04-13T15:27:02.355Z"
   },
   {
    "duration": 698,
    "start_time": "2022-04-13T15:27:03.436Z"
   },
   {
    "duration": 5,
    "start_time": "2022-04-13T15:27:04.137Z"
   },
   {
    "duration": 453,
    "start_time": "2022-04-13T15:27:04.144Z"
   },
   {
    "duration": 426,
    "start_time": "2022-04-13T15:27:04.600Z"
   },
   {
    "duration": 199,
    "start_time": "2022-04-13T15:27:05.028Z"
   },
   {
    "duration": 7,
    "start_time": "2022-04-13T15:27:05.228Z"
   },
   {
    "duration": 4,
    "start_time": "2022-04-13T15:27:05.237Z"
   },
   {
    "duration": 6,
    "start_time": "2022-04-13T15:27:05.242Z"
   },
   {
    "duration": 6,
    "start_time": "2022-04-13T15:27:05.249Z"
   },
   {
    "duration": 15,
    "start_time": "2022-04-13T15:27:05.256Z"
   },
   {
    "duration": 43,
    "start_time": "2022-04-13T15:27:05.272Z"
   },
   {
    "duration": 8,
    "start_time": "2022-04-13T15:27:05.316Z"
   },
   {
    "duration": 6,
    "start_time": "2022-04-13T15:27:05.326Z"
   },
   {
    "duration": 755,
    "start_time": "2022-04-13T15:27:05.334Z"
   },
   {
    "duration": 805,
    "start_time": "2022-04-13T15:27:06.091Z"
   },
   {
    "duration": 762,
    "start_time": "2022-04-13T15:27:06.898Z"
   },
   {
    "duration": 389,
    "start_time": "2022-04-13T15:27:07.662Z"
   },
   {
    "duration": 1537,
    "start_time": "2022-04-13T15:27:08.053Z"
   },
   {
    "duration": 0,
    "start_time": "2022-04-13T15:27:09.591Z"
   },
   {
    "duration": 8,
    "start_time": "2022-04-13T15:29:45.802Z"
   },
   {
    "duration": 10,
    "start_time": "2022-04-13T15:29:46.931Z"
   },
   {
    "duration": 4,
    "start_time": "2022-04-13T15:30:07.829Z"
   },
   {
    "duration": 8,
    "start_time": "2022-04-13T15:30:13.321Z"
   },
   {
    "duration": 16,
    "start_time": "2022-04-13T15:30:13.654Z"
   },
   {
    "duration": 15,
    "start_time": "2022-04-13T15:37:09.141Z"
   },
   {
    "duration": 5,
    "start_time": "2022-04-13T15:38:11.686Z"
   },
   {
    "duration": 6,
    "start_time": "2022-04-13T15:38:18.526Z"
   },
   {
    "duration": 5,
    "start_time": "2022-04-13T15:38:25.375Z"
   },
   {
    "duration": 5,
    "start_time": "2022-04-13T15:38:32.385Z"
   },
   {
    "duration": 7,
    "start_time": "2022-04-13T15:38:50.243Z"
   },
   {
    "duration": 92,
    "start_time": "2022-04-13T15:38:50.627Z"
   },
   {
    "duration": 14,
    "start_time": "2022-04-13T15:38:57.685Z"
   },
   {
    "duration": 8,
    "start_time": "2022-04-13T15:39:48.635Z"
   },
   {
    "duration": 12,
    "start_time": "2022-04-13T15:42:36.896Z"
   },
   {
    "duration": 38,
    "start_time": "2022-04-13T15:45:30.613Z"
   },
   {
    "duration": 12,
    "start_time": "2022-04-13T15:46:30.209Z"
   },
   {
    "duration": 15,
    "start_time": "2022-04-13T15:46:57.279Z"
   },
   {
    "duration": 15,
    "start_time": "2022-04-13T15:47:05.417Z"
   },
   {
    "duration": 12,
    "start_time": "2022-04-13T15:48:35.647Z"
   },
   {
    "duration": 16,
    "start_time": "2022-04-13T15:49:45.003Z"
   },
   {
    "duration": 9,
    "start_time": "2022-04-13T15:51:19.419Z"
   },
   {
    "duration": 184,
    "start_time": "2022-04-13T15:53:11.035Z"
   },
   {
    "duration": 4,
    "start_time": "2022-04-13T15:53:20.906Z"
   },
   {
    "duration": 450,
    "start_time": "2022-04-13T15:53:21.206Z"
   },
   {
    "duration": 567,
    "start_time": "2022-04-13T15:53:36.886Z"
   },
   {
    "duration": 543,
    "start_time": "2022-04-13T15:53:47.128Z"
   },
   {
    "duration": 1224,
    "start_time": "2022-04-14T07:48:37.913Z"
   },
   {
    "duration": 606,
    "start_time": "2022-04-14T07:48:39.139Z"
   },
   {
    "duration": 3,
    "start_time": "2022-04-14T07:48:39.747Z"
   },
   {
    "duration": 385,
    "start_time": "2022-04-14T07:48:39.752Z"
   },
   {
    "duration": 381,
    "start_time": "2022-04-14T07:48:40.139Z"
   },
   {
    "duration": 176,
    "start_time": "2022-04-14T07:48:40.521Z"
   },
   {
    "duration": 6,
    "start_time": "2022-04-14T07:48:40.699Z"
   },
   {
    "duration": 7,
    "start_time": "2022-04-14T07:48:40.706Z"
   },
   {
    "duration": 18,
    "start_time": "2022-04-14T07:48:40.715Z"
   },
   {
    "duration": 14,
    "start_time": "2022-04-14T07:48:40.736Z"
   },
   {
    "duration": 19,
    "start_time": "2022-04-14T07:48:40.752Z"
   },
   {
    "duration": 12,
    "start_time": "2022-04-14T07:48:40.773Z"
   },
   {
    "duration": 7,
    "start_time": "2022-04-14T07:48:40.787Z"
   },
   {
    "duration": 5,
    "start_time": "2022-04-14T07:48:40.796Z"
   },
   {
    "duration": 674,
    "start_time": "2022-04-14T07:48:40.803Z"
   },
   {
    "duration": 744,
    "start_time": "2022-04-14T07:48:41.479Z"
   },
   {
    "duration": 693,
    "start_time": "2022-04-14T07:48:42.224Z"
   },
   {
    "duration": 334,
    "start_time": "2022-04-14T07:48:42.919Z"
   },
   {
    "duration": 7,
    "start_time": "2022-04-14T07:48:43.255Z"
   },
   {
    "duration": 5,
    "start_time": "2022-04-14T07:48:43.264Z"
   },
   {
    "duration": 459,
    "start_time": "2022-04-14T07:48:43.270Z"
   },
   {
    "duration": 560,
    "start_time": "2022-04-14T07:51:50.552Z"
   },
   {
    "duration": 677,
    "start_time": "2022-04-14T07:52:45.905Z"
   },
   {
    "duration": 636,
    "start_time": "2022-04-14T07:53:20.114Z"
   },
   {
    "duration": 5,
    "start_time": "2022-04-14T07:55:49.930Z"
   },
   {
    "duration": 843,
    "start_time": "2022-04-14T07:55:50.688Z"
   },
   {
    "duration": 5,
    "start_time": "2022-04-14T08:05:03.539Z"
   },
   {
    "duration": 747,
    "start_time": "2022-04-14T08:05:04.791Z"
   },
   {
    "duration": 639,
    "start_time": "2022-04-14T08:05:06.731Z"
   },
   {
    "duration": 753,
    "start_time": "2022-04-14T08:05:09.344Z"
   },
   {
    "duration": 1098,
    "start_time": "2022-04-14T08:05:15.922Z"
   },
   {
    "duration": 587,
    "start_time": "2022-04-14T08:05:17.022Z"
   },
   {
    "duration": 4,
    "start_time": "2022-04-14T08:05:17.610Z"
   },
   {
    "duration": 366,
    "start_time": "2022-04-14T08:05:17.616Z"
   },
   {
    "duration": 363,
    "start_time": "2022-04-14T08:05:17.984Z"
   },
   {
    "duration": 162,
    "start_time": "2022-04-14T08:05:18.349Z"
   },
   {
    "duration": 6,
    "start_time": "2022-04-14T08:05:18.513Z"
   },
   {
    "duration": 6,
    "start_time": "2022-04-14T08:05:18.520Z"
   },
   {
    "duration": 21,
    "start_time": "2022-04-14T08:05:18.527Z"
   },
   {
    "duration": 5,
    "start_time": "2022-04-14T08:05:18.551Z"
   },
   {
    "duration": 16,
    "start_time": "2022-04-14T08:05:18.557Z"
   },
   {
    "duration": 13,
    "start_time": "2022-04-14T08:05:18.574Z"
   },
   {
    "duration": 8,
    "start_time": "2022-04-14T08:05:18.588Z"
   },
   {
    "duration": 5,
    "start_time": "2022-04-14T08:05:18.597Z"
   },
   {
    "duration": 649,
    "start_time": "2022-04-14T08:05:18.604Z"
   },
   {
    "duration": 718,
    "start_time": "2022-04-14T08:05:19.255Z"
   },
   {
    "duration": 639,
    "start_time": "2022-04-14T08:05:19.975Z"
   },
   {
    "duration": 303,
    "start_time": "2022-04-14T08:05:20.616Z"
   },
   {
    "duration": 7,
    "start_time": "2022-04-14T08:05:20.921Z"
   },
   {
    "duration": 18,
    "start_time": "2022-04-14T08:05:20.929Z"
   },
   {
    "duration": 241,
    "start_time": "2022-04-14T08:05:20.949Z"
   },
   {
    "duration": 6,
    "start_time": "2022-04-14T08:06:21.845Z"
   },
   {
    "duration": 2377,
    "start_time": "2022-04-14T08:06:22.193Z"
   },
   {
    "duration": 1560,
    "start_time": "2022-04-14T08:06:34.254Z"
   },
   {
    "duration": 1453,
    "start_time": "2022-04-14T08:06:51.494Z"
   },
   {
    "duration": 302,
    "start_time": "2022-04-14T08:07:34.347Z"
   },
   {
    "duration": 821,
    "start_time": "2022-04-14T08:09:07.416Z"
   },
   {
    "duration": 5,
    "start_time": "2022-04-14T08:09:22.026Z"
   },
   {
    "duration": 998,
    "start_time": "2022-04-14T08:09:22.444Z"
   },
   {
    "duration": 1180,
    "start_time": "2022-04-14T08:09:23.448Z"
   },
   {
    "duration": 929,
    "start_time": "2022-04-14T08:09:24.630Z"
   },
   {
    "duration": 338,
    "start_time": "2022-04-14T08:09:31.288Z"
   },
   {
    "duration": 6,
    "start_time": "2022-04-14T08:09:33.736Z"
   },
   {
    "duration": 9,
    "start_time": "2022-04-14T08:09:34.253Z"
   },
   {
    "duration": 731,
    "start_time": "2022-04-14T08:09:38.483Z"
   },
   {
    "duration": 20,
    "start_time": "2022-04-14T08:15:25.229Z"
   },
   {
    "duration": 446,
    "start_time": "2022-04-14T08:15:33.709Z"
   },
   {
    "duration": 13,
    "start_time": "2022-04-14T08:17:37.566Z"
   },
   {
    "duration": 16,
    "start_time": "2022-04-14T08:18:36.724Z"
   },
   {
    "duration": 186,
    "start_time": "2022-04-14T08:18:37.791Z"
   },
   {
    "duration": 20,
    "start_time": "2022-04-14T08:19:17.404Z"
   },
   {
    "duration": 177,
    "start_time": "2022-04-14T08:19:18.020Z"
   },
   {
    "duration": 2,
    "start_time": "2022-04-14T08:23:52.736Z"
   },
   {
    "duration": 7,
    "start_time": "2022-04-14T08:23:53.386Z"
   },
   {
    "duration": 179,
    "start_time": "2022-04-14T08:23:54.182Z"
   },
   {
    "duration": 10,
    "start_time": "2022-04-14T08:24:11.648Z"
   },
   {
    "duration": 180,
    "start_time": "2022-04-14T08:24:12.029Z"
   },
   {
    "duration": 10,
    "start_time": "2022-04-14T08:26:11.069Z"
   },
   {
    "duration": 179,
    "start_time": "2022-04-14T08:26:12.104Z"
   },
   {
    "duration": 10,
    "start_time": "2022-04-14T08:26:29.115Z"
   },
   {
    "duration": 178,
    "start_time": "2022-04-14T08:26:29.817Z"
   },
   {
    "duration": 12,
    "start_time": "2022-04-14T08:27:14.160Z"
   },
   {
    "duration": 11,
    "start_time": "2022-04-14T08:27:49.149Z"
   },
   {
    "duration": 10,
    "start_time": "2022-04-14T08:28:23.999Z"
   },
   {
    "duration": 175,
    "start_time": "2022-04-14T08:28:25.099Z"
   },
   {
    "duration": 12,
    "start_time": "2022-04-14T08:28:35.305Z"
   },
   {
    "duration": 11,
    "start_time": "2022-04-14T08:28:48.145Z"
   },
   {
    "duration": 180,
    "start_time": "2022-04-14T08:28:48.679Z"
   },
   {
    "duration": 13,
    "start_time": "2022-04-14T08:28:56.323Z"
   },
   {
    "duration": 184,
    "start_time": "2022-04-14T08:29:01.776Z"
   },
   {
    "duration": 14,
    "start_time": "2022-04-14T08:29:09.113Z"
   },
   {
    "duration": 190,
    "start_time": "2022-04-14T08:29:09.831Z"
   },
   {
    "duration": 13,
    "start_time": "2022-04-14T08:29:24.424Z"
   },
   {
    "duration": 284,
    "start_time": "2022-04-14T08:29:25.438Z"
   },
   {
    "duration": 10,
    "start_time": "2022-04-14T08:29:33.280Z"
   },
   {
    "duration": 13,
    "start_time": "2022-04-14T08:29:48.338Z"
   },
   {
    "duration": 11,
    "start_time": "2022-04-14T08:30:20.449Z"
   },
   {
    "duration": 182,
    "start_time": "2022-04-14T08:30:20.863Z"
   },
   {
    "duration": 14,
    "start_time": "2022-04-14T08:37:15.343Z"
   },
   {
    "duration": 148,
    "start_time": "2022-04-14T08:37:16.062Z"
   },
   {
    "duration": 1374,
    "start_time": "2022-04-14T08:37:40.445Z"
   },
   {
    "duration": 886,
    "start_time": "2022-04-14T08:37:41.821Z"
   },
   {
    "duration": 5,
    "start_time": "2022-04-14T08:37:42.709Z"
   },
   {
    "duration": 517,
    "start_time": "2022-04-14T08:37:42.716Z"
   },
   {
    "duration": 369,
    "start_time": "2022-04-14T08:37:43.235Z"
   },
   {
    "duration": 176,
    "start_time": "2022-04-14T08:37:43.606Z"
   },
   {
    "duration": 6,
    "start_time": "2022-04-14T08:37:43.784Z"
   },
   {
    "duration": 6,
    "start_time": "2022-04-14T08:37:43.792Z"
   },
   {
    "duration": 6,
    "start_time": "2022-04-14T08:37:43.800Z"
   },
   {
    "duration": 7,
    "start_time": "2022-04-14T08:37:43.810Z"
   },
   {
    "duration": 37,
    "start_time": "2022-04-14T08:37:43.818Z"
   },
   {
    "duration": 13,
    "start_time": "2022-04-14T08:37:43.856Z"
   },
   {
    "duration": 10,
    "start_time": "2022-04-14T08:37:43.871Z"
   },
   {
    "duration": 8,
    "start_time": "2022-04-14T08:37:43.883Z"
   },
   {
    "duration": 662,
    "start_time": "2022-04-14T08:37:43.893Z"
   },
   {
    "duration": 729,
    "start_time": "2022-04-14T08:37:44.556Z"
   },
   {
    "duration": 666,
    "start_time": "2022-04-14T08:37:45.287Z"
   },
   {
    "duration": 329,
    "start_time": "2022-04-14T08:37:45.955Z"
   },
   {
    "duration": 8,
    "start_time": "2022-04-14T08:37:46.286Z"
   },
   {
    "duration": 7,
    "start_time": "2022-04-14T08:37:46.296Z"
   },
   {
    "duration": 678,
    "start_time": "2022-04-14T08:37:46.306Z"
   },
   {
    "duration": 145,
    "start_time": "2022-04-14T08:37:46.986Z"
   },
   {
    "duration": 218,
    "start_time": "2022-04-14T08:37:47.132Z"
   },
   {
    "duration": 139,
    "start_time": "2022-04-14T08:51:03.763Z"
   },
   {
    "duration": 16,
    "start_time": "2022-04-14T08:51:53.826Z"
   },
   {
    "duration": 181,
    "start_time": "2022-04-14T08:51:54.533Z"
   },
   {
    "duration": 48,
    "start_time": "2022-04-14T09:02:19.417Z"
   },
   {
    "duration": 1462,
    "start_time": "2022-04-14T09:03:54.804Z"
   },
   {
    "duration": 899,
    "start_time": "2022-04-14T09:03:56.269Z"
   },
   {
    "duration": 5,
    "start_time": "2022-04-14T09:03:57.170Z"
   },
   {
    "duration": 380,
    "start_time": "2022-04-14T09:03:57.177Z"
   },
   {
    "duration": 373,
    "start_time": "2022-04-14T09:03:57.558Z"
   },
   {
    "duration": 169,
    "start_time": "2022-04-14T09:03:57.932Z"
   },
   {
    "duration": 6,
    "start_time": "2022-04-14T09:03:58.103Z"
   },
   {
    "duration": 5,
    "start_time": "2022-04-14T09:03:58.111Z"
   },
   {
    "duration": 5,
    "start_time": "2022-04-14T09:03:58.117Z"
   },
   {
    "duration": 29,
    "start_time": "2022-04-14T09:03:58.124Z"
   },
   {
    "duration": 14,
    "start_time": "2022-04-14T09:03:58.154Z"
   },
   {
    "duration": 13,
    "start_time": "2022-04-14T09:03:58.169Z"
   },
   {
    "duration": 7,
    "start_time": "2022-04-14T09:03:58.184Z"
   },
   {
    "duration": 7,
    "start_time": "2022-04-14T09:03:58.193Z"
   },
   {
    "duration": 1085,
    "start_time": "2022-04-14T09:03:58.201Z"
   },
   {
    "duration": 1164,
    "start_time": "2022-04-14T09:03:59.288Z"
   },
   {
    "duration": 1084,
    "start_time": "2022-04-14T09:04:00.454Z"
   },
   {
    "duration": 523,
    "start_time": "2022-04-14T09:04:01.541Z"
   },
   {
    "duration": 8,
    "start_time": "2022-04-14T09:04:02.067Z"
   },
   {
    "duration": 5,
    "start_time": "2022-04-14T09:04:02.078Z"
   },
   {
    "duration": 1076,
    "start_time": "2022-04-14T09:04:02.085Z"
   },
   {
    "duration": 1429,
    "start_time": "2022-04-14T09:04:03.163Z"
   },
   {
    "duration": 0,
    "start_time": "2022-04-14T09:04:04.594Z"
   },
   {
    "duration": 20,
    "start_time": "2022-04-14T09:04:39.759Z"
   },
   {
    "duration": 436,
    "start_time": "2022-04-14T09:04:40.623Z"
   },
   {
    "duration": 26,
    "start_time": "2022-04-14T09:09:37.709Z"
   },
   {
    "duration": 274,
    "start_time": "2022-04-14T09:09:38.542Z"
   },
   {
    "duration": 24,
    "start_time": "2022-04-14T09:09:58.812Z"
   },
   {
    "duration": 280,
    "start_time": "2022-04-14T09:09:59.724Z"
   },
   {
    "duration": 4,
    "start_time": "2022-04-14T09:13:00.670Z"
   },
   {
    "duration": 616,
    "start_time": "2022-04-14T09:13:03.540Z"
   },
   {
    "duration": 573,
    "start_time": "2022-04-14T09:13:20.367Z"
   },
   {
    "duration": 80,
    "start_time": "2022-04-14T10:06:14.619Z"
   },
   {
    "duration": 4,
    "start_time": "2022-04-14T10:06:15.103Z"
   },
   {
    "duration": 77,
    "start_time": "2022-04-14T10:06:24.434Z"
   },
   {
    "duration": 4,
    "start_time": "2022-04-14T10:06:41.369Z"
   },
   {
    "duration": 4,
    "start_time": "2022-04-14T10:06:42.799Z"
   },
   {
    "duration": 10,
    "start_time": "2022-04-14T10:10:20.740Z"
   },
   {
    "duration": 58,
    "start_time": "2022-04-14T10:39:58.701Z"
   },
   {
    "duration": 167,
    "start_time": "2022-04-14T10:40:49.880Z"
   },
   {
    "duration": 14,
    "start_time": "2022-04-14T10:42:06.185Z"
   },
   {
    "duration": 4,
    "start_time": "2022-04-14T10:42:43.200Z"
   },
   {
    "duration": 9,
    "start_time": "2022-04-14T10:47:34.664Z"
   },
   {
    "duration": 32,
    "start_time": "2022-04-14T10:47:39.200Z"
   },
   {
    "duration": 12,
    "start_time": "2022-04-14T11:06:25.604Z"
   },
   {
    "duration": 9,
    "start_time": "2022-04-14T11:09:01.248Z"
   },
   {
    "duration": 9,
    "start_time": "2022-04-14T11:09:11.042Z"
   },
   {
    "duration": 8,
    "start_time": "2022-04-14T11:10:05.692Z"
   },
   {
    "duration": 16,
    "start_time": "2022-04-14T11:12:25.066Z"
   },
   {
    "duration": 70,
    "start_time": "2022-04-14T11:12:57.883Z"
   },
   {
    "duration": 99,
    "start_time": "2022-04-14T11:16:49.603Z"
   },
   {
    "duration": 20,
    "start_time": "2022-04-14T11:19:46.477Z"
   },
   {
    "duration": 13,
    "start_time": "2022-04-14T11:23:34.111Z"
   },
   {
    "duration": 1266,
    "start_time": "2022-04-14T13:09:36.704Z"
   },
   {
    "duration": 613,
    "start_time": "2022-04-14T13:09:37.972Z"
   },
   {
    "duration": 3,
    "start_time": "2022-04-14T13:09:38.587Z"
   },
   {
    "duration": 404,
    "start_time": "2022-04-14T13:09:38.592Z"
   },
   {
    "duration": 395,
    "start_time": "2022-04-14T13:09:38.997Z"
   },
   {
    "duration": 191,
    "start_time": "2022-04-14T13:09:39.394Z"
   },
   {
    "duration": 7,
    "start_time": "2022-04-14T13:09:39.587Z"
   },
   {
    "duration": 4,
    "start_time": "2022-04-14T13:09:39.596Z"
   },
   {
    "duration": 7,
    "start_time": "2022-04-14T13:09:39.601Z"
   },
   {
    "duration": 5,
    "start_time": "2022-04-14T13:09:39.611Z"
   },
   {
    "duration": 16,
    "start_time": "2022-04-14T13:09:39.618Z"
   },
   {
    "duration": 49,
    "start_time": "2022-04-14T13:09:39.635Z"
   },
   {
    "duration": 7,
    "start_time": "2022-04-14T13:09:39.686Z"
   },
   {
    "duration": 6,
    "start_time": "2022-04-14T13:09:39.695Z"
   },
   {
    "duration": 683,
    "start_time": "2022-04-14T13:09:39.703Z"
   },
   {
    "duration": 752,
    "start_time": "2022-04-14T13:09:40.387Z"
   },
   {
    "duration": 683,
    "start_time": "2022-04-14T13:09:41.141Z"
   },
   {
    "duration": 327,
    "start_time": "2022-04-14T13:09:41.825Z"
   },
   {
    "duration": 7,
    "start_time": "2022-04-14T13:09:42.153Z"
   },
   {
    "duration": 15,
    "start_time": "2022-04-14T13:09:42.161Z"
   },
   {
    "duration": 8,
    "start_time": "2022-04-14T13:09:42.177Z"
   },
   {
    "duration": 673,
    "start_time": "2022-04-14T13:09:42.187Z"
   },
   {
    "duration": 112,
    "start_time": "2022-04-14T13:09:42.862Z"
   },
   {
    "duration": 0,
    "start_time": "2022-04-14T13:09:42.975Z"
   },
   {
    "duration": 0,
    "start_time": "2022-04-14T13:09:42.977Z"
   },
   {
    "duration": 0,
    "start_time": "2022-04-14T13:09:42.978Z"
   },
   {
    "duration": 0,
    "start_time": "2022-04-14T13:09:42.979Z"
   },
   {
    "duration": 0,
    "start_time": "2022-04-14T13:09:42.980Z"
   },
   {
    "duration": 0,
    "start_time": "2022-04-14T13:09:42.981Z"
   },
   {
    "duration": 325,
    "start_time": "2022-04-14T13:09:53.018Z"
   },
   {
    "duration": 24,
    "start_time": "2022-04-14T13:10:35.473Z"
   },
   {
    "duration": 186,
    "start_time": "2022-04-14T13:10:36.372Z"
   },
   {
    "duration": 659,
    "start_time": "2022-04-14T13:11:25.207Z"
   },
   {
    "duration": 29,
    "start_time": "2022-04-14T13:11:47.215Z"
   },
   {
    "duration": 3,
    "start_time": "2022-04-14T13:11:52.707Z"
   },
   {
    "duration": 3,
    "start_time": "2022-04-14T13:11:54.438Z"
   },
   {
    "duration": 18,
    "start_time": "2022-04-14T13:11:58.143Z"
   },
   {
    "duration": 33,
    "start_time": "2022-04-14T13:11:59.074Z"
   },
   {
    "duration": 25,
    "start_time": "2022-04-14T13:12:11.485Z"
   },
   {
    "duration": 36,
    "start_time": "2022-04-14T13:12:27.079Z"
   },
   {
    "duration": 22,
    "start_time": "2022-04-14T13:12:42.709Z"
   },
   {
    "duration": 35,
    "start_time": "2022-04-14T13:12:44.397Z"
   },
   {
    "duration": 9,
    "start_time": "2022-04-14T13:12:50.570Z"
   },
   {
    "duration": 5,
    "start_time": "2022-04-14T13:12:57.419Z"
   },
   {
    "duration": 21,
    "start_time": "2022-04-14T13:13:41.868Z"
   },
   {
    "duration": 5,
    "start_time": "2022-04-14T13:13:42.320Z"
   },
   {
    "duration": 5,
    "start_time": "2022-04-14T13:13:46.772Z"
   },
   {
    "duration": 1421,
    "start_time": "2022-04-14T13:14:02.858Z"
   },
   {
    "duration": 648,
    "start_time": "2022-04-14T13:14:04.281Z"
   },
   {
    "duration": 4,
    "start_time": "2022-04-14T13:14:04.930Z"
   },
   {
    "duration": 459,
    "start_time": "2022-04-14T13:14:04.936Z"
   },
   {
    "duration": 421,
    "start_time": "2022-04-14T13:14:05.398Z"
   },
   {
    "duration": 205,
    "start_time": "2022-04-14T13:14:05.821Z"
   },
   {
    "duration": 6,
    "start_time": "2022-04-14T13:14:06.028Z"
   },
   {
    "duration": 5,
    "start_time": "2022-04-14T13:14:06.036Z"
   },
   {
    "duration": 6,
    "start_time": "2022-04-14T13:14:06.043Z"
   },
   {
    "duration": 5,
    "start_time": "2022-04-14T13:14:06.073Z"
   },
   {
    "duration": 34,
    "start_time": "2022-04-14T13:14:06.080Z"
   },
   {
    "duration": 16,
    "start_time": "2022-04-14T13:14:06.116Z"
   },
   {
    "duration": 8,
    "start_time": "2022-04-14T13:14:06.134Z"
   },
   {
    "duration": 8,
    "start_time": "2022-04-14T13:14:06.144Z"
   },
   {
    "duration": 767,
    "start_time": "2022-04-14T13:14:06.153Z"
   },
   {
    "duration": 841,
    "start_time": "2022-04-14T13:14:06.922Z"
   },
   {
    "duration": 775,
    "start_time": "2022-04-14T13:14:07.765Z"
   },
   {
    "duration": 387,
    "start_time": "2022-04-14T13:14:08.542Z"
   },
   {
    "duration": 8,
    "start_time": "2022-04-14T13:14:08.931Z"
   },
   {
    "duration": 5,
    "start_time": "2022-04-14T13:14:08.941Z"
   },
   {
    "duration": 5,
    "start_time": "2022-04-14T13:14:08.948Z"
   },
   {
    "duration": 890,
    "start_time": "2022-04-14T13:14:08.974Z"
   },
   {
    "duration": 24,
    "start_time": "2022-04-14T13:14:09.866Z"
   },
   {
    "duration": 695,
    "start_time": "2022-04-14T13:14:09.892Z"
   },
   {
    "duration": 30,
    "start_time": "2022-04-14T13:14:10.590Z"
   },
   {
    "duration": 4,
    "start_time": "2022-04-14T13:14:10.622Z"
   },
   {
    "duration": 6,
    "start_time": "2022-04-14T13:14:10.628Z"
   },
   {
    "duration": 37,
    "start_time": "2022-04-14T13:14:10.637Z"
   },
   {
    "duration": 35,
    "start_time": "2022-04-14T13:14:10.675Z"
   },
   {
    "duration": 5,
    "start_time": "2022-04-14T13:14:10.712Z"
   },
   {
    "duration": 1386,
    "start_time": "2022-04-14T13:15:07.919Z"
   },
   {
    "duration": 649,
    "start_time": "2022-04-14T13:15:09.307Z"
   },
   {
    "duration": 4,
    "start_time": "2022-04-14T13:15:09.958Z"
   },
   {
    "duration": 435,
    "start_time": "2022-04-14T13:15:09.965Z"
   },
   {
    "duration": 419,
    "start_time": "2022-04-14T13:15:10.401Z"
   },
   {
    "duration": 201,
    "start_time": "2022-04-14T13:15:10.822Z"
   },
   {
    "duration": 7,
    "start_time": "2022-04-14T13:15:11.025Z"
   },
   {
    "duration": 4,
    "start_time": "2022-04-14T13:15:11.034Z"
   },
   {
    "duration": 5,
    "start_time": "2022-04-14T13:15:11.040Z"
   },
   {
    "duration": 30,
    "start_time": "2022-04-14T13:15:11.048Z"
   },
   {
    "duration": 18,
    "start_time": "2022-04-14T13:15:11.080Z"
   },
   {
    "duration": 16,
    "start_time": "2022-04-14T13:15:11.100Z"
   },
   {
    "duration": 9,
    "start_time": "2022-04-14T13:15:11.118Z"
   },
   {
    "duration": 6,
    "start_time": "2022-04-14T13:15:11.128Z"
   },
   {
    "duration": 751,
    "start_time": "2022-04-14T13:15:11.136Z"
   },
   {
    "duration": 820,
    "start_time": "2022-04-14T13:15:11.889Z"
   },
   {
    "duration": 728,
    "start_time": "2022-04-14T13:15:12.711Z"
   },
   {
    "duration": 357,
    "start_time": "2022-04-14T13:15:13.441Z"
   },
   {
    "duration": 9,
    "start_time": "2022-04-14T13:15:13.799Z"
   },
   {
    "duration": 7,
    "start_time": "2022-04-14T13:15:13.810Z"
   },
   {
    "duration": 7,
    "start_time": "2022-04-14T13:15:13.819Z"
   },
   {
    "duration": 865,
    "start_time": "2022-04-14T13:15:13.829Z"
   },
   {
    "duration": 18,
    "start_time": "2022-04-14T13:15:14.696Z"
   },
   {
    "duration": 684,
    "start_time": "2022-04-14T13:15:14.716Z"
   },
   {
    "duration": 29,
    "start_time": "2022-04-14T13:15:15.401Z"
   },
   {
    "duration": 19,
    "start_time": "2022-04-14T13:15:15.432Z"
   },
   {
    "duration": 10,
    "start_time": "2022-04-14T13:15:15.453Z"
   },
   {
    "duration": 22,
    "start_time": "2022-04-14T13:15:15.466Z"
   },
   {
    "duration": 88,
    "start_time": "2022-04-14T13:15:15.490Z"
   },
   {
    "duration": 30,
    "start_time": "2022-04-14T13:15:15.580Z"
   },
   {
    "duration": 5,
    "start_time": "2022-04-14T13:15:15.612Z"
   },
   {
    "duration": 106,
    "start_time": "2022-04-14T13:17:54.573Z"
   },
   {
    "duration": 10,
    "start_time": "2022-04-14T13:18:06.706Z"
   },
   {
    "duration": 19,
    "start_time": "2022-04-14T13:18:12.710Z"
   },
   {
    "duration": 10,
    "start_time": "2022-04-14T13:18:13.360Z"
   },
   {
    "duration": 5,
    "start_time": "2022-04-14T13:18:21.634Z"
   },
   {
    "duration": 9,
    "start_time": "2022-04-14T13:18:33.909Z"
   },
   {
    "duration": 43,
    "start_time": "2022-04-14T13:18:35.942Z"
   },
   {
    "duration": 5,
    "start_time": "2022-04-14T13:18:43.086Z"
   },
   {
    "duration": 10,
    "start_time": "2022-04-14T13:19:49.115Z"
   },
   {
    "duration": 3,
    "start_time": "2022-04-14T13:19:56.892Z"
   },
   {
    "duration": 39,
    "start_time": "2022-04-14T13:19:58.621Z"
   },
   {
    "duration": 46,
    "start_time": "2022-04-14T13:20:01.987Z"
   },
   {
    "duration": 1414,
    "start_time": "2022-04-14T13:20:40.377Z"
   },
   {
    "duration": 700,
    "start_time": "2022-04-14T13:20:41.793Z"
   },
   {
    "duration": 5,
    "start_time": "2022-04-14T13:20:42.495Z"
   },
   {
    "duration": 439,
    "start_time": "2022-04-14T13:20:42.502Z"
   },
   {
    "duration": 422,
    "start_time": "2022-04-14T13:20:42.943Z"
   },
   {
    "duration": 181,
    "start_time": "2022-04-14T13:20:43.367Z"
   },
   {
    "duration": 5,
    "start_time": "2022-04-14T13:20:43.550Z"
   },
   {
    "duration": 16,
    "start_time": "2022-04-14T13:20:43.557Z"
   },
   {
    "duration": 6,
    "start_time": "2022-04-14T13:20:43.574Z"
   },
   {
    "duration": 14,
    "start_time": "2022-04-14T13:20:43.582Z"
   },
   {
    "duration": 19,
    "start_time": "2022-04-14T13:20:43.597Z"
   },
   {
    "duration": 14,
    "start_time": "2022-04-14T13:20:43.618Z"
   },
   {
    "duration": 7,
    "start_time": "2022-04-14T13:20:43.634Z"
   },
   {
    "duration": 8,
    "start_time": "2022-04-14T13:20:43.643Z"
   },
   {
    "duration": 733,
    "start_time": "2022-04-14T13:20:43.653Z"
   },
   {
    "duration": 810,
    "start_time": "2022-04-14T13:20:44.388Z"
   },
   {
    "duration": 726,
    "start_time": "2022-04-14T13:20:45.200Z"
   },
   {
    "duration": 368,
    "start_time": "2022-04-14T13:20:45.928Z"
   },
   {
    "duration": 7,
    "start_time": "2022-04-14T13:20:46.298Z"
   },
   {
    "duration": 22,
    "start_time": "2022-04-14T13:20:46.306Z"
   },
   {
    "duration": 21,
    "start_time": "2022-04-14T13:20:46.330Z"
   },
   {
    "duration": 865,
    "start_time": "2022-04-14T13:20:46.353Z"
   },
   {
    "duration": 17,
    "start_time": "2022-04-14T13:20:47.220Z"
   },
   {
    "duration": 640,
    "start_time": "2022-04-14T13:20:47.239Z"
   },
   {
    "duration": 30,
    "start_time": "2022-04-14T13:20:47.881Z"
   },
   {
    "duration": 3,
    "start_time": "2022-04-14T13:20:47.913Z"
   },
   {
    "duration": 9,
    "start_time": "2022-04-14T13:20:47.917Z"
   },
   {
    "duration": 22,
    "start_time": "2022-04-14T13:20:47.929Z"
   },
   {
    "duration": 55,
    "start_time": "2022-04-14T13:20:47.953Z"
   },
   {
    "duration": 60,
    "start_time": "2022-04-14T13:20:48.010Z"
   },
   {
    "duration": 65,
    "start_time": "2022-04-14T13:43:00.838Z"
   },
   {
    "duration": 3,
    "start_time": "2022-04-14T13:49:08.507Z"
   },
   {
    "duration": 34547,
    "start_time": "2022-04-14T13:49:09.384Z"
   },
   {
    "duration": 117,
    "start_time": "2022-04-14T13:51:28.535Z"
   },
   {
    "duration": 4,
    "start_time": "2022-04-14T13:52:10.318Z"
   },
   {
    "duration": 18,
    "start_time": "2022-04-14T13:52:14.272Z"
   },
   {
    "duration": 3,
    "start_time": "2022-04-14T13:53:02.589Z"
   },
   {
    "duration": 3,
    "start_time": "2022-04-14T13:53:03.188Z"
   },
   {
    "duration": 34372,
    "start_time": "2022-04-14T13:53:27.964Z"
   },
   {
    "duration": 4,
    "start_time": "2022-04-14T13:54:16.759Z"
   },
   {
    "duration": 2433,
    "start_time": "2022-04-15T07:02:59.812Z"
   },
   {
    "duration": 819,
    "start_time": "2022-04-15T07:03:02.249Z"
   },
   {
    "duration": 6,
    "start_time": "2022-04-15T07:03:03.070Z"
   },
   {
    "duration": 667,
    "start_time": "2022-04-15T07:03:03.078Z"
   },
   {
    "duration": 650,
    "start_time": "2022-04-15T07:03:03.749Z"
   },
   {
    "duration": 308,
    "start_time": "2022-04-15T07:03:04.401Z"
   },
   {
    "duration": 19,
    "start_time": "2022-04-15T07:03:04.712Z"
   },
   {
    "duration": 26,
    "start_time": "2022-04-15T07:03:04.733Z"
   },
   {
    "duration": 41,
    "start_time": "2022-04-15T07:03:04.761Z"
   },
   {
    "duration": 33,
    "start_time": "2022-04-15T07:03:04.804Z"
   },
   {
    "duration": 56,
    "start_time": "2022-04-15T07:03:04.839Z"
   },
   {
    "duration": 40,
    "start_time": "2022-04-15T07:03:04.898Z"
   },
   {
    "duration": 23,
    "start_time": "2022-04-15T07:03:04.940Z"
   },
   {
    "duration": 56,
    "start_time": "2022-04-15T07:03:04.967Z"
   },
   {
    "duration": 1442,
    "start_time": "2022-04-15T07:03:05.025Z"
   },
   {
    "duration": 1237,
    "start_time": "2022-04-15T07:03:06.469Z"
   },
   {
    "duration": 1260,
    "start_time": "2022-04-15T07:03:07.708Z"
   },
   {
    "duration": 628,
    "start_time": "2022-04-15T07:03:08.970Z"
   },
   {
    "duration": 9,
    "start_time": "2022-04-15T07:03:09.600Z"
   },
   {
    "duration": 19,
    "start_time": "2022-04-15T07:03:09.611Z"
   },
   {
    "duration": 150,
    "start_time": "2022-04-15T07:03:09.632Z"
   },
   {
    "duration": 1340,
    "start_time": "2022-04-15T07:03:09.784Z"
   },
   {
    "duration": 25,
    "start_time": "2022-04-15T07:03:11.126Z"
   },
   {
    "duration": 1256,
    "start_time": "2022-04-15T07:03:11.153Z"
   },
   {
    "duration": 51,
    "start_time": "2022-04-15T07:03:12.412Z"
   },
   {
    "duration": 4,
    "start_time": "2022-04-15T07:03:12.466Z"
   },
   {
    "duration": 9,
    "start_time": "2022-04-15T07:03:12.472Z"
   },
   {
    "duration": 43,
    "start_time": "2022-04-15T07:03:12.483Z"
   },
   {
    "duration": 50,
    "start_time": "2022-04-15T07:03:12.529Z"
   },
   {
    "duration": 4,
    "start_time": "2022-04-15T07:03:12.581Z"
   },
   {
    "duration": 44955,
    "start_time": "2022-04-15T07:03:12.587Z"
   },
   {
    "duration": 5,
    "start_time": "2022-04-15T07:03:57.544Z"
   },
   {
    "duration": 45270,
    "start_time": "2022-04-15T07:05:19.249Z"
   },
   {
    "duration": 2010,
    "start_time": "2022-04-15T07:09:45.664Z"
   },
   {
    "duration": 821,
    "start_time": "2022-04-15T07:09:47.677Z"
   },
   {
    "duration": 5,
    "start_time": "2022-04-15T07:09:48.500Z"
   },
   {
    "duration": 667,
    "start_time": "2022-04-15T07:09:48.509Z"
   },
   {
    "duration": 648,
    "start_time": "2022-04-15T07:09:49.178Z"
   },
   {
    "duration": 319,
    "start_time": "2022-04-15T07:09:49.828Z"
   },
   {
    "duration": 11,
    "start_time": "2022-04-15T07:09:50.149Z"
   },
   {
    "duration": 7,
    "start_time": "2022-04-15T07:09:50.162Z"
   },
   {
    "duration": 9,
    "start_time": "2022-04-15T07:09:50.172Z"
   },
   {
    "duration": 37,
    "start_time": "2022-04-15T07:09:50.187Z"
   },
   {
    "duration": 24,
    "start_time": "2022-04-15T07:09:50.227Z"
   },
   {
    "duration": 18,
    "start_time": "2022-04-15T07:09:50.253Z"
   },
   {
    "duration": 10,
    "start_time": "2022-04-15T07:09:50.273Z"
   },
   {
    "duration": 10,
    "start_time": "2022-04-15T07:09:50.325Z"
   },
   {
    "duration": 1329,
    "start_time": "2022-04-15T07:09:50.337Z"
   },
   {
    "duration": 1251,
    "start_time": "2022-04-15T07:09:51.668Z"
   },
   {
    "duration": 1408,
    "start_time": "2022-04-15T07:09:52.925Z"
   },
   {
    "duration": 662,
    "start_time": "2022-04-15T07:09:54.336Z"
   },
   {
    "duration": 24,
    "start_time": "2022-04-15T07:09:55.000Z"
   },
   {
    "duration": 9,
    "start_time": "2022-04-15T07:09:55.027Z"
   },
   {
    "duration": 155,
    "start_time": "2022-04-15T07:09:55.038Z"
   },
   {
    "duration": 1293,
    "start_time": "2022-04-15T07:09:55.195Z"
   },
   {
    "duration": 39,
    "start_time": "2022-04-15T07:09:56.490Z"
   },
   {
    "duration": 1201,
    "start_time": "2022-04-15T07:09:56.531Z"
   },
   {
    "duration": 42,
    "start_time": "2022-04-15T07:09:57.735Z"
   },
   {
    "duration": 4,
    "start_time": "2022-04-15T07:09:57.780Z"
   },
   {
    "duration": 6,
    "start_time": "2022-04-15T07:09:57.787Z"
   },
   {
    "duration": 21,
    "start_time": "2022-04-15T07:09:57.827Z"
   },
   {
    "duration": 53,
    "start_time": "2022-04-15T07:09:57.850Z"
   },
   {
    "duration": 3,
    "start_time": "2022-04-15T07:09:57.905Z"
   },
   {
    "duration": 45401,
    "start_time": "2022-04-15T07:09:57.925Z"
   },
   {
    "duration": 5,
    "start_time": "2022-04-15T07:10:43.329Z"
   },
   {
    "duration": 1986,
    "start_time": "2022-04-15T07:28:15.964Z"
   },
   {
    "duration": 809,
    "start_time": "2022-04-15T07:28:17.953Z"
   },
   {
    "duration": 7,
    "start_time": "2022-04-15T07:28:18.764Z"
   },
   {
    "duration": 665,
    "start_time": "2022-04-15T07:28:18.774Z"
   },
   {
    "duration": 651,
    "start_time": "2022-04-15T07:28:19.444Z"
   },
   {
    "duration": 313,
    "start_time": "2022-04-15T07:28:20.099Z"
   },
   {
    "duration": 20,
    "start_time": "2022-04-15T07:28:20.414Z"
   },
   {
    "duration": 6,
    "start_time": "2022-04-15T07:28:20.436Z"
   },
   {
    "duration": 7,
    "start_time": "2022-04-15T07:28:20.444Z"
   },
   {
    "duration": 11,
    "start_time": "2022-04-15T07:28:20.453Z"
   },
   {
    "duration": 61,
    "start_time": "2022-04-15T07:28:20.466Z"
   },
   {
    "duration": 19,
    "start_time": "2022-04-15T07:28:20.530Z"
   },
   {
    "duration": 11,
    "start_time": "2022-04-15T07:28:20.552Z"
   },
   {
    "duration": 12,
    "start_time": "2022-04-15T07:28:20.569Z"
   },
   {
    "duration": 1322,
    "start_time": "2022-04-15T07:28:20.583Z"
   },
   {
    "duration": 1188,
    "start_time": "2022-04-15T07:28:21.908Z"
   },
   {
    "duration": 1211,
    "start_time": "2022-04-15T07:28:23.098Z"
   },
   {
    "duration": 605,
    "start_time": "2022-04-15T07:28:24.312Z"
   },
   {
    "duration": 11,
    "start_time": "2022-04-15T07:28:24.920Z"
   },
   {
    "duration": 9,
    "start_time": "2022-04-15T07:28:24.933Z"
   },
   {
    "duration": 144,
    "start_time": "2022-04-15T07:28:24.945Z"
   },
   {
    "duration": 1201,
    "start_time": "2022-04-15T07:28:25.091Z"
   },
   {
    "duration": 38,
    "start_time": "2022-04-15T07:28:26.294Z"
   },
   {
    "duration": 1117,
    "start_time": "2022-04-15T07:28:26.334Z"
   },
   {
    "duration": 41,
    "start_time": "2022-04-15T07:28:27.453Z"
   },
   {
    "duration": 5,
    "start_time": "2022-04-15T07:28:27.496Z"
   },
   {
    "duration": 39,
    "start_time": "2022-04-15T07:28:27.503Z"
   },
   {
    "duration": 25,
    "start_time": "2022-04-15T07:28:27.544Z"
   },
   {
    "duration": 53,
    "start_time": "2022-04-15T07:28:27.571Z"
   },
   {
    "duration": 4,
    "start_time": "2022-04-15T07:28:27.627Z"
   },
   {
    "duration": 46377,
    "start_time": "2022-04-15T07:28:27.633Z"
   },
   {
    "duration": 12,
    "start_time": "2022-04-15T07:29:14.013Z"
   },
   {
    "duration": 2079,
    "start_time": "2022-04-15T07:53:03.391Z"
   },
   {
    "duration": 853,
    "start_time": "2022-04-15T07:53:05.473Z"
   },
   {
    "duration": 5,
    "start_time": "2022-04-15T07:53:06.329Z"
   },
   {
    "duration": 665,
    "start_time": "2022-04-15T07:53:06.337Z"
   },
   {
    "duration": 685,
    "start_time": "2022-04-15T07:53:07.004Z"
   },
   {
    "duration": 307,
    "start_time": "2022-04-15T07:53:07.692Z"
   },
   {
    "duration": 23,
    "start_time": "2022-04-15T07:53:08.001Z"
   },
   {
    "duration": 5,
    "start_time": "2022-04-15T07:53:08.026Z"
   },
   {
    "duration": 21,
    "start_time": "2022-04-15T07:53:08.033Z"
   },
   {
    "duration": 14,
    "start_time": "2022-04-15T07:53:08.060Z"
   },
   {
    "duration": 27,
    "start_time": "2022-04-15T07:53:08.077Z"
   },
   {
    "duration": 32,
    "start_time": "2022-04-15T07:53:08.106Z"
   },
   {
    "duration": 13,
    "start_time": "2022-04-15T07:53:08.140Z"
   },
   {
    "duration": 14,
    "start_time": "2022-04-15T07:53:08.156Z"
   },
   {
    "duration": 1356,
    "start_time": "2022-04-15T07:53:08.172Z"
   },
   {
    "duration": 1256,
    "start_time": "2022-04-15T07:53:09.531Z"
   },
   {
    "duration": 1279,
    "start_time": "2022-04-15T07:53:10.790Z"
   },
   {
    "duration": 635,
    "start_time": "2022-04-15T07:53:12.071Z"
   },
   {
    "duration": 22,
    "start_time": "2022-04-15T07:53:12.709Z"
   },
   {
    "duration": 10,
    "start_time": "2022-04-15T07:53:12.734Z"
   },
   {
    "duration": 162,
    "start_time": "2022-04-15T07:53:12.746Z"
   },
   {
    "duration": 1444,
    "start_time": "2022-04-15T07:53:12.911Z"
   },
   {
    "duration": 25,
    "start_time": "2022-04-15T07:53:14.358Z"
   },
   {
    "duration": 1161,
    "start_time": "2022-04-15T07:53:14.385Z"
   },
   {
    "duration": 40,
    "start_time": "2022-04-15T07:53:15.548Z"
   },
   {
    "duration": 5,
    "start_time": "2022-04-15T07:53:15.590Z"
   },
   {
    "duration": 42,
    "start_time": "2022-04-15T07:53:15.597Z"
   },
   {
    "duration": 48,
    "start_time": "2022-04-15T07:53:15.643Z"
   },
   {
    "duration": 4,
    "start_time": "2022-04-15T07:53:15.693Z"
   },
   {
    "duration": 27,
    "start_time": "2022-04-15T07:53:15.699Z"
   },
   {
    "duration": 21304,
    "start_time": "2022-04-15T07:53:15.729Z"
   },
   {
    "duration": 0,
    "start_time": "2022-04-15T07:53:37.035Z"
   },
   {
    "duration": 5,
    "start_time": "2022-04-15T07:53:39.632Z"
   },
   {
    "duration": 7,
    "start_time": "2022-04-15T07:53:40.252Z"
   },
   {
    "duration": 23575,
    "start_time": "2022-04-15T07:53:40.900Z"
   },
   {
    "duration": 38,
    "start_time": "2022-04-15T07:54:13.093Z"
   },
   {
    "duration": 4,
    "start_time": "2022-04-15T08:02:28.633Z"
   },
   {
    "duration": 7,
    "start_time": "2022-04-15T08:02:29.063Z"
   },
   {
    "duration": 23713,
    "start_time": "2022-04-15T08:02:29.669Z"
   },
   {
    "duration": 8,
    "start_time": "2022-04-15T08:04:11.221Z"
   },
   {
    "duration": 4,
    "start_time": "2022-04-15T08:04:29.734Z"
   },
   {
    "duration": 6,
    "start_time": "2022-04-15T08:04:30.306Z"
   },
   {
    "duration": 23091,
    "start_time": "2022-04-15T08:04:40.662Z"
   },
   {
    "duration": 113967,
    "start_time": "2022-04-15T08:05:46.126Z"
   },
   {
    "duration": 10,
    "start_time": "2022-04-15T08:09:08.986Z"
   },
   {
    "duration": 60,
    "start_time": "2022-04-15T08:09:17.829Z"
   },
   {
    "duration": 4,
    "start_time": "2022-04-15T08:30:02.607Z"
   },
   {
    "duration": 26,
    "start_time": "2022-04-15T08:30:04.967Z"
   },
   {
    "duration": 44,
    "start_time": "2022-04-15T08:30:05.395Z"
   },
   {
    "duration": 2139,
    "start_time": "2022-04-15T08:30:13.328Z"
   },
   {
    "duration": 833,
    "start_time": "2022-04-15T08:30:15.469Z"
   },
   {
    "duration": 6,
    "start_time": "2022-04-15T08:30:16.304Z"
   },
   {
    "duration": 644,
    "start_time": "2022-04-15T08:30:16.313Z"
   },
   {
    "duration": 630,
    "start_time": "2022-04-15T08:30:16.959Z"
   },
   {
    "duration": 298,
    "start_time": "2022-04-15T08:30:17.592Z"
   },
   {
    "duration": 10,
    "start_time": "2022-04-15T08:30:17.892Z"
   },
   {
    "duration": 19,
    "start_time": "2022-04-15T08:30:17.905Z"
   },
   {
    "duration": 5,
    "start_time": "2022-04-15T08:30:17.927Z"
   },
   {
    "duration": 7,
    "start_time": "2022-04-15T08:30:17.936Z"
   },
   {
    "duration": 20,
    "start_time": "2022-04-15T08:30:17.945Z"
   },
   {
    "duration": 18,
    "start_time": "2022-04-15T08:30:17.967Z"
   },
   {
    "duration": 12,
    "start_time": "2022-04-15T08:30:18.025Z"
   },
   {
    "duration": 11,
    "start_time": "2022-04-15T08:30:18.040Z"
   },
   {
    "duration": 1935,
    "start_time": "2022-04-15T08:30:18.053Z"
   },
   {
    "duration": 1211,
    "start_time": "2022-04-15T08:30:19.990Z"
   },
   {
    "duration": 1250,
    "start_time": "2022-04-15T08:30:21.204Z"
   },
   {
    "duration": 608,
    "start_time": "2022-04-15T08:30:22.457Z"
   },
   {
    "duration": 10,
    "start_time": "2022-04-15T08:30:23.068Z"
   },
   {
    "duration": 7,
    "start_time": "2022-04-15T08:30:23.081Z"
   },
   {
    "duration": 162,
    "start_time": "2022-04-15T08:30:23.090Z"
   },
   {
    "duration": 1186,
    "start_time": "2022-04-15T08:30:23.255Z"
   },
   {
    "duration": 26,
    "start_time": "2022-04-15T08:30:24.444Z"
   },
   {
    "duration": 1130,
    "start_time": "2022-04-15T08:30:24.472Z"
   },
   {
    "duration": 51,
    "start_time": "2022-04-15T08:30:25.604Z"
   },
   {
    "duration": 11,
    "start_time": "2022-04-15T08:30:25.657Z"
   },
   {
    "duration": 38,
    "start_time": "2022-04-15T08:30:25.671Z"
   },
   {
    "duration": 50,
    "start_time": "2022-04-15T08:30:25.714Z"
   },
   {
    "duration": 5,
    "start_time": "2022-04-15T08:30:25.767Z"
   },
   {
    "duration": 14,
    "start_time": "2022-04-15T08:30:25.774Z"
   },
   {
    "duration": 23049,
    "start_time": "2022-04-15T08:30:25.790Z"
   },
   {
    "duration": 115620,
    "start_time": "2022-04-15T08:30:48.842Z"
   },
   {
    "duration": 1562,
    "start_time": "2022-04-15T10:31:36.766Z"
   },
   {
    "duration": 574,
    "start_time": "2022-04-15T10:31:38.330Z"
   },
   {
    "duration": 4,
    "start_time": "2022-04-15T10:31:38.905Z"
   },
   {
    "duration": 381,
    "start_time": "2022-04-15T10:31:38.911Z"
   },
   {
    "duration": 369,
    "start_time": "2022-04-15T10:31:39.293Z"
   },
   {
    "duration": 173,
    "start_time": "2022-04-15T10:31:39.664Z"
   },
   {
    "duration": 8,
    "start_time": "2022-04-15T10:31:39.838Z"
   },
   {
    "duration": 3,
    "start_time": "2022-04-15T10:31:39.847Z"
   },
   {
    "duration": 5,
    "start_time": "2022-04-15T10:31:39.852Z"
   },
   {
    "duration": 13,
    "start_time": "2022-04-15T10:31:39.859Z"
   },
   {
    "duration": 12,
    "start_time": "2022-04-15T10:31:39.873Z"
   },
   {
    "duration": 37,
    "start_time": "2022-04-15T10:31:39.887Z"
   },
   {
    "duration": 7,
    "start_time": "2022-04-15T10:31:39.926Z"
   },
   {
    "duration": 8,
    "start_time": "2022-04-15T10:31:39.935Z"
   },
   {
    "duration": 699,
    "start_time": "2022-04-15T10:31:39.944Z"
   },
   {
    "duration": 607,
    "start_time": "2022-04-15T10:31:40.644Z"
   },
   {
    "duration": 639,
    "start_time": "2022-04-15T10:31:41.252Z"
   },
   {
    "duration": 310,
    "start_time": "2022-04-15T10:31:41.893Z"
   },
   {
    "duration": 6,
    "start_time": "2022-04-15T10:31:42.205Z"
   },
   {
    "duration": 17,
    "start_time": "2022-04-15T10:31:42.223Z"
   },
   {
    "duration": 107,
    "start_time": "2022-04-15T10:31:42.242Z"
   },
   {
    "duration": 673,
    "start_time": "2022-04-15T10:31:42.350Z"
   },
   {
    "duration": 16,
    "start_time": "2022-04-15T10:31:43.025Z"
   },
   {
    "duration": 589,
    "start_time": "2022-04-15T10:31:43.043Z"
   },
   {
    "duration": 24,
    "start_time": "2022-04-15T10:31:43.633Z"
   },
   {
    "duration": 3,
    "start_time": "2022-04-15T10:31:43.658Z"
   },
   {
    "duration": 15,
    "start_time": "2022-04-15T10:31:43.663Z"
   },
   {
    "duration": 57,
    "start_time": "2022-04-15T10:31:43.681Z"
   },
   {
    "duration": 3,
    "start_time": "2022-04-15T10:31:43.740Z"
   },
   {
    "duration": 11,
    "start_time": "2022-04-15T10:31:43.745Z"
   },
   {
    "duration": 30753,
    "start_time": "2022-04-15T10:31:43.757Z"
   },
   {
    "duration": 152019,
    "start_time": "2022-04-15T10:32:14.511Z"
   },
   {
    "duration": 1448,
    "start_time": "2022-04-15T10:43:08.158Z"
   },
   {
    "duration": 851,
    "start_time": "2022-04-15T10:43:09.608Z"
   },
   {
    "duration": 4,
    "start_time": "2022-04-15T10:43:10.462Z"
   },
   {
    "duration": 561,
    "start_time": "2022-04-15T10:43:10.469Z"
   },
   {
    "duration": 506,
    "start_time": "2022-04-15T10:43:11.031Z"
   },
   {
    "duration": 250,
    "start_time": "2022-04-15T10:43:11.539Z"
   },
   {
    "duration": 9,
    "start_time": "2022-04-15T10:43:11.790Z"
   },
   {
    "duration": 6,
    "start_time": "2022-04-15T10:43:11.800Z"
   },
   {
    "duration": 15,
    "start_time": "2022-04-15T10:43:11.808Z"
   },
   {
    "duration": 5,
    "start_time": "2022-04-15T10:43:11.826Z"
   },
   {
    "duration": 15,
    "start_time": "2022-04-15T10:43:11.833Z"
   },
   {
    "duration": 13,
    "start_time": "2022-04-15T10:43:11.850Z"
   },
   {
    "duration": 7,
    "start_time": "2022-04-15T10:43:11.865Z"
   },
   {
    "duration": 10,
    "start_time": "2022-04-15T10:43:11.873Z"
   },
   {
    "duration": 763,
    "start_time": "2022-04-15T10:43:11.885Z"
   },
   {
    "duration": 625,
    "start_time": "2022-04-15T10:43:12.650Z"
   },
   {
    "duration": 650,
    "start_time": "2022-04-15T10:43:13.276Z"
   },
   {
    "duration": 309,
    "start_time": "2022-04-15T10:43:13.928Z"
   },
   {
    "duration": 7,
    "start_time": "2022-04-15T10:43:14.239Z"
   },
   {
    "duration": 8,
    "start_time": "2022-04-15T10:43:14.247Z"
   },
   {
    "duration": 115,
    "start_time": "2022-04-15T10:43:14.256Z"
   },
   {
    "duration": 601,
    "start_time": "2022-04-15T10:43:14.373Z"
   },
   {
    "duration": 15,
    "start_time": "2022-04-15T10:43:14.975Z"
   },
   {
    "duration": 575,
    "start_time": "2022-04-15T10:43:14.991Z"
   },
   {
    "duration": 24,
    "start_time": "2022-04-15T10:43:15.567Z"
   },
   {
    "duration": 3,
    "start_time": "2022-04-15T10:43:15.592Z"
   },
   {
    "duration": 30,
    "start_time": "2022-04-15T10:43:15.596Z"
   },
   {
    "duration": 35,
    "start_time": "2022-04-15T10:43:15.629Z"
   },
   {
    "duration": 3,
    "start_time": "2022-04-15T10:43:15.666Z"
   },
   {
    "duration": 6,
    "start_time": "2022-04-15T10:43:15.670Z"
   },
   {
    "duration": 30808,
    "start_time": "2022-04-15T10:43:15.677Z"
   },
   {
    "duration": 1673,
    "start_time": "2022-04-15T11:02:58.878Z"
   },
   {
    "duration": 870,
    "start_time": "2022-04-15T11:03:00.556Z"
   },
   {
    "duration": 4,
    "start_time": "2022-04-15T11:03:01.429Z"
   },
   {
    "duration": 396,
    "start_time": "2022-04-15T11:03:01.436Z"
   },
   {
    "duration": 412,
    "start_time": "2022-04-15T11:03:01.834Z"
   },
   {
    "duration": 262,
    "start_time": "2022-04-15T11:03:02.248Z"
   },
   {
    "duration": 49,
    "start_time": "2022-04-15T11:03:02.512Z"
   },
   {
    "duration": 5,
    "start_time": "2022-04-15T11:03:02.563Z"
   },
   {
    "duration": 11,
    "start_time": "2022-04-15T11:03:02.569Z"
   },
   {
    "duration": 11,
    "start_time": "2022-04-15T11:03:02.582Z"
   },
   {
    "duration": 15,
    "start_time": "2022-04-15T11:03:02.594Z"
   },
   {
    "duration": 13,
    "start_time": "2022-04-15T11:03:02.611Z"
   },
   {
    "duration": 8,
    "start_time": "2022-04-15T11:03:02.627Z"
   },
   {
    "duration": 14,
    "start_time": "2022-04-15T11:03:02.637Z"
   },
   {
    "duration": 882,
    "start_time": "2022-04-15T11:03:02.653Z"
   },
   {
    "duration": 702,
    "start_time": "2022-04-15T11:03:03.537Z"
   },
   {
    "duration": 710,
    "start_time": "2022-04-15T11:03:04.241Z"
   },
   {
    "duration": 360,
    "start_time": "2022-04-15T11:03:04.953Z"
   },
   {
    "duration": 14,
    "start_time": "2022-04-15T11:03:05.315Z"
   },
   {
    "duration": 10,
    "start_time": "2022-04-15T11:03:05.331Z"
   },
   {
    "duration": 121,
    "start_time": "2022-04-15T11:03:05.343Z"
   },
   {
    "duration": 697,
    "start_time": "2022-04-15T11:03:05.465Z"
   },
   {
    "duration": 15,
    "start_time": "2022-04-15T11:03:06.164Z"
   },
   {
    "duration": 700,
    "start_time": "2022-04-15T11:03:06.181Z"
   },
   {
    "duration": 24,
    "start_time": "2022-04-15T11:03:06.883Z"
   },
   {
    "duration": 15,
    "start_time": "2022-04-15T11:03:06.909Z"
   },
   {
    "duration": 30,
    "start_time": "2022-04-15T11:03:06.926Z"
   },
   {
    "duration": 41,
    "start_time": "2022-04-15T11:03:06.958Z"
   },
   {
    "duration": 4,
    "start_time": "2022-04-15T11:03:07.002Z"
   },
   {
    "duration": 36,
    "start_time": "2022-04-15T11:03:07.007Z"
   },
   {
    "duration": 33229,
    "start_time": "2022-04-15T11:03:07.044Z"
   },
   {
    "duration": 199840,
    "start_time": "2022-04-15T11:03:40.275Z"
   },
   {
    "duration": 42,
    "start_time": "2022-04-15T11:07:00.123Z"
   },
   {
    "duration": 14,
    "start_time": "2022-04-15T11:08:56.887Z"
   },
   {
    "duration": 1455,
    "start_time": "2022-04-15T12:06:53.686Z"
   },
   {
    "duration": 721,
    "start_time": "2022-04-15T12:06:55.143Z"
   },
   {
    "duration": 3,
    "start_time": "2022-04-15T12:06:55.866Z"
   },
   {
    "duration": 374,
    "start_time": "2022-04-15T12:06:55.871Z"
   },
   {
    "duration": 375,
    "start_time": "2022-04-15T12:06:56.248Z"
   },
   {
    "duration": 173,
    "start_time": "2022-04-15T12:06:56.625Z"
   },
   {
    "duration": 7,
    "start_time": "2022-04-15T12:06:56.800Z"
   },
   {
    "duration": 17,
    "start_time": "2022-04-15T12:06:56.808Z"
   },
   {
    "duration": 5,
    "start_time": "2022-04-15T12:06:56.826Z"
   },
   {
    "duration": 7,
    "start_time": "2022-04-15T12:06:56.832Z"
   },
   {
    "duration": 12,
    "start_time": "2022-04-15T12:06:56.840Z"
   },
   {
    "duration": 13,
    "start_time": "2022-04-15T12:06:56.853Z"
   },
   {
    "duration": 8,
    "start_time": "2022-04-15T12:06:56.867Z"
   },
   {
    "duration": 5,
    "start_time": "2022-04-15T12:06:56.878Z"
   },
   {
    "duration": 726,
    "start_time": "2022-04-15T12:06:56.885Z"
   },
   {
    "duration": 674,
    "start_time": "2022-04-15T12:06:57.613Z"
   },
   {
    "duration": 682,
    "start_time": "2022-04-15T12:06:58.288Z"
   },
   {
    "duration": 317,
    "start_time": "2022-04-15T12:06:58.972Z"
   },
   {
    "duration": 6,
    "start_time": "2022-04-15T12:06:59.291Z"
   },
   {
    "duration": 5,
    "start_time": "2022-04-15T12:06:59.298Z"
   },
   {
    "duration": 124,
    "start_time": "2022-04-15T12:06:59.304Z"
   },
   {
    "duration": 687,
    "start_time": "2022-04-15T12:06:59.429Z"
   },
   {
    "duration": 23,
    "start_time": "2022-04-15T12:07:00.118Z"
   },
   {
    "duration": 947,
    "start_time": "2022-04-15T12:07:00.142Z"
   },
   {
    "duration": 36,
    "start_time": "2022-04-15T12:07:01.090Z"
   },
   {
    "duration": 22,
    "start_time": "2022-04-15T12:07:13.279Z"
   },
   {
    "duration": 15,
    "start_time": "2022-04-15T12:07:13.995Z"
   },
   {
    "duration": 1602,
    "start_time": "2022-04-15T12:07:59.816Z"
   },
   {
    "duration": 612,
    "start_time": "2022-04-15T12:08:01.420Z"
   },
   {
    "duration": 3,
    "start_time": "2022-04-15T12:08:02.034Z"
   },
   {
    "duration": 375,
    "start_time": "2022-04-15T12:08:02.039Z"
   },
   {
    "duration": 386,
    "start_time": "2022-04-15T12:08:02.424Z"
   },
   {
    "duration": 185,
    "start_time": "2022-04-15T12:08:02.812Z"
   },
   {
    "duration": 8,
    "start_time": "2022-04-15T12:08:02.998Z"
   },
   {
    "duration": 15,
    "start_time": "2022-04-15T12:08:03.008Z"
   },
   {
    "duration": 4,
    "start_time": "2022-04-15T12:08:03.025Z"
   },
   {
    "duration": 15,
    "start_time": "2022-04-15T12:08:03.032Z"
   },
   {
    "duration": 13,
    "start_time": "2022-04-15T12:08:03.049Z"
   },
   {
    "duration": 12,
    "start_time": "2022-04-15T12:08:03.064Z"
   },
   {
    "duration": 8,
    "start_time": "2022-04-15T12:08:03.077Z"
   },
   {
    "duration": 7,
    "start_time": "2022-04-15T12:08:03.086Z"
   },
   {
    "duration": 773,
    "start_time": "2022-04-15T12:08:03.095Z"
   },
   {
    "duration": 672,
    "start_time": "2022-04-15T12:08:03.870Z"
   },
   {
    "duration": 669,
    "start_time": "2022-04-15T12:08:04.544Z"
   },
   {
    "duration": 328,
    "start_time": "2022-04-15T12:08:05.215Z"
   },
   {
    "duration": 6,
    "start_time": "2022-04-15T12:08:05.545Z"
   },
   {
    "duration": 5,
    "start_time": "2022-04-15T12:08:05.552Z"
   },
   {
    "duration": 134,
    "start_time": "2022-04-15T12:08:05.559Z"
   },
   {
    "duration": 648,
    "start_time": "2022-04-15T12:08:05.695Z"
   },
   {
    "duration": 16,
    "start_time": "2022-04-15T12:08:06.345Z"
   },
   {
    "duration": 619,
    "start_time": "2022-04-15T12:08:06.363Z"
   },
   {
    "duration": 13,
    "start_time": "2022-04-15T12:08:15.256Z"
   },
   {
    "duration": 118,
    "start_time": "2022-04-15T12:09:00.643Z"
   },
   {
    "duration": 120,
    "start_time": "2022-04-15T12:13:04.721Z"
   },
   {
    "duration": 103,
    "start_time": "2022-04-15T12:13:48.184Z"
   },
   {
    "duration": 14,
    "start_time": "2022-04-15T12:15:25.606Z"
   },
   {
    "duration": 24,
    "start_time": "2022-04-15T12:16:09.819Z"
   },
   {
    "duration": 1455,
    "start_time": "2022-04-15T12:16:20.981Z"
   },
   {
    "duration": 609,
    "start_time": "2022-04-15T12:16:22.440Z"
   },
   {
    "duration": 4,
    "start_time": "2022-04-15T12:16:23.050Z"
   },
   {
    "duration": 385,
    "start_time": "2022-04-15T12:16:23.056Z"
   },
   {
    "duration": 380,
    "start_time": "2022-04-15T12:16:23.443Z"
   },
   {
    "duration": 178,
    "start_time": "2022-04-15T12:16:23.826Z"
   },
   {
    "duration": 19,
    "start_time": "2022-04-15T12:16:24.005Z"
   },
   {
    "duration": 4,
    "start_time": "2022-04-15T12:16:24.025Z"
   },
   {
    "duration": 19,
    "start_time": "2022-04-15T12:16:24.031Z"
   },
   {
    "duration": 13,
    "start_time": "2022-04-15T12:16:24.052Z"
   },
   {
    "duration": 17,
    "start_time": "2022-04-15T12:16:24.066Z"
   },
   {
    "duration": 12,
    "start_time": "2022-04-15T12:16:24.085Z"
   },
   {
    "duration": 7,
    "start_time": "2022-04-15T12:16:24.099Z"
   },
   {
    "duration": 15,
    "start_time": "2022-04-15T12:16:24.108Z"
   },
   {
    "duration": 729,
    "start_time": "2022-04-15T12:16:24.125Z"
   },
   {
    "duration": 652,
    "start_time": "2022-04-15T12:16:24.855Z"
   },
   {
    "duration": 923,
    "start_time": "2022-04-15T12:16:25.509Z"
   },
   {
    "duration": 823,
    "start_time": "2022-04-15T12:16:26.434Z"
   },
   {
    "duration": 6,
    "start_time": "2022-04-15T12:16:27.259Z"
   },
   {
    "duration": 57,
    "start_time": "2022-04-15T12:16:27.267Z"
   },
   {
    "duration": 237,
    "start_time": "2022-04-15T12:16:27.327Z"
   },
   {
    "duration": 806,
    "start_time": "2022-04-15T12:16:27.566Z"
   },
   {
    "duration": 14,
    "start_time": "2022-04-15T12:16:28.374Z"
   },
   {
    "duration": 606,
    "start_time": "2022-04-15T12:16:28.390Z"
   },
   {
    "duration": 112,
    "start_time": "2022-04-15T12:16:28.998Z"
   },
   {
    "duration": 17,
    "start_time": "2022-04-15T12:16:54.192Z"
   },
   {
    "duration": 13,
    "start_time": "2022-04-15T12:17:28.924Z"
   },
   {
    "duration": 44,
    "start_time": "2022-04-15T12:17:43.772Z"
   },
   {
    "duration": 122,
    "start_time": "2022-04-15T12:18:25.998Z"
   },
   {
    "duration": 7,
    "start_time": "2022-04-15T12:18:49.635Z"
   },
   {
    "duration": 16,
    "start_time": "2022-04-15T12:19:27.960Z"
   },
   {
    "duration": 8,
    "start_time": "2022-04-15T12:19:38.955Z"
   },
   {
    "duration": 15,
    "start_time": "2022-04-15T12:19:52.031Z"
   },
   {
    "duration": 20,
    "start_time": "2022-04-15T12:20:28.986Z"
   },
   {
    "duration": 107,
    "start_time": "2022-04-15T12:22:10.581Z"
   },
   {
    "duration": 16,
    "start_time": "2022-04-15T12:22:20.902Z"
   },
   {
    "duration": 8,
    "start_time": "2022-04-15T12:22:57.075Z"
   },
   {
    "duration": 8,
    "start_time": "2022-04-15T12:23:29.951Z"
   },
   {
    "duration": 15,
    "start_time": "2022-04-15T12:23:48.285Z"
   },
   {
    "duration": 10,
    "start_time": "2022-04-15T12:24:52.746Z"
   },
   {
    "duration": 25,
    "start_time": "2022-04-15T12:26:43.076Z"
   },
   {
    "duration": 32,
    "start_time": "2022-04-15T12:26:46.077Z"
   },
   {
    "duration": 16,
    "start_time": "2022-04-15T12:27:03.513Z"
   },
   {
    "duration": 13,
    "start_time": "2022-04-15T12:27:20.954Z"
   },
   {
    "duration": 25,
    "start_time": "2022-04-15T12:28:20.864Z"
   },
   {
    "duration": 13,
    "start_time": "2022-04-15T12:28:21.964Z"
   },
   {
    "duration": 20,
    "start_time": "2022-04-15T12:28:33.122Z"
   },
   {
    "duration": 4,
    "start_time": "2022-04-15T12:29:02.349Z"
   },
   {
    "duration": 7,
    "start_time": "2022-04-15T12:29:20.646Z"
   },
   {
    "duration": 5,
    "start_time": "2022-04-15T12:29:46.777Z"
   },
   {
    "duration": 1467,
    "start_time": "2022-04-15T12:29:56.976Z"
   },
   {
    "duration": 651,
    "start_time": "2022-04-15T12:29:58.449Z"
   },
   {
    "duration": 4,
    "start_time": "2022-04-15T12:29:59.101Z"
   },
   {
    "duration": 736,
    "start_time": "2022-04-15T12:29:59.107Z"
   },
   {
    "duration": 901,
    "start_time": "2022-04-15T12:29:59.845Z"
   },
   {
    "duration": 419,
    "start_time": "2022-04-15T12:30:00.748Z"
   },
   {
    "duration": 8,
    "start_time": "2022-04-15T12:30:01.168Z"
   },
   {
    "duration": 10,
    "start_time": "2022-04-15T12:30:01.177Z"
   },
   {
    "duration": 6,
    "start_time": "2022-04-15T12:30:01.188Z"
   },
   {
    "duration": 14,
    "start_time": "2022-04-15T12:30:01.196Z"
   },
   {
    "duration": 18,
    "start_time": "2022-04-15T12:30:01.212Z"
   },
   {
    "duration": 51,
    "start_time": "2022-04-15T12:30:01.232Z"
   },
   {
    "duration": 8,
    "start_time": "2022-04-15T12:30:01.285Z"
   },
   {
    "duration": 5,
    "start_time": "2022-04-15T12:30:01.295Z"
   },
   {
    "duration": 789,
    "start_time": "2022-04-15T12:30:01.302Z"
   },
   {
    "duration": 685,
    "start_time": "2022-04-15T12:30:02.092Z"
   },
   {
    "duration": 705,
    "start_time": "2022-04-15T12:30:02.779Z"
   },
   {
    "duration": 351,
    "start_time": "2022-04-15T12:30:03.486Z"
   },
   {
    "duration": 8,
    "start_time": "2022-04-15T12:30:03.838Z"
   },
   {
    "duration": 10,
    "start_time": "2022-04-15T12:30:03.848Z"
   },
   {
    "duration": 123,
    "start_time": "2022-04-15T12:30:03.860Z"
   },
   {
    "duration": 699,
    "start_time": "2022-04-15T12:30:03.985Z"
   },
   {
    "duration": 16,
    "start_time": "2022-04-15T12:30:04.686Z"
   },
   {
    "duration": 639,
    "start_time": "2022-04-15T12:30:04.703Z"
   },
   {
    "duration": 4,
    "start_time": "2022-04-15T12:30:05.344Z"
   },
   {
    "duration": 5,
    "start_time": "2022-04-15T12:30:11.782Z"
   },
   {
    "duration": 43,
    "start_time": "2022-04-15T12:30:58.949Z"
   },
   {
    "duration": 12,
    "start_time": "2022-04-15T12:38:44.518Z"
   },
   {
    "duration": 15,
    "start_time": "2022-04-15T12:39:44.121Z"
   },
   {
    "duration": 8,
    "start_time": "2022-04-15T12:40:50.392Z"
   },
   {
    "duration": 9,
    "start_time": "2022-04-15T12:41:07.437Z"
   },
   {
    "duration": 16,
    "start_time": "2022-04-15T12:41:35.908Z"
   },
   {
    "duration": 13,
    "start_time": "2022-04-15T12:42:17.588Z"
   },
   {
    "duration": 15,
    "start_time": "2022-04-15T12:42:18.489Z"
   },
   {
    "duration": 11,
    "start_time": "2022-04-15T12:42:33.332Z"
   },
   {
    "duration": 16,
    "start_time": "2022-04-15T12:43:15.061Z"
   },
   {
    "duration": 12,
    "start_time": "2022-04-15T12:43:16.147Z"
   },
   {
    "duration": 11,
    "start_time": "2022-04-15T12:43:50.806Z"
   },
   {
    "duration": 6,
    "start_time": "2022-04-15T12:43:55.891Z"
   },
   {
    "duration": 14,
    "start_time": "2022-04-15T12:44:19.805Z"
   },
   {
    "duration": 7,
    "start_time": "2022-04-15T12:44:32.332Z"
   },
   {
    "duration": 14,
    "start_time": "2022-04-15T12:44:32.952Z"
   },
   {
    "duration": 21,
    "start_time": "2022-04-15T12:45:06.658Z"
   },
   {
    "duration": 12,
    "start_time": "2022-04-15T12:45:07.654Z"
   },
   {
    "duration": 3,
    "start_time": "2022-04-15T12:45:16.516Z"
   },
   {
    "duration": 12,
    "start_time": "2022-04-15T12:45:18.267Z"
   },
   {
    "duration": 24,
    "start_time": "2022-04-15T12:45:19.595Z"
   },
   {
    "duration": 3,
    "start_time": "2022-04-15T12:45:25.208Z"
   },
   {
    "duration": 5,
    "start_time": "2022-04-15T12:45:26.914Z"
   },
   {
    "duration": 22578,
    "start_time": "2022-04-15T12:45:29.708Z"
   },
   {
    "duration": 4,
    "start_time": "2022-04-15T12:47:26.142Z"
   },
   {
    "duration": 101,
    "start_time": "2022-04-15T12:47:26.906Z"
   },
   {
    "duration": 4,
    "start_time": "2022-04-15T12:47:41.053Z"
   },
   {
    "duration": 9,
    "start_time": "2022-04-15T12:47:41.674Z"
   },
   {
    "duration": 22544,
    "start_time": "2022-04-15T12:47:55.880Z"
   },
   {
    "duration": 4,
    "start_time": "2022-04-15T12:49:01.829Z"
   },
   {
    "duration": 22612,
    "start_time": "2022-04-15T12:49:02.331Z"
   },
   {
    "duration": 4,
    "start_time": "2022-04-15T12:51:04.883Z"
   },
   {
    "duration": 22337,
    "start_time": "2022-04-15T12:51:05.654Z"
   },
   {
    "duration": 5,
    "start_time": "2022-04-15T12:52:50.472Z"
   },
   {
    "duration": 22238,
    "start_time": "2022-04-15T12:52:57.665Z"
   },
   {
    "duration": 110145,
    "start_time": "2022-04-15T12:54:10.365Z"
   },
   {
    "duration": 5,
    "start_time": "2022-04-15T13:02:45.072Z"
   },
   {
    "duration": 9,
    "start_time": "2022-04-15T13:03:10.290Z"
   },
   {
    "duration": 4,
    "start_time": "2022-04-15T13:03:16.257Z"
   },
   {
    "duration": 22187,
    "start_time": "2022-04-15T13:03:16.995Z"
   },
   {
    "duration": 112936,
    "start_time": "2022-04-15T13:03:46.795Z"
   },
   {
    "duration": 261,
    "start_time": "2022-04-15T13:09:11.682Z"
   },
   {
    "duration": 270,
    "start_time": "2022-04-15T13:09:40.917Z"
   },
   {
    "duration": 268,
    "start_time": "2022-04-15T13:09:53.113Z"
   },
   {
    "duration": 112,
    "start_time": "2022-04-15T13:12:36.645Z"
   },
   {
    "duration": 3,
    "start_time": "2022-04-15T13:12:42.519Z"
   },
   {
    "duration": 251,
    "start_time": "2022-04-15T13:12:43.335Z"
   },
   {
    "duration": 1501,
    "start_time": "2022-04-15T13:16:24.149Z"
   },
   {
    "duration": 620,
    "start_time": "2022-04-15T13:16:25.652Z"
   },
   {
    "duration": 4,
    "start_time": "2022-04-15T13:16:26.274Z"
   },
   {
    "duration": 415,
    "start_time": "2022-04-15T13:16:26.280Z"
   },
   {
    "duration": 409,
    "start_time": "2022-04-15T13:16:26.697Z"
   },
   {
    "duration": 191,
    "start_time": "2022-04-15T13:16:27.108Z"
   },
   {
    "duration": 8,
    "start_time": "2022-04-15T13:16:27.301Z"
   },
   {
    "duration": 12,
    "start_time": "2022-04-15T13:16:27.311Z"
   },
   {
    "duration": 5,
    "start_time": "2022-04-15T13:16:27.325Z"
   },
   {
    "duration": 7,
    "start_time": "2022-04-15T13:16:27.333Z"
   },
   {
    "duration": 15,
    "start_time": "2022-04-15T13:16:27.341Z"
   },
   {
    "duration": 13,
    "start_time": "2022-04-15T13:16:27.358Z"
   },
   {
    "duration": 9,
    "start_time": "2022-04-15T13:16:27.373Z"
   },
   {
    "duration": 44,
    "start_time": "2022-04-15T13:16:27.383Z"
   },
   {
    "duration": 769,
    "start_time": "2022-04-15T13:16:27.429Z"
   },
   {
    "duration": 695,
    "start_time": "2022-04-15T13:16:28.200Z"
   },
   {
    "duration": 700,
    "start_time": "2022-04-15T13:16:28.897Z"
   },
   {
    "duration": 348,
    "start_time": "2022-04-15T13:16:29.599Z"
   },
   {
    "duration": 7,
    "start_time": "2022-04-15T13:16:29.948Z"
   },
   {
    "duration": 4,
    "start_time": "2022-04-15T13:16:29.957Z"
   },
   {
    "duration": 126,
    "start_time": "2022-04-15T13:16:29.963Z"
   },
   {
    "duration": 652,
    "start_time": "2022-04-15T13:16:30.091Z"
   },
   {
    "duration": 16,
    "start_time": "2022-04-15T13:16:30.745Z"
   },
   {
    "duration": 618,
    "start_time": "2022-04-15T13:16:30.763Z"
   },
   {
    "duration": 25,
    "start_time": "2022-04-15T13:16:31.382Z"
   },
   {
    "duration": 14,
    "start_time": "2022-04-15T13:16:31.409Z"
   },
   {
    "duration": 12,
    "start_time": "2022-04-15T13:16:31.425Z"
   },
   {
    "duration": 27,
    "start_time": "2022-04-15T13:16:31.440Z"
   },
   {
    "duration": 3,
    "start_time": "2022-04-15T13:16:31.469Z"
   },
   {
    "duration": 5,
    "start_time": "2022-04-15T13:16:31.474Z"
   },
   {
    "duration": 32415,
    "start_time": "2022-04-15T13:16:31.481Z"
   },
   {
    "duration": 127612,
    "start_time": "2022-04-15T13:17:03.898Z"
   },
   {
    "duration": 11,
    "start_time": "2022-04-15T13:19:11.512Z"
   },
   {
    "duration": 275,
    "start_time": "2022-04-15T13:19:11.525Z"
   },
   {
    "duration": 312,
    "start_time": "2022-04-15T13:19:11.802Z"
   },
   {
    "duration": 104,
    "start_time": "2022-04-15T13:20:53.247Z"
   },
   {
    "duration": 291,
    "start_time": "2022-04-15T13:20:58.706Z"
   },
   {
    "duration": 206,
    "start_time": "2022-04-15T13:20:59.705Z"
   },
   {
    "duration": 9,
    "start_time": "2022-04-15T13:21:01.203Z"
   },
   {
    "duration": 9,
    "start_time": "2022-04-15T13:21:12.615Z"
   },
   {
    "duration": 9,
    "start_time": "2022-04-15T13:21:34.498Z"
   },
   {
    "duration": 4,
    "start_time": "2022-04-15T13:22:15.861Z"
   },
   {
    "duration": 258,
    "start_time": "2022-04-15T13:22:16.393Z"
   },
   {
    "duration": 196,
    "start_time": "2022-04-15T13:22:21.248Z"
   },
   {
    "duration": 3,
    "start_time": "2022-04-15T13:22:40.413Z"
   },
   {
    "duration": 252,
    "start_time": "2022-04-15T13:22:40.776Z"
   },
   {
    "duration": 3,
    "start_time": "2022-04-15T13:22:53.083Z"
   },
   {
    "duration": 256,
    "start_time": "2022-04-15T13:22:53.600Z"
   },
   {
    "duration": 205,
    "start_time": "2022-04-15T13:22:55.819Z"
   },
   {
    "duration": 8,
    "start_time": "2022-04-15T13:23:09.716Z"
   },
   {
    "duration": 8,
    "start_time": "2022-04-15T13:23:26.573Z"
   },
   {
    "duration": 8,
    "start_time": "2022-04-15T13:23:44.792Z"
   },
   {
    "duration": 9,
    "start_time": "2022-04-15T13:23:55.512Z"
   },
   {
    "duration": 9,
    "start_time": "2022-04-15T13:24:39.163Z"
   },
   {
    "duration": 10,
    "start_time": "2022-04-15T13:24:52.507Z"
   },
   {
    "duration": 9,
    "start_time": "2022-04-15T13:25:00.613Z"
   },
   {
    "duration": 9,
    "start_time": "2022-04-15T13:25:10.686Z"
   },
   {
    "duration": 4,
    "start_time": "2022-04-15T13:25:18.692Z"
   },
   {
    "duration": 3,
    "start_time": "2022-04-15T13:25:49.949Z"
   },
   {
    "duration": 3,
    "start_time": "2022-04-15T13:26:04.858Z"
   },
   {
    "duration": 353,
    "start_time": "2022-04-15T13:26:08.209Z"
   },
   {
    "duration": 193,
    "start_time": "2022-04-15T13:26:08.641Z"
   },
   {
    "duration": 3,
    "start_time": "2022-04-15T13:26:12.931Z"
   },
   {
    "duration": 3,
    "start_time": "2022-04-15T13:27:20.246Z"
   },
   {
    "duration": 265,
    "start_time": "2022-04-15T13:27:20.914Z"
   },
   {
    "duration": 194,
    "start_time": "2022-04-15T13:27:23.728Z"
   },
   {
    "duration": 3,
    "start_time": "2022-04-15T13:27:49.268Z"
   },
   {
    "duration": 3,
    "start_time": "2022-04-15T13:27:53.739Z"
   },
   {
    "duration": 1524,
    "start_time": "2022-04-15T13:28:37.382Z"
   },
   {
    "duration": 593,
    "start_time": "2022-04-15T13:28:38.908Z"
   },
   {
    "duration": 4,
    "start_time": "2022-04-15T13:28:39.502Z"
   },
   {
    "duration": 429,
    "start_time": "2022-04-15T13:28:39.509Z"
   },
   {
    "duration": 437,
    "start_time": "2022-04-15T13:28:39.940Z"
   },
   {
    "duration": 244,
    "start_time": "2022-04-15T13:28:40.379Z"
   },
   {
    "duration": 7,
    "start_time": "2022-04-15T13:28:40.625Z"
   },
   {
    "duration": 15,
    "start_time": "2022-04-15T13:28:40.634Z"
   },
   {
    "duration": 21,
    "start_time": "2022-04-15T13:28:40.651Z"
   },
   {
    "duration": 8,
    "start_time": "2022-04-15T13:28:40.674Z"
   },
   {
    "duration": 22,
    "start_time": "2022-04-15T13:28:40.683Z"
   },
   {
    "duration": 28,
    "start_time": "2022-04-15T13:28:40.707Z"
   },
   {
    "duration": 8,
    "start_time": "2022-04-15T13:28:40.737Z"
   },
   {
    "duration": 10,
    "start_time": "2022-04-15T13:28:40.746Z"
   },
   {
    "duration": 811,
    "start_time": "2022-04-15T13:28:40.757Z"
   },
   {
    "duration": 682,
    "start_time": "2022-04-15T13:28:41.569Z"
   },
   {
    "duration": 718,
    "start_time": "2022-04-15T13:28:42.254Z"
   },
   {
    "duration": 408,
    "start_time": "2022-04-15T13:28:42.974Z"
   },
   {
    "duration": 8,
    "start_time": "2022-04-15T13:28:43.384Z"
   },
   {
    "duration": 8,
    "start_time": "2022-04-15T13:28:43.393Z"
   },
   {
    "duration": 128,
    "start_time": "2022-04-15T13:28:43.402Z"
   },
   {
    "duration": 900,
    "start_time": "2022-04-15T13:28:43.532Z"
   },
   {
    "duration": 19,
    "start_time": "2022-04-15T13:28:44.434Z"
   },
   {
    "duration": 650,
    "start_time": "2022-04-15T13:28:44.455Z"
   },
   {
    "duration": 37,
    "start_time": "2022-04-15T13:28:45.107Z"
   },
   {
    "duration": 3,
    "start_time": "2022-04-15T13:28:45.146Z"
   },
   {
    "duration": 15,
    "start_time": "2022-04-15T13:28:45.151Z"
   },
   {
    "duration": 29,
    "start_time": "2022-04-15T13:28:45.169Z"
   },
   {
    "duration": 3,
    "start_time": "2022-04-15T13:28:45.200Z"
   },
   {
    "duration": 9,
    "start_time": "2022-04-15T13:28:45.225Z"
   },
   {
    "duration": 25963,
    "start_time": "2022-04-15T13:28:45.236Z"
   },
   {
    "duration": 2,
    "start_time": "2022-04-15T14:28:19.300Z"
   },
   {
    "duration": 1373,
    "start_time": "2022-04-15T14:28:35.237Z"
   },
   {
    "duration": 623,
    "start_time": "2022-04-15T14:28:36.612Z"
   },
   {
    "duration": 5,
    "start_time": "2022-04-15T14:28:37.237Z"
   },
   {
    "duration": 383,
    "start_time": "2022-04-15T14:28:37.244Z"
   },
   {
    "duration": 369,
    "start_time": "2022-04-15T14:28:37.629Z"
   },
   {
    "duration": 172,
    "start_time": "2022-04-15T14:28:38.000Z"
   },
   {
    "duration": 6,
    "start_time": "2022-04-15T14:28:38.174Z"
   },
   {
    "duration": 3,
    "start_time": "2022-04-15T14:28:38.182Z"
   },
   {
    "duration": 4,
    "start_time": "2022-04-15T14:28:38.186Z"
   },
   {
    "duration": 9,
    "start_time": "2022-04-15T14:28:38.192Z"
   },
   {
    "duration": 31,
    "start_time": "2022-04-15T14:28:38.203Z"
   },
   {
    "duration": 13,
    "start_time": "2022-04-15T14:28:38.235Z"
   },
   {
    "duration": 6,
    "start_time": "2022-04-15T14:28:38.250Z"
   },
   {
    "duration": 5,
    "start_time": "2022-04-15T14:28:38.258Z"
   },
   {
    "duration": 746,
    "start_time": "2022-04-15T14:28:38.264Z"
   },
   {
    "duration": 668,
    "start_time": "2022-04-15T14:28:39.011Z"
   },
   {
    "duration": 639,
    "start_time": "2022-04-15T14:28:39.680Z"
   },
   {
    "duration": 311,
    "start_time": "2022-04-15T14:28:40.320Z"
   },
   {
    "duration": 8,
    "start_time": "2022-04-15T14:28:40.632Z"
   },
   {
    "duration": 5,
    "start_time": "2022-04-15T14:28:40.641Z"
   },
   {
    "duration": 127,
    "start_time": "2022-04-15T14:28:40.647Z"
   },
   {
    "duration": 633,
    "start_time": "2022-04-15T14:28:40.775Z"
   },
   {
    "duration": 23,
    "start_time": "2022-04-15T14:28:41.410Z"
   },
   {
    "duration": 582,
    "start_time": "2022-04-15T14:28:41.435Z"
   },
   {
    "duration": 25,
    "start_time": "2022-04-15T14:28:42.019Z"
   },
   {
    "duration": 4,
    "start_time": "2022-04-15T14:28:42.045Z"
   },
   {
    "duration": 17,
    "start_time": "2022-04-15T14:28:42.050Z"
   },
   {
    "duration": 27,
    "start_time": "2022-04-15T14:28:42.070Z"
   },
   {
    "duration": 3,
    "start_time": "2022-04-15T14:28:42.099Z"
   },
   {
    "duration": 5,
    "start_time": "2022-04-15T14:28:42.123Z"
   },
   {
    "duration": 23958,
    "start_time": "2022-04-15T14:28:42.129Z"
   },
   {
    "duration": 0,
    "start_time": "2022-04-15T14:29:06.088Z"
   },
   {
    "duration": 0,
    "start_time": "2022-04-15T14:29:06.090Z"
   },
   {
    "duration": 0,
    "start_time": "2022-04-15T14:29:06.091Z"
   },
   {
    "duration": 0,
    "start_time": "2022-04-15T14:29:06.092Z"
   },
   {
    "duration": 0,
    "start_time": "2022-04-15T14:29:06.093Z"
   },
   {
    "duration": 4,
    "start_time": "2022-04-15T14:29:34.904Z"
   },
   {
    "duration": 22722,
    "start_time": "2022-04-15T14:29:35.536Z"
   },
   {
    "duration": 110941,
    "start_time": "2022-04-15T14:30:24.104Z"
   },
   {
    "duration": 5,
    "start_time": "2022-04-15T14:33:14.958Z"
   },
   {
    "duration": 259,
    "start_time": "2022-04-15T14:33:15.830Z"
   },
   {
    "duration": 279,
    "start_time": "2022-04-15T14:33:17.109Z"
   },
   {
    "duration": 3,
    "start_time": "2022-04-15T14:33:19.945Z"
   },
   {
    "duration": 5,
    "start_time": "2022-04-15T14:36:38.289Z"
   },
   {
    "duration": 12,
    "start_time": "2022-04-15T14:41:20.608Z"
   },
   {
    "duration": 3,
    "start_time": "2022-04-15T14:41:32.722Z"
   },
   {
    "duration": 262,
    "start_time": "2022-04-15T14:41:33.455Z"
   },
   {
    "duration": 213,
    "start_time": "2022-04-15T14:41:35.035Z"
   },
   {
    "duration": 3,
    "start_time": "2022-04-15T14:41:36.124Z"
   },
   {
    "duration": 10,
    "start_time": "2022-04-15T14:41:37.426Z"
   },
   {
    "duration": 3,
    "start_time": "2022-04-15T14:41:59.242Z"
   },
   {
    "duration": 447,
    "start_time": "2022-04-15T14:41:59.502Z"
   },
   {
    "duration": 7,
    "start_time": "2022-04-15T14:42:01.005Z"
   },
   {
    "duration": 757,
    "start_time": "2022-04-15T14:57:34.143Z"
   },
   {
    "duration": 1446,
    "start_time": "2022-04-15T14:58:34.470Z"
   },
   {
    "duration": 909,
    "start_time": "2022-04-15T14:58:35.918Z"
   },
   {
    "duration": 5,
    "start_time": "2022-04-15T14:58:36.830Z"
   },
   {
    "duration": 371,
    "start_time": "2022-04-15T14:58:36.837Z"
   },
   {
    "duration": 380,
    "start_time": "2022-04-15T14:58:37.209Z"
   },
   {
    "duration": 433,
    "start_time": "2022-04-15T14:58:37.591Z"
   },
   {
    "duration": 10,
    "start_time": "2022-04-15T14:58:38.026Z"
   },
   {
    "duration": 5,
    "start_time": "2022-04-15T14:58:38.037Z"
   },
   {
    "duration": 5,
    "start_time": "2022-04-15T14:58:38.043Z"
   },
   {
    "duration": 9,
    "start_time": "2022-04-15T14:58:38.051Z"
   },
   {
    "duration": 65,
    "start_time": "2022-04-15T14:58:38.062Z"
   },
   {
    "duration": 13,
    "start_time": "2022-04-15T14:58:38.129Z"
   },
   {
    "duration": 8,
    "start_time": "2022-04-15T14:58:38.144Z"
   },
   {
    "duration": 8,
    "start_time": "2022-04-15T14:58:38.154Z"
   },
   {
    "duration": 1286,
    "start_time": "2022-04-15T14:58:38.164Z"
   },
   {
    "duration": 643,
    "start_time": "2022-04-15T14:58:39.451Z"
   },
   {
    "duration": 1119,
    "start_time": "2022-04-15T14:58:40.097Z"
   },
   {
    "duration": 536,
    "start_time": "2022-04-15T14:58:41.218Z"
   },
   {
    "duration": 9,
    "start_time": "2022-04-15T14:58:41.756Z"
   },
   {
    "duration": 6,
    "start_time": "2022-04-15T14:58:41.766Z"
   },
   {
    "duration": 179,
    "start_time": "2022-04-15T14:58:41.774Z"
   },
   {
    "duration": 1050,
    "start_time": "2022-04-15T14:58:41.955Z"
   },
   {
    "duration": 32,
    "start_time": "2022-04-15T14:58:43.007Z"
   },
   {
    "duration": 991,
    "start_time": "2022-04-15T14:58:43.041Z"
   },
   {
    "duration": 28,
    "start_time": "2022-04-15T14:58:44.033Z"
   },
   {
    "duration": 5,
    "start_time": "2022-04-15T14:58:44.062Z"
   },
   {
    "duration": 16,
    "start_time": "2022-04-15T14:58:44.069Z"
   },
   {
    "duration": 64,
    "start_time": "2022-04-15T14:58:44.090Z"
   },
   {
    "duration": 5,
    "start_time": "2022-04-15T14:58:44.156Z"
   },
   {
    "duration": 15,
    "start_time": "2022-04-15T14:58:44.162Z"
   },
   {
    "duration": 33667,
    "start_time": "2022-04-15T14:58:44.180Z"
   },
   {
    "duration": 131748,
    "start_time": "2022-04-15T14:59:17.848Z"
   },
   {
    "duration": 5,
    "start_time": "2022-04-15T15:01:29.599Z"
   },
   {
    "duration": 657,
    "start_time": "2022-04-15T15:01:29.606Z"
   },
   {
    "duration": 11,
    "start_time": "2022-04-15T15:01:30.266Z"
   },
   {
    "duration": 46,
    "start_time": "2022-04-16T11:39:27.182Z"
   },
   {
    "duration": 1666,
    "start_time": "2022-04-16T11:47:58.172Z"
   },
   {
    "duration": 627,
    "start_time": "2022-04-16T11:47:59.840Z"
   },
   {
    "duration": 4,
    "start_time": "2022-04-16T11:48:00.469Z"
   },
   {
    "duration": 385,
    "start_time": "2022-04-16T11:48:00.475Z"
   },
   {
    "duration": 371,
    "start_time": "2022-04-16T11:48:00.862Z"
   },
   {
    "duration": 171,
    "start_time": "2022-04-16T11:48:01.235Z"
   },
   {
    "duration": 15,
    "start_time": "2022-04-16T11:48:01.408Z"
   },
   {
    "duration": 4,
    "start_time": "2022-04-16T11:48:01.425Z"
   },
   {
    "duration": 7,
    "start_time": "2022-04-16T11:48:01.430Z"
   },
   {
    "duration": 8,
    "start_time": "2022-04-16T11:48:01.438Z"
   },
   {
    "duration": 27,
    "start_time": "2022-04-16T11:48:01.447Z"
   },
   {
    "duration": 12,
    "start_time": "2022-04-16T11:48:01.475Z"
   },
   {
    "duration": 7,
    "start_time": "2022-04-16T11:48:01.489Z"
   },
   {
    "duration": 24,
    "start_time": "2022-04-16T11:48:01.499Z"
   },
   {
    "duration": 703,
    "start_time": "2022-04-16T11:48:01.525Z"
   },
   {
    "duration": 647,
    "start_time": "2022-04-16T11:48:02.230Z"
   },
   {
    "duration": 660,
    "start_time": "2022-04-16T11:48:02.878Z"
   },
   {
    "duration": 737,
    "start_time": "2022-04-16T11:48:03.540Z"
   },
   {
    "duration": 7,
    "start_time": "2022-04-16T11:48:04.279Z"
   },
   {
    "duration": 5,
    "start_time": "2022-04-16T11:48:04.288Z"
   },
   {
    "duration": 4,
    "start_time": "2022-04-16T11:48:04.295Z"
   },
   {
    "duration": 646,
    "start_time": "2022-04-16T11:48:04.301Z"
   },
   {
    "duration": 17,
    "start_time": "2022-04-16T11:48:04.949Z"
   },
   {
    "duration": 712,
    "start_time": "2022-04-16T11:48:04.968Z"
   },
   {
    "duration": 28,
    "start_time": "2022-04-16T11:48:05.682Z"
   },
   {
    "duration": 4,
    "start_time": "2022-04-16T11:48:05.723Z"
   },
   {
    "duration": 28,
    "start_time": "2022-04-16T11:48:05.729Z"
   },
   {
    "duration": 33,
    "start_time": "2022-04-16T11:48:05.759Z"
   },
   {
    "duration": 8,
    "start_time": "2022-04-16T11:48:05.794Z"
   },
   {
    "duration": 10,
    "start_time": "2022-04-16T11:48:05.804Z"
   },
   {
    "duration": 25994,
    "start_time": "2022-04-16T11:48:05.816Z"
   },
   {
    "duration": 127,
    "start_time": "2022-04-16T11:58:18.155Z"
   },
   {
    "duration": 100674,
    "start_time": "2022-04-16T11:58:35.744Z"
   },
   {
    "duration": 100687,
    "start_time": "2022-04-16T12:00:50.407Z"
   },
   {
    "duration": 5,
    "start_time": "2022-04-16T12:04:03.742Z"
   },
   {
    "duration": 103165,
    "start_time": "2022-04-16T12:04:06.857Z"
   },
   {
    "duration": 4,
    "start_time": "2022-04-16T12:12:58.674Z"
   },
   {
    "duration": 21,
    "start_time": "2022-04-16T12:13:42.246Z"
   },
   {
    "duration": 14,
    "start_time": "2022-04-16T12:13:54.664Z"
   },
   {
    "duration": 15,
    "start_time": "2022-04-16T12:14:03.054Z"
   },
   {
    "duration": 1653,
    "start_time": "2022-04-16T12:14:17.850Z"
   },
   {
    "duration": 1693,
    "start_time": "2022-04-16T18:12:47.290Z"
   },
   {
    "duration": 626,
    "start_time": "2022-04-16T18:12:48.986Z"
   },
   {
    "duration": 4,
    "start_time": "2022-04-16T18:12:49.613Z"
   },
   {
    "duration": 365,
    "start_time": "2022-04-16T18:12:49.619Z"
   },
   {
    "duration": 372,
    "start_time": "2022-04-16T18:12:49.986Z"
   },
   {
    "duration": 183,
    "start_time": "2022-04-16T18:12:50.360Z"
   },
   {
    "duration": 7,
    "start_time": "2022-04-16T18:12:50.545Z"
   },
   {
    "duration": 13,
    "start_time": "2022-04-16T18:12:50.553Z"
   },
   {
    "duration": 26,
    "start_time": "2022-04-16T18:12:50.567Z"
   },
   {
    "duration": 11,
    "start_time": "2022-04-16T18:12:50.594Z"
   },
   {
    "duration": 30,
    "start_time": "2022-04-16T18:12:50.606Z"
   },
   {
    "duration": 15,
    "start_time": "2022-04-16T18:12:50.637Z"
   },
   {
    "duration": 15,
    "start_time": "2022-04-16T18:12:50.654Z"
   },
   {
    "duration": 6,
    "start_time": "2022-04-16T18:12:50.672Z"
   },
   {
    "duration": 732,
    "start_time": "2022-04-16T18:12:50.679Z"
   },
   {
    "duration": 751,
    "start_time": "2022-04-16T18:12:51.412Z"
   },
   {
    "duration": 1145,
    "start_time": "2022-04-16T18:12:52.165Z"
   },
   {
    "duration": 1075,
    "start_time": "2022-04-16T18:12:53.312Z"
   },
   {
    "duration": 8,
    "start_time": "2022-04-16T18:12:54.390Z"
   },
   {
    "duration": 9,
    "start_time": "2022-04-16T18:12:54.400Z"
   },
   {
    "duration": 14,
    "start_time": "2022-04-16T18:12:54.410Z"
   },
   {
    "duration": 641,
    "start_time": "2022-04-16T18:12:54.426Z"
   },
   {
    "duration": 16,
    "start_time": "2022-04-16T18:12:55.068Z"
   },
   {
    "duration": 591,
    "start_time": "2022-04-16T18:12:55.085Z"
   },
   {
    "duration": 26,
    "start_time": "2022-04-16T18:12:55.678Z"
   },
   {
    "duration": 18,
    "start_time": "2022-04-16T18:12:55.706Z"
   },
   {
    "duration": 12,
    "start_time": "2022-04-16T18:12:55.725Z"
   },
   {
    "duration": 14,
    "start_time": "2022-04-16T18:12:55.739Z"
   },
   {
    "duration": 7,
    "start_time": "2022-04-16T18:12:55.755Z"
   },
   {
    "duration": 4,
    "start_time": "2022-04-16T18:13:06.332Z"
   },
   {
    "duration": 1704,
    "start_time": "2022-04-16T18:13:10.167Z"
   },
   {
    "duration": 18,
    "start_time": "2022-04-16T18:14:19.645Z"
   },
   {
    "duration": 1901,
    "start_time": "2022-04-16T18:14:34.544Z"
   },
   {
    "duration": 593,
    "start_time": "2022-04-16T18:14:36.447Z"
   },
   {
    "duration": 5,
    "start_time": "2022-04-16T18:14:37.041Z"
   },
   {
    "duration": 384,
    "start_time": "2022-04-16T18:14:37.047Z"
   },
   {
    "duration": 375,
    "start_time": "2022-04-16T18:14:37.434Z"
   },
   {
    "duration": 239,
    "start_time": "2022-04-16T18:14:37.811Z"
   },
   {
    "duration": 8,
    "start_time": "2022-04-16T18:14:38.052Z"
   },
   {
    "duration": 4,
    "start_time": "2022-04-16T18:14:38.062Z"
   },
   {
    "duration": 7,
    "start_time": "2022-04-16T18:14:38.068Z"
   },
   {
    "duration": 7,
    "start_time": "2022-04-16T18:14:38.077Z"
   },
   {
    "duration": 50,
    "start_time": "2022-04-16T18:14:38.086Z"
   },
   {
    "duration": 22,
    "start_time": "2022-04-16T18:14:38.139Z"
   },
   {
    "duration": 10,
    "start_time": "2022-04-16T18:14:38.164Z"
   },
   {
    "duration": 9,
    "start_time": "2022-04-16T18:14:38.178Z"
   },
   {
    "duration": 1294,
    "start_time": "2022-04-16T18:14:38.189Z"
   },
   {
    "duration": 1756,
    "start_time": "2022-04-16T18:14:39.486Z"
   },
   {
    "duration": 1333,
    "start_time": "2022-04-16T18:14:41.244Z"
   },
   {
    "duration": 786,
    "start_time": "2022-04-16T18:14:42.579Z"
   },
   {
    "duration": 7,
    "start_time": "2022-04-16T18:14:43.367Z"
   },
   {
    "duration": 4,
    "start_time": "2022-04-16T18:14:43.376Z"
   },
   {
    "duration": 7,
    "start_time": "2022-04-16T18:14:43.382Z"
   },
   {
    "duration": 784,
    "start_time": "2022-04-16T18:14:43.391Z"
   },
   {
    "duration": 20,
    "start_time": "2022-04-16T18:14:44.177Z"
   },
   {
    "duration": 951,
    "start_time": "2022-04-16T18:14:44.199Z"
   },
   {
    "duration": 28,
    "start_time": "2022-04-16T18:14:45.151Z"
   },
   {
    "duration": 4,
    "start_time": "2022-04-16T18:14:45.180Z"
   },
   {
    "duration": 16,
    "start_time": "2022-04-16T18:14:45.186Z"
   },
   {
    "duration": 2,
    "start_time": "2022-04-16T18:14:57.222Z"
   },
   {
    "duration": 8,
    "start_time": "2022-04-16T18:15:23.124Z"
   },
   {
    "duration": 11,
    "start_time": "2022-04-16T18:15:43.930Z"
   },
   {
    "duration": 4,
    "start_time": "2022-04-16T18:15:51.626Z"
   },
   {
    "duration": 5,
    "start_time": "2022-04-16T18:15:52.601Z"
   },
   {
    "duration": 1775,
    "start_time": "2022-04-16T18:15:55.889Z"
   },
   {
    "duration": 24625,
    "start_time": "2022-04-16T18:16:37.364Z"
   },
   {
    "duration": 124511,
    "start_time": "2022-04-16T18:17:01.991Z"
   },
   {
    "duration": 71,
    "start_time": "2022-04-17T08:54:48.197Z"
   },
   {
    "duration": 2465,
    "start_time": "2022-04-17T08:55:03.335Z"
   },
   {
    "duration": 841,
    "start_time": "2022-04-17T08:55:05.805Z"
   },
   {
    "duration": 6,
    "start_time": "2022-04-17T08:55:06.648Z"
   },
   {
    "duration": 671,
    "start_time": "2022-04-17T08:55:06.656Z"
   },
   {
    "duration": 645,
    "start_time": "2022-04-17T08:55:07.330Z"
   },
   {
    "duration": 313,
    "start_time": "2022-04-17T08:55:07.978Z"
   },
   {
    "duration": 10,
    "start_time": "2022-04-17T08:55:08.293Z"
   },
   {
    "duration": 6,
    "start_time": "2022-04-17T08:55:08.305Z"
   },
   {
    "duration": 9,
    "start_time": "2022-04-17T08:55:08.313Z"
   },
   {
    "duration": 10,
    "start_time": "2022-04-17T08:55:08.324Z"
   },
   {
    "duration": 60,
    "start_time": "2022-04-17T08:55:08.337Z"
   },
   {
    "duration": 18,
    "start_time": "2022-04-17T08:55:08.399Z"
   },
   {
    "duration": 11,
    "start_time": "2022-04-17T08:55:08.419Z"
   },
   {
    "duration": 8,
    "start_time": "2022-04-17T08:55:08.437Z"
   },
   {
    "duration": 1341,
    "start_time": "2022-04-17T08:55:08.481Z"
   },
   {
    "duration": 1596,
    "start_time": "2022-04-17T08:55:09.824Z"
   },
   {
    "duration": 1321,
    "start_time": "2022-04-17T08:55:11.422Z"
   },
   {
    "duration": 1120,
    "start_time": "2022-04-17T08:55:12.745Z"
   },
   {
    "duration": 15,
    "start_time": "2022-04-17T08:55:13.868Z"
   },
   {
    "duration": 6,
    "start_time": "2022-04-17T08:55:13.886Z"
   },
   {
    "duration": 8,
    "start_time": "2022-04-17T08:55:13.894Z"
   },
   {
    "duration": 1212,
    "start_time": "2022-04-17T08:55:13.904Z"
   },
   {
    "duration": 24,
    "start_time": "2022-04-17T08:55:15.119Z"
   },
   {
    "duration": 1141,
    "start_time": "2022-04-17T08:55:15.145Z"
   },
   {
    "duration": 39,
    "start_time": "2022-04-17T08:55:16.288Z"
   },
   {
    "duration": 4,
    "start_time": "2022-04-17T08:55:16.329Z"
   },
   {
    "duration": 47,
    "start_time": "2022-04-17T08:55:16.335Z"
   },
   {
    "duration": 4,
    "start_time": "2022-04-17T08:55:16.384Z"
   },
   {
    "duration": 10,
    "start_time": "2022-04-17T08:55:16.389Z"
   },
   {
    "duration": 18,
    "start_time": "2022-04-17T08:55:16.401Z"
   },
   {
    "duration": 34919,
    "start_time": "2022-04-17T08:55:16.422Z"
   },
   {
    "duration": 3410,
    "start_time": "2022-04-17T08:57:35.324Z"
   },
   {
    "duration": 2901,
    "start_time": "2022-04-17T08:57:55.699Z"
   },
   {
    "duration": 8,
    "start_time": "2022-04-17T09:00:13.930Z"
   },
   {
    "duration": 1588,
    "start_time": "2022-04-17T09:00:17.828Z"
   },
   {
    "duration": 24,
    "start_time": "2022-04-17T09:00:51.878Z"
   },
   {
    "duration": 2078,
    "start_time": "2022-04-17T09:01:03.672Z"
   },
   {
    "duration": 825,
    "start_time": "2022-04-17T09:01:05.753Z"
   },
   {
    "duration": 5,
    "start_time": "2022-04-17T09:01:06.581Z"
   },
   {
    "duration": 641,
    "start_time": "2022-04-17T09:01:06.589Z"
   },
   {
    "duration": 651,
    "start_time": "2022-04-17T09:01:07.233Z"
   },
   {
    "duration": 313,
    "start_time": "2022-04-17T09:01:07.886Z"
   },
   {
    "duration": 11,
    "start_time": "2022-04-17T09:01:08.202Z"
   },
   {
    "duration": 13,
    "start_time": "2022-04-17T09:01:08.215Z"
   },
   {
    "duration": 16,
    "start_time": "2022-04-17T09:01:08.230Z"
   },
   {
    "duration": 9,
    "start_time": "2022-04-17T09:01:08.248Z"
   },
   {
    "duration": 36,
    "start_time": "2022-04-17T09:01:08.259Z"
   },
   {
    "duration": 16,
    "start_time": "2022-04-17T09:01:08.298Z"
   },
   {
    "duration": 9,
    "start_time": "2022-04-17T09:01:08.316Z"
   },
   {
    "duration": 8,
    "start_time": "2022-04-17T09:01:08.329Z"
   },
   {
    "duration": 1321,
    "start_time": "2022-04-17T09:01:08.340Z"
   },
   {
    "duration": 1333,
    "start_time": "2022-04-17T09:01:09.663Z"
   },
   {
    "duration": 1334,
    "start_time": "2022-04-17T09:01:10.998Z"
   },
   {
    "duration": 1105,
    "start_time": "2022-04-17T09:01:12.336Z"
   },
   {
    "duration": 9,
    "start_time": "2022-04-17T09:01:13.443Z"
   },
   {
    "duration": 31,
    "start_time": "2022-04-17T09:01:13.454Z"
   },
   {
    "duration": 10,
    "start_time": "2022-04-17T09:01:13.488Z"
   },
   {
    "duration": 1321,
    "start_time": "2022-04-17T09:01:13.501Z"
   },
   {
    "duration": 25,
    "start_time": "2022-04-17T09:01:14.824Z"
   },
   {
    "duration": 1118,
    "start_time": "2022-04-17T09:01:14.851Z"
   },
   {
    "duration": 38,
    "start_time": "2022-04-17T09:01:15.971Z"
   },
   {
    "duration": 4,
    "start_time": "2022-04-17T09:01:16.012Z"
   },
   {
    "duration": 16,
    "start_time": "2022-04-17T09:02:31.829Z"
   },
   {
    "duration": 3,
    "start_time": "2022-04-17T09:02:37.040Z"
   },
   {
    "duration": 5,
    "start_time": "2022-04-17T09:02:39.214Z"
   },
   {
    "duration": 7,
    "start_time": "2022-04-17T09:02:42.248Z"
   },
   {
    "duration": 1611,
    "start_time": "2022-04-17T09:03:25.151Z"
   },
   {
    "duration": 8,
    "start_time": "2022-04-17T09:04:56.598Z"
   },
   {
    "duration": 4374,
    "start_time": "2022-04-17T09:04:59.787Z"
   },
   {
    "duration": 3646,
    "start_time": "2022-04-17T09:05:50.179Z"
   },
   {
    "duration": 7,
    "start_time": "2022-04-17T09:06:27.817Z"
   },
   {
    "duration": 1632,
    "start_time": "2022-04-17T09:06:30.595Z"
   },
   {
    "duration": 4,
    "start_time": "2022-04-17T09:08:29.868Z"
   },
   {
    "duration": 2814,
    "start_time": "2022-04-17T09:19:04.122Z"
   },
   {
    "duration": 1278,
    "start_time": "2022-04-17T09:19:06.940Z"
   },
   {
    "duration": 8,
    "start_time": "2022-04-17T09:19:08.220Z"
   },
   {
    "duration": 902,
    "start_time": "2022-04-17T09:19:08.232Z"
   },
   {
    "duration": 900,
    "start_time": "2022-04-17T09:19:09.136Z"
   },
   {
    "duration": 286,
    "start_time": "2022-04-17T09:19:10.039Z"
   },
   {
    "duration": 15,
    "start_time": "2022-04-17T09:19:10.327Z"
   },
   {
    "duration": 7,
    "start_time": "2022-04-17T09:19:10.345Z"
   },
   {
    "duration": 30,
    "start_time": "2022-04-17T09:19:10.354Z"
   },
   {
    "duration": 9,
    "start_time": "2022-04-17T09:19:10.388Z"
   },
   {
    "duration": 24,
    "start_time": "2022-04-17T09:19:10.399Z"
   },
   {
    "duration": 69,
    "start_time": "2022-04-17T09:19:10.425Z"
   },
   {
    "duration": 12,
    "start_time": "2022-04-17T09:19:10.497Z"
   },
   {
    "duration": 12,
    "start_time": "2022-04-17T09:19:10.512Z"
   },
   {
    "duration": 2151,
    "start_time": "2022-04-17T09:19:10.526Z"
   },
   {
    "duration": 1817,
    "start_time": "2022-04-17T09:19:12.681Z"
   },
   {
    "duration": 1793,
    "start_time": "2022-04-17T09:19:14.501Z"
   },
   {
    "duration": 1148,
    "start_time": "2022-04-17T09:19:16.297Z"
   },
   {
    "duration": 10,
    "start_time": "2022-04-17T09:19:17.447Z"
   },
   {
    "duration": 22,
    "start_time": "2022-04-17T09:19:17.460Z"
   },
   {
    "duration": 7,
    "start_time": "2022-04-17T09:19:17.485Z"
   },
   {
    "duration": 1220,
    "start_time": "2022-04-17T09:19:17.494Z"
   },
   {
    "duration": 26,
    "start_time": "2022-04-17T09:19:18.716Z"
   },
   {
    "duration": 1145,
    "start_time": "2022-04-17T09:19:18.744Z"
   },
   {
    "duration": 41,
    "start_time": "2022-04-17T09:19:19.892Z"
   },
   {
    "duration": 6,
    "start_time": "2022-04-17T09:19:19.936Z"
   },
   {
    "duration": 48,
    "start_time": "2022-04-17T09:19:19.944Z"
   },
   {
    "duration": 4,
    "start_time": "2022-04-17T09:19:19.997Z"
   },
   {
    "duration": 6,
    "start_time": "2022-04-17T09:19:20.003Z"
   },
   {
    "duration": 11,
    "start_time": "2022-04-17T09:19:20.011Z"
   },
   {
    "duration": 32616,
    "start_time": "2022-04-17T09:19:20.024Z"
   },
   {
    "duration": 189216,
    "start_time": "2022-04-17T09:19:52.643Z"
   },
   {
    "duration": 4,
    "start_time": "2022-04-17T09:23:01.861Z"
   },
   {
    "duration": 6,
    "start_time": "2022-04-17T09:23:01.882Z"
   },
   {
    "duration": 698,
    "start_time": "2022-04-17T09:23:01.891Z"
   },
   {
    "duration": 11,
    "start_time": "2022-04-17T09:23:02.591Z"
   },
   {
    "duration": 2344,
    "start_time": "2022-04-17T13:21:43.853Z"
   },
   {
    "duration": 643,
    "start_time": "2022-04-17T13:21:46.199Z"
   },
   {
    "duration": 3,
    "start_time": "2022-04-17T13:21:46.844Z"
   },
   {
    "duration": 578,
    "start_time": "2022-04-17T13:21:46.849Z"
   },
   {
    "duration": 437,
    "start_time": "2022-04-17T13:21:47.430Z"
   },
   {
    "duration": 211,
    "start_time": "2022-04-17T13:21:47.869Z"
   },
   {
    "duration": 8,
    "start_time": "2022-04-17T13:21:48.082Z"
   },
   {
    "duration": 20,
    "start_time": "2022-04-17T13:21:48.092Z"
   },
   {
    "duration": 30,
    "start_time": "2022-04-17T13:21:48.114Z"
   },
   {
    "duration": 24,
    "start_time": "2022-04-17T13:21:48.147Z"
   },
   {
    "duration": 33,
    "start_time": "2022-04-17T13:21:48.173Z"
   },
   {
    "duration": 23,
    "start_time": "2022-04-17T13:21:48.208Z"
   },
   {
    "duration": 24,
    "start_time": "2022-04-17T13:21:48.233Z"
   },
   {
    "duration": 31,
    "start_time": "2022-04-17T13:21:48.261Z"
   },
   {
    "duration": 786,
    "start_time": "2022-04-17T13:21:48.294Z"
   },
   {
    "duration": 787,
    "start_time": "2022-04-17T13:21:49.082Z"
   },
   {
    "duration": 1205,
    "start_time": "2022-04-17T13:21:49.872Z"
   },
   {
    "duration": 999,
    "start_time": "2022-04-17T13:21:51.079Z"
   },
   {
    "duration": 9,
    "start_time": "2022-04-17T13:21:52.081Z"
   },
   {
    "duration": 6,
    "start_time": "2022-04-17T13:21:52.092Z"
   },
   {
    "duration": 34,
    "start_time": "2022-04-17T13:21:52.100Z"
   },
   {
    "duration": 678,
    "start_time": "2022-04-17T13:21:52.136Z"
   },
   {
    "duration": 22,
    "start_time": "2022-04-17T13:21:52.816Z"
   },
   {
    "duration": 648,
    "start_time": "2022-04-17T13:21:52.840Z"
   },
   {
    "duration": 34,
    "start_time": "2022-04-17T13:21:53.490Z"
   },
   {
    "duration": 8,
    "start_time": "2022-04-17T13:21:53.526Z"
   },
   {
    "duration": 29,
    "start_time": "2022-04-17T13:21:53.536Z"
   },
   {
    "duration": 24,
    "start_time": "2022-04-17T13:21:53.567Z"
   },
   {
    "duration": 19,
    "start_time": "2022-04-17T13:21:53.593Z"
   },
   {
    "duration": 17,
    "start_time": "2022-04-17T13:21:53.614Z"
   },
   {
    "duration": 28840,
    "start_time": "2022-04-17T13:21:53.633Z"
   },
   {
    "duration": 131381,
    "start_time": "2022-04-17T13:22:22.475Z"
   },
   {
    "duration": 2,
    "start_time": "2022-04-17T13:24:33.858Z"
   },
   {
    "duration": 5,
    "start_time": "2022-04-17T13:24:33.861Z"
   },
   {
    "duration": 525,
    "start_time": "2022-04-17T13:24:33.868Z"
   },
   {
    "duration": 11,
    "start_time": "2022-04-17T13:24:34.394Z"
   },
   {
    "duration": 35568,
    "start_time": "2022-04-17T14:42:33.491Z"
   },
   {
    "duration": 2065,
    "start_time": "2022-04-17T14:43:25.927Z"
   },
   {
    "duration": 1910,
    "start_time": "2022-04-17T16:28:57.910Z"
   },
   {
    "duration": 2682,
    "start_time": "2022-04-17T16:36:35.873Z"
   },
   {
    "duration": 5925,
    "start_time": "2022-04-17T16:36:48.498Z"
   },
   {
    "duration": 8760,
    "start_time": "2022-04-17T16:37:16.295Z"
   },
   {
    "duration": 8505,
    "start_time": "2022-04-17T16:37:46.594Z"
   },
   {
    "duration": 1849,
    "start_time": "2022-04-17T16:59:27.593Z"
   },
   {
    "duration": 743,
    "start_time": "2022-04-17T16:59:29.444Z"
   },
   {
    "duration": 4,
    "start_time": "2022-04-17T16:59:30.190Z"
   },
   {
    "duration": 517,
    "start_time": "2022-04-17T16:59:30.197Z"
   },
   {
    "duration": 535,
    "start_time": "2022-04-17T16:59:30.716Z"
   },
   {
    "duration": 254,
    "start_time": "2022-04-17T16:59:31.253Z"
   },
   {
    "duration": 7,
    "start_time": "2022-04-17T16:59:31.509Z"
   },
   {
    "duration": 5,
    "start_time": "2022-04-17T16:59:31.533Z"
   },
   {
    "duration": 10,
    "start_time": "2022-04-17T16:59:31.540Z"
   },
   {
    "duration": 10,
    "start_time": "2022-04-17T16:59:31.552Z"
   },
   {
    "duration": 26,
    "start_time": "2022-04-17T16:59:31.564Z"
   },
   {
    "duration": 18,
    "start_time": "2022-04-17T16:59:31.592Z"
   },
   {
    "duration": 28,
    "start_time": "2022-04-17T16:59:31.612Z"
   },
   {
    "duration": 7,
    "start_time": "2022-04-17T16:59:31.643Z"
   },
   {
    "duration": 987,
    "start_time": "2022-04-17T16:59:31.651Z"
   },
   {
    "duration": 877,
    "start_time": "2022-04-17T16:59:32.640Z"
   },
   {
    "duration": 898,
    "start_time": "2022-04-17T16:59:33.519Z"
   },
   {
    "duration": 885,
    "start_time": "2022-04-17T16:59:34.418Z"
   },
   {
    "duration": 8,
    "start_time": "2022-04-17T16:59:35.305Z"
   },
   {
    "duration": 18,
    "start_time": "2022-04-17T16:59:35.316Z"
   },
   {
    "duration": 7,
    "start_time": "2022-04-17T16:59:35.336Z"
   },
   {
    "duration": 864,
    "start_time": "2022-04-17T16:59:35.345Z"
   },
   {
    "duration": 33,
    "start_time": "2022-04-17T16:59:36.212Z"
   },
   {
    "duration": 810,
    "start_time": "2022-04-17T16:59:36.247Z"
   },
   {
    "duration": 45,
    "start_time": "2022-04-17T16:59:37.060Z"
   },
   {
    "duration": 5,
    "start_time": "2022-04-17T16:59:37.108Z"
   },
   {
    "duration": 32,
    "start_time": "2022-04-17T16:59:37.115Z"
   },
   {
    "duration": 5,
    "start_time": "2022-04-17T16:59:37.150Z"
   },
   {
    "duration": 8,
    "start_time": "2022-04-17T16:59:37.157Z"
   },
   {
    "duration": 5,
    "start_time": "2022-04-17T16:59:56.105Z"
   },
   {
    "duration": 283329,
    "start_time": "2022-04-17T17:01:55.694Z"
   },
   {
    "duration": 13495,
    "start_time": "2022-04-17T17:06:57.117Z"
   },
   {
    "duration": 7,
    "start_time": "2022-04-17T17:07:51.362Z"
   },
   {
    "duration": 11401,
    "start_time": "2022-04-17T17:07:54.570Z"
   },
   {
    "duration": 5,
    "start_time": "2022-04-17T17:08:58.302Z"
   },
   {
    "duration": 145,
    "start_time": "2022-04-17T17:09:00.688Z"
   },
   {
    "duration": 6,
    "start_time": "2022-04-17T17:11:05.865Z"
   },
   {
    "duration": 27535,
    "start_time": "2022-04-17T17:11:07.643Z"
   },
   {
    "duration": 5052,
    "start_time": "2022-04-17T17:11:41.195Z"
   },
   {
    "duration": 9,
    "start_time": "2022-04-17T17:13:56.343Z"
   },
   {
    "duration": 4152,
    "start_time": "2022-04-17T17:13:59.257Z"
   },
   {
    "duration": 6,
    "start_time": "2022-04-17T17:14:31.038Z"
   },
   {
    "duration": 4416,
    "start_time": "2022-04-17T17:14:34.544Z"
   },
   {
    "duration": 6,
    "start_time": "2022-04-17T17:21:13.430Z"
   },
   {
    "duration": 296518,
    "start_time": "2022-04-17T17:21:17.076Z"
   },
   {
    "duration": 6,
    "start_time": "2022-04-17T17:26:46.335Z"
   },
   {
    "duration": 20,
    "start_time": "2022-04-17T17:26:51.173Z"
   },
   {
    "duration": 39268,
    "start_time": "2022-04-17T17:27:04.191Z"
   },
   {
    "duration": 131,
    "start_time": "2022-04-17T17:29:58.737Z"
   },
   {
    "duration": 42442,
    "start_time": "2022-04-17T17:30:05.068Z"
   },
   {
    "duration": 2988,
    "start_time": "2022-04-17T17:31:31.010Z"
   },
   {
    "duration": 39907,
    "start_time": "2022-04-17T17:32:03.049Z"
   },
   {
    "duration": 38621,
    "start_time": "2022-04-17T17:33:22.286Z"
   },
   {
    "duration": 11,
    "start_time": "2022-04-17T17:34:46.934Z"
   },
   {
    "duration": 129,
    "start_time": "2022-04-17T17:37:54.752Z"
   },
   {
    "duration": 285169,
    "start_time": "2022-04-17T17:37:59.424Z"
   },
   {
    "duration": 39950,
    "start_time": "2022-04-17T17:43:02.891Z"
   },
   {
    "duration": 40535,
    "start_time": "2022-04-17T17:43:55.203Z"
   },
   {
    "duration": 40758,
    "start_time": "2022-04-17T17:44:43.863Z"
   },
   {
    "duration": 2969,
    "start_time": "2022-04-17T17:45:33.064Z"
   },
   {
    "duration": 41298,
    "start_time": "2022-04-17T17:45:44.091Z"
   },
   {
    "duration": 39900,
    "start_time": "2022-04-17T17:46:47.447Z"
   },
   {
    "duration": 1576,
    "start_time": "2022-04-17T17:48:09.615Z"
   },
   {
    "duration": 712,
    "start_time": "2022-04-17T17:48:11.193Z"
   },
   {
    "duration": 4,
    "start_time": "2022-04-17T17:48:11.907Z"
   },
   {
    "duration": 474,
    "start_time": "2022-04-17T17:48:11.913Z"
   },
   {
    "duration": 478,
    "start_time": "2022-04-17T17:48:12.390Z"
   },
   {
    "duration": 222,
    "start_time": "2022-04-17T17:48:12.871Z"
   },
   {
    "duration": 8,
    "start_time": "2022-04-17T17:48:13.095Z"
   },
   {
    "duration": 28,
    "start_time": "2022-04-17T17:48:13.105Z"
   },
   {
    "duration": 5,
    "start_time": "2022-04-17T17:48:13.135Z"
   },
   {
    "duration": 6,
    "start_time": "2022-04-17T17:48:13.142Z"
   },
   {
    "duration": 16,
    "start_time": "2022-04-17T17:48:13.150Z"
   },
   {
    "duration": 16,
    "start_time": "2022-04-17T17:48:13.168Z"
   },
   {
    "duration": 51,
    "start_time": "2022-04-17T17:48:13.186Z"
   },
   {
    "duration": 7,
    "start_time": "2022-04-17T17:48:13.241Z"
   },
   {
    "duration": 900,
    "start_time": "2022-04-17T17:48:13.251Z"
   },
   {
    "duration": 830,
    "start_time": "2022-04-17T17:48:14.153Z"
   },
   {
    "duration": 848,
    "start_time": "2022-04-17T17:48:14.985Z"
   },
   {
    "duration": 865,
    "start_time": "2022-04-17T17:48:15.835Z"
   },
   {
    "duration": 7,
    "start_time": "2022-04-17T17:48:16.702Z"
   },
   {
    "duration": 7,
    "start_time": "2022-04-17T17:48:16.711Z"
   },
   {
    "duration": 16,
    "start_time": "2022-04-17T17:48:16.720Z"
   },
   {
    "duration": 817,
    "start_time": "2022-04-17T17:48:16.738Z"
   },
   {
    "duration": 19,
    "start_time": "2022-04-17T17:48:17.557Z"
   },
   {
    "duration": 758,
    "start_time": "2022-04-17T17:48:17.578Z"
   },
   {
    "duration": 31,
    "start_time": "2022-04-17T17:48:18.339Z"
   },
   {
    "duration": 4,
    "start_time": "2022-04-17T17:48:18.372Z"
   },
   {
    "duration": 15,
    "start_time": "2022-04-17T17:48:18.378Z"
   },
   {
    "duration": 5,
    "start_time": "2022-04-17T17:48:18.395Z"
   },
   {
    "duration": 32,
    "start_time": "2022-04-17T17:48:18.402Z"
   },
   {
    "duration": 9,
    "start_time": "2022-04-17T17:48:18.435Z"
   },
   {
    "duration": 27643,
    "start_time": "2022-04-17T17:48:18.445Z"
   },
   {
    "duration": 137049,
    "start_time": "2022-04-17T17:48:46.090Z"
   },
   {
    "duration": 166293,
    "start_time": "2022-04-17T17:51:03.141Z"
   },
   {
    "duration": 39286,
    "start_time": "2022-04-17T17:54:39.442Z"
   },
   {
    "duration": 39078,
    "start_time": "2022-04-17T17:56:15.033Z"
   },
   {
    "duration": 4,
    "start_time": "2022-04-17T17:59:34.673Z"
   },
   {
    "duration": 1890,
    "start_time": "2022-04-17T17:59:36.285Z"
   },
   {
    "duration": 9,
    "start_time": "2022-04-17T17:59:56.607Z"
   }
  ],
  "kernelspec": {
   "display_name": "Python 3 (ipykernel)",
   "language": "python",
   "name": "python3"
  },
  "language_info": {
   "codemirror_mode": {
    "name": "ipython",
    "version": 3
   },
   "file_extension": ".py",
   "mimetype": "text/x-python",
   "name": "python",
   "nbconvert_exporter": "python",
   "pygments_lexer": "ipython3",
   "version": "3.9.7"
  },
  "toc": {
   "base_numbering": 1,
   "nav_menu": {},
   "number_sections": true,
   "sideBar": true,
   "skip_h1_title": true,
   "title_cell": "Содержание",
   "title_sidebar": "Contents",
   "toc_cell": true,
   "toc_position": {
    "height": "calc(100% - 180px)",
    "left": "10px",
    "top": "150px",
    "width": "369px"
   },
   "toc_section_display": true,
   "toc_window_display": false
  }
 },
 "nbformat": 4,
 "nbformat_minor": 2
}

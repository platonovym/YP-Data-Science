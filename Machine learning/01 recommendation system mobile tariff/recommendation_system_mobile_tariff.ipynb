{
 "cells": [
  {
   "cell_type": "markdown",
   "metadata": {},
   "source": [
    "# Рекомендация тарифов"
   ]
  },
  {
   "cell_type": "markdown",
   "metadata": {},
   "source": [
    "В вашем распоряжении данные о поведении клиентов, которые уже перешли на эти тарифы (из проекта курса «Статистический анализ данных»). Нужно построить модель для задачи классификации, которая выберет подходящий тариф. Предобработка данных не понадобится — вы её уже сделали.\n",
    "\n",
    "Постройте модель с максимально большим значением *accuracy*. Чтобы сдать проект успешно, нужно довести долю правильных ответов по крайней мере до 0.75. Проверьте *accuracy* на тестовой выборке самостоятельно."
   ]
  },
  {
   "cell_type": "code",
   "execution_count": 1,
   "metadata": {},
   "outputs": [],
   "source": [
    "import pandas as pd\n",
    "\n",
    "from sklearn.model_selection import train_test_split\n",
    "\n",
    "from sklearn.tree import DecisionTreeClassifier\n",
    "from sklearn.ensemble import RandomForestClassifier\n",
    "from sklearn.linear_model import LogisticRegression\n",
    "\n",
    "from sklearn.metrics import accuracy_score\n",
    "\n",
    "from sklearn.dummy import DummyClassifier"
   ]
  },
  {
   "cell_type": "markdown",
   "metadata": {},
   "source": [
    "## Изучение данных"
   ]
  },
  {
   "cell_type": "code",
   "execution_count": 2,
   "metadata": {},
   "outputs": [],
   "source": [
    "df = pd.read_csv('/datasets/users_behavior.csv')"
   ]
  },
  {
   "cell_type": "code",
   "execution_count": 3,
   "metadata": {},
   "outputs": [
    {
     "data": {
      "text/html": [
       "<div>\n",
       "<style scoped>\n",
       "    .dataframe tbody tr th:only-of-type {\n",
       "        vertical-align: middle;\n",
       "    }\n",
       "\n",
       "    .dataframe tbody tr th {\n",
       "        vertical-align: top;\n",
       "    }\n",
       "\n",
       "    .dataframe thead th {\n",
       "        text-align: right;\n",
       "    }\n",
       "</style>\n",
       "<table border=\"1\" class=\"dataframe\">\n",
       "  <thead>\n",
       "    <tr style=\"text-align: right;\">\n",
       "      <th></th>\n",
       "      <th>calls</th>\n",
       "      <th>minutes</th>\n",
       "      <th>messages</th>\n",
       "      <th>mb_used</th>\n",
       "      <th>is_ultra</th>\n",
       "    </tr>\n",
       "  </thead>\n",
       "  <tbody>\n",
       "    <tr>\n",
       "      <td>0</td>\n",
       "      <td>40.0</td>\n",
       "      <td>311.90</td>\n",
       "      <td>83.0</td>\n",
       "      <td>19915.42</td>\n",
       "      <td>0</td>\n",
       "    </tr>\n",
       "    <tr>\n",
       "      <td>1</td>\n",
       "      <td>85.0</td>\n",
       "      <td>516.75</td>\n",
       "      <td>56.0</td>\n",
       "      <td>22696.96</td>\n",
       "      <td>0</td>\n",
       "    </tr>\n",
       "    <tr>\n",
       "      <td>2</td>\n",
       "      <td>77.0</td>\n",
       "      <td>467.66</td>\n",
       "      <td>86.0</td>\n",
       "      <td>21060.45</td>\n",
       "      <td>0</td>\n",
       "    </tr>\n",
       "    <tr>\n",
       "      <td>3</td>\n",
       "      <td>106.0</td>\n",
       "      <td>745.53</td>\n",
       "      <td>81.0</td>\n",
       "      <td>8437.39</td>\n",
       "      <td>1</td>\n",
       "    </tr>\n",
       "    <tr>\n",
       "      <td>4</td>\n",
       "      <td>66.0</td>\n",
       "      <td>418.74</td>\n",
       "      <td>1.0</td>\n",
       "      <td>14502.75</td>\n",
       "      <td>0</td>\n",
       "    </tr>\n",
       "  </tbody>\n",
       "</table>\n",
       "</div>"
      ],
      "text/plain": [
       "   calls  minutes  messages   mb_used  is_ultra\n",
       "0   40.0   311.90      83.0  19915.42         0\n",
       "1   85.0   516.75      56.0  22696.96         0\n",
       "2   77.0   467.66      86.0  21060.45         0\n",
       "3  106.0   745.53      81.0   8437.39         1\n",
       "4   66.0   418.74       1.0  14502.75         0"
      ]
     },
     "metadata": {},
     "output_type": "display_data"
    }
   ],
   "source": [
    "display(df.head(5))"
   ]
  },
  {
   "cell_type": "code",
   "execution_count": 4,
   "metadata": {},
   "outputs": [
    {
     "name": "stdout",
     "output_type": "stream",
     "text": [
      "<class 'pandas.core.frame.DataFrame'>\n",
      "RangeIndex: 3214 entries, 0 to 3213\n",
      "Data columns (total 5 columns):\n",
      "calls       3214 non-null float64\n",
      "minutes     3214 non-null float64\n",
      "messages    3214 non-null float64\n",
      "mb_used     3214 non-null float64\n",
      "is_ultra    3214 non-null int64\n",
      "dtypes: float64(4), int64(1)\n",
      "memory usage: 125.7 KB\n"
     ]
    }
   ],
   "source": [
    "df.info()"
   ]
  },
  {
   "cell_type": "markdown",
   "metadata": {},
   "source": [
    "## Разделение на выборки"
   ]
  },
  {
   "cell_type": "markdown",
   "metadata": {},
   "source": [
    "Разделим данные на обучающую, валидационную и тестовую выборки размером 60%, 20% и 20%."
   ]
  },
  {
   "cell_type": "code",
   "execution_count": 5,
   "metadata": {},
   "outputs": [],
   "source": [
    "df_train, df_valid = train_test_split(df, test_size=0.4, random_state=12345)\n",
    "\n",
    "df_valid, df_test = train_test_split(df_valid, test_size=0.5, random_state=12345)"
   ]
  },
  {
   "cell_type": "code",
   "execution_count": 6,
   "metadata": {},
   "outputs": [
    {
     "name": "stdout",
     "output_type": "stream",
     "text": [
      "Обучающая выборка состоит из 1928 объектов, доля - 60%\n",
      "Валидационная выборка состоит из 643 объектов, доля - 20%\n",
      "Тестовая выборка состоит из 643 объектов, доля - 20%\n"
     ]
    }
   ],
   "source": [
    "print(\"Обучающая выборка состоит из {} объектов, доля - {:.0f}%\".format(df_train.shape[0], df_train.shape[0]/df.shape[0]*100))\n",
    "print(\"Валидационная выборка состоит из {} объектов, доля - {:.0f}%\".format(df_valid.shape[0], df_valid.shape[0]/df.shape[0]*100))\n",
    "print(\"Тестовая выборка состоит из {} объектов, доля - {:.0f}%\".format(df_test.shape[0], df_test.shape[0]/df.shape[0]*100))"
   ]
  },
  {
   "cell_type": "markdown",
   "metadata": {},
   "source": [
    "## Исследование моделей"
   ]
  },
  {
   "cell_type": "code",
   "execution_count": 7,
   "metadata": {},
   "outputs": [],
   "source": [
    "#Валидационная выборка\n",
    "valid_features = df_valid.drop(['is_ultra'], axis=1)\n",
    "valid_target = df_valid['is_ultra']\n",
    "\n",
    "#Обучающая выборка\n",
    "train_features = df_train.drop(['is_ultra'], axis=1)\n",
    "train_target = df_train['is_ultra']"
   ]
  },
  {
   "cell_type": "code",
   "execution_count": 8,
   "metadata": {},
   "outputs": [],
   "source": [
    "# Функция расчитывающая \"оценку правильности\" на выборке\n",
    "def get_accuracy_score(model, m_type):\n",
    "    model.fit(train_features, train_target)\n",
    "    \n",
    "    if m_type == \"valid\":\n",
    "        predictions = model.predict(valid_features)\n",
    "        score = accuracy_score(valid_target, predictions)\n",
    "    \n",
    "    elif m_type == \"test\":\n",
    "        predictions = model.predict(test_features)\n",
    "        score = accuracy_score(test_target, predictions)\n",
    "        \n",
    "    elif m_type == \"dummy\":\n",
    "        score = model.score(valid_features, valid_target)\n",
    "        \n",
    "    return score"
   ]
  },
  {
   "cell_type": "code",
   "execution_count": 9,
   "metadata": {},
   "outputs": [],
   "source": [
    "# Функция обучающая модель по заданному алгоритму и возвращающая лучшую \"оценку правильности\" и глубину дерева\n",
    "def model_train(algorithm_type):\n",
    "    best_result = 0\n",
    "    best_depth = 0\n",
    "    best_estim = 0\n",
    "    estim = 0\n",
    "    \n",
    "    for depth in range(1, 11):\n",
    "        if algorithm_type == \"DecisionTreeClassifier\":\n",
    "            model = DecisionTreeClassifier(max_depth=depth, random_state=12345)\n",
    "            \n",
    "            result = get_accuracy_score(model, \"valid\")\n",
    "        \n",
    "        elif algorithm_type == \"RandomForestClassifier\":\n",
    "            for estim in range(1, 11):\n",
    "                model = RandomForestClassifier(n_estimators=estim, max_depth=depth, random_state=12345)\n",
    "                result = get_accuracy_score(model, \"valid\")\n",
    "                \n",
    "        elif algorithm_type == \"LogisticRegression\":\n",
    "            model = LogisticRegression(random_state=12345)\n",
    "            best_result = get_accuracy_score(model, \"valid\")\n",
    "            \n",
    "            break\n",
    "\n",
    "        if result > best_result:\n",
    "            best_depth = depth\n",
    "            best_estim = estim\n",
    "                \n",
    "            best_result = result\n",
    "    \n",
    "    if best_estim > 0 and best_depth > 0:\n",
    "        print('best accuracy = {}, best estim = {}, best depth = {}'.format(best_result, best_estim, best_depth))\n",
    "        \n",
    "    elif best_depth > 0:\n",
    "        print('best accuracy = {}, best depth = {}'.format(best_result, best_depth))\n",
    "        \n",
    "    else:\n",
    "        print('best accuracy = {}'.format(best_result))"
   ]
  },
  {
   "cell_type": "markdown",
   "metadata": {},
   "source": [
    "### Дерево решений"
   ]
  },
  {
   "cell_type": "code",
   "execution_count": 10,
   "metadata": {},
   "outputs": [
    {
     "name": "stdout",
     "output_type": "stream",
     "text": [
      "best accuracy = 0.7853810264385692, best depth = 3\n"
     ]
    }
   ],
   "source": [
    "model_train(\"DecisionTreeClassifier\")"
   ]
  },
  {
   "cell_type": "markdown",
   "metadata": {},
   "source": [
    "### Случайный лес"
   ]
  },
  {
   "cell_type": "code",
   "execution_count": 11,
   "metadata": {},
   "outputs": [
    {
     "name": "stdout",
     "output_type": "stream",
     "text": [
      "best accuracy = 0.8009331259720062, best estim = 10, best depth = 6\n"
     ]
    }
   ],
   "source": [
    "model_train(\"RandomForestClassifier\")"
   ]
  },
  {
   "cell_type": "markdown",
   "metadata": {},
   "source": [
    "### Логистическая регрессия"
   ]
  },
  {
   "cell_type": "code",
   "execution_count": 12,
   "metadata": {},
   "outputs": [
    {
     "name": "stdout",
     "output_type": "stream",
     "text": [
      "best accuracy = 0.7589424572317263\n"
     ]
    },
    {
     "name": "stderr",
     "output_type": "stream",
     "text": [
      "/opt/conda/lib/python3.7/site-packages/sklearn/linear_model/logistic.py:432: FutureWarning: Default solver will be changed to 'lbfgs' in 0.22. Specify a solver to silence this warning.\n",
      "  FutureWarning)\n"
     ]
    }
   ],
   "source": [
    "model_train(\"LogisticRegression\")"
   ]
  },
  {
   "cell_type": "markdown",
   "metadata": {},
   "source": [
    "**Вывод**"
   ]
  },
  {
   "cell_type": "markdown",
   "metadata": {},
   "source": [
    "Лучший результат у алгоритма RandomForestClassifier."
   ]
  },
  {
   "cell_type": "markdown",
   "metadata": {},
   "source": [
    "## Проверка модели на тестовой выборке"
   ]
  },
  {
   "cell_type": "code",
   "execution_count": 13,
   "metadata": {},
   "outputs": [],
   "source": [
    "#Тестовая выборка\n",
    "test_features = df_test.drop(['is_ultra'], axis=1)\n",
    "test_target = df_test['is_ultra']"
   ]
  },
  {
   "cell_type": "markdown",
   "metadata": {},
   "source": [
    "Зададим лучшие параметры полученные ранее."
   ]
  },
  {
   "cell_type": "code",
   "execution_count": 14,
   "metadata": {},
   "outputs": [
    {
     "name": "stdout",
     "output_type": "stream",
     "text": [
      "Accuracy: 0.7916018662519441\n"
     ]
    }
   ],
   "source": [
    "test_model = RandomForestClassifier(n_estimators=10, max_depth=6, random_state=12345)\n",
    "\n",
    "test_result = get_accuracy_score(test_model, \"test\")\n",
    "\n",
    "print(\"Accuracy:\", test_result)"
   ]
  },
  {
   "cell_type": "markdown",
   "metadata": {},
   "source": [
    "## Проверка модели на адекватность"
   ]
  },
  {
   "cell_type": "code",
   "execution_count": 15,
   "metadata": {},
   "outputs": [
    {
     "name": "stdout",
     "output_type": "stream",
     "text": [
      "Accuracy: 0.7060653188180405\n"
     ]
    }
   ],
   "source": [
    "dc_model = DummyClassifier(strategy = \"most_frequent\", random_state = 12345)\n",
    "\n",
    "dc_result = get_accuracy_score(dc_model, \"dummy\")\n",
    "\n",
    "print(\"Accuracy:\", dc_result)"
   ]
  },
  {
   "cell_type": "markdown",
   "metadata": {},
   "source": [
    "**Общий вывод**"
   ]
  },
  {
   "cell_type": "markdown",
   "metadata": {},
   "source": [
    "Мы сравнили несколько алгоритмов (DecisionTreeClassifier, RandomForestClassifier, LogisticRegression) и подобрали для них оптимальные гиперпараметры. Самым успешным можно считать RandomForestClassifier с 81% успешных предсказаний. Проверка на тестовой выборке показала тоже хорошие результаты - 79%. Модель можно считать адекватной!"
   ]
  }
 ],
 "metadata": {
  "ExecuteTimeLog": [
   {
    "duration": 1031,
    "start_time": "2022-02-27T13:52:16.924Z"
   },
   {
    "duration": 3,
    "start_time": "2022-02-27T13:54:14.067Z"
   },
   {
    "duration": 18,
    "start_time": "2022-02-27T13:54:15.258Z"
   },
   {
    "duration": 16,
    "start_time": "2022-02-27T13:54:47.092Z"
   },
   {
    "duration": 8,
    "start_time": "2022-02-27T13:55:06.114Z"
   },
   {
    "duration": 977,
    "start_time": "2022-03-07T15:03:23.384Z"
   },
   {
    "duration": 15,
    "start_time": "2022-03-07T15:03:25.335Z"
   },
   {
    "duration": 14,
    "start_time": "2022-03-07T15:03:25.898Z"
   },
   {
    "duration": 6,
    "start_time": "2022-03-07T15:03:26.742Z"
   },
   {
    "duration": 213,
    "start_time": "2022-03-07T15:19:22.835Z"
   },
   {
    "duration": 7,
    "start_time": "2022-03-07T15:19:29.395Z"
   },
   {
    "duration": 6,
    "start_time": "2022-03-07T15:19:32.120Z"
   },
   {
    "duration": 3,
    "start_time": "2022-03-07T15:21:00.968Z"
   },
   {
    "duration": 17,
    "start_time": "2022-03-07T15:21:01.844Z"
   },
   {
    "duration": 9,
    "start_time": "2022-03-07T15:21:02.198Z"
   },
   {
    "duration": 7,
    "start_time": "2022-03-07T15:21:02.931Z"
   },
   {
    "duration": 7,
    "start_time": "2022-03-07T15:21:04.227Z"
   },
   {
    "duration": 6,
    "start_time": "2022-03-07T15:21:05.875Z"
   },
   {
    "duration": 3,
    "start_time": "2022-03-07T15:37:10.182Z"
   },
   {
    "duration": 249,
    "start_time": "2022-03-07T15:38:57.324Z"
   },
   {
    "duration": 3,
    "start_time": "2022-03-07T15:41:12.868Z"
   },
   {
    "duration": 35,
    "start_time": "2022-03-07T15:41:13.812Z"
   },
   {
    "duration": 9,
    "start_time": "2022-03-07T15:41:14.085Z"
   },
   {
    "duration": 7,
    "start_time": "2022-03-07T15:41:14.566Z"
   },
   {
    "duration": 7,
    "start_time": "2022-03-07T15:41:15.275Z"
   },
   {
    "duration": 6,
    "start_time": "2022-03-07T15:41:16.360Z"
   },
   {
    "duration": 4,
    "start_time": "2022-03-07T15:41:16.954Z"
   },
   {
    "duration": 301,
    "start_time": "2022-03-07T15:41:17.869Z"
   },
   {
    "duration": 3,
    "start_time": "2022-03-07T15:42:57.727Z"
   },
   {
    "duration": 378,
    "start_time": "2022-03-07T15:43:07.509Z"
   },
   {
    "duration": 126,
    "start_time": "2022-03-07T15:44:43.762Z"
   },
   {
    "duration": 268,
    "start_time": "2022-03-07T15:45:04.182Z"
   },
   {
    "duration": 6,
    "start_time": "2022-03-07T15:48:46.585Z"
   },
   {
    "duration": 6,
    "start_time": "2022-03-07T15:48:47.629Z"
   },
   {
    "duration": 2,
    "start_time": "2022-03-07T15:48:48.145Z"
   },
   {
    "duration": 246,
    "start_time": "2022-03-07T15:48:52.794Z"
   },
   {
    "duration": 1152,
    "start_time": "2022-03-07T15:50:45.532Z"
   },
   {
    "duration": 27,
    "start_time": "2022-03-07T15:50:46.686Z"
   },
   {
    "duration": 13,
    "start_time": "2022-03-07T15:50:46.715Z"
   },
   {
    "duration": 7,
    "start_time": "2022-03-07T15:50:46.730Z"
   },
   {
    "duration": 7,
    "start_time": "2022-03-07T15:50:46.739Z"
   },
   {
    "duration": 6,
    "start_time": "2022-03-07T15:50:46.747Z"
   },
   {
    "duration": 4,
    "start_time": "2022-03-07T15:50:46.754Z"
   },
   {
    "duration": 201,
    "start_time": "2022-03-07T15:50:46.760Z"
   },
   {
    "duration": 19,
    "start_time": "2022-03-07T15:51:44.382Z"
   },
   {
    "duration": 189,
    "start_time": "2022-03-07T15:54:11.168Z"
   },
   {
    "duration": 45,
    "start_time": "2022-03-07T15:54:37.653Z"
   },
   {
    "duration": 131,
    "start_time": "2022-03-07T16:00:35.463Z"
   },
   {
    "duration": 1248,
    "start_time": "2022-03-07T16:01:05.876Z"
   },
   {
    "duration": 14,
    "start_time": "2022-03-07T16:01:07.127Z"
   },
   {
    "duration": 14,
    "start_time": "2022-03-07T16:01:07.143Z"
   },
   {
    "duration": 7,
    "start_time": "2022-03-07T16:01:07.159Z"
   },
   {
    "duration": 8,
    "start_time": "2022-03-07T16:01:07.167Z"
   },
   {
    "duration": 6,
    "start_time": "2022-03-07T16:01:07.176Z"
   },
   {
    "duration": 4,
    "start_time": "2022-03-07T16:01:07.184Z"
   },
   {
    "duration": 343,
    "start_time": "2022-03-07T16:01:07.190Z"
   },
   {
    "duration": 3,
    "start_time": "2022-03-07T16:02:26.706Z"
   },
   {
    "duration": 258,
    "start_time": "2022-03-07T16:02:27.590Z"
   },
   {
    "duration": 3,
    "start_time": "2022-03-07T16:03:39.474Z"
   },
   {
    "duration": 259,
    "start_time": "2022-03-07T16:03:40.151Z"
   },
   {
    "duration": 971,
    "start_time": "2022-03-07T16:04:22.894Z"
   },
   {
    "duration": 13,
    "start_time": "2022-03-07T16:04:23.867Z"
   },
   {
    "duration": 14,
    "start_time": "2022-03-07T16:04:23.881Z"
   },
   {
    "duration": 6,
    "start_time": "2022-03-07T16:04:23.897Z"
   },
   {
    "duration": 7,
    "start_time": "2022-03-07T16:04:23.905Z"
   },
   {
    "duration": 20,
    "start_time": "2022-03-07T16:04:23.913Z"
   },
   {
    "duration": 10,
    "start_time": "2022-03-07T16:04:23.934Z"
   },
   {
    "duration": 212,
    "start_time": "2022-03-07T16:04:23.946Z"
   },
   {
    "duration": 125,
    "start_time": "2022-03-07T16:04:44.311Z"
   },
   {
    "duration": 2,
    "start_time": "2022-03-07T16:05:30.778Z"
   },
   {
    "duration": 152,
    "start_time": "2022-03-07T16:05:31.623Z"
   },
   {
    "duration": 52,
    "start_time": "2022-03-07T16:06:42.156Z"
   },
   {
    "duration": 53,
    "start_time": "2022-03-07T16:06:48.735Z"
   },
   {
    "duration": 51,
    "start_time": "2022-03-07T16:07:42.147Z"
   },
   {
    "duration": 51,
    "start_time": "2022-03-07T16:07:48.022Z"
   },
   {
    "duration": 52,
    "start_time": "2022-03-07T16:08:00.619Z"
   },
   {
    "duration": 2,
    "start_time": "2022-03-07T16:09:35.403Z"
   },
   {
    "duration": 50,
    "start_time": "2022-03-07T16:09:36.153Z"
   },
   {
    "duration": 122,
    "start_time": "2022-03-07T16:25:25.024Z"
   },
   {
    "duration": 2,
    "start_time": "2022-03-07T16:25:33.335Z"
   },
   {
    "duration": 4,
    "start_time": "2022-03-07T16:25:33.778Z"
   },
   {
    "duration": 68,
    "start_time": "2022-03-07T16:25:35.592Z"
   },
   {
    "duration": 4,
    "start_time": "2022-03-07T16:25:57.008Z"
   },
   {
    "duration": 50,
    "start_time": "2022-03-07T16:25:57.987Z"
   },
   {
    "duration": 972,
    "start_time": "2022-03-07T16:27:36.786Z"
   },
   {
    "duration": 17,
    "start_time": "2022-03-07T16:27:37.760Z"
   },
   {
    "duration": 14,
    "start_time": "2022-03-07T16:27:37.780Z"
   },
   {
    "duration": 6,
    "start_time": "2022-03-07T16:27:37.795Z"
   },
   {
    "duration": 7,
    "start_time": "2022-03-07T16:27:37.802Z"
   },
   {
    "duration": 5,
    "start_time": "2022-03-07T16:27:37.810Z"
   },
   {
    "duration": 4,
    "start_time": "2022-03-07T16:27:37.833Z"
   },
   {
    "duration": 6,
    "start_time": "2022-03-07T16:27:37.839Z"
   },
   {
    "duration": 375,
    "start_time": "2022-03-07T16:27:37.847Z"
   },
   {
    "duration": 4,
    "start_time": "2022-03-07T16:28:45.105Z"
   },
   {
    "duration": 49,
    "start_time": "2022-03-07T16:28:45.946Z"
   },
   {
    "duration": 1347,
    "start_time": "2022-03-07T16:28:53.504Z"
   },
   {
    "duration": 41,
    "start_time": "2022-03-07T16:30:35.702Z"
   },
   {
    "duration": 6,
    "start_time": "2022-03-07T16:31:25.098Z"
   },
   {
    "duration": 1326,
    "start_time": "2022-03-07T16:31:26.156Z"
   },
   {
    "duration": 5,
    "start_time": "2022-03-07T16:31:45.937Z"
   },
   {
    "duration": 1371,
    "start_time": "2022-03-07T16:31:46.749Z"
   },
   {
    "duration": 5,
    "start_time": "2022-03-07T16:36:38.950Z"
   },
   {
    "duration": 247,
    "start_time": "2022-03-07T16:36:39.956Z"
   },
   {
    "duration": 4,
    "start_time": "2022-03-07T16:37:15.394Z"
   },
   {
    "duration": 12,
    "start_time": "2022-03-07T16:37:16.582Z"
   },
   {
    "duration": 5,
    "start_time": "2022-03-07T16:38:29.423Z"
   },
   {
    "duration": 13,
    "start_time": "2022-03-07T16:38:30.287Z"
   },
   {
    "duration": 7,
    "start_time": "2022-03-07T16:43:24.803Z"
   },
   {
    "duration": 17,
    "start_time": "2022-03-07T16:43:26.020Z"
   },
   {
    "duration": 250,
    "start_time": "2022-03-07T16:43:38.779Z"
   },
   {
    "duration": 5,
    "start_time": "2022-03-07T16:44:25.804Z"
   },
   {
    "duration": 247,
    "start_time": "2022-03-07T16:44:26.946Z"
   },
   {
    "duration": 6,
    "start_time": "2022-03-07T16:44:44.025Z"
   },
   {
    "duration": 288,
    "start_time": "2022-03-07T16:44:44.885Z"
   },
   {
    "duration": 5,
    "start_time": "2022-03-07T16:45:42.951Z"
   },
   {
    "duration": 248,
    "start_time": "2022-03-07T16:45:43.897Z"
   },
   {
    "duration": 5,
    "start_time": "2022-03-07T16:46:07.062Z"
   },
   {
    "duration": 51,
    "start_time": "2022-03-07T16:46:08.193Z"
   },
   {
    "duration": 5,
    "start_time": "2022-03-07T16:47:12.382Z"
   },
   {
    "duration": 243,
    "start_time": "2022-03-07T16:47:13.321Z"
   },
   {
    "duration": 48,
    "start_time": "2022-03-07T16:47:30.470Z"
   },
   {
    "duration": 5,
    "start_time": "2022-03-07T16:47:50.125Z"
   },
   {
    "duration": 51,
    "start_time": "2022-03-07T16:47:51.604Z"
   },
   {
    "duration": 1339,
    "start_time": "2022-03-07T16:49:16.010Z"
   },
   {
    "duration": 5,
    "start_time": "2022-03-07T16:51:14.909Z"
   },
   {
    "duration": 52,
    "start_time": "2022-03-07T16:51:15.832Z"
   },
   {
    "duration": 1371,
    "start_time": "2022-03-07T16:51:16.799Z"
   },
   {
    "duration": 12,
    "start_time": "2022-03-07T16:51:20.619Z"
   },
   {
    "duration": 6,
    "start_time": "2022-03-07T16:52:00.029Z"
   },
   {
    "duration": 295,
    "start_time": "2022-03-07T16:52:00.793Z"
   },
   {
    "duration": 5,
    "start_time": "2022-03-07T16:52:28.654Z"
   },
   {
    "duration": 51,
    "start_time": "2022-03-07T16:52:29.629Z"
   },
   {
    "duration": 1354,
    "start_time": "2022-03-07T16:52:31.053Z"
   },
   {
    "duration": 13,
    "start_time": "2022-03-07T16:52:33.653Z"
   },
   {
    "duration": 4,
    "start_time": "2022-03-07T16:53:19.302Z"
   },
   {
    "duration": 1361,
    "start_time": "2022-03-07T16:54:13.375Z"
   },
   {
    "duration": 13,
    "start_time": "2022-03-07T16:54:16.478Z"
   },
   {
    "duration": 30,
    "start_time": "2022-03-07T16:54:38.584Z"
   },
   {
    "duration": 122,
    "start_time": "2022-03-07T16:59:41.556Z"
   },
   {
    "duration": 122,
    "start_time": "2022-03-07T17:00:06.011Z"
   },
   {
    "duration": 6,
    "start_time": "2022-03-07T17:00:50.412Z"
   },
   {
    "duration": 5,
    "start_time": "2022-03-07T17:09:01.073Z"
   },
   {
    "duration": 5,
    "start_time": "2022-03-07T17:09:39.974Z"
   },
   {
    "duration": 29,
    "start_time": "2022-03-07T17:11:17.949Z"
   },
   {
    "duration": 990,
    "start_time": "2022-03-07T17:11:25.568Z"
   },
   {
    "duration": 13,
    "start_time": "2022-03-07T17:11:26.559Z"
   },
   {
    "duration": 13,
    "start_time": "2022-03-07T17:11:26.574Z"
   },
   {
    "duration": 5,
    "start_time": "2022-03-07T17:11:26.590Z"
   },
   {
    "duration": 7,
    "start_time": "2022-03-07T17:11:26.597Z"
   },
   {
    "duration": 6,
    "start_time": "2022-03-07T17:11:26.606Z"
   },
   {
    "duration": 3,
    "start_time": "2022-03-07T17:11:26.633Z"
   },
   {
    "duration": 7,
    "start_time": "2022-03-07T17:11:26.638Z"
   },
   {
    "duration": 54,
    "start_time": "2022-03-07T17:11:26.648Z"
   },
   {
    "duration": 1367,
    "start_time": "2022-03-07T17:11:26.704Z"
   },
   {
    "duration": 12,
    "start_time": "2022-03-07T17:11:28.073Z"
   },
   {
    "duration": 3,
    "start_time": "2022-03-07T17:11:28.087Z"
   },
   {
    "duration": 48,
    "start_time": "2022-03-07T17:11:28.092Z"
   },
   {
    "duration": 5,
    "start_time": "2022-03-07T17:11:28.142Z"
   },
   {
    "duration": 4,
    "start_time": "2022-03-07T17:15:42.352Z"
   },
   {
    "duration": 6,
    "start_time": "2022-03-07T17:16:01.320Z"
   },
   {
    "duration": 68,
    "start_time": "2022-03-07T17:16:02.775Z"
   },
   {
    "duration": 1525,
    "start_time": "2022-03-07T17:16:05.708Z"
   },
   {
    "duration": 13,
    "start_time": "2022-03-07T17:16:09.294Z"
   },
   {
    "duration": 3,
    "start_time": "2022-03-07T17:16:16.981Z"
   },
   {
    "duration": 29,
    "start_time": "2022-03-07T17:16:25.350Z"
   },
   {
    "duration": 968,
    "start_time": "2022-03-07T17:20:54.795Z"
   },
   {
    "duration": 13,
    "start_time": "2022-03-07T17:20:55.765Z"
   },
   {
    "duration": 14,
    "start_time": "2022-03-07T17:20:55.780Z"
   },
   {
    "duration": 6,
    "start_time": "2022-03-07T17:20:55.796Z"
   },
   {
    "duration": 6,
    "start_time": "2022-03-07T17:20:55.803Z"
   },
   {
    "duration": 22,
    "start_time": "2022-03-07T17:20:55.811Z"
   },
   {
    "duration": 3,
    "start_time": "2022-03-07T17:20:55.834Z"
   },
   {
    "duration": 6,
    "start_time": "2022-03-07T17:20:55.839Z"
   },
   {
    "duration": 52,
    "start_time": "2022-03-07T17:20:55.847Z"
   },
   {
    "duration": 1373,
    "start_time": "2022-03-07T17:20:55.901Z"
   },
   {
    "duration": 13,
    "start_time": "2022-03-07T17:20:57.275Z"
   },
   {
    "duration": 4,
    "start_time": "2022-03-07T17:20:57.289Z"
   },
   {
    "duration": 49,
    "start_time": "2022-03-07T17:20:57.294Z"
   },
   {
    "duration": 217,
    "start_time": "2022-03-07T17:20:57.345Z"
   },
   {
    "duration": 5,
    "start_time": "2022-03-07T17:21:18.608Z"
   },
   {
    "duration": 978,
    "start_time": "2022-03-07T17:23:48.897Z"
   },
   {
    "duration": 14,
    "start_time": "2022-03-07T17:23:49.877Z"
   },
   {
    "duration": 15,
    "start_time": "2022-03-07T17:23:49.893Z"
   },
   {
    "duration": 6,
    "start_time": "2022-03-07T17:23:49.909Z"
   },
   {
    "duration": 7,
    "start_time": "2022-03-07T17:23:49.933Z"
   },
   {
    "duration": 4,
    "start_time": "2022-03-07T17:23:49.942Z"
   },
   {
    "duration": 9,
    "start_time": "2022-03-07T17:23:49.948Z"
   },
   {
    "duration": 6,
    "start_time": "2022-03-07T17:23:49.959Z"
   },
   {
    "duration": 67,
    "start_time": "2022-03-07T17:23:49.966Z"
   },
   {
    "duration": 1364,
    "start_time": "2022-03-07T17:23:50.035Z"
   },
   {
    "duration": 11,
    "start_time": "2022-03-07T17:23:51.401Z"
   },
   {
    "duration": 3,
    "start_time": "2022-03-07T17:23:51.414Z"
   },
   {
    "duration": 41,
    "start_time": "2022-03-07T17:23:51.419Z"
   },
   {
    "duration": 5,
    "start_time": "2022-03-07T17:23:51.461Z"
   },
   {
    "duration": 4,
    "start_time": "2022-03-07T17:29:26.137Z"
   },
   {
    "duration": 5,
    "start_time": "2022-03-07T17:29:37.990Z"
   },
   {
    "duration": 1000,
    "start_time": "2022-03-07T17:30:36.763Z"
   },
   {
    "duration": 13,
    "start_time": "2022-03-07T17:30:37.765Z"
   },
   {
    "duration": 14,
    "start_time": "2022-03-07T17:30:37.782Z"
   },
   {
    "duration": 9,
    "start_time": "2022-03-07T17:30:37.797Z"
   },
   {
    "duration": 25,
    "start_time": "2022-03-07T17:30:37.807Z"
   },
   {
    "duration": 5,
    "start_time": "2022-03-07T17:30:37.835Z"
   },
   {
    "duration": 4,
    "start_time": "2022-03-07T17:30:37.843Z"
   },
   {
    "duration": 7,
    "start_time": "2022-03-07T17:30:37.848Z"
   },
   {
    "duration": 54,
    "start_time": "2022-03-07T17:30:37.857Z"
   },
   {
    "duration": 1395,
    "start_time": "2022-03-07T17:30:37.913Z"
   },
   {
    "duration": 23,
    "start_time": "2022-03-07T17:30:39.310Z"
   },
   {
    "duration": 3,
    "start_time": "2022-03-07T17:30:39.335Z"
   },
   {
    "duration": 31,
    "start_time": "2022-03-07T17:30:39.341Z"
   },
   {
    "duration": 6,
    "start_time": "2022-03-07T17:30:39.374Z"
   },
   {
    "duration": 13,
    "start_time": "2022-03-07T18:04:23.452Z"
   },
   {
    "duration": 8,
    "start_time": "2022-03-07T18:04:23.706Z"
   },
   {
    "duration": 6,
    "start_time": "2022-03-07T18:04:24.077Z"
   },
   {
    "duration": 4,
    "start_time": "2022-03-07T18:06:45.771Z"
   },
   {
    "duration": 4,
    "start_time": "2022-03-07T18:07:29.233Z"
   },
   {
    "duration": 5,
    "start_time": "2022-03-07T18:08:21.666Z"
   },
   {
    "duration": 4,
    "start_time": "2022-03-07T18:08:26.894Z"
   },
   {
    "duration": 215,
    "start_time": "2022-03-07T18:08:35.898Z"
   },
   {
    "duration": 122,
    "start_time": "2022-03-07T18:08:40.551Z"
   },
   {
    "duration": 121,
    "start_time": "2022-03-07T18:09:29.722Z"
   },
   {
    "duration": 136,
    "start_time": "2022-03-07T18:09:39.205Z"
   },
   {
    "duration": 4,
    "start_time": "2022-03-07T18:09:44.581Z"
   },
   {
    "duration": 45,
    "start_time": "2022-03-07T18:10:46.083Z"
   },
   {
    "duration": 4,
    "start_time": "2022-03-07T18:11:17.394Z"
   },
   {
    "duration": 4,
    "start_time": "2022-03-07T18:11:44.122Z"
   },
   {
    "duration": 4,
    "start_time": "2022-03-07T18:12:00.638Z"
   },
   {
    "duration": 4,
    "start_time": "2022-03-07T18:13:17.420Z"
   },
   {
    "duration": 1002,
    "start_time": "2022-03-07T18:38:44.663Z"
   },
   {
    "duration": 13,
    "start_time": "2022-03-07T18:38:45.667Z"
   },
   {
    "duration": 14,
    "start_time": "2022-03-07T18:38:45.682Z"
   },
   {
    "duration": 6,
    "start_time": "2022-03-07T18:38:45.698Z"
   },
   {
    "duration": 7,
    "start_time": "2022-03-07T18:38:45.705Z"
   },
   {
    "duration": 21,
    "start_time": "2022-03-07T18:38:45.714Z"
   },
   {
    "duration": 6,
    "start_time": "2022-03-07T18:38:45.736Z"
   },
   {
    "duration": 5,
    "start_time": "2022-03-07T18:38:45.744Z"
   },
   {
    "duration": 6,
    "start_time": "2022-03-07T18:38:45.750Z"
   },
   {
    "duration": 51,
    "start_time": "2022-03-07T18:38:45.757Z"
   },
   {
    "duration": 1366,
    "start_time": "2022-03-07T18:38:45.809Z"
   },
   {
    "duration": 13,
    "start_time": "2022-03-07T18:38:47.176Z"
   },
   {
    "duration": 4,
    "start_time": "2022-03-07T18:38:47.191Z"
   },
   {
    "duration": 51,
    "start_time": "2022-03-07T18:38:47.197Z"
   },
   {
    "duration": 5,
    "start_time": "2022-03-07T18:38:47.249Z"
   }
  ],
  "kernelspec": {
   "display_name": "Python 3 (ipykernel)",
   "language": "python",
   "name": "python3"
  },
  "language_info": {
   "codemirror_mode": {
    "name": "ipython",
    "version": 3
   },
   "file_extension": ".py",
   "mimetype": "text/x-python",
   "name": "python",
   "nbconvert_exporter": "python",
   "pygments_lexer": "ipython3",
   "version": "3.9.7"
  },
  "toc": {
   "base_numbering": 1,
   "nav_menu": {},
   "number_sections": true,
   "sideBar": true,
   "skip_h1_title": true,
   "title_cell": "Table of Contents",
   "title_sidebar": "Contents",
   "toc_cell": false,
   "toc_position": {},
   "toc_section_display": true,
   "toc_window_display": false
  }
 },
 "nbformat": 4,
 "nbformat_minor": 2
}
